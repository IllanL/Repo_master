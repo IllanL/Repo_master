{
 "cells": [
  {
   "cell_type": "code",
   "execution_count": 1,
   "metadata": {},
   "outputs": [
    {
     "name": "stdout",
     "output_type": "stream",
     "text": [
      "/home/dsc/Data/opentraveldata/python_class\r\n"
     ]
    }
   ],
   "source": [
    "!pwd"
   ]
  },
  {
   "cell_type": "code",
   "execution_count": 2,
   "metadata": {},
   "outputs": [
    {
     "name": "stdout",
     "output_type": "stream",
     "text": [
      "/bin/sh: 1: ll: not found\r\n"
     ]
    }
   ],
   "source": [
    "! ll"
   ]
  },
  {
   "cell_type": "code",
   "execution_count": 3,
   "metadata": {},
   "outputs": [
    {
     "name": "stdout",
     "output_type": "stream",
     "text": [
      "/home/dsc/Data/opentraveldata\n"
     ]
    }
   ],
   "source": [
    "cd .."
   ]
  },
  {
   "cell_type": "code",
   "execution_count": 4,
   "metadata": {},
   "outputs": [
    {
     "name": "stdout",
     "output_type": "stream",
     "text": [
      "\n",
      "Automagic is OFF, % prefix IS needed for line magics.\n"
     ]
    }
   ],
   "source": [
    "%automagic"
   ]
  },
  {
   "cell_type": "code",
   "execution_count": 5,
   "metadata": {},
   "outputs": [
    {
     "data": {
      "application/json": {
       "cell": {
        "!": "OSMagics",
        "HTML": "Other",
        "SVG": "Other",
        "bash": "Other",
        "capture": "ExecutionMagics",
        "debug": "ExecutionMagics",
        "file": "Other",
        "html": "DisplayMagics",
        "javascript": "DisplayMagics",
        "js": "DisplayMagics",
        "latex": "DisplayMagics",
        "markdown": "DisplayMagics",
        "perl": "Other",
        "prun": "ExecutionMagics",
        "pypy": "Other",
        "python": "Other",
        "python2": "Other",
        "python3": "Other",
        "ruby": "Other",
        "script": "ScriptMagics",
        "sh": "Other",
        "svg": "DisplayMagics",
        "sx": "OSMagics",
        "system": "OSMagics",
        "time": "ExecutionMagics",
        "timeit": "ExecutionMagics",
        "writefile": "OSMagics"
       },
       "line": {
        "alias": "OSMagics",
        "alias_magic": "BasicMagics",
        "autoawait": "AsyncMagics",
        "autocall": "AutoMagics",
        "automagic": "AutoMagics",
        "autosave": "KernelMagics",
        "bookmark": "OSMagics",
        "cat": "Other",
        "cd": "OSMagics",
        "clear": "KernelMagics",
        "colors": "BasicMagics",
        "config": "ConfigMagics",
        "connect_info": "KernelMagics",
        "cp": "Other",
        "debug": "ExecutionMagics",
        "dhist": "OSMagics",
        "dirs": "OSMagics",
        "doctest_mode": "BasicMagics",
        "ed": "Other",
        "edit": "KernelMagics",
        "env": "OSMagics",
        "gui": "BasicMagics",
        "hist": "Other",
        "history": "HistoryMagics",
        "killbgscripts": "ScriptMagics",
        "ldir": "Other",
        "less": "KernelMagics",
        "lf": "Other",
        "lk": "Other",
        "ll": "Other",
        "load": "CodeMagics",
        "load_ext": "ExtensionMagics",
        "loadpy": "CodeMagics",
        "logoff": "LoggingMagics",
        "logon": "LoggingMagics",
        "logstart": "LoggingMagics",
        "logstate": "LoggingMagics",
        "logstop": "LoggingMagics",
        "ls": "Other",
        "lsmagic": "BasicMagics",
        "lx": "Other",
        "macro": "ExecutionMagics",
        "magic": "BasicMagics",
        "man": "KernelMagics",
        "matplotlib": "PylabMagics",
        "mkdir": "Other",
        "more": "KernelMagics",
        "mv": "Other",
        "notebook": "BasicMagics",
        "page": "BasicMagics",
        "pastebin": "CodeMagics",
        "pdb": "ExecutionMagics",
        "pdef": "NamespaceMagics",
        "pdoc": "NamespaceMagics",
        "pfile": "NamespaceMagics",
        "pinfo": "NamespaceMagics",
        "pinfo2": "NamespaceMagics",
        "pip": "BasicMagics",
        "popd": "OSMagics",
        "pprint": "BasicMagics",
        "precision": "BasicMagics",
        "prun": "ExecutionMagics",
        "psearch": "NamespaceMagics",
        "psource": "NamespaceMagics",
        "pushd": "OSMagics",
        "pwd": "OSMagics",
        "pycat": "OSMagics",
        "pylab": "PylabMagics",
        "qtconsole": "KernelMagics",
        "quickref": "BasicMagics",
        "recall": "HistoryMagics",
        "rehashx": "OSMagics",
        "reload_ext": "ExtensionMagics",
        "rep": "Other",
        "rerun": "HistoryMagics",
        "reset": "NamespaceMagics",
        "reset_selective": "NamespaceMagics",
        "rm": "Other",
        "rmdir": "Other",
        "run": "ExecutionMagics",
        "save": "CodeMagics",
        "sc": "OSMagics",
        "set_env": "OSMagics",
        "store": "StoreMagics",
        "sx": "OSMagics",
        "system": "OSMagics",
        "tb": "ExecutionMagics",
        "time": "ExecutionMagics",
        "timeit": "ExecutionMagics",
        "unalias": "OSMagics",
        "unload_ext": "ExtensionMagics",
        "who": "NamespaceMagics",
        "who_ls": "NamespaceMagics",
        "whos": "NamespaceMagics",
        "xdel": "NamespaceMagics",
        "xmode": "BasicMagics"
       }
      },
      "text/plain": [
       "Available line magics:\n",
       "%alias  %alias_magic  %autoawait  %autocall  %automagic  %autosave  %bookmark  %cat  %cd  %clear  %colors  %config  %connect_info  %cp  %debug  %dhist  %dirs  %doctest_mode  %ed  %edit  %env  %gui  %hist  %history  %killbgscripts  %ldir  %less  %lf  %lk  %ll  %load  %load_ext  %loadpy  %logoff  %logon  %logstart  %logstate  %logstop  %ls  %lsmagic  %lx  %macro  %magic  %man  %matplotlib  %mkdir  %more  %mv  %notebook  %page  %pastebin  %pdb  %pdef  %pdoc  %pfile  %pinfo  %pinfo2  %popd  %pprint  %precision  %prun  %psearch  %psource  %pushd  %pwd  %pycat  %pylab  %qtconsole  %quickref  %recall  %rehashx  %reload_ext  %rep  %rerun  %reset  %reset_selective  %rm  %rmdir  %run  %save  %sc  %set_env  %store  %sx  %system  %tb  %time  %timeit  %unalias  %unload_ext  %who  %who_ls  %whos  %xdel  %xmode\n",
       "\n",
       "Available cell magics:\n",
       "%%!  %%HTML  %%SVG  %%bash  %%capture  %%debug  %%file  %%html  %%javascript  %%js  %%latex  %%markdown  %%perl  %%prun  %%pypy  %%python  %%python2  %%python3  %%ruby  %%script  %%sh  %%svg  %%sx  %%system  %%time  %%timeit  %%writefile\n",
       "\n",
       "Automagic is OFF, % prefix IS needed for line magics."
      ]
     },
     "execution_count": 5,
     "metadata": {},
     "output_type": "execute_result"
    }
   ],
   "source": [
    "%lsmagic"
   ]
  },
  {
   "cell_type": "code",
   "execution_count": 6,
   "metadata": {},
   "outputs": [
    {
     "name": "stdout",
     "output_type": "stream",
     "text": [
      "CPU times: user 2 µs, sys: 1 µs, total: 3 µs\n",
      "Wall time: 5.96 µs\n"
     ]
    }
   ],
   "source": [
    "%time"
   ]
  },
  {
   "cell_type": "code",
   "execution_count": 7,
   "metadata": {},
   "outputs": [
    {
     "name": "stderr",
     "output_type": "stream",
     "text": [
      "UsageError: Line magic function `%date` not found.\n"
     ]
    }
   ],
   "source": [
    "%date"
   ]
  },
  {
   "cell_type": "code",
   "execution_count": 8,
   "metadata": {},
   "outputs": [
    {
     "name": "stdout",
     "output_type": "stream",
     "text": [
      "sáb may 11 13:33:57 CEST 2019\r\n"
     ]
    }
   ],
   "source": [
    "! date"
   ]
  },
  {
   "cell_type": "code",
   "execution_count": 9,
   "metadata": {},
   "outputs": [
    {
     "name": "stdout",
     "output_type": "stream",
     "text": [
      "\n",
      "Automagic is ON, % prefix IS NOT needed for line magics.\n"
     ]
    }
   ],
   "source": [
    "%automagic"
   ]
  },
  {
   "cell_type": "code",
   "execution_count": 10,
   "metadata": {},
   "outputs": [
    {
     "name": "stdout",
     "output_type": "stream",
     "text": [
      "\n",
      "Automagic is OFF, % prefix IS needed for line magics.\n"
     ]
    }
   ],
   "source": [
    "%automagic"
   ]
  },
  {
   "cell_type": "code",
   "execution_count": 11,
   "metadata": {},
   "outputs": [
    {
     "name": "stdout",
     "output_type": "stream",
     "text": [
      "\r\n"
     ]
    }
   ],
   "source": [
    "! echo $system_date"
   ]
  },
  {
   "cell_type": "code",
   "execution_count": 14,
   "metadata": {},
   "outputs": [
    {
     "name": "stdout",
     "output_type": "stream",
     "text": [
      "Interactive namespace is empty.\n"
     ]
    }
   ],
   "source": [
    "%whos"
   ]
  },
  {
   "cell_type": "code",
   "execution_count": 15,
   "metadata": {},
   "outputs": [],
   "source": [
    "a=1"
   ]
  },
  {
   "cell_type": "code",
   "execution_count": 16,
   "metadata": {},
   "outputs": [
    {
     "name": "stdout",
     "output_type": "stream",
     "text": [
      "a\t b\t \n"
     ]
    }
   ],
   "source": [
    "a=1\n",
    "b=2\n",
    "%who"
   ]
  },
  {
   "cell_type": "code",
   "execution_count": 17,
   "metadata": {},
   "outputs": [
    {
     "name": "stdout",
     "output_type": "stream",
     "text": [
      "!pwd\n",
      "! ll\n",
      "cd ..\n",
      "%automagic\n",
      "%lsmagic\n",
      "%time\n",
      "%date\n",
      "! date\n",
      "%automagic\n",
      "%automagic\n",
      "! echo $system_date\n",
      "system_date\n",
      "system_date()\n",
      "%whos\n",
      "a=1\n",
      "a=1\n",
      "b=2\n",
      "%who\n",
      "%history\n"
     ]
    }
   ],
   "source": [
    "%history"
   ]
  },
  {
   "cell_type": "code",
   "execution_count": 1,
   "metadata": {},
   "outputs": [],
   "source": [
    "!echo \"print ('Hello from Python!')\" > hello.py"
   ]
  },
  {
   "cell_type": "code",
   "execution_count": 2,
   "metadata": {},
   "outputs": [
    {
     "name": "stdout",
     "output_type": "stream",
     "text": [
      "Hello from Python!\r\n"
     ]
    }
   ],
   "source": [
    "! python hello.py"
   ]
  },
  {
   "cell_type": "code",
   "execution_count": 3,
   "metadata": {},
   "outputs": [
    {
     "name": "stdout",
     "output_type": "stream",
     "text": [
      "Hello from Python!\n"
     ]
    }
   ],
   "source": [
    "%run hello.py"
   ]
  },
  {
   "cell_type": "code",
   "execution_count": 6,
   "metadata": {},
   "outputs": [
    {
     "name": "stdout",
     "output_type": "stream",
     "text": [
      "/home/dsc/Data/opentraveldata/python_class\n",
      "/home/dsc/Data/opentraveldata/python_class\n"
     ]
    }
   ],
   "source": [
    "!pwd\n",
    "!cd ../\n",
    "!pwd"
   ]
  },
  {
   "cell_type": "code",
   "execution_count": 13,
   "metadata": {},
   "outputs": [
    {
     "name": "stdout",
     "output_type": "stream",
     "text": [
      "/\n"
     ]
    }
   ],
   "source": [
    "%cd ../"
   ]
  },
  {
   "cell_type": "code",
   "execution_count": null,
   "metadata": {},
   "outputs": [],
   "source": []
  },
  {
   "cell_type": "code",
   "execution_count": 14,
   "metadata": {},
   "outputs": [
    {
     "data": {
      "application/json": {
       "cell": {
        "!": "OSMagics",
        "HTML": "Other",
        "SVG": "Other",
        "bash": "Other",
        "capture": "ExecutionMagics",
        "debug": "ExecutionMagics",
        "file": "Other",
        "html": "DisplayMagics",
        "javascript": "DisplayMagics",
        "js": "DisplayMagics",
        "latex": "DisplayMagics",
        "markdown": "DisplayMagics",
        "perl": "Other",
        "prun": "ExecutionMagics",
        "pypy": "Other",
        "python": "Other",
        "python2": "Other",
        "python3": "Other",
        "ruby": "Other",
        "script": "ScriptMagics",
        "sh": "Other",
        "svg": "DisplayMagics",
        "sx": "OSMagics",
        "system": "OSMagics",
        "time": "ExecutionMagics",
        "timeit": "ExecutionMagics",
        "writefile": "OSMagics"
       },
       "line": {
        "alias": "OSMagics",
        "alias_magic": "BasicMagics",
        "autoawait": "AsyncMagics",
        "autocall": "AutoMagics",
        "automagic": "AutoMagics",
        "autosave": "KernelMagics",
        "bookmark": "OSMagics",
        "cat": "Other",
        "cd": "OSMagics",
        "clear": "KernelMagics",
        "colors": "BasicMagics",
        "config": "ConfigMagics",
        "connect_info": "KernelMagics",
        "cp": "Other",
        "debug": "ExecutionMagics",
        "dhist": "OSMagics",
        "dirs": "OSMagics",
        "doctest_mode": "BasicMagics",
        "ed": "Other",
        "edit": "KernelMagics",
        "env": "OSMagics",
        "gui": "BasicMagics",
        "hist": "Other",
        "history": "HistoryMagics",
        "killbgscripts": "ScriptMagics",
        "ldir": "Other",
        "less": "KernelMagics",
        "lf": "Other",
        "lk": "Other",
        "ll": "Other",
        "load": "CodeMagics",
        "load_ext": "ExtensionMagics",
        "loadpy": "CodeMagics",
        "logoff": "LoggingMagics",
        "logon": "LoggingMagics",
        "logstart": "LoggingMagics",
        "logstate": "LoggingMagics",
        "logstop": "LoggingMagics",
        "ls": "Other",
        "lsmagic": "BasicMagics",
        "lx": "Other",
        "macro": "ExecutionMagics",
        "magic": "BasicMagics",
        "man": "KernelMagics",
        "matplotlib": "PylabMagics",
        "mkdir": "Other",
        "more": "KernelMagics",
        "mv": "Other",
        "notebook": "BasicMagics",
        "page": "BasicMagics",
        "pastebin": "CodeMagics",
        "pdb": "ExecutionMagics",
        "pdef": "NamespaceMagics",
        "pdoc": "NamespaceMagics",
        "pfile": "NamespaceMagics",
        "pinfo": "NamespaceMagics",
        "pinfo2": "NamespaceMagics",
        "pip": "BasicMagics",
        "popd": "OSMagics",
        "pprint": "BasicMagics",
        "precision": "BasicMagics",
        "prun": "ExecutionMagics",
        "psearch": "NamespaceMagics",
        "psource": "NamespaceMagics",
        "pushd": "OSMagics",
        "pwd": "OSMagics",
        "pycat": "OSMagics",
        "pylab": "PylabMagics",
        "qtconsole": "KernelMagics",
        "quickref": "BasicMagics",
        "recall": "HistoryMagics",
        "rehashx": "OSMagics",
        "reload_ext": "ExtensionMagics",
        "rep": "Other",
        "rerun": "HistoryMagics",
        "reset": "NamespaceMagics",
        "reset_selective": "NamespaceMagics",
        "rm": "Other",
        "rmdir": "Other",
        "run": "ExecutionMagics",
        "save": "CodeMagics",
        "sc": "OSMagics",
        "set_env": "OSMagics",
        "store": "StoreMagics",
        "sx": "OSMagics",
        "system": "OSMagics",
        "tb": "ExecutionMagics",
        "time": "ExecutionMagics",
        "timeit": "ExecutionMagics",
        "unalias": "OSMagics",
        "unload_ext": "ExtensionMagics",
        "who": "NamespaceMagics",
        "who_ls": "NamespaceMagics",
        "whos": "NamespaceMagics",
        "xdel": "NamespaceMagics",
        "xmode": "BasicMagics"
       }
      },
      "text/plain": [
       "Available line magics:\n",
       "%alias  %alias_magic  %autoawait  %autocall  %automagic  %autosave  %bookmark  %cat  %cd  %clear  %colors  %config  %connect_info  %cp  %debug  %dhist  %dirs  %doctest_mode  %ed  %edit  %env  %gui  %hist  %history  %killbgscripts  %ldir  %less  %lf  %lk  %ll  %load  %load_ext  %loadpy  %logoff  %logon  %logstart  %logstate  %logstop  %ls  %lsmagic  %lx  %macro  %magic  %man  %matplotlib  %mkdir  %more  %mv  %notebook  %page  %pastebin  %pdb  %pdef  %pdoc  %pfile  %pinfo  %pinfo2  %popd  %pprint  %precision  %prun  %psearch  %psource  %pushd  %pwd  %pycat  %pylab  %qtconsole  %quickref  %recall  %rehashx  %reload_ext  %rep  %rerun  %reset  %reset_selective  %rm  %rmdir  %run  %save  %sc  %set_env  %store  %sx  %system  %tb  %time  %timeit  %unalias  %unload_ext  %who  %who_ls  %whos  %xdel  %xmode\n",
       "\n",
       "Available cell magics:\n",
       "%%!  %%HTML  %%SVG  %%bash  %%capture  %%debug  %%file  %%html  %%javascript  %%js  %%latex  %%markdown  %%perl  %%prun  %%pypy  %%python  %%python2  %%python3  %%ruby  %%script  %%sh  %%svg  %%sx  %%system  %%time  %%timeit  %%writefile\n",
       "\n",
       "Automagic is ON, % prefix IS NOT needed for line magics."
      ]
     },
     "execution_count": 14,
     "metadata": {},
     "output_type": "execute_result"
    }
   ],
   "source": [
    "%lsmagic"
   ]
  },
  {
   "cell_type": "code",
   "execution_count": 15,
   "metadata": {},
   "outputs": [],
   "source": [
    "a=! ls -l"
   ]
  },
  {
   "cell_type": "code",
   "execution_count": 16,
   "metadata": {},
   "outputs": [
    {
     "data": {
      "text/plain": [
       "IPython.utils.text.SList"
      ]
     },
     "execution_count": 16,
     "metadata": {},
     "output_type": "execute_result"
    }
   ],
   "source": [
    "type(a)"
   ]
  },
  {
   "cell_type": "code",
   "execution_count": 18,
   "metadata": {
    "scrolled": true
   },
   "outputs": [
    {
     "data": {
      "text/plain": [
       "['total 2097256',\n",
       " 'drwxr-xr-x   2 root root       4096 may 10 17:20 bin',\n",
       " 'drwxr-xr-x   3 root root       4096 may 17 17:06 boot',\n",
       " 'drwxrwxr-x   2 root root       4096 mar 28 16:54 cdrom',\n",
       " 'drwxr-xr-x  19 root root       3920 may 17 17:05 dev',\n",
       " 'drwxr-xr-x 134 root root      12288 may 17 17:05 etc',\n",
       " 'drwxr-xr-x   3 root root       4096 mar 28 16:55 home',\n",
       " 'lrwxrwxrwx   1 root root         33 may 17 17:06 initrd.img -> boot/initrd.img-4.15.0-50-generic',\n",
       " 'lrwxrwxrwx   1 root root         33 may 17 17:06 initrd.img.old -> boot/initrd.img-4.15.0-47-generic',\n",
       " 'drwxr-xr-x  20 root root       4096 mar 28 16:58 lib',\n",
       " 'drwxr-xr-x   2 root root       4096 abr 26  2018 lib64',\n",
       " 'drwx------   2 root root      16384 mar 28 16:51 lost+found',\n",
       " 'drwxr-xr-x   3 root root       4096 mar 28 17:23 media',\n",
       " 'drwxr-xr-x   2 root root       4096 abr 26  2018 mnt',\n",
       " 'drwxr-xr-x   3 root root       4096 mar 28 17:24 opt',\n",
       " 'dr-xr-xr-x 196 root root          0 may 17 16:58 proc',\n",
       " 'drwx------   6 root root       4096 mar 28 23:31 root',\n",
       " 'drwxr-xr-x  25 root root        900 may 17 17:06 run',\n",
       " 'drwxr-xr-x   2 root root      12288 may 17 17:04 sbin',\n",
       " 'drwxr-xr-x   2 root root       4096 mar 28 17:04 snap',\n",
       " 'drwxr-xr-x   2 root root       4096 abr 26  2018 srv',\n",
       " '-rw-------   1 root root 2147483648 mar 28 16:51 swapfile',\n",
       " 'dr-xr-xr-x  13 root root          0 may 17 16:58 sys',\n",
       " 'drwxrwxrwt  13 root root       4096 may 17 17:13 tmp',\n",
       " 'drwxr-xr-x  10 root root       4096 abr 26  2018 usr',\n",
       " 'drwxr-xr-x  14 root root       4096 abr 26  2018 var',\n",
       " 'lrwxrwxrwx   1 root root         30 may 17 17:06 vmlinuz -> boot/vmlinuz-4.15.0-50-generic',\n",
       " 'lrwxrwxrwx   1 root root         30 may 17 17:06 vmlinuz.old -> boot/vmlinuz-4.15.0-47-generic']"
      ]
     },
     "execution_count": 18,
     "metadata": {},
     "output_type": "execute_result"
    }
   ],
   "source": [
    "a"
   ]
  },
  {
   "cell_type": "code",
   "execution_count": 19,
   "metadata": {},
   "outputs": [
    {
     "data": {
      "text/plain": [
       "'total 2097256\\ndrwxr-xr-x   2 root root       4096 may 10 17:20 bin\\ndrwxr-xr-x   3 root root       4096 may 17 17:06 boot\\ndrwxrwxr-x   2 root root       4096 mar 28 16:54 cdrom\\ndrwxr-xr-x  19 root root       3920 may 17 17:05 dev\\ndrwxr-xr-x 134 root root      12288 may 17 17:05 etc\\ndrwxr-xr-x   3 root root       4096 mar 28 16:55 home\\nlrwxrwxrwx   1 root root         33 may 17 17:06 initrd.img -> boot/initrd.img-4.15.0-50-generic\\nlrwxrwxrwx   1 root root         33 may 17 17:06 initrd.img.old -> boot/initrd.img-4.15.0-47-generic\\ndrwxr-xr-x  20 root root       4096 mar 28 16:58 lib\\ndrwxr-xr-x   2 root root       4096 abr 26  2018 lib64\\ndrwx------   2 root root      16384 mar 28 16:51 lost+found\\ndrwxr-xr-x   3 root root       4096 mar 28 17:23 media\\ndrwxr-xr-x   2 root root       4096 abr 26  2018 mnt\\ndrwxr-xr-x   3 root root       4096 mar 28 17:24 opt\\ndr-xr-xr-x 196 root root          0 may 17 16:58 proc\\ndrwx------   6 root root       4096 mar 28 23:31 root\\ndrwxr-xr-x  25 root root        900 may 17 17:06 run\\ndrwxr-xr-x   2 root root      12288 may 17 17:04 sbin\\ndrwxr-xr-x   2 root root       4096 mar 28 17:04 snap\\ndrwxr-xr-x   2 root root       4096 abr 26  2018 srv\\n-rw-------   1 root root 2147483648 mar 28 16:51 swapfile\\ndr-xr-xr-x  13 root root          0 may 17 16:58 sys\\ndrwxrwxrwt  13 root root       4096 may 17 17:13 tmp\\ndrwxr-xr-x  10 root root       4096 abr 26  2018 usr\\ndrwxr-xr-x  14 root root       4096 abr 26  2018 var\\nlrwxrwxrwx   1 root root         30 may 17 17:06 vmlinuz -> boot/vmlinuz-4.15.0-50-generic\\nlrwxrwxrwx   1 root root         30 may 17 17:06 vmlinuz.old -> boot/vmlinuz-4.15.0-47-generic'"
      ]
     },
     "execution_count": 19,
     "metadata": {},
     "output_type": "execute_result"
    }
   ],
   "source": [
    "a.n"
   ]
  },
  {
   "cell_type": "code",
   "execution_count": 20,
   "metadata": {},
   "outputs": [
    {
     "data": {
      "text/plain": [
       "'total 2097256 drwxr-xr-x   2 root root       4096 may 10 17:20 bin drwxr-xr-x   3 root root       4096 may 17 17:06 boot drwxrwxr-x   2 root root       4096 mar 28 16:54 cdrom drwxr-xr-x  19 root root       3920 may 17 17:05 dev drwxr-xr-x 134 root root      12288 may 17 17:05 etc drwxr-xr-x   3 root root       4096 mar 28 16:55 home lrwxrwxrwx   1 root root         33 may 17 17:06 initrd.img -> boot/initrd.img-4.15.0-50-generic lrwxrwxrwx   1 root root         33 may 17 17:06 initrd.img.old -> boot/initrd.img-4.15.0-47-generic drwxr-xr-x  20 root root       4096 mar 28 16:58 lib drwxr-xr-x   2 root root       4096 abr 26  2018 lib64 drwx------   2 root root      16384 mar 28 16:51 lost+found drwxr-xr-x   3 root root       4096 mar 28 17:23 media drwxr-xr-x   2 root root       4096 abr 26  2018 mnt drwxr-xr-x   3 root root       4096 mar 28 17:24 opt dr-xr-xr-x 196 root root          0 may 17 16:58 proc drwx------   6 root root       4096 mar 28 23:31 root drwxr-xr-x  25 root root        900 may 17 17:06 run drwxr-xr-x   2 root root      12288 may 17 17:04 sbin drwxr-xr-x   2 root root       4096 mar 28 17:04 snap drwxr-xr-x   2 root root       4096 abr 26  2018 srv -rw-------   1 root root 2147483648 mar 28 16:51 swapfile dr-xr-xr-x  13 root root          0 may 17 16:58 sys drwxrwxrwt  13 root root       4096 may 17 17:13 tmp drwxr-xr-x  10 root root       4096 abr 26  2018 usr drwxr-xr-x  14 root root       4096 abr 26  2018 var lrwxrwxrwx   1 root root         30 may 17 17:06 vmlinuz -> boot/vmlinuz-4.15.0-50-generic lrwxrwxrwx   1 root root         30 may 17 17:06 vmlinuz.old -> boot/vmlinuz-4.15.0-47-generic'"
      ]
     },
     "execution_count": 20,
     "metadata": {},
     "output_type": "execute_result"
    }
   ],
   "source": [
    "a.s"
   ]
  },
  {
   "cell_type": "code",
   "execution_count": 21,
   "metadata": {},
   "outputs": [
    {
     "data": {
      "text/plain": [
       "['total 2097256',\n",
       " 'drwxr-xr-x   2 root root       4096 may 10 17:20 bin',\n",
       " 'drwxr-xr-x   3 root root       4096 may 17 17:06 boot',\n",
       " 'drwxrwxr-x   2 root root       4096 mar 28 16:54 cdrom',\n",
       " 'drwxr-xr-x  19 root root       3920 may 17 17:05 dev',\n",
       " 'drwxr-xr-x 134 root root      12288 may 17 17:05 etc',\n",
       " 'drwxr-xr-x   3 root root       4096 mar 28 16:55 home',\n",
       " 'lrwxrwxrwx   1 root root         33 may 17 17:06 initrd.img -> boot/initrd.img-4.15.0-50-generic',\n",
       " 'lrwxrwxrwx   1 root root         33 may 17 17:06 initrd.img.old -> boot/initrd.img-4.15.0-47-generic',\n",
       " 'drwxr-xr-x  20 root root       4096 mar 28 16:58 lib',\n",
       " 'drwxr-xr-x   2 root root       4096 abr 26  2018 lib64',\n",
       " 'drwx------   2 root root      16384 mar 28 16:51 lost+found',\n",
       " 'drwxr-xr-x   3 root root       4096 mar 28 17:23 media',\n",
       " 'drwxr-xr-x   2 root root       4096 abr 26  2018 mnt',\n",
       " 'drwxr-xr-x   3 root root       4096 mar 28 17:24 opt',\n",
       " 'dr-xr-xr-x 196 root root          0 may 17 16:58 proc',\n",
       " 'drwx------   6 root root       4096 mar 28 23:31 root',\n",
       " 'drwxr-xr-x  25 root root        900 may 17 17:06 run',\n",
       " 'drwxr-xr-x   2 root root      12288 may 17 17:04 sbin',\n",
       " 'drwxr-xr-x   2 root root       4096 mar 28 17:04 snap',\n",
       " 'drwxr-xr-x   2 root root       4096 abr 26  2018 srv',\n",
       " '-rw-------   1 root root 2147483648 mar 28 16:51 swapfile',\n",
       " 'dr-xr-xr-x  13 root root          0 may 17 16:58 sys',\n",
       " 'drwxrwxrwt  13 root root       4096 may 17 17:13 tmp',\n",
       " 'drwxr-xr-x  10 root root       4096 abr 26  2018 usr',\n",
       " 'drwxr-xr-x  14 root root       4096 abr 26  2018 var',\n",
       " 'lrwxrwxrwx   1 root root         30 may 17 17:06 vmlinuz -> boot/vmlinuz-4.15.0-50-generic',\n",
       " 'lrwxrwxrwx   1 root root         30 may 17 17:06 vmlinuz.old -> boot/vmlinuz-4.15.0-47-generic']"
      ]
     },
     "execution_count": 21,
     "metadata": {},
     "output_type": "execute_result"
    }
   ],
   "source": [
    "a.l"
   ]
  },
  {
   "cell_type": "code",
   "execution_count": 22,
   "metadata": {},
   "outputs": [
    {
     "name": "stdout",
     "output_type": "stream",
     "text": [
      "en un lugar de la Mancha...\r\n"
     ]
    }
   ],
   "source": [
    "quijote=\"en un lugar de la Mancha...\"\n",
    "!echo $quijote"
   ]
  },
  {
   "cell_type": "code",
   "execution_count": 27,
   "metadata": {},
   "outputs": [
    {
     "name": "stdout",
     "output_type": "stream",
     "text": [
      "[en, un, lugar, de, la, Mancha...]\r\n"
     ]
    }
   ],
   "source": [
    "!echo {quijote.split(' ')}"
   ]
  },
  {
   "cell_type": "code",
   "execution_count": 28,
   "metadata": {},
   "outputs": [
    {
     "name": "stdout",
     "output_type": "stream",
     "text": [
      "Once deleted, variables cannot be recovered. Proceed (y/[n])? y\n"
     ]
    }
   ],
   "source": [
    "reset"
   ]
  },
  {
   "cell_type": "code",
   "execution_count": 32,
   "metadata": {},
   "outputs": [
    {
     "data": {
      "text/plain": [
       "'/home/dsc'"
      ]
     },
     "execution_count": 32,
     "metadata": {},
     "output_type": "execute_result"
    }
   ],
   "source": [
    "import os\n",
    "home_dir=os.getenv('HOME')\n",
    "home_dir"
   ]
  },
  {
   "cell_type": "code",
   "execution_count": 54,
   "metadata": {},
   "outputs": [
    {
     "name": "stdout",
     "output_type": "stream",
     "text": [
      "0\n",
      "512\n"
     ]
    }
   ],
   "source": [
    "import os\n",
    "valorl=os.system(\"whoami\")\n",
    "print(valorl)\n",
    "\n",
    "instruccion=\"ls -l | grep 'py' >'archivosdepython.txt'\"\n",
    "valor_nuevo=os.system(instruccion)\n",
    "print(valor_nuevo)"
   ]
  },
  {
   "cell_type": "code",
   "execution_count": 50,
   "metadata": {},
   "outputs": [
    {
     "name": "stdout",
     "output_type": "stream",
     "text": [
      "0\n",
      "\n"
     ]
    }
   ],
   "source": [
    "import os\n",
    "valorl=os.system(\"whoami\")\n",
    "print(valorl)\n",
    "\n",
    "instruccion=\"ls -l | grep 'py'\"\n",
    "valor_nuevo=os.popen(instruccion).read()\n",
    "print(valor_nuevo)"
   ]
  },
  {
   "cell_type": "code",
   "execution_count": 52,
   "metadata": {},
   "outputs": [
    {
     "name": "stdout",
     "output_type": "stream",
     "text": [
      "0\n",
      "PING a1749.g.akamai.net (185.43.182.49) 56(84) bytes of data.\n",
      "64 bytes from 185.43.182.49 (185.43.182.49): icmp_seq=1 ttl=57 time=3.50 ms\n",
      "64 bytes from 185.43.182.49 (185.43.182.49): icmp_seq=2 ttl=57 time=3.90 ms\n",
      "64 bytes from 185.43.182.49 (185.43.182.49): icmp_seq=3 ttl=57 time=10.1 ms\n",
      "\n",
      "--- a1749.g.akamai.net ping statistics ---\n",
      "3 packets transmitted, 3 received, 0% packet loss, time 2009ms\n",
      "rtt min/avg/max/mdev = 3.500/5.860/10.175/3.055 ms\n",
      "\n"
     ]
    }
   ],
   "source": [
    "import os\n",
    "valorl=os.system(\"whoami\")\n",
    "print(valorl)\n",
    "\n",
    "instruccion=\"ping -c3 www.elpais.es\"\n",
    "valor_nuevo=os.popen(instruccion).read()\n",
    "print(valor_nuevo)"
   ]
  },
  {
   "cell_type": "code",
   "execution_count": 64,
   "metadata": {},
   "outputs": [
    {
     "name": "stdout",
     "output_type": "stream",
     "text": [
      "PING a1749.g.akamai.net (185.43.182.48) 56(84) bytes of data.\n",
      "\n",
      "64 bytes from 185.43.182.48 (185.43.182.48): icmp_seq=1 ttl=57 time=4.76 ms\n",
      "\n",
      "64 bytes from 185.43.182.48 (185.43.182.48): icmp_seq=2 ttl=57 time=4.65 ms\n",
      "\n",
      "64 bytes from 185.43.182.48 (185.43.182.48): icmp_seq=3 ttl=57 time=5.56 ms\n",
      "\n",
      "\n",
      "\n",
      "--- a1749.g.akamai.net ping statistics ---\n",
      "\n",
      "3 packets transmitted, 3 received, 0% packet loss, time 2004ms\n",
      "\n",
      "rtt min/avg/max/mdev = 4.659/4.997/5.563/0.402 ms\n",
      "\n"
     ]
    }
   ],
   "source": [
    "import subprocess\n",
    "instruccion=\"ping -c3 www.elpais.es\"\n",
    "\n",
    "resultado=subprocess.Popen(instruccion, shell=True, stdout=subprocess.PIPE)\n",
    "\n",
    "for salida in resultado.stdout:\n",
    "    print(salida.decode())\n",
    "    \n"
   ]
  },
  {
   "cell_type": "code",
   "execution_count": 68,
   "metadata": {},
   "outputs": [
    {
     "name": "stdout",
     "output_type": "stream",
     "text": [
      "['__abs__', '__add__', '__and__', '__bool__', '__ceil__', '__class__', '__delattr__', '__dir__', '__divmod__', '__doc__', '__eq__', '__float__', '__floor__', '__floordiv__', '__format__', '__ge__', '__getattribute__', '__getnewargs__', '__gt__', '__hash__', '__index__', '__init__', '__init_subclass__', '__int__', '__invert__', '__le__', '__lshift__', '__lt__', '__mod__', '__mul__', '__ne__', '__neg__', '__new__', '__or__', '__pos__', '__pow__', '__radd__', '__rand__', '__rdivmod__', '__reduce__', '__reduce_ex__', '__repr__', '__rfloordiv__', '__rlshift__', '__rmod__', '__rmul__', '__ror__', '__round__', '__rpow__', '__rrshift__', '__rshift__', '__rsub__', '__rtruediv__', '__rxor__', '__setattr__', '__sizeof__', '__str__', '__sub__', '__subclasshook__', '__truediv__', '__trunc__', '__xor__', 'bit_length', 'conjugate', 'denominator', 'from_bytes', 'imag', 'numerator', 'real', 'to_bytes']\n",
      "['__abs__', '__add__', '__and__', '__bool__', '__ceil__', '__class__', '__delattr__', '__dir__', '__divmod__', '__doc__', '__eq__', '__float__', '__floor__', '__floordiv__', '__format__', '__ge__', '__getattribute__', '__getnewargs__', '__gt__', '__hash__', '__index__', '__init__', '__init_subclass__', '__int__', '__invert__', '__le__', '__lshift__', '__lt__', '__mod__', '__mul__', '__ne__', '__neg__', '__new__', '__or__', '__pos__', '__pow__', '__radd__', '__rand__', '__rdivmod__', '__reduce__', '__reduce_ex__', '__repr__', '__rfloordiv__', '__rlshift__', '__rmod__', '__rmul__', '__ror__', '__round__', '__rpow__', '__rrshift__', '__rshift__', '__rsub__', '__rtruediv__', '__rxor__', '__setattr__', '__sizeof__', '__str__', '__sub__', '__subclasshook__', '__truediv__', '__trunc__', '__xor__', 'bit_length', 'conjugate', 'denominator', 'from_bytes', 'imag', 'numerator', 'real', 'to_bytes']\n"
     ]
    }
   ],
   "source": [
    "a=5\n",
    "\n",
    "b=dir(a)\n",
    "print(b)\n",
    "del(a)\n",
    "print(b)"
   ]
  },
  {
   "cell_type": "code",
   "execution_count": 79,
   "metadata": {},
   "outputs": [
    {
     "name": "stdout",
     "output_type": "stream",
     "text": [
      "k\t x\t \n",
      "[5, 1]\n",
      "x\t \n",
      "[5, 1]\n"
     ]
    }
   ],
   "source": [
    "k=5\n",
    "x=[k,1]\n",
    "%who\n",
    "print(x)\n",
    "%xdel k\n",
    "%who\n",
    "print(x)"
   ]
  },
  {
   "cell_type": "code",
   "execution_count": 90,
   "metadata": {
    "scrolled": true
   },
   "outputs": [
    {
     "ename": "PermissionError",
     "evalue": "[Errno 13] Permission denied: 'full_python_history.txt'",
     "output_type": "error",
     "traceback": [
      "\u001b[0;31m---------------------------------------------------------------------------\u001b[0m",
      "\u001b[0;31mPermissionError\u001b[0m                           Traceback (most recent call last)",
      "\u001b[0;32m<ipython-input-90-aab3d348b4c6>\u001b[0m in \u001b[0;36m<module>\u001b[0;34m\u001b[0m\n\u001b[1;32m      1\u001b[0m \u001b[0;31m#para crear un fichero de la sesión:\u001b[0m\u001b[0;34m\u001b[0m\u001b[0;34m\u001b[0m\u001b[0;34m\u001b[0m\u001b[0m\n\u001b[1;32m      2\u001b[0m \u001b[0;34m\u001b[0m\u001b[0m\n\u001b[0;32m----> 3\u001b[0;31m \u001b[0mget_ipython\u001b[0m\u001b[0;34m(\u001b[0m\u001b[0;34m)\u001b[0m\u001b[0;34m.\u001b[0m\u001b[0mrun_line_magic\u001b[0m\u001b[0;34m(\u001b[0m\u001b[0;34m'history'\u001b[0m\u001b[0;34m,\u001b[0m \u001b[0;34m'-g -f full_python_history.txt'\u001b[0m\u001b[0;34m)\u001b[0m\u001b[0;34m\u001b[0m\u001b[0;34m\u001b[0m\u001b[0m\n\u001b[0m",
      "\u001b[0;32m~/anaconda3/lib/python3.7/site-packages/IPython/core/interactiveshell.py\u001b[0m in \u001b[0;36mrun_line_magic\u001b[0;34m(self, magic_name, line, _stack_depth)\u001b[0m\n\u001b[1;32m   2285\u001b[0m                 \u001b[0mkwargs\u001b[0m\u001b[0;34m[\u001b[0m\u001b[0;34m'local_ns'\u001b[0m\u001b[0;34m]\u001b[0m \u001b[0;34m=\u001b[0m \u001b[0msys\u001b[0m\u001b[0;34m.\u001b[0m\u001b[0m_getframe\u001b[0m\u001b[0;34m(\u001b[0m\u001b[0mstack_depth\u001b[0m\u001b[0;34m)\u001b[0m\u001b[0;34m.\u001b[0m\u001b[0mf_locals\u001b[0m\u001b[0;34m\u001b[0m\u001b[0;34m\u001b[0m\u001b[0m\n\u001b[1;32m   2286\u001b[0m             \u001b[0;32mwith\u001b[0m \u001b[0mself\u001b[0m\u001b[0;34m.\u001b[0m\u001b[0mbuiltin_trap\u001b[0m\u001b[0;34m:\u001b[0m\u001b[0;34m\u001b[0m\u001b[0;34m\u001b[0m\u001b[0m\n\u001b[0;32m-> 2287\u001b[0;31m                 \u001b[0mresult\u001b[0m \u001b[0;34m=\u001b[0m \u001b[0mfn\u001b[0m\u001b[0;34m(\u001b[0m\u001b[0;34m*\u001b[0m\u001b[0margs\u001b[0m\u001b[0;34m,\u001b[0m\u001b[0;34m**\u001b[0m\u001b[0mkwargs\u001b[0m\u001b[0;34m)\u001b[0m\u001b[0;34m\u001b[0m\u001b[0;34m\u001b[0m\u001b[0m\n\u001b[0m\u001b[1;32m   2288\u001b[0m             \u001b[0;32mreturn\u001b[0m \u001b[0mresult\u001b[0m\u001b[0;34m\u001b[0m\u001b[0;34m\u001b[0m\u001b[0m\n\u001b[1;32m   2289\u001b[0m \u001b[0;34m\u001b[0m\u001b[0m\n",
      "\u001b[0;32m<decorator-gen-68>\u001b[0m in \u001b[0;36mhistory\u001b[0;34m(self, parameter_s)\u001b[0m\n",
      "\u001b[0;32m~/anaconda3/lib/python3.7/site-packages/IPython/core/magic.py\u001b[0m in \u001b[0;36m<lambda>\u001b[0;34m(f, *a, **k)\u001b[0m\n\u001b[1;32m    185\u001b[0m     \u001b[0;31m# but it's overkill for just that one bit of state.\u001b[0m\u001b[0;34m\u001b[0m\u001b[0;34m\u001b[0m\u001b[0;34m\u001b[0m\u001b[0m\n\u001b[1;32m    186\u001b[0m     \u001b[0;32mdef\u001b[0m \u001b[0mmagic_deco\u001b[0m\u001b[0;34m(\u001b[0m\u001b[0marg\u001b[0m\u001b[0;34m)\u001b[0m\u001b[0;34m:\u001b[0m\u001b[0;34m\u001b[0m\u001b[0;34m\u001b[0m\u001b[0m\n\u001b[0;32m--> 187\u001b[0;31m         \u001b[0mcall\u001b[0m \u001b[0;34m=\u001b[0m \u001b[0;32mlambda\u001b[0m \u001b[0mf\u001b[0m\u001b[0;34m,\u001b[0m \u001b[0;34m*\u001b[0m\u001b[0ma\u001b[0m\u001b[0;34m,\u001b[0m \u001b[0;34m**\u001b[0m\u001b[0mk\u001b[0m\u001b[0;34m:\u001b[0m \u001b[0mf\u001b[0m\u001b[0;34m(\u001b[0m\u001b[0;34m*\u001b[0m\u001b[0ma\u001b[0m\u001b[0;34m,\u001b[0m \u001b[0;34m**\u001b[0m\u001b[0mk\u001b[0m\u001b[0;34m)\u001b[0m\u001b[0;34m\u001b[0m\u001b[0;34m\u001b[0m\u001b[0m\n\u001b[0m\u001b[1;32m    188\u001b[0m \u001b[0;34m\u001b[0m\u001b[0m\n\u001b[1;32m    189\u001b[0m         \u001b[0;32mif\u001b[0m \u001b[0mcallable\u001b[0m\u001b[0;34m(\u001b[0m\u001b[0marg\u001b[0m\u001b[0;34m)\u001b[0m\u001b[0;34m:\u001b[0m\u001b[0;34m\u001b[0m\u001b[0;34m\u001b[0m\u001b[0m\n",
      "\u001b[0;32m~/anaconda3/lib/python3.7/site-packages/IPython/core/magics/history.py\u001b[0m in \u001b[0;36mhistory\u001b[0;34m(self, parameter_s)\u001b[0m\n\u001b[1;32m    160\u001b[0m                     \u001b[0;32mreturn\u001b[0m\u001b[0;34m\u001b[0m\u001b[0;34m\u001b[0m\u001b[0m\n\u001b[1;32m    161\u001b[0m                 \u001b[0mprint\u001b[0m\u001b[0;34m(\u001b[0m\u001b[0;34m\"Overwriting file.\"\u001b[0m\u001b[0;34m)\u001b[0m\u001b[0;34m\u001b[0m\u001b[0;34m\u001b[0m\u001b[0m\n\u001b[0;32m--> 162\u001b[0;31m             \u001b[0moutfile\u001b[0m \u001b[0;34m=\u001b[0m \u001b[0mio_open\u001b[0m\u001b[0;34m(\u001b[0m\u001b[0moutfname\u001b[0m\u001b[0;34m,\u001b[0m \u001b[0;34m'w'\u001b[0m\u001b[0;34m,\u001b[0m \u001b[0mencoding\u001b[0m\u001b[0;34m=\u001b[0m\u001b[0;34m'utf-8'\u001b[0m\u001b[0;34m)\u001b[0m\u001b[0;34m\u001b[0m\u001b[0;34m\u001b[0m\u001b[0m\n\u001b[0m\u001b[1;32m    163\u001b[0m             \u001b[0mclose_at_end\u001b[0m \u001b[0;34m=\u001b[0m \u001b[0;32mTrue\u001b[0m\u001b[0;34m\u001b[0m\u001b[0;34m\u001b[0m\u001b[0m\n\u001b[1;32m    164\u001b[0m \u001b[0;34m\u001b[0m\u001b[0m\n",
      "\u001b[0;31mPermissionError\u001b[0m: [Errno 13] Permission denied: 'full_python_history.txt'"
     ]
    }
   ],
   "source": [
    "#para crear un fichero de la sesión:\n",
    "\n",
    "%history -g -f full_python_history.txt"
   ]
  },
  {
   "cell_type": "code",
   "execution_count": 86,
   "metadata": {},
   "outputs": [
    {
     "name": "stdout",
     "output_type": "stream",
     "text": [
      "head: cannot open 'full_python_history.txt' for reading: No such file or directory\r\n"
     ]
    }
   ],
   "source": [
    "!head full_python_history.txt"
   ]
  },
  {
   "cell_type": "code",
   "execution_count": null,
   "metadata": {},
   "outputs": [],
   "source": []
  }
 ],
 "metadata": {
  "kernelspec": {
   "display_name": "Python 3",
   "language": "python",
   "name": "python3"
  },
  "language_info": {
   "codemirror_mode": {
    "name": "ipython",
    "version": 3
   },
   "file_extension": ".py",
   "mimetype": "text/x-python",
   "name": "python",
   "nbconvert_exporter": "python",
   "pygments_lexer": "ipython3",
   "version": "3.7.1"
  }
 },
 "nbformat": 4,
 "nbformat_minor": 2
}
