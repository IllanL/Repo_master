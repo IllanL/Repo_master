{
 "cells": [
  {
   "cell_type": "code",
   "execution_count": 9,
   "metadata": {},
   "outputs": [
    {
     "name": "stdout",
     "output_type": "stream",
     "text": [
      "C:\\Users\\Illan\\Desktop\\COSAS KSCHOOL\\13--CLASES DE VISUALIZACIàN\n"
     ]
    }
   ],
   "source": [
    "!cd"
   ]
  },
  {
   "cell_type": "code",
   "execution_count": 11,
   "metadata": {},
   "outputs": [
    {
     "name": "stdout",
     "output_type": "stream",
     "text": [
      "Collecting markdown\n",
      "  Downloading https://files.pythonhosted.org/packages/c0/4e/fd492e91abdc2d2fcb70ef453064d980688762079397f779758e055f6575/Markdown-3.1.1-py2.py3-none-any.whl (87kB)\n",
      "Requirement already satisfied: setuptools>=36 in c:\\programdata\\anaconda3\\lib\\site-packages (from markdown) (40.8.0)\n",
      "Installing collected packages: markdown\n",
      "Successfully installed markdown-3.1.1\n",
      "Note: you may need to restart the kernel to use updated packages.\n"
     ]
    }
   ],
   "source": [
    "pip install markdown"
   ]
  },
  {
   "cell_type": "code",
   "execution_count": 15,
   "metadata": {},
   "outputs": [],
   "source": [
    "import markdown"
   ]
  },
  {
   "cell_type": "code",
   "execution_count": 23,
   "metadata": {},
   "outputs": [],
   "source": [
    "page = \"\"\"\n",
    "## Hello\n",
    "\n",
    "We are here having fun. *Italic* *Bold*\n",
    "\n",
    "This is a new parragraph.\n",
    "\n",
    "\"\"\""
   ]
  },
  {
   "cell_type": "code",
   "execution_count": 24,
   "metadata": {},
   "outputs": [
    {
     "data": {
      "text/plain": [
       "'<h2>Hello</h2>\\n<p>We are here having fun. <em>Italic</em> <em>Bold</em></p>\\n<p>This is a new parragraph.</p>'"
      ]
     },
     "execution_count": 24,
     "metadata": {},
     "output_type": "execute_result"
    }
   ],
   "source": [
    "markdown.markdown(page)"
   ]
  },
  {
   "cell_type": "code",
   "execution_count": 25,
   "metadata": {},
   "outputs": [
    {
     "name": "stdout",
     "output_type": "stream",
     "text": [
      "Collecting pypugjs\n",
      "  Downloading https://files.pythonhosted.org/packages/20/78/a969b9cf920bf02c796241d26c80460ee1912fa9c81de39807e347099747/pypugjs-5.8.1-py2.py3-none-any.whl\n",
      "Requirement already satisfied: chardet in c:\\programdata\\anaconda3\\lib\\site-packages (from pypugjs) (3.0.4)\n",
      "Requirement already satisfied: six in c:\\programdata\\anaconda3\\lib\\site-packages (from pypugjs) (1.12.0)\n",
      "Installing collected packages: pypugjs\n",
      "Successfully installed pypugjs-5.8.1\n",
      "Note: you may need to restart the kernel to use updated packages.\n"
     ]
    }
   ],
   "source": [
    "pip install pypugjs"
   ]
  },
  {
   "cell_type": "code",
   "execution_count": 26,
   "metadata": {},
   "outputs": [],
   "source": [
    "import pypugjs"
   ]
  },
  {
   "cell_type": "code",
   "execution_count": 34,
   "metadata": {},
   "outputs": [],
   "source": [
    "pug_input=\"\"\"\n",
    "\n",
    "select\n",
    "  option 1\n",
    "  option 2\n",
    "br\n",
    "input\n",
    "br\n",
    "button GO\n",
    "\n",
    "\"\"\""
   ]
  },
  {
   "cell_type": "code",
   "execution_count": 35,
   "metadata": {},
   "outputs": [
    {
     "data": {
      "text/plain": [
       "'\\n<select>\\n  <option>1</option>\\n  <option>2</option>\\n</select><br/>\\n<input/><br/>\\n<button>GO</button>'"
      ]
     },
     "execution_count": 35,
     "metadata": {},
     "output_type": "execute_result"
    }
   ],
   "source": [
    "pypugjs.simple_convert(pug_input)"
   ]
  },
  {
   "cell_type": "code",
   "execution_count": 36,
   "metadata": {},
   "outputs": [
    {
     "name": "stdout",
     "output_type": "stream",
     "text": [
      "Collecting pingendo\n",
      "Note: you may need to restart the kernel to use updated packages.\n"
     ]
    },
    {
     "name": "stderr",
     "output_type": "stream",
     "text": [
      "  Could not find a version that satisfies the requirement pingendo (from versions: )\n",
      "No matching distribution found for pingendo\n"
     ]
    }
   ],
   "source": [
    "pip install pingendo"
   ]
  },
  {
   "cell_type": "code",
   "execution_count": 37,
   "metadata": {},
   "outputs": [
    {
     "name": "stdout",
     "output_type": "stream",
     "text": [
      "Collecting streamlit\n",
      "  Using cached https://files.pythonhosted.org/packages/b9/66/e80f102319ed13cc509fe8a5e2e5c1d61ad684f8c30eb54c6e3dcd0ce154/streamlit-0.50.2-py2.py3-none-any.whl\n",
      "Collecting validators (from streamlit)\n",
      "Requirement already satisfied: numpy in c:\\programdata\\anaconda3\\lib\\site-packages (from streamlit) (1.16.2)\n",
      "Requirement already satisfied: future in c:\\programdata\\anaconda3\\lib\\site-packages (from streamlit) (0.17.1)\n",
      "Requirement already satisfied: pandas in c:\\programdata\\anaconda3\\lib\\site-packages (from streamlit) (0.24.2)\n",
      "Collecting pillow>=6.2.0 (from streamlit)\n",
      "  Using cached https://files.pythonhosted.org/packages/70/f4/9dd0b7b0fea09cf4e7a2822031f2157f40d41f0252a89558bdb583e24ef1/Pillow-6.2.1-cp37-cp37m-win_amd64.whl\n",
      "Collecting boto3 (from streamlit)\n",
      "  Using cached https://files.pythonhosted.org/packages/67/17/567f679dac6ec93611ce05637094e9736afa40e41c9ed0aaefd90de6f7e8/boto3-1.10.28-py2.py3-none-any.whl\n",
      "Collecting botocore (from streamlit)\n",
      "  Using cached https://files.pythonhosted.org/packages/8e/b3/ab9044d3aa14208f5b6f69665d5f82ad9b028809666e4e70dac1ab0bfd3a/botocore-1.13.28-py2.py3-none-any.whl\n",
      "Requirement already satisfied: requests in c:\\programdata\\anaconda3\\lib\\site-packages (from streamlit) (2.21.0)\n",
      "Collecting base58 (from streamlit)\n",
      "  Using cached https://files.pythonhosted.org/packages/09/b2/21ac9591f055acc145afead895edeb73bbd69d95cf366fc5c2233f2434cb/base58-1.0.3-py3-none-any.whl\n",
      "Collecting protobuf>=3.6.0 (from streamlit)\n",
      "  Using cached https://files.pythonhosted.org/packages/ef/3b/cc373fb204fbe90f1a31f5921e85c0e568481f488039ce210f69831b4204/protobuf-3.11.0-cp37-cp37m-win_amd64.whl\n",
      "Requirement already satisfied: click>=7.0 in c:\\programdata\\anaconda3\\lib\\site-packages (from streamlit) (7.0)\n",
      "Requirement already satisfied: toml in c:\\programdata\\anaconda3\\lib\\site-packages (from streamlit) (0.10.0)\n",
      "Collecting watchdog (from streamlit)\n",
      "Collecting tornado<6.0,>=5.0 (from streamlit)\n",
      "  Using cached https://files.pythonhosted.org/packages/d7/d5/99aff77c15da335e3dbf30254b304a526494dca8e51b4b47419772e35a4e/tornado-5.1.1-cp37-cp37m-win_amd64.whl\n",
      "Requirement already satisfied: astor in c:\\programdata\\anaconda3\\lib\\site-packages (from streamlit) (0.8.0)\n",
      "Requirement already satisfied: altair>=3.2.0 in c:\\programdata\\anaconda3\\lib\\site-packages (from streamlit) (3.3.0)\n",
      "Requirement already satisfied: tzlocal in c:\\programdata\\anaconda3\\lib\\site-packages (from streamlit) (2.0.0)\n",
      "Collecting enum-compat (from streamlit)\n",
      "  Using cached https://files.pythonhosted.org/packages/55/ae/467bc4509246283bb59746e21a1a2f5a8aecbef56b1fa6eaca78cd438c8b/enum_compat-0.0.3-py3-none-any.whl\n",
      "Requirement already satisfied: blinker in c:\\programdata\\anaconda3\\lib\\site-packages (from streamlit) (1.4)\n",
      "Requirement already satisfied: decorator>=3.4.0 in c:\\programdata\\anaconda3\\lib\\site-packages (from validators->streamlit) (4.4.0)\n",
      "Requirement already satisfied: six>=1.4.0 in c:\\programdata\\anaconda3\\lib\\site-packages (from validators->streamlit) (1.12.0)\n",
      "Requirement already satisfied: python-dateutil>=2.5.0 in c:\\programdata\\anaconda3\\lib\\site-packages (from pandas->streamlit) (2.8.0)\n",
      "Requirement already satisfied: pytz>=2011k in c:\\programdata\\anaconda3\\lib\\site-packages (from pandas->streamlit) (2018.9)\n",
      "Collecting s3transfer<0.3.0,>=0.2.0 (from boto3->streamlit)\n",
      "  Using cached https://files.pythonhosted.org/packages/16/8a/1fc3dba0c4923c2a76e1ff0d52b305c44606da63f718d14d3231e21c51b0/s3transfer-0.2.1-py2.py3-none-any.whl\n",
      "Collecting jmespath<1.0.0,>=0.7.1 (from boto3->streamlit)\n",
      "  Using cached https://files.pythonhosted.org/packages/83/94/7179c3832a6d45b266ddb2aac329e101367fbdb11f425f13771d27f225bb/jmespath-0.9.4-py2.py3-none-any.whl\n",
      "Requirement already satisfied: docutils<0.16,>=0.10 in c:\\programdata\\anaconda3\\lib\\site-packages (from botocore->streamlit) (0.14)\n",
      "Requirement already satisfied: urllib3<1.26,>=1.20; python_version >= \"3.4\" in c:\\programdata\\anaconda3\\lib\\site-packages (from botocore->streamlit) (1.24.1)\n",
      "Requirement already satisfied: idna<2.9,>=2.5 in c:\\programdata\\anaconda3\\lib\\site-packages (from requests->streamlit) (2.8)\n",
      "Requirement already satisfied: certifi>=2017.4.17 in c:\\programdata\\anaconda3\\lib\\site-packages (from requests->streamlit) (2019.3.9)\n",
      "Requirement already satisfied: chardet<3.1.0,>=3.0.2 in c:\\programdata\\anaconda3\\lib\\site-packages (from requests->streamlit) (3.0.4)\n",
      "Requirement already satisfied: setuptools in c:\\programdata\\anaconda3\\lib\\site-packages (from protobuf>=3.6.0->streamlit) (40.8.0)\n",
      "Collecting argh>=0.24.1 (from watchdog->streamlit)\n",
      "  Using cached https://files.pythonhosted.org/packages/06/1c/e667a7126f0b84aaa1c56844337bf0ac12445d1beb9c8a6199a7314944bf/argh-0.26.2-py2.py3-none-any.whl\n",
      "Collecting pathtools>=0.1.1 (from watchdog->streamlit)\n",
      "Requirement already satisfied: PyYAML>=3.10 in c:\\programdata\\anaconda3\\lib\\site-packages (from watchdog->streamlit) (5.1)\n",
      "Requirement already satisfied: jsonschema in c:\\programdata\\anaconda3\\lib\\site-packages (from altair>=3.2.0->streamlit) (3.0.1)\n",
      "Requirement already satisfied: toolz in c:\\programdata\\anaconda3\\lib\\site-packages (from altair>=3.2.0->streamlit) (0.9.0)\n",
      "Requirement already satisfied: entrypoints in c:\\programdata\\anaconda3\\lib\\site-packages (from altair>=3.2.0->streamlit) (0.3)\n",
      "Requirement already satisfied: jinja2 in c:\\programdata\\anaconda3\\lib\\site-packages (from altair>=3.2.0->streamlit) (2.10)\n",
      "Requirement already satisfied: attrs>=17.4.0 in c:\\programdata\\anaconda3\\lib\\site-packages (from jsonschema->altair>=3.2.0->streamlit) (19.1.0)\n",
      "Requirement already satisfied: pyrsistent>=0.14.0 in c:\\programdata\\anaconda3\\lib\\site-packages (from jsonschema->altair>=3.2.0->streamlit) (0.14.11)\n",
      "Requirement already satisfied: MarkupSafe>=0.23 in c:\\programdata\\anaconda3\\lib\\site-packages (from jinja2->altair>=3.2.0->streamlit) (1.1.1)\n",
      "Installing collected packages: validators, pillow, jmespath, botocore, s3transfer, boto3, base58, protobuf, argh, pathtools, watchdog, tornado, enum-compat, streamlit\n",
      "  Found existing installation: Pillow 5.4.1\n",
      "    Uninstalling Pillow-5.4.1:\n",
      "Note: you may need to restart the kernel to use updated packages.\n"
     ]
    },
    {
     "name": "stderr",
     "output_type": "stream",
     "text": [
      "Could not install packages due to an EnvironmentError: [WinError 5] Acceso denegado: 'c:\\\\programdata\\\\anaconda3\\\\lib\\\\site-packages\\\\pil\\\\BdfFontFile.py'\n",
      "Consider using the `--user` option or check the permissions.\n",
      "\n"
     ]
    }
   ],
   "source": [
    "pip install streamlit"
   ]
  },
  {
   "cell_type": "code",
   "execution_count": null,
   "metadata": {},
   "outputs": [],
   "source": [
    "# PARA AÑADIR MAPAS DE GOOGLE EN LOS GRÁFICOS DE ALTAIR:"
   ]
  },
  {
   "cell_type": "code",
   "execution_count": 1,
   "metadata": {
    "collapsed": true
   },
   "outputs": [
    {
     "name": "stdout",
     "output_type": "stream",
     "text": [
      "Collecting folium\n",
      "  Downloading https://files.pythonhosted.org/packages/72/ff/004bfe344150a064e558cb2aedeaa02ecbf75e60e148a55a9198f0c41765/folium-0.10.0-py2.py3-none-any.whl (91kB)\n",
      "Collecting branca>=0.3.0 (from folium)\n",
      "  Downloading https://files.pythonhosted.org/packages/63/36/1c93318e9653f4e414a2e0c3b98fc898b4970e939afeedeee6075dd3b703/branca-0.3.1-py3-none-any.whl\n",
      "Requirement already satisfied: requests in c:\\programdata\\anaconda3\\lib\\site-packages (from folium) (2.21.0)\n",
      "Requirement already satisfied: jinja2>=2.9 in c:\\programdata\\anaconda3\\lib\\site-packages (from folium) (2.10)\n",
      "Requirement already satisfied: numpy in c:\\programdata\\anaconda3\\lib\\site-packages (from folium) (1.16.2)\n",
      "Requirement already satisfied: six in c:\\programdata\\anaconda3\\lib\\site-packages (from branca>=0.3.0->folium) (1.12.0)\n",
      "Requirement already satisfied: urllib3<1.25,>=1.21.1 in c:\\programdata\\anaconda3\\lib\\site-packages (from requests->folium) (1.24.1)\n",
      "Requirement already satisfied: certifi>=2017.4.17 in c:\\programdata\\anaconda3\\lib\\site-packages (from requests->folium) (2019.3.9)\n",
      "Requirement already satisfied: chardet<3.1.0,>=3.0.2 in c:\\programdata\\anaconda3\\lib\\site-packages (from requests->folium) (3.0.4)\n",
      "Requirement already satisfied: idna<2.9,>=2.5 in c:\\programdata\\anaconda3\\lib\\site-packages (from requests->folium) (2.8)\n",
      "Requirement already satisfied: MarkupSafe>=0.23 in c:\\programdata\\anaconda3\\lib\\site-packages (from jinja2>=2.9->folium) (1.1.1)\n",
      "Installing collected packages: branca, folium\n",
      "Successfully installed branca-0.3.1 folium-0.10.0\n",
      "Note: you may need to restart the kernel to use updated packages.\n"
     ]
    }
   ],
   "source": [
    "pip install folium"
   ]
  },
  {
   "cell_type": "code",
   "execution_count": 2,
   "metadata": {},
   "outputs": [],
   "source": [
    "import folium"
   ]
  },
  {
   "cell_type": "markdown",
   "metadata": {},
   "source": [
    "OTRAS LIBRERÍAS INTERESANTES:\n",
    "    \n",
    "GRAPHBIZ"
   ]
  },
  {
   "cell_type": "code",
   "execution_count": 4,
   "metadata": {},
   "outputs": [
    {
     "name": "stdout",
     "output_type": "stream",
     "text": [
      "Collecting drawsvg\n",
      "  Downloading https://files.pythonhosted.org/packages/57/9c/7a7a7b49420b970f6b729f9aeda2308b4fff5ceecfa92e65b83745f55805/drawSvg-1.3.1-py3-none-any.whl\n",
      "Requirement already satisfied: numpy in c:\\programdata\\anaconda3\\lib\\site-packages (from drawsvg) (1.16.2)\n",
      "Requirement already satisfied: imageio in c:\\programdata\\anaconda3\\lib\\site-packages (from drawsvg) (2.5.0)\n",
      "Collecting cairoSVG (from drawsvg)\n",
      "  Downloading https://files.pythonhosted.org/packages/8e/3a/762f9272c20db092f4d537aaf364dd0770ecf8f7101b58c4e933e99ee2f6/CairoSVG-2.4.2-py3-none-any.whl (50kB)\n",
      "Collecting cairocffi (from cairoSVG->drawsvg)\n",
      "  Downloading https://files.pythonhosted.org/packages/f7/99/b3a2c6393563ccbe081ffcceb359ec27a6227792c5169604c1bd8128031a/cairocffi-1.1.0.tar.gz (68kB)\n",
      "Collecting cssselect2 (from cairoSVG->drawsvg)\n",
      "  Downloading https://files.pythonhosted.org/packages/c4/a1/1a37602bbcfa2f7c079758f31555776a00a947e43457a3e0110b2165c7d9/cssselect2-0.2.2-py2.py3-none-any.whl\n",
      "Requirement already satisfied: defusedxml in c:\\programdata\\anaconda3\\lib\\site-packages (from cairoSVG->drawsvg) (0.5.0)\n",
      "Collecting tinycss2 (from cairoSVG->drawsvg)\n",
      "  Downloading https://files.pythonhosted.org/packages/94/2c/4e501f9c351343c8ba10d70b5a7ca97cdab2690af043a6e52ada65b85b6b/tinycss2-1.0.2-py3-none-any.whl (61kB)\n",
      "Requirement already satisfied: pillow in c:\\programdata\\anaconda3\\lib\\site-packages (from cairoSVG->drawsvg) (5.4.1)\n",
      "Requirement already satisfied: cffi>=1.1.0 in c:\\programdata\\anaconda3\\lib\\site-packages (from cairocffi->cairoSVG->drawsvg) (1.12.2)\n",
      "Requirement already satisfied: setuptools>=39.2.0 in c:\\programdata\\anaconda3\\lib\\site-packages (from cairocffi->cairoSVG->drawsvg) (40.8.0)\n",
      "Requirement already satisfied: webencodings>=0.4 in c:\\programdata\\anaconda3\\lib\\site-packages (from tinycss2->cairoSVG->drawsvg) (0.5.1)\n",
      "Requirement already satisfied: pycparser in c:\\programdata\\anaconda3\\lib\\site-packages (from cffi>=1.1.0->cairocffi->cairoSVG->drawsvg) (2.19)\n",
      "Building wheels for collected packages: cairocffi\n",
      "  Building wheel for cairocffi (setup.py): started\n",
      "  Building wheel for cairocffi (setup.py): finished with status 'done'\n",
      "  Stored in directory: C:\\Users\\Illan\\AppData\\Local\\pip\\Cache\\wheels\\11\\5e\\47\\167d9dfd5fa5850dd0cd3db80afe6db46e620edec3419dce5a\n",
      "Successfully built cairocffi\n",
      "Installing collected packages: cairocffi, tinycss2, cssselect2, cairoSVG, drawsvg\n",
      "Successfully installed cairoSVG-2.4.2 cairocffi-1.1.0 cssselect2-0.2.2 drawsvg-1.3.1 tinycss2-1.0.2\n",
      "Note: you may need to restart the kernel to use updated packages.\n"
     ]
    }
   ],
   "source": [
    "pip install drawsvg"
   ]
  },
  {
   "cell_type": "code",
   "execution_count": 5,
   "metadata": {},
   "outputs": [
    {
     "name": "stderr",
     "output_type": "stream",
     "text": [
      "C:\\ProgramData\\Anaconda3\\lib\\site-packages\\drawSvg\\raster.py:17: RuntimeWarning: Failed to import CairoSVG. drawSvg will be unable to output PNG or other raster image formats. See https://github.com/cduck/drawSvg#prerequisites for more details.\n",
      "Original OSError: no library called \"cairo\" was found\n",
      "no library called \"libcairo-2\" was found\n",
      "cannot load library 'libcairo.so': error 0x7e\n",
      "cannot load library 'libcairo.2.dylib': error 0x7e\n",
      "cannot load library 'libcairo-2.dll': error 0x7e\n",
      "  warnings.warn(msg, RuntimeWarning)\n"
     ]
    }
   ],
   "source": [
    "import drawSvg as draw"
   ]
  },
  {
   "cell_type": "code",
   "execution_count": 7,
   "metadata": {},
   "outputs": [],
   "source": [
    "d=draw.Drawing(200,200,origin=(0,0))"
   ]
  },
  {
   "cell_type": "code",
   "execution_count": 12,
   "metadata": {},
   "outputs": [],
   "source": [
    "d.append(draw.Line(50,50,50,100,stroke='black'))"
   ]
  },
  {
   "cell_type": "code",
   "execution_count": 13,
   "metadata": {},
   "outputs": [
    {
     "data": {
      "image/svg+xml": [
       "<?xml version=\"1.0\" encoding=\"UTF-8\"?>\n",
       "<svg xmlns=\"http://www.w3.org/2000/svg\" xmlns:xlink=\"http://www.w3.org/1999/xlink\"\n",
       "     width=\"200\" height=\"200\" viewBox=\"0 -200 200 200\">\n",
       "<defs>\n",
       "</defs>\n",
       "<path d=\"M0,0 L50,-100\" stroke=\"black\" />\n",
       "<path d=\"M0,0 L50,-50\" stroke=\"black\" />\n",
       "<path d=\"M50,-50 L50,-100\" stroke=\"black\" />\n",
       "</svg>"
      ],
      "text/plain": [
       "<drawSvg.drawing.Drawing at 0x14efd1ec7b8>"
      ]
     },
     "execution_count": 13,
     "metadata": {},
     "output_type": "execute_result"
    }
   ],
   "source": [
    "d"
   ]
  },
  {
   "cell_type": "code",
   "execution_count": 14,
   "metadata": {},
   "outputs": [
    {
     "data": {
      "text/plain": [
       "'<?xml version=\"1.0\" encoding=\"UTF-8\"?>\\n<svg xmlns=\"http://www.w3.org/2000/svg\" xmlns:xlink=\"http://www.w3.org/1999/xlink\"\\n     width=\"200\" height=\"200\" viewBox=\"0 -200 200 200\">\\n<defs>\\n</defs>\\n<path d=\"M0,0 L50,-100\" stroke=\"black\" />\\n<path d=\"M0,0 L50,-50\" stroke=\"black\" />\\n<path d=\"M50,-50 L50,-100\" stroke=\"black\" />\\n</svg>'"
      ]
     },
     "execution_count": 14,
     "metadata": {},
     "output_type": "execute_result"
    }
   ],
   "source": [
    "d.asSvg()"
   ]
  },
  {
   "cell_type": "code",
   "execution_count": 15,
   "metadata": {},
   "outputs": [],
   "source": [
    "data = [\n",
    "  { \"followers\": \"100k-500k\", \"value\": 12500 },\n",
    "  { \"followers\": \"500k-1m\", \"value\": 25000 },\n",
    "  { \"followers\": \"1m-3m\", \"value\": 125000 },\n",
    "  { \"followers\": \"3m-7m\", \"value\": 187500 },\n",
    "  { \"followers\": \"over 7m\", \"value\": 300000 }\n",
    "]"
   ]
  },
  {
   "cell_type": "code",
   "execution_count": 24,
   "metadata": {},
   "outputs": [
    {
     "data": {
      "image/svg+xml": [
       "<?xml version=\"1.0\" encoding=\"UTF-8\"?>\n",
       "<svg xmlns=\"http://www.w3.org/2000/svg\" xmlns:xlink=\"http://www.w3.org/1999/xlink\"\n",
       "     width=\"500\" height=\"150\" viewBox=\"0 -150 500 150\">\n",
       "<defs>\n",
       "</defs>\n",
       "<rect x=\"20\" y=\"-20\" width=\"20.833333333333332\" height=\"20\" fill=\"lightblue\" />\n",
       "<rect x=\"20\" y=\"-50\" width=\"41.666666666666664\" height=\"20\" fill=\"lightblue\" />\n",
       "<rect x=\"20\" y=\"-80\" width=\"208.33333333333334\" height=\"20\" fill=\"lightblue\" />\n",
       "<rect x=\"20\" y=\"-110\" width=\"312.5\" height=\"20\" fill=\"lightblue\" />\n",
       "<rect x=\"20\" y=\"-140\" width=\"500.0\" height=\"20\" fill=\"lightblue\" />\n",
       "</svg>"
      ],
      "text/plain": [
       "<drawSvg.drawing.Drawing at 0x14efd042898>"
      ]
     },
     "execution_count": 24,
     "metadata": {},
     "output_type": "execute_result"
    }
   ],
   "source": [
    "d2=draw.Drawing(500,150,origin=(0,0))\n",
    "\n",
    "for i, e in enumerate(data):\n",
    "    \n",
    "    x=20\n",
    "    y=30*i\n",
    "    w=e['value']*500/300000\n",
    "    h=20\n",
    "    color='lightblue'\n",
    "    d2.append(draw.Rectangle(x,y,w,h,fill=color))\n",
    "\n",
    "    \n",
    "d2"
   ]
  },
  {
   "cell_type": "code",
   "execution_count": 25,
   "metadata": {},
   "outputs": [
    {
     "data": {
      "text/plain": [
       "'<?xml version=\"1.0\" encoding=\"UTF-8\"?>\\n<svg xmlns=\"http://www.w3.org/2000/svg\" xmlns:xlink=\"http://www.w3.org/1999/xlink\"\\n     width=\"500\" height=\"150\" viewBox=\"0 -150 500 150\">\\n<defs>\\n</defs>\\n<rect x=\"20\" y=\"-20\" width=\"20.833333333333332\" height=\"20\" fill=\"lightblue\" />\\n<rect x=\"20\" y=\"-50\" width=\"41.666666666666664\" height=\"20\" fill=\"lightblue\" />\\n<rect x=\"20\" y=\"-80\" width=\"208.33333333333334\" height=\"20\" fill=\"lightblue\" />\\n<rect x=\"20\" y=\"-110\" width=\"312.5\" height=\"20\" fill=\"lightblue\" />\\n<rect x=\"20\" y=\"-140\" width=\"500.0\" height=\"20\" fill=\"lightblue\" />\\n</svg>'"
      ]
     },
     "execution_count": 25,
     "metadata": {},
     "output_type": "execute_result"
    }
   ],
   "source": [
    "d2.asSvg()"
   ]
  },
  {
   "cell_type": "code",
   "execution_count": null,
   "metadata": {},
   "outputs": [],
   "source": []
  },
  {
   "cell_type": "code",
   "execution_count": null,
   "metadata": {},
   "outputs": [],
   "source": []
  },
  {
   "cell_type": "code",
   "execution_count": null,
   "metadata": {},
   "outputs": [],
   "source": []
  },
  {
   "cell_type": "code",
   "execution_count": null,
   "metadata": {},
   "outputs": [],
   "source": []
  }
 ],
 "metadata": {
  "kernelspec": {
   "display_name": "Python 3",
   "language": "python",
   "name": "python3"
  },
  "language_info": {
   "codemirror_mode": {
    "name": "ipython",
    "version": 3
   },
   "file_extension": ".py",
   "mimetype": "text/x-python",
   "name": "python",
   "nbconvert_exporter": "python",
   "pygments_lexer": "ipython3",
   "version": "3.7.3"
  }
 },
 "nbformat": 4,
 "nbformat_minor": 2
}
