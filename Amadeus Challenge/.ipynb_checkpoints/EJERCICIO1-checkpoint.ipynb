{
 "cells": [
  {
   "cell_type": "markdown",
   "metadata": {},
   "source": [
    "# EJERCICIO 1:\n",
    "\n",
    "## CAMBIAMOS DE DIRECTORIO Y VAMOS AL CORRECTO:"
   ]
  },
  {
   "cell_type": "markdown",
   "metadata": {},
   "source": [
    "### SE HA AÑADIDO A ESTE EJERCICIO AL FINAL UN APARATADO QUE PERMITE LA AUTOMATIZACIÓN DEL MISMO, PERMITIENDO AL USUARIO DAR UNA LISTA DE ARCHIVOS COMPRIMIDOS BZ2 PARA LOS QUE DAR UN NÚMERO DE FILAS, O BIEN, SI EL USUARIO NO HA DADO DICHOS ARCHIVOS, EL SISTEMA, EN LA CARPETA DEL SCRIPT, BUSCA TODOS LOS ARCHIVOS COMPRIMIDOS BZ2 Y CALCULA EL NÚMERO DE FILAS PARA LOS MISMOS"
   ]
  },
  {
   "cell_type": "code",
   "execution_count": 5,
   "metadata": {},
   "outputs": [
    {
     "name": "stdout",
     "output_type": "stream",
     "text": [
      "/home/dsc/Data/opentraveldata/python_class/Amadeus Challenge\r\n"
     ]
    }
   ],
   "source": [
    "!pwd"
   ]
  },
  {
   "cell_type": "code",
   "execution_count": 6,
   "metadata": {},
   "outputs": [
    {
     "name": "stdout",
     "output_type": "stream",
     "text": [
      "/home\n"
     ]
    }
   ],
   "source": [
    "%cd ../../../../../"
   ]
  },
  {
   "cell_type": "code",
   "execution_count": 7,
   "metadata": {
    "scrolled": true
   },
   "outputs": [
    {
     "data": {
      "text/plain": [
       "['dsc']"
      ]
     },
     "execution_count": 7,
     "metadata": {},
     "output_type": "execute_result"
    }
   ],
   "source": [
    "# %cd ./Data/challenge\n",
    "\n",
    "archivos_en_carpeta= !ls\n",
    "\n",
    "archivos_en_carpeta"
   ]
  },
  {
   "cell_type": "code",
   "execution_count": 14,
   "metadata": {
    "scrolled": true
   },
   "outputs": [
    {
     "name": "stdout",
     "output_type": "stream",
     "text": [
      " bookings.csv       \u001b[0m\u001b[01;34m'New Folder2'\u001b[0m/             \u001b[01;31msearches.csv.bz2\u001b[0m\r\n",
      " \u001b[01;31mbookings.csv.bz2\u001b[0m    sample.searches.csv       top_airports.csv\r\n",
      " EJERCICIO_2_1.txt   \u001b[01;31msample.searches.csv.bz2\u001b[0m\r\n",
      "\u001b[01;34m'New Folder'\u001b[0m/        searches.csv\r\n"
     ]
    }
   ],
   "source": [
    "ls"
   ]
  },
  {
   "cell_type": "markdown",
   "metadata": {},
   "source": [
    "## EXTRAMOS LOS ARCHIVOS:"
   ]
  },
  {
   "cell_type": "code",
   "execution_count": 2,
   "metadata": {
    "scrolled": true
   },
   "outputs": [
    {
     "name": "stdout",
     "output_type": "stream",
     "text": [
      "bunzip2: Can't open input file bookings.csv.bz2: No such file or directory.\r\n"
     ]
    }
   ],
   "source": [
    "!bunzip2 bookings.csv.bz2"
   ]
  },
  {
   "cell_type": "code",
   "execution_count": 3,
   "metadata": {},
   "outputs": [
    {
     "name": "stdout",
     "output_type": "stream",
     "text": [
      "bunzip2: Can't open input file searches.csv.bz2: No such file or directory.\r\n"
     ]
    }
   ],
   "source": [
    "!bunzip2 searches.csv.bz2"
   ]
  },
  {
   "cell_type": "markdown",
   "metadata": {},
   "source": [
    "## LEEMOS EL NÚMERO DE LÍNEAS DE LOS ARCHIVOS EXTRAÍDOS:"
   ]
  },
  {
   "cell_type": "code",
   "execution_count": 5,
   "metadata": {},
   "outputs": [
    {
     "name": "stdout",
     "output_type": "stream",
     "text": [
      "10000011 bookings.csv\r\n"
     ]
    }
   ],
   "source": [
    "!wc -l bookings.csv"
   ]
  },
  {
   "cell_type": "code",
   "execution_count": 13,
   "metadata": {},
   "outputs": [
    {
     "name": "stdout",
     "output_type": "stream",
     "text": [
      "20390198 searches.csv\r\n"
     ]
    }
   ],
   "source": [
    "!wc -l searches.csv"
   ]
  },
  {
   "cell_type": "markdown",
   "metadata": {},
   "source": [
    "# AUTOMATIZACIÓN:"
   ]
  },
  {
   "cell_type": "code",
   "execution_count": 20,
   "metadata": {},
   "outputs": [
    {
     "name": "stdout",
     "output_type": "stream",
     "text": [
      "['10000011']\n",
      "['20390198']\n"
     ]
    }
   ],
   "source": [
    "import re\n",
    "\n",
    "archivos_en_carpeta= !ls\n",
    "\n",
    "archivos_en_carpeta\n",
    "\n",
    "lista_archivos=['bookings.csv.bz2','searches.csv.bz2']\n",
    "\n",
    "\n",
    "#print(archivos_en_carpeta)\n",
    "\n",
    "def abre_y_cuenta(arch):\n",
    "    lineas=!bzcat -k $arch |wc -l\n",
    "    return(lineas)\n",
    "\n",
    "\n",
    "for archivo in archivos_en_carpeta:\n",
    "    if not(lista_archivos):\n",
    "        if re.search('bz2',archivo):\n",
    "            print(abre_y_cuenta(archivo))\n",
    "            #print(type(archivo))\n",
    "    else:\n",
    "        if archivo in lista_archivos:\n",
    "            if re.search('bz2',archivo):\n",
    "                print(abre_y_cuenta(archivo))\n",
    "                #print(type(archivo))\n",
    "            else:\n",
    "                print(\"no es un bz2\")\n",
    "\n",
    "     "
   ]
  },
  {
   "cell_type": "code",
   "execution_count": null,
   "metadata": {},
   "outputs": [],
   "source": []
  }
 ],
 "metadata": {
  "kernelspec": {
   "display_name": "Python 3",
   "language": "python",
   "name": "python3"
  },
  "language_info": {
   "codemirror_mode": {
    "name": "ipython",
    "version": 3
   },
   "file_extension": ".py",
   "mimetype": "text/x-python",
   "name": "python",
   "nbconvert_exporter": "python",
   "pygments_lexer": "ipython3",
   "version": "3.7.1"
  }
 },
 "nbformat": 4,
 "nbformat_minor": 2
}
