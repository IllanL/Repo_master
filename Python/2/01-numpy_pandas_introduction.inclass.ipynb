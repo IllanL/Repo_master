{
 "cells": [
  {
   "cell_type": "markdown",
   "metadata": {
    "slideshow": {
     "slide_type": "slide"
    }
   },
   "source": [
    "# Introduction to Data Analysis with Python\n",
    "\n",
    "\n",
    "<img src=\"https://www.python.org/static/img/python-logo.png\" alt=\"yogen\" style=\"width: 200px; float: right;\"/>\n",
    "<br>\n",
    "<br>\n",
    "<br>\n",
    "<img src=\"../assets/yogen-logo.png\" alt=\"yogen\" style=\"width: 200px; float: right;\"/>"
   ]
  },
  {
   "cell_type": "markdown",
   "metadata": {},
   "source": [
    "# FUNCIONES LAMBDA\n",
    "# FUNCIONES MAP, ...\n",
    "# '%S COSA DE POR MEDIO' % (STRING,...)\n",
    "# CLOSURE\n",
    "# CLASES\n",
    "# "
   ]
  },
  {
   "cell_type": "code",
   "execution_count": 2,
   "metadata": {},
   "outputs": [
    {
     "data": {
      "text/plain": [
       "4"
      ]
     },
     "execution_count": 2,
     "metadata": {},
     "output_type": "execute_result"
    }
   ],
   "source": [
    "x = 2\n",
    "\n",
    "x * 2"
   ]
  },
  {
   "cell_type": "code",
   "execution_count": 3,
   "metadata": {},
   "outputs": [
    {
     "data": {
      "text/plain": [
       "9"
      ]
     },
     "execution_count": 3,
     "metadata": {},
     "output_type": "execute_result"
    }
   ],
   "source": [
    "3 * x + 3"
   ]
  },
  {
   "cell_type": "code",
   "execution_count": 4,
   "metadata": {},
   "outputs": [
    {
     "name": "stdout",
     "output_type": "stream",
     "text": [
      "Variable   Type    Data/Info\n",
      "----------------------------\n",
      "x          int     2\n"
     ]
    }
   ],
   "source": [
    "%whos"
   ]
  },
  {
   "cell_type": "markdown",
   "metadata": {
    "slideshow": {
     "slide_type": "slide"
    }
   },
   "source": [
    "# Objectives\n",
    "\n",
    "* Handle linear algebra using `numpy`\n",
    "\n",
    "* Handle tabular data with `pandas`"
   ]
  },
  {
   "cell_type": "markdown",
   "metadata": {
    "slideshow": {
     "slide_type": "slide"
    }
   },
   "source": [
    "  "
   ]
  },
  {
   "cell_type": "markdown",
   "metadata": {
    "slideshow": {
     "slide_type": "slide"
    }
   },
   "source": [
    "# The Python scientific stack: SciPy\n",
    "\n",
    "Python Main Data Libraries"
   ]
  },
  {
   "cell_type": "markdown",
   "metadata": {
    "slideshow": {
     "slide_type": "fragment"
    }
   },
   "source": [
    "NumPy: Base N-dimensional array package\n",
    "\n",
    "SciPy library: Fundamental library for scientific computing\n",
    "\n",
    "Matplotlib: Comprehensive 2D Plotting\n",
    "\n",
    "IPython: Enhanced Interactive Console\n",
    "\n",
    "Sympy: Symbolic mathematics\n",
    "\n",
    "pandas: Data structures & analysis"
   ]
  },
  {
   "cell_type": "markdown",
   "metadata": {
    "slideshow": {
     "slide_type": "slide"
    }
   },
   "source": [
    "## `matplotlib`"
   ]
  },
  {
   "cell_type": "code",
   "execution_count": 2,
   "metadata": {
    "slideshow": {
     "slide_type": "fragment"
    }
   },
   "outputs": [],
   "source": [
    "import numpy as np\n",
    "import matplotlib.pyplot as plt\n",
    "import pandas as pd\n",
    "%matplotlib inline"
   ]
  },
  {
   "cell_type": "code",
   "execution_count": 7,
   "metadata": {},
   "outputs": [
    {
     "data": {
      "text/plain": [
       "[<matplotlib.lines.Line2D at 0x7ff8d6eb82e8>]"
      ]
     },
     "execution_count": 7,
     "metadata": {},
     "output_type": "execute_result"
    },
    {
     "data": {
      "image/png": "[encoded data removed]",
      "text/plain": [
       "<Figure size 432x288 with 1 Axes>"
      ]
     },
     "metadata": {
      "needs_background": "light"
     },
     "output_type": "display_data"
    }
   ],
   "source": [
    "plt.plot([1, 2, 5, 6], [5, 3, 6, 9])"
   ]
  },
  {
   "cell_type": "code",
   "execution_count": 8,
   "metadata": {
    "scrolled": true
   },
   "outputs": [
    {
     "data": {
      "text/plain": [
       "array([0.        , 0.19234241, 0.38468481, 0.57702722, 0.76936963,\n",
       "       0.96171204, 1.15405444, 1.34639685, 1.53873926, 1.73108167,\n",
       "       1.92342407, 2.11576648, 2.30810889, 2.5004513 , 2.6927937 ,\n",
       "       2.88513611, 3.07747852, 3.26982093, 3.46216333, 3.65450574,\n",
       "       3.84684815, 4.03919055, 4.23153296, 4.42387537, 4.61621778,\n",
       "       4.80856018, 5.00090259, 5.193245  , 5.38558741, 5.57792981,\n",
       "       5.77027222, 5.96261463, 6.15495704, 6.34729944, 6.53964185,\n",
       "       6.73198426, 6.92432667, 7.11666907, 7.30901148, 7.50135389,\n",
       "       7.69369629, 7.8860387 , 8.07838111, 8.27072352, 8.46306592,\n",
       "       8.65540833, 8.84775074, 9.04009315, 9.23243555, 9.42477796])"
      ]
     },
     "execution_count": 8,
     "metadata": {},
     "output_type": "execute_result"
    }
   ],
   "source": [
    "xs = np.linspace(0, 3 * np.pi)\n",
    "xs"
   ]
  },
  {
   "cell_type": "code",
   "execution_count": 5,
   "metadata": {},
   "outputs": [
    {
     "data": {
      "text/plain": [
       "array([  0.,   1.,   2.,   3.,   4.,   5.,   6.,   7.,   8.,   9.,  10.,\n",
       "        11.,  12.,  13.,  14.,  15.,  16.,  17.,  18.,  19.,  20.,  21.,\n",
       "        22.,  23.,  24.,  25.,  26.,  27.,  28.,  29.,  30.,  31.,  32.,\n",
       "        33.,  34.,  35.,  36.,  37.,  38.,  39.,  40.,  41.,  42.,  43.,\n",
       "        44.,  45.,  46.,  47.,  48.,  49.,  50.,  51.,  52.,  53.,  54.,\n",
       "        55.,  56.,  57.,  58.,  59.,  60.,  61.,  62.,  63.,  64.,  65.,\n",
       "        66.,  67.,  68.,  69.,  70.,  71.,  72.,  73.,  74.,  75.,  76.,\n",
       "        77.,  78.,  79.,  80.,  81.,  82.,  83.,  84.,  85.,  86.,  87.,\n",
       "        88.,  89.,  90.,  91.,  92.,  93.,  94.,  95.,  96.,  97.,  98.,\n",
       "        99., 100.])"
      ]
     },
     "execution_count": 5,
     "metadata": {},
     "output_type": "execute_result"
    }
   ],
   "source": [
    "A=np.linspace(0,100, 101)\n",
    "A"
   ]
  },
  {
   "cell_type": "code",
   "execution_count": 10,
   "metadata": {},
   "outputs": [
    {
     "data": {
      "text/plain": [
       "[<matplotlib.lines.Line2D at 0x7ff8d6bff3c8>]"
      ]
     },
     "execution_count": 10,
     "metadata": {},
     "output_type": "execute_result"
    },
    {
     "data": {
      "image/png": "[encoded data removed]",
      "text/plain": [
       "<Figure size 432x288 with 1 Axes>"
      ]
     },
     "metadata": {
      "needs_background": "light"
     },
     "output_type": "display_data"
    }
   ],
   "source": [
    "cos, sin = np.cos(xs), np.sin(xs)\n",
    "plt.plot(xs, sin)\n",
    "plt.plot(xs, cos)"
   ]
  },
  {
   "cell_type": "code",
   "execution_count": 11,
   "metadata": {},
   "outputs": [
    {
     "data": {
      "text/plain": [
       "<matplotlib.collections.PathCollection at 0x7ff8d6b269b0>"
      ]
     },
     "execution_count": 11,
     "metadata": {},
     "output_type": "execute_result"
    },
    {
     "data": {
      "image/png": "[encoded data removed]",
      "text/plain": [
       "<Figure size 432x288 with 1 Axes>"
      ]
     },
     "metadata": {
      "needs_background": "light"
     },
     "output_type": "display_data"
    }
   ],
   "source": [
    "plt.scatter(xs, cos)"
   ]
  },
  {
   "cell_type": "markdown",
   "metadata": {
    "slideshow": {
     "slide_type": "slide"
    }
   },
   "source": [
    "  "
   ]
  },
  {
   "cell_type": "markdown",
   "metadata": {
    "slideshow": {
     "slide_type": "slide"
    }
   },
   "source": [
    "## `numpy`\n",
    "\n",
    "Base N-dimensional array package. We can use it to perform array operations. Its arrays are typed and can have any shape and dimension we want."
   ]
  },
  {
   "cell_type": "code",
   "execution_count": 7,
   "metadata": {},
   "outputs": [
    {
     "data": {
      "text/plain": [
       "'1.15.4'"
      ]
     },
     "execution_count": 7,
     "metadata": {},
     "output_type": "execute_result"
    }
   ],
   "source": [
    "np.version.version"
   ]
  },
  {
   "cell_type": "code",
   "execution_count": 8,
   "metadata": {
    "scrolled": true
   },
   "outputs": [
    {
     "data": {
      "text/plain": [
       "array([[42. , 23. ,  1.5,  7.2,  9.8],\n",
       "       [42. , 23. ,  1.5,  7.2,  9.8]])"
      ]
     },
     "execution_count": 8,
     "metadata": {},
     "output_type": "execute_result"
    }
   ],
   "source": [
    "a_list = [[42, 23, 1.5, 7.2, 9.8],[42, 23, 1.5, 7.2, 9.8]]\n",
    "a = np.array(a_list)\n",
    "a"
   ]
  },
  {
   "cell_type": "code",
   "execution_count": 9,
   "metadata": {
    "scrolled": true
   },
   "outputs": [
    {
     "data": {
      "text/plain": [
       "(2, 5)"
      ]
     },
     "execution_count": 9,
     "metadata": {},
     "output_type": "execute_result"
    }
   ],
   "source": [
    "a.shape"
   ]
  },
  {
   "cell_type": "code",
   "execution_count": 28,
   "metadata": {},
   "outputs": [],
   "source": [
    "b=a.transpose()"
   ]
  },
  {
   "cell_type": "code",
   "execution_count": 30,
   "metadata": {},
   "outputs": [
    {
     "name": "stdout",
     "output_type": "stream",
     "text": [
      "[[3528.   1932.    126.    604.8   823.2 ]\n",
      " [1932.   1058.     69.    331.2   450.8 ]\n",
      " [ 126.     69.      4.5    21.6    29.4 ]\n",
      " [ 604.8   331.2    21.6   103.68  141.12]\n",
      " [ 823.2   450.8    29.4   141.12  192.08]]\n"
     ]
    }
   ],
   "source": [
    "c=b.dot(a)\n",
    "print(c)"
   ]
  },
  {
   "cell_type": "code",
   "execution_count": 16,
   "metadata": {},
   "outputs": [
    {
     "data": {
      "text/plain": [
       "2"
      ]
     },
     "execution_count": 16,
     "metadata": {},
     "output_type": "execute_result"
    }
   ],
   "source": [
    "a.ndim"
   ]
  },
  {
   "cell_type": "code",
   "execution_count": 31,
   "metadata": {},
   "outputs": [
    {
     "data": {
      "text/plain": [
       "2"
      ]
     },
     "execution_count": 31,
     "metadata": {},
     "output_type": "execute_result"
    }
   ],
   "source": [
    "c.ndim"
   ]
  },
  {
   "cell_type": "code",
   "execution_count": 18,
   "metadata": {
    "scrolled": true
   },
   "outputs": [
    {
     "data": {
      "text/plain": [
       "dtype('float64')"
      ]
     },
     "execution_count": 18,
     "metadata": {},
     "output_type": "execute_result"
    }
   ],
   "source": [
    "a.dtype"
   ]
  },
  {
   "cell_type": "code",
   "execution_count": 19,
   "metadata": {},
   "outputs": [
    {
     "data": {
      "text/plain": [
       "array([[1.+0.j, 2.+0.j],\n",
       "       [3.+0.j, 4.+0.j]])"
      ]
     },
     "execution_count": 19,
     "metadata": {},
     "output_type": "execute_result"
    }
   ],
   "source": [
    "np.array([[1,2], [3,4]], dtype=complex)"
   ]
  },
  {
   "cell_type": "code",
   "execution_count": 20,
   "metadata": {},
   "outputs": [
    {
     "data": {
      "text/plain": [
       "array([[1, 2, 3],\n",
       "       [4, 5, 6]])"
      ]
     },
     "execution_count": 20,
     "metadata": {},
     "output_type": "execute_result"
    }
   ],
   "source": [
    "a2 = np.array([[1,2,3], [4,5,6]])\n",
    "a2"
   ]
  },
  {
   "cell_type": "code",
   "execution_count": 21,
   "metadata": {},
   "outputs": [
    {
     "data": {
      "text/plain": [
       "(2, 3)"
      ]
     },
     "execution_count": 21,
     "metadata": {},
     "output_type": "execute_result"
    }
   ],
   "source": [
    "a2.shape"
   ]
  },
  {
   "cell_type": "markdown",
   "metadata": {},
   "source": [
    "There are a number of convenience functions to create particular special arrays."
   ]
  },
  {
   "cell_type": "code",
   "execution_count": 22,
   "metadata": {},
   "outputs": [
    {
     "data": {
      "text/plain": [
       "array([[0., 0., 0., 0.],\n",
       "       [0., 0., 0., 0.],\n",
       "       [0., 0., 0., 0.],\n",
       "       [0., 0., 0., 0.],\n",
       "       [0., 0., 0., 0.]])"
      ]
     },
     "execution_count": 22,
     "metadata": {},
     "output_type": "execute_result"
    }
   ],
   "source": [
    "np.zeros((5,4))"
   ]
  },
  {
   "cell_type": "code",
   "execution_count": 24,
   "metadata": {},
   "outputs": [
    {
     "data": {
      "text/plain": [
       "array([[[1, 1, 1],\n",
       "        [1, 1, 1],\n",
       "        [1, 1, 1]],\n",
       "\n",
       "       [[1, 1, 1],\n",
       "        [1, 1, 1],\n",
       "        [1, 1, 1]]])"
      ]
     },
     "execution_count": 24,
     "metadata": {},
     "output_type": "execute_result"
    }
   ],
   "source": [
    "np.ones((2,3,3), dtype=int)"
   ]
  },
  {
   "cell_type": "code",
   "execution_count": 25,
   "metadata": {},
   "outputs": [
    {
     "data": {
      "text/plain": [
       "array([[1, 1, 1],\n",
       "       [1, 1, 1]])"
      ]
     },
     "execution_count": 25,
     "metadata": {},
     "output_type": "execute_result"
    }
   ],
   "source": [
    "np.ones_like(a2)"
   ]
  },
  {
   "cell_type": "code",
   "execution_count": 26,
   "metadata": {},
   "outputs": [
    {
     "data": {
      "text/plain": [
       "array([[1., 0., 0.],\n",
       "       [0., 1., 0.],\n",
       "       [0., 0., 1.]])"
      ]
     },
     "execution_count": 26,
     "metadata": {},
     "output_type": "execute_result"
    }
   ],
   "source": [
    "np.eye(3)"
   ]
  },
  {
   "cell_type": "code",
   "execution_count": 29,
   "metadata": {},
   "outputs": [
    {
     "data": {
      "text/plain": [
       "array([ 5. ,  6.2,  7.4,  8.6,  9.8, 11. , 12.2, 13.4, 14.6, 15.8, 17. ])"
      ]
     },
     "execution_count": 29,
     "metadata": {},
     "output_type": "execute_result"
    }
   ],
   "source": [
    "np.linspace(5, 17, 11)"
   ]
  },
  {
   "cell_type": "code",
   "execution_count": 30,
   "metadata": {},
   "outputs": [
    {
     "data": {
      "text/plain": [
       "array([[ 5.        ,  6.09090909,  7.18181818],\n",
       "       [ 8.27272727,  9.36363636, 10.45454545],\n",
       "       [11.54545455, 12.63636364, 13.72727273],\n",
       "       [14.81818182, 15.90909091, 17.        ]])"
      ]
     },
     "execution_count": 30,
     "metadata": {},
     "output_type": "execute_result"
    }
   ],
   "source": [
    "np.linspace(5, 17, 12).reshape(4,3)"
   ]
  },
  {
   "cell_type": "code",
   "execution_count": 32,
   "metadata": {},
   "outputs": [
    {
     "data": {
      "text/plain": [
       "array([ 5. ,  6.5,  8. ,  9.5, 11. ])"
      ]
     },
     "execution_count": 32,
     "metadata": {},
     "output_type": "execute_result"
    }
   ],
   "source": [
    "np.arange(5, 12, 1.5)"
   ]
  },
  {
   "cell_type": "markdown",
   "metadata": {},
   "source": [
    "A central advantage of numpy over regular python lists, apart from the many convenience functions, is speed."
   ]
  },
  {
   "cell_type": "code",
   "execution_count": 41,
   "metadata": {},
   "outputs": [],
   "source": [
    "ints = list(range(1000000))\n",
    "ints_array = np.arange(0, 1000000)"
   ]
  },
  {
   "cell_type": "code",
   "execution_count": 42,
   "metadata": {},
   "outputs": [
    {
     "data": {
      "text/plain": [
       "array([[ 0. ,  0.5,  1. ,  1.5,  2. ,  2.5,  3. ,  3.5],\n",
       "       [ 4. ,  4.5,  5. ,  5.5,  6. ,  6.5,  7. ,  7.5],\n",
       "       [ 8. ,  8.5,  9. ,  9.5, 10. , 10.5, 11. , 11.5],\n",
       "       [12. , 12.5, 13. , 13.5, 14. , 14.5, 15. , 15.5],\n",
       "       [16. , 16.5, 17. , 17.5, 18. , 18.5, 19. , 19.5]])"
      ]
     },
     "execution_count": 42,
     "metadata": {},
     "output_type": "execute_result"
    }
   ],
   "source": [
    "ejemplo=np.arange(0,20,0.5)\n",
    "ejemplo2=ejemplo.reshape(5,8)\n",
    "ejemplo2"
   ]
  },
  {
   "cell_type": "code",
   "execution_count": 43,
   "metadata": {},
   "outputs": [],
   "source": [
    "import math"
   ]
  },
  {
   "cell_type": "code",
   "execution_count": 44,
   "metadata": {},
   "outputs": [
    {
     "name": "stdout",
     "output_type": "stream",
     "text": [
      "340 ms ± 7.28 ms per loop (mean ± std. dev. of 7 runs, 1 loop each)\n"
     ]
    }
   ],
   "source": [
    "%%timeit\n",
    "[ math.sqrt(n) for n in ints ]  "
   ]
  },
  {
   "cell_type": "code",
   "execution_count": 47,
   "metadata": {},
   "outputs": [
    {
     "name": "stdout",
     "output_type": "stream",
     "text": [
      "13 ms ± 69.2 µs per loop (mean ± std. dev. of 7 runs, 100 loops each)\n"
     ]
    }
   ],
   "source": [
    "%%timeit\n",
    "[np.sqrt(ints_array)]"
   ]
  },
  {
   "cell_type": "markdown",
   "metadata": {},
   "source": [
    "And arrays of random variables."
   ]
  },
  {
   "cell_type": "code",
   "execution_count": 62,
   "metadata": {},
   "outputs": [
    {
     "data": {
      "text/plain": [
       "6"
      ]
     },
     "execution_count": 62,
     "metadata": {},
     "output_type": "execute_result"
    }
   ],
   "source": [
    "np.random.randint(5,7)"
   ]
  },
  {
   "cell_type": "code",
   "execution_count": 65,
   "metadata": {},
   "outputs": [
    {
     "data": {
      "text/plain": [
       "array([ 0.10630752,  0.02488164,  1.08896429, -0.74198966, -0.46649712,\n",
       "       -1.35673088, -0.17486512,  0.1686594 ,  0.15572506, -0.90192356])"
      ]
     },
     "execution_count": 65,
     "metadata": {},
     "output_type": "execute_result"
    }
   ],
   "source": [
    "np.random.randn(10)"
   ]
  },
  {
   "cell_type": "code",
   "execution_count": 67,
   "metadata": {},
   "outputs": [
    {
     "data": {
      "text/plain": [
       "array([[-0.06689136,  0.2824594 ,  0.69944037, -0.12357996],\n",
       "       [ 1.16320938, -0.2396136 ,  1.17514696,  1.5106892 ],\n",
       "       [-0.65419958, -0.57370001,  0.37782229,  0.56310761]])"
      ]
     },
     "execution_count": 67,
     "metadata": {},
     "output_type": "execute_result"
    }
   ],
   "source": [
    "np.random.randn(3, 4)"
   ]
  },
  {
   "cell_type": "markdown",
   "metadata": {},
   "source": [
    "#### Exercise\n",
    "\n",
    "Create a sample of points that follow the equation $Y = AX + B$, where A = 2.5 and B = 20.\n",
    "\n",
    "Now, plot it as either a cloud of points or a line."
   ]
  },
  {
   "cell_type": "code",
   "execution_count": 82,
   "metadata": {},
   "outputs": [
    {
     "data": {
      "text/plain": [
       "<matplotlib.collections.PathCollection at 0x7ff8cff7e780>"
      ]
     },
     "execution_count": 82,
     "metadata": {},
     "output_type": "execute_result"
    },
    {
     "data": {
      "image/png": "[encoded data removed]",
      "text/plain": [
       "<Figure size 432x288 with 1 Axes>"
      ]
     },
     "metadata": {
      "needs_background": "light"
     },
     "output_type": "display_data"
    }
   ],
   "source": [
    "xs = np.random.randn(20)\n",
    "ys = 2.5 * xs + 20\n",
    "plt.scatter(xs, ys)"
   ]
  },
  {
   "cell_type": "code",
   "execution_count": 87,
   "metadata": {},
   "outputs": [
    {
     "name": "stdout",
     "output_type": "stream",
     "text": [
      "[-1.63893968 -1.15928752 -1.13185295 -0.70802706 -0.53464499 -0.38290403\n",
      " -0.35821803 -0.35569179 -0.15148618 -0.04526428 -0.02392059  0.04813754\n",
      "  0.11965201  0.20769153  0.4809681   0.51288168  1.06781537  1.19774297\n",
      "  1.48225024  1.70423778]\n"
     ]
    }
   ],
   "source": [
    "xs = np.sort(np.random.randn(20))\n",
    "# xs.sort(axis=-1)\n",
    "print(xs)"
   ]
  },
  {
   "cell_type": "code",
   "execution_count": 108,
   "metadata": {},
   "outputs": [
    {
     "data": {
      "image/png": "[encoded data removed]",
      "text/plain": [
       "<Figure size 432x288 with 1 Axes>"
      ]
     },
     "metadata": {
      "needs_background": "light"
     },
     "output_type": "display_data"
    }
   ],
   "source": [
    "plt.plot(np.sort(np.random.randn(20)), np.sort(np.random.randn(20)))\n",
    "plt.plot(np.linspace(-2,2), np.linspace(-2,2));"
   ]
  },
  {
   "cell_type": "markdown",
   "metadata": {},
   "source": [
    "#### Exercise\n",
    "\n",
    "Represent the logistic, or sigmoid, function between -20 and 20. Remember its formula is:\n",
    "\n",
    "$$\\displaystyle S(x)={\\frac {1}{1+e^{-x}}}={\\frac {e^{x}}{e^{x}+1}}$$\n",
    "\n",
    "_Hint_: you will need an X and a Y to plot against it. \n",
    "\n",
    "_Hint_: check out the function np.exp"
   ]
  },
  {
   "cell_type": "code",
   "execution_count": 89,
   "metadata": {},
   "outputs": [
    {
     "data": {
      "text/plain": [
       "[<matplotlib.lines.Line2D at 0x7ff8cff60588>]"
      ]
     },
     "execution_count": 89,
     "metadata": {},
     "output_type": "execute_result"
    },
    {
     "data": {
      "image/png": "[encoded data removed]",
      "text/plain": [
       "<Figure size 432x288 with 1 Axes>"
      ]
     },
     "metadata": {
      "needs_background": "light"
     },
     "output_type": "display_data"
    }
   ],
   "source": [
    "xs = np.linspace(-20, 20)\n",
    "ys = 1 / (np.exp(-xs) + 1)\n",
    "\n",
    "plt.plot(xs, ys)"
   ]
  },
  {
   "cell_type": "markdown",
   "metadata": {
    "slideshow": {
     "slide_type": "slide"
    }
   },
   "source": [
    "### Indexing\n",
    "\n",
    "![Python slicing](https://infohost.nmt.edu/tcc/help/pubs/python/web/fig/slicing.png)"
   ]
  },
  {
   "cell_type": "code",
   "execution_count": 93,
   "metadata": {},
   "outputs": [
    {
     "data": {
      "text/plain": [
       "array([42. , 23. ,  1.5,  7.2,  9.8])"
      ]
     },
     "execution_count": 93,
     "metadata": {},
     "output_type": "execute_result"
    }
   ],
   "source": [
    "a"
   ]
  },
  {
   "cell_type": "code",
   "execution_count": 94,
   "metadata": {
    "slideshow": {
     "slide_type": "fragment"
    }
   },
   "outputs": [
    {
     "data": {
      "text/plain": [
       "23.0"
      ]
     },
     "execution_count": 94,
     "metadata": {},
     "output_type": "execute_result"
    }
   ],
   "source": [
    "a[1] "
   ]
  },
  {
   "cell_type": "code",
   "execution_count": 95,
   "metadata": {},
   "outputs": [
    {
     "data": {
      "text/plain": [
       "array([[1, 2, 3],\n",
       "       [4, 5, 6]])"
      ]
     },
     "execution_count": 95,
     "metadata": {},
     "output_type": "execute_result"
    }
   ],
   "source": [
    "a2"
   ]
  },
  {
   "cell_type": "code",
   "execution_count": 96,
   "metadata": {},
   "outputs": [
    {
     "data": {
      "text/plain": [
       "array([1, 2, 3])"
      ]
     },
     "execution_count": 96,
     "metadata": {},
     "output_type": "execute_result"
    }
   ],
   "source": [
    "a2[0]  "
   ]
  },
  {
   "cell_type": "code",
   "execution_count": 97,
   "metadata": {},
   "outputs": [
    {
     "data": {
      "text/plain": [
       "2"
      ]
     },
     "execution_count": 97,
     "metadata": {},
     "output_type": "execute_result"
    }
   ],
   "source": [
    "a2[0][1] "
   ]
  },
  {
   "cell_type": "code",
   "execution_count": 98,
   "metadata": {},
   "outputs": [
    {
     "data": {
      "text/plain": [
       "2"
      ]
     },
     "execution_count": 98,
     "metadata": {},
     "output_type": "execute_result"
    }
   ],
   "source": [
    "a2[0,1] "
   ]
  },
  {
   "cell_type": "markdown",
   "metadata": {
    "slideshow": {
     "slide_type": "slide"
    }
   },
   "source": [
    "### Slicing"
   ]
  },
  {
   "cell_type": "code",
   "execution_count": 101,
   "metadata": {},
   "outputs": [
    {
     "data": {
      "text/plain": [
       "array([42. , 23. ,  1.5,  7.2,  9.8])"
      ]
     },
     "execution_count": 101,
     "metadata": {},
     "output_type": "execute_result"
    }
   ],
   "source": [
    "a"
   ]
  },
  {
   "cell_type": "code",
   "execution_count": 102,
   "metadata": {},
   "outputs": [
    {
     "data": {
      "text/plain": [
       "array([7.2, 9.8])"
      ]
     },
     "execution_count": 102,
     "metadata": {},
     "output_type": "execute_result"
    }
   ],
   "source": [
    "a[3:]"
   ]
  },
  {
   "cell_type": "code",
   "execution_count": 103,
   "metadata": {},
   "outputs": [
    {
     "data": {
      "text/plain": [
       "array([42. , 23. ,  1.5])"
      ]
     },
     "execution_count": 103,
     "metadata": {},
     "output_type": "execute_result"
    }
   ],
   "source": [
    "a[:-2]"
   ]
  },
  {
   "cell_type": "code",
   "execution_count": 104,
   "metadata": {},
   "outputs": [
    {
     "data": {
      "text/plain": [
       "array([[1, 2, 3],\n",
       "       [4, 5, 6]])"
      ]
     },
     "execution_count": 104,
     "metadata": {},
     "output_type": "execute_result"
    }
   ],
   "source": [
    "a2"
   ]
  },
  {
   "cell_type": "code",
   "execution_count": 109,
   "metadata": {},
   "outputs": [
    {
     "data": {
      "text/plain": [
       "array([[ 0,  1,  2,  3,  4],\n",
       "       [ 5,  6,  7,  8,  9],\n",
       "       [10, 11, 12, 13, 14],\n",
       "       [15, 16, 17, 18, 19]])"
      ]
     },
     "execution_count": 109,
     "metadata": {},
     "output_type": "execute_result"
    }
   ],
   "source": [
    "a3 = np.arange(20).reshape(4,5)\n",
    "a3"
   ]
  },
  {
   "cell_type": "code",
   "execution_count": 110,
   "metadata": {},
   "outputs": [
    {
     "data": {
      "text/plain": [
       "array([[ 0,  1,  2,  3,  4],\n",
       "       [ 5,  6,  7,  8,  9],\n",
       "       [10, 11, 12, 13, 14]])"
      ]
     },
     "execution_count": 110,
     "metadata": {},
     "output_type": "execute_result"
    }
   ],
   "source": [
    "a3[:3]"
   ]
  },
  {
   "cell_type": "code",
   "execution_count": 111,
   "metadata": {},
   "outputs": [
    {
     "data": {
      "text/plain": [
       "array([[ 2,  3],\n",
       "       [ 7,  8],\n",
       "       [12, 13]])"
      ]
     },
     "execution_count": 111,
     "metadata": {},
     "output_type": "execute_result"
    }
   ],
   "source": [
    "a3[:3, 2:4]"
   ]
  },
  {
   "cell_type": "code",
   "execution_count": 118,
   "metadata": {},
   "outputs": [
    {
     "data": {
      "text/plain": [
       "array([[5, 6, 7, 8, 9]])"
      ]
     },
     "execution_count": 118,
     "metadata": {},
     "output_type": "execute_result"
    }
   ],
   "source": [
    "a3[:3][1:2]"
   ]
  },
  {
   "cell_type": "code",
   "execution_count": 119,
   "metadata": {},
   "outputs": [
    {
     "ename": "IndexError",
     "evalue": "string index out of range",
     "output_type": "error",
     "traceback": [
      "\u001b[0;31m---------------------------------------------------------------------------\u001b[0m",
      "\u001b[0;31mIndexError\u001b[0m                                Traceback (most recent call last)",
      "\u001b[0;32m<ipython-input-119-7a9bcfb556e6>\u001b[0m in \u001b[0;36m<module>\u001b[0;34m\u001b[0m\n\u001b[1;32m      1\u001b[0m \u001b[0mstring\u001b[0m \u001b[0;34m=\u001b[0m \u001b[0;34m'abcdef'\u001b[0m\u001b[0;34m\u001b[0m\u001b[0;34m\u001b[0m\u001b[0m\n\u001b[0;32m----> 2\u001b[0;31m \u001b[0mstring\u001b[0m\u001b[0;34m[\u001b[0m\u001b[0;36m8\u001b[0m\u001b[0;34m]\u001b[0m\u001b[0;34m\u001b[0m\u001b[0;34m\u001b[0m\u001b[0m\n\u001b[0m",
      "\u001b[0;31mIndexError\u001b[0m: string index out of range"
     ]
    }
   ],
   "source": [
    "string = 'abcdef'\n",
    "string[8]"
   ]
  },
  {
   "cell_type": "code",
   "execution_count": 120,
   "metadata": {},
   "outputs": [
    {
     "data": {
      "text/plain": [
       "'def'"
      ]
     },
     "execution_count": 120,
     "metadata": {},
     "output_type": "execute_result"
    }
   ],
   "source": [
    "string[3:10000]"
   ]
  },
  {
   "cell_type": "code",
   "execution_count": 121,
   "metadata": {},
   "outputs": [
    {
     "data": {
      "text/plain": [
       "''"
      ]
     },
     "execution_count": 121,
     "metadata": {},
     "output_type": "execute_result"
    }
   ],
   "source": [
    "string[10:20]"
   ]
  },
  {
   "cell_type": "markdown",
   "metadata": {},
   "source": [
    "a3"
   ]
  },
  {
   "cell_type": "code",
   "execution_count": 124,
   "metadata": {},
   "outputs": [
    {
     "data": {
      "text/plain": [
       "array([[False, False, False, False, False],\n",
       "       [False, False, False, False, False],\n",
       "       [ True,  True,  True,  True,  True],\n",
       "       [ True,  True,  True,  True,  True]])"
      ]
     },
     "execution_count": 124,
     "metadata": {},
     "output_type": "execute_result"
    }
   ],
   "source": [
    "a3 > 9.5"
   ]
  },
  {
   "cell_type": "code",
   "execution_count": 125,
   "metadata": {},
   "outputs": [
    {
     "data": {
      "text/plain": [
       "array([10, 11, 12, 13, 14, 15, 16, 17, 18, 19])"
      ]
     },
     "execution_count": 125,
     "metadata": {},
     "output_type": "execute_result"
    }
   ],
   "source": [
    "a3[a3 > 9.5] "
   ]
  },
  {
   "cell_type": "markdown",
   "metadata": {},
   "source": [
    "#### Exercise\n",
    "\n",
    "Extract from a3 all odd elements.\n",
    "\n",
    "```python\n",
    "a3 = np.arange(20).reshape(4,5)\n",
    "a3\n",
    "\n",
    "array([[ 0,  1,  2,  3,  4],\n",
    "       [ 5,  6,  7,  8,  9],\n",
    "       [10, 11, 12, 13, 14],\n",
    "       [15, 16, 17, 18, 19]])\n",
    "\n",
    "```"
   ]
  },
  {
   "cell_type": "code",
   "execution_count": 129,
   "metadata": {},
   "outputs": [
    {
     "data": {
      "text/plain": [
       "array([[False,  True, False,  True, False],\n",
       "       [ True, False,  True, False,  True],\n",
       "       [False,  True, False,  True, False],\n",
       "       [ True, False,  True, False,  True]])"
      ]
     },
     "execution_count": 129,
     "metadata": {},
     "output_type": "execute_result"
    }
   ],
   "source": [
    "a3 % 2 != 0"
   ]
  },
  {
   "cell_type": "code",
   "execution_count": 130,
   "metadata": {},
   "outputs": [
    {
     "data": {
      "text/plain": [
       "array([ 1,  3,  5,  7,  9, 11, 13, 15, 17, 19])"
      ]
     },
     "execution_count": 130,
     "metadata": {},
     "output_type": "execute_result"
    }
   ],
   "source": [
    "a3[a3 % 2 != 0]"
   ]
  },
  {
   "cell_type": "markdown",
   "metadata": {
    "slideshow": {
     "slide_type": "slide"
    }
   },
   "source": [
    "### Careful with copying!"
   ]
  },
  {
   "cell_type": "code",
   "execution_count": 131,
   "metadata": {},
   "outputs": [
    {
     "data": {
      "text/plain": [
       "array([[ 0,  1,  2,  3,  4],\n",
       "       [ 5,  6,  7,  8,  9],\n",
       "       [10, 11, 12, 13, 14],\n",
       "       [15, 16, 17, 18, 19]])"
      ]
     },
     "execution_count": 131,
     "metadata": {},
     "output_type": "execute_result"
    }
   ],
   "source": [
    "a3"
   ]
  },
  {
   "cell_type": "code",
   "execution_count": 132,
   "metadata": {},
   "outputs": [
    {
     "data": {
      "text/plain": [
       "array([5, 6, 7, 8, 9])"
      ]
     },
     "execution_count": 132,
     "metadata": {},
     "output_type": "execute_result"
    }
   ],
   "source": [
    "b = a3[1]\n",
    "b"
   ]
  },
  {
   "cell_type": "code",
   "execution_count": 133,
   "metadata": {},
   "outputs": [
    {
     "data": {
      "text/plain": [
       "array([ 5,  6, 99,  8,  9])"
      ]
     },
     "execution_count": 133,
     "metadata": {},
     "output_type": "execute_result"
    }
   ],
   "source": [
    "b[2] = 99\n",
    "b"
   ]
  },
  {
   "cell_type": "code",
   "execution_count": 134,
   "metadata": {},
   "outputs": [
    {
     "data": {
      "text/plain": [
       "array([[ 0,  1,  2,  3,  4],\n",
       "       [ 5,  6, 99,  8,  9],\n",
       "       [10, 11, 12, 13, 14],\n",
       "       [15, 16, 17, 18, 19]])"
      ]
     },
     "execution_count": 134,
     "metadata": {},
     "output_type": "execute_result"
    }
   ],
   "source": [
    "a3"
   ]
  },
  {
   "cell_type": "code",
   "execution_count": 139,
   "metadata": {},
   "outputs": [
    {
     "data": {
      "text/plain": [
       "array([    5,     6,    99,     8, 10000])"
      ]
     },
     "execution_count": 139,
     "metadata": {},
     "output_type": "execute_result"
    }
   ],
   "source": [
    "c = a3[1].copy()\n",
    "c[-1] = 10000\n",
    "c"
   ]
  },
  {
   "cell_type": "code",
   "execution_count": 140,
   "metadata": {},
   "outputs": [
    {
     "data": {
      "text/plain": [
       "array([[ 0,  1,  2,  3,  4],\n",
       "       [ 5,  6, 99,  8,  9],\n",
       "       [10, 11, 12, 13, 14],\n",
       "       [15, 16, 17, 18, 19]])"
      ]
     },
     "execution_count": 140,
     "metadata": {},
     "output_type": "execute_result"
    }
   ],
   "source": [
    "a3"
   ]
  },
  {
   "cell_type": "code",
   "execution_count": 141,
   "metadata": {},
   "outputs": [
    {
     "data": {
      "text/plain": [
       "array([ 5,  6, 99,  8,  9])"
      ]
     },
     "execution_count": 141,
     "metadata": {},
     "output_type": "execute_result"
    }
   ],
   "source": [
    "d = a3[1, :]\n",
    "d"
   ]
  },
  {
   "cell_type": "code",
   "execution_count": 143,
   "metadata": {},
   "outputs": [
    {
     "data": {
      "text/plain": [
       "array([[ 0,  1,  2,  3,  4],\n",
       "       [ 5,  6, 99,  8, 78],\n",
       "       [10, 11, 12, 13, 14],\n",
       "       [15, 16, 17, 18, 19]])"
      ]
     },
     "execution_count": 143,
     "metadata": {},
     "output_type": "execute_result"
    }
   ],
   "source": [
    "d[-1] = 78\n",
    "a3"
   ]
  },
  {
   "cell_type": "markdown",
   "metadata": {
    "slideshow": {
     "slide_type": "slide"
    }
   },
   "source": [
    "### Element wise operations"
   ]
  },
  {
   "cell_type": "code",
   "execution_count": 145,
   "metadata": {},
   "outputs": [
    {
     "data": {
      "text/plain": [
       "array([[ 10,  11,  12,  13,  14],\n",
       "       [ 15,  16, 109,  18,  88],\n",
       "       [ 20,  21,  22,  23,  24],\n",
       "       [ 25,  26,  27,  28,  29]])"
      ]
     },
     "execution_count": 145,
     "metadata": {},
     "output_type": "execute_result"
    }
   ],
   "source": [
    "a3 + 10"
   ]
  },
  {
   "cell_type": "code",
   "execution_count": 146,
   "metadata": {},
   "outputs": [
    {
     "data": {
      "text/plain": [
       "array([[   0,  100,  200,  300,  400],\n",
       "       [ 500,  600, 9900,  800, 7800],\n",
       "       [1000, 1100, 1200, 1300, 1400],\n",
       "       [1500, 1600, 1700, 1800, 1900]])"
      ]
     },
     "execution_count": 146,
     "metadata": {},
     "output_type": "execute_result"
    }
   ],
   "source": [
    "a3 * 100"
   ]
  },
  {
   "cell_type": "code",
   "execution_count": 126,
   "metadata": {},
   "outputs": [
    {
     "data": {
      "text/plain": [
       "array([[1.        , 0.5       , 0.33333333, 0.25      , 0.2       ],\n",
       "       [0.16666667, 0.14285714, 0.125     , 0.11111111, 0.1       ],\n",
       "       [0.09090909, 0.08333333, 0.07692308, 0.07142857, 0.06666667],\n",
       "       [0.0625    , 0.05882353, 0.05555556, 0.05263158, 0.05      ]])"
      ]
     },
     "execution_count": 126,
     "metadata": {},
     "output_type": "execute_result"
    }
   ],
   "source": [
    "1 / (a3+1)"
   ]
  },
  {
   "cell_type": "code",
   "execution_count": 127,
   "metadata": {
    "scrolled": true
   },
   "outputs": [
    {
     "name": "stderr",
     "output_type": "stream",
     "text": [
      "/home/dsc/anaconda3/lib/python3.7/site-packages/ipykernel_launcher.py:1: RuntimeWarning: divide by zero encountered in log\n",
      "  \"\"\"Entry point for launching an IPython kernel.\n"
     ]
    },
    {
     "data": {
      "text/plain": [
       "array([[      -inf, 0.        , 0.69314718, 1.09861229, 1.38629436],\n",
       "       [1.60943791, 1.79175947, 1.94591015, 2.07944154, 2.19722458],\n",
       "       [2.30258509, 2.39789527, 2.48490665, 2.56494936, 2.63905733],\n",
       "       [2.7080502 , 2.77258872, 2.83321334, 2.89037176, 2.94443898]])"
      ]
     },
     "execution_count": 127,
     "metadata": {},
     "output_type": "execute_result"
    }
   ],
   "source": [
    "np.log(a3)"
   ]
  },
  {
   "cell_type": "code",
   "execution_count": 128,
   "metadata": {},
   "outputs": [
    {
     "data": {
      "text/plain": [
       "array([[0.        , 0.69314718, 1.09861229, 1.38629436, 1.60943791],\n",
       "       [1.79175947, 1.94591015, 2.07944154, 2.19722458, 2.30258509],\n",
       "       [2.39789527, 2.48490665, 2.56494936, 2.63905733, 2.7080502 ],\n",
       "       [2.77258872, 2.83321334, 2.89037176, 2.94443898, 2.99573227]])"
      ]
     },
     "execution_count": 128,
     "metadata": {},
     "output_type": "execute_result"
    }
   ],
   "source": [
    "np.log(1+a3)"
   ]
  },
  {
   "cell_type": "code",
   "execution_count": 149,
   "metadata": {},
   "outputs": [
    {
     "data": {
      "text/plain": [
       "array([[0.        , 0.69314718, 1.09861229, 1.38629436, 1.60943791],\n",
       "       [1.79175947, 1.94591015, 4.60517019, 2.19722458, 4.36944785],\n",
       "       [2.39789527, 2.48490665, 2.56494936, 2.63905733, 2.7080502 ],\n",
       "       [2.77258872, 2.83321334, 2.89037176, 2.94443898, 2.99573227]])"
      ]
     },
     "execution_count": 149,
     "metadata": {},
     "output_type": "execute_result"
    }
   ],
   "source": [
    "np.log1p(a3)"
   ]
  },
  {
   "cell_type": "code",
   "execution_count": 150,
   "metadata": {},
   "outputs": [
    {
     "data": {
      "text/plain": [
       "array([[ 0.        ,  0.84147098,  0.90929743,  0.14112001, -0.7568025 ],\n",
       "       [-0.95892427, -0.2794155 , -0.99920683,  0.98935825,  0.51397846],\n",
       "       [-0.54402111, -0.99999021, -0.53657292,  0.42016704,  0.99060736],\n",
       "       [ 0.65028784, -0.28790332, -0.96139749, -0.75098725,  0.14987721]])"
      ]
     },
     "execution_count": 150,
     "metadata": {},
     "output_type": "execute_result"
    }
   ],
   "source": [
    "np.sin(a3)"
   ]
  },
  {
   "cell_type": "code",
   "execution_count": 151,
   "metadata": {},
   "outputs": [
    {
     "data": {
      "text/plain": [
       "array([[     0,      1,      8,     27,     64],\n",
       "       [   125,    216, 970299,    512, 474552],\n",
       "       [  1000,   1331,   1728,   2197,   2744],\n",
       "       [  3375,   4096,   4913,   5832,   6859]])"
      ]
     },
     "execution_count": 151,
     "metadata": {},
     "output_type": "execute_result"
    }
   ],
   "source": [
    "a3 ** 3"
   ]
  },
  {
   "cell_type": "code",
   "execution_count": 152,
   "metadata": {},
   "outputs": [
    {
     "data": {
      "text/plain": [
       "array([[   0,    1,    4,    9,   16],\n",
       "       [  25,   36, 9801,   64, 6084],\n",
       "       [ 100,  121,  144,  169,  196],\n",
       "       [ 225,  256,  289,  324,  361]])"
      ]
     },
     "execution_count": 152,
     "metadata": {},
     "output_type": "execute_result"
    }
   ],
   "source": [
    "a3 * a3"
   ]
  },
  {
   "cell_type": "code",
   "execution_count": 153,
   "metadata": {},
   "outputs": [
    {
     "ename": "ValueError",
     "evalue": "operands could not be broadcast together with shapes (4,5) (2,3) ",
     "output_type": "error",
     "traceback": [
      "\u001b[0;31m---------------------------------------------------------------------------\u001b[0m",
      "\u001b[0;31mValueError\u001b[0m                                Traceback (most recent call last)",
      "\u001b[0;32m<ipython-input-153-8b782a413f1a>\u001b[0m in \u001b[0;36m<module>\u001b[0;34m\u001b[0m\n\u001b[0;32m----> 1\u001b[0;31m \u001b[0ma3\u001b[0m \u001b[0;34m*\u001b[0m \u001b[0ma2\u001b[0m\u001b[0;34m\u001b[0m\u001b[0;34m\u001b[0m\u001b[0m\n\u001b[0m",
      "\u001b[0;31mValueError\u001b[0m: operands could not be broadcast together with shapes (4,5) (2,3) "
     ]
    }
   ],
   "source": [
    "a3 * a2"
   ]
  },
  {
   "cell_type": "code",
   "execution_count": 154,
   "metadata": {
    "scrolled": true
   },
   "outputs": [
    {
     "data": {
      "text/plain": [
       "array([[  0,   1,   4,   9,  16],\n",
       "       [  0,   6, 198,  24, 312],\n",
       "       [  0,  11,  24,  39,  56],\n",
       "       [  0,  16,  34,  54,  76]])"
      ]
     },
     "execution_count": 154,
     "metadata": {},
     "output_type": "execute_result"
    }
   ],
   "source": [
    "a3 * np.arange(5)"
   ]
  },
  {
   "cell_type": "code",
   "execution_count": 148,
   "metadata": {
    "scrolled": true
   },
   "outputs": [
    {
     "data": {
      "text/plain": [
       "array([[  0,   1,   4,   9,  16],\n",
       "       [ 25,  36,  49,  64,  81],\n",
       "       [100, 121, 144, 169, 196],\n",
       "       [225, 256, 289, 324, 361]])"
      ]
     },
     "execution_count": 148,
     "metadata": {},
     "output_type": "execute_result"
    }
   ],
   "source": [
    "a3 * np.arange(0,20).reshape(4,5)"
   ]
  },
  {
   "cell_type": "code",
   "execution_count": 149,
   "metadata": {
    "scrolled": true
   },
   "outputs": [
    {
     "data": {
      "text/plain": [
       "array([[ 0,  1,  2,  3,  4],\n",
       "       [ 5,  6,  7,  8,  9],\n",
       "       [10, 11, 12, 13, 14],\n",
       "       [15, 16, 17, 18, 19]])"
      ]
     },
     "execution_count": 149,
     "metadata": {},
     "output_type": "execute_result"
    }
   ],
   "source": [
    "np.arange(0,20).reshape(4,5)"
   ]
  },
  {
   "cell_type": "code",
   "execution_count": 155,
   "metadata": {},
   "outputs": [
    {
     "name": "stdout",
     "output_type": "stream",
     "text": [
      "[[  14   38   62   86  110]\n",
      " [  38  126  214  302  390]\n",
      " [  62  214  366  518  670]\n",
      " [  86  302  518  734  950]\n",
      " [ 110  390  670  950 1230]]\n"
     ]
    }
   ],
   "source": [
    "a4=np.arange(0,20).reshape(5,4)\n",
    "print(a4.dot(a4.transpose()))"
   ]
  },
  {
   "cell_type": "markdown",
   "metadata": {
    "slideshow": {
     "slide_type": "slide"
    }
   },
   "source": [
    "### Matrix operations"
   ]
  },
  {
   "cell_type": "code",
   "execution_count": 155,
   "metadata": {},
   "outputs": [
    {
     "ename": "ValueError",
     "evalue": "shapes (4,5) and (4,5) not aligned: 5 (dim 1) != 4 (dim 0)",
     "output_type": "error",
     "traceback": [
      "\u001b[0;31m---------------------------------------------------------------------------\u001b[0m",
      "\u001b[0;31mValueError\u001b[0m                                Traceback (most recent call last)",
      "\u001b[0;32m<ipython-input-155-8addd2c48075>\u001b[0m in \u001b[0;36m<module>\u001b[0;34m\u001b[0m\n\u001b[0;32m----> 1\u001b[0;31m \u001b[0ma3\u001b[0m\u001b[0;34m.\u001b[0m\u001b[0mdot\u001b[0m\u001b[0;34m(\u001b[0m\u001b[0ma3\u001b[0m\u001b[0;34m)\u001b[0m\u001b[0;34m\u001b[0m\u001b[0;34m\u001b[0m\u001b[0m\n\u001b[0m",
      "\u001b[0;31mValueError\u001b[0m: shapes (4,5) and (4,5) not aligned: 5 (dim 1) != 4 (dim 0)"
     ]
    }
   ],
   "source": [
    "a3.dot(a3)"
   ]
  },
  {
   "cell_type": "code",
   "execution_count": 156,
   "metadata": {},
   "outputs": [
    {
     "data": {
      "text/plain": [
       "array([[ 1.23638553, -1.80179771],\n",
       "       [-1.53279977, -0.27120472],\n",
       "       [-1.21504576, -0.55519966],\n",
       "       [ 2.52094858, -0.3157033 ],\n",
       "       [ 2.21030047, -1.77446833]])"
      ]
     },
     "execution_count": 156,
     "metadata": {},
     "output_type": "execute_result"
    }
   ],
   "source": [
    "a4 = np.random.randn(5,2)\n",
    "a4"
   ]
  },
  {
   "cell_type": "code",
   "execution_count": 157,
   "metadata": {},
   "outputs": [
    {
     "data": {
      "text/plain": [
       "array([[  12.44115635,   -9.42658726],\n",
       "       [  69.26662403, -206.53513903],\n",
       "       [  44.63904692,  -56.61032447],\n",
       "       [  60.7379922 ,  -80.20219308]])"
      ]
     },
     "execution_count": 157,
     "metadata": {},
     "output_type": "execute_result"
    }
   ],
   "source": [
    "a3.dot(a4)"
   ]
  },
  {
   "cell_type": "code",
   "execution_count": 27,
   "metadata": {},
   "outputs": [
    {
     "name": "stdout",
     "output_type": "stream",
     "text": [
      "Help on built-in function dot in module numpy.core.multiarray:\n",
      "\n",
      "dot(...)\n",
      "    dot(a, b, out=None)\n",
      "    \n",
      "    Dot product of two arrays. Specifically,\n",
      "    \n",
      "    - If both `a` and `b` are 1-D arrays, it is inner product of vectors\n",
      "      (without complex conjugation).\n",
      "    \n",
      "    - If both `a` and `b` are 2-D arrays, it is matrix multiplication,\n",
      "      but using :func:`matmul` or ``a @ b`` is preferred.\n",
      "    \n",
      "    - If either `a` or `b` is 0-D (scalar), it is equivalent to :func:`multiply`\n",
      "      and using ``numpy.multiply(a, b)`` or ``a * b`` is preferred.\n",
      "    \n",
      "    - If `a` is an N-D array and `b` is a 1-D array, it is a sum product over\n",
      "      the last axis of `a` and `b`.\n",
      "    \n",
      "    - If `a` is an N-D array and `b` is an M-D array (where ``M>=2``), it is a\n",
      "      sum product over the last axis of `a` and the second-to-last axis of `b`::\n",
      "    \n",
      "        dot(a, b)[i,j,k,m] = sum(a[i,j,:] * b[k,:,m])\n",
      "    \n",
      "    Parameters\n",
      "    ----------\n",
      "    a : array_like\n",
      "        First argument.\n",
      "    b : array_like\n",
      "        Second argument.\n",
      "    out : ndarray, optional\n",
      "        Output argument. This must have the exact kind that would be returned\n",
      "        if it was not used. In particular, it must have the right type, must be\n",
      "        C-contiguous, and its dtype must be the dtype that would be returned\n",
      "        for `dot(a,b)`. This is a performance feature. Therefore, if these\n",
      "        conditions are not met, an exception is raised, instead of attempting\n",
      "        to be flexible.\n",
      "    \n",
      "    Returns\n",
      "    -------\n",
      "    output : ndarray\n",
      "        Returns the dot product of `a` and `b`.  If `a` and `b` are both\n",
      "        scalars or both 1-D arrays then a scalar is returned; otherwise\n",
      "        an array is returned.\n",
      "        If `out` is given, then it is returned.\n",
      "    \n",
      "    Raises\n",
      "    ------\n",
      "    ValueError\n",
      "        If the last dimension of `a` is not the same size as\n",
      "        the second-to-last dimension of `b`.\n",
      "    \n",
      "    See Also\n",
      "    --------\n",
      "    vdot : Complex-conjugating dot product.\n",
      "    tensordot : Sum products over arbitrary axes.\n",
      "    einsum : Einstein summation convention.\n",
      "    matmul : '@' operator as method with out parameter.\n",
      "    \n",
      "    Examples\n",
      "    --------\n",
      "    >>> np.dot(3, 4)\n",
      "    12\n",
      "    \n",
      "    Neither argument is complex-conjugated:\n",
      "    \n",
      "    >>> np.dot([2j, 3j], [2j, 3j])\n",
      "    (-13+0j)\n",
      "    \n",
      "    For 2-D arrays it is the matrix product:\n",
      "    \n",
      "    >>> a = [[1, 0], [0, 1]]\n",
      "    >>> b = [[4, 1], [2, 2]]\n",
      "    >>> np.dot(a, b)\n",
      "    array([[4, 1],\n",
      "           [2, 2]])\n",
      "    \n",
      "    >>> a = np.arange(3*4*5*6).reshape((3,4,5,6))\n",
      "    >>> b = np.arange(3*4*5*6)[::-1].reshape((5,4,6,3))\n",
      "    >>> np.dot(a, b)[2,3,2,1,2,2]\n",
      "    499128\n",
      "    >>> sum(a[2,3,2,:] * b[1,2,:,2])\n",
      "    499128\n",
      "\n"
     ]
    }
   ],
   "source": [
    "help(np.dot)"
   ]
  },
  {
   "cell_type": "code",
   "execution_count": 159,
   "metadata": {
    "scrolled": true
   },
   "outputs": [
    {
     "data": {
      "text/plain": [
       "array([[ 0,  5, 10, 15],\n",
       "       [ 1,  6, 11, 16],\n",
       "       [ 2, 99, 12, 17],\n",
       "       [ 3,  8, 13, 18],\n",
       "       [ 4, 78, 14, 19]])"
      ]
     },
     "execution_count": 159,
     "metadata": {},
     "output_type": "execute_result"
    }
   ],
   "source": [
    "a3.transpose()"
   ]
  },
  {
   "cell_type": "code",
   "execution_count": 156,
   "metadata": {
    "scrolled": true
   },
   "outputs": [
    {
     "data": {
      "text/plain": [
       "array([ 0,  1,  2,  3,  4,  5,  6,  7,  8,  9, 10, 11, 12, 13, 14, 15, 16,\n",
       "       17, 18, 19])"
      ]
     },
     "execution_count": 156,
     "metadata": {},
     "output_type": "execute_result"
    }
   ],
   "source": [
    "a3.flatten()"
   ]
  },
  {
   "cell_type": "code",
   "execution_count": 160,
   "metadata": {
    "slideshow": {
     "slide_type": "fragment"
    }
   },
   "outputs": [
    {
     "data": {
      "text/plain": [
       "array([[   30,   540,   130,   180],\n",
       "       [  540, 16010,  2500,  3480],\n",
       "       [  130,  2500,   730,  1030],\n",
       "       [  180,  3480,  1030,  1455]])"
      ]
     },
     "execution_count": 160,
     "metadata": {},
     "output_type": "execute_result"
    }
   ],
   "source": [
    "a3.dot(a3.transpose())"
   ]
  },
  {
   "cell_type": "code",
   "execution_count": 159,
   "metadata": {},
   "outputs": [
    {
     "data": {
      "text/plain": [
       "array([[ 0,  1,  2,  3,  4],\n",
       "       [ 5,  6,  7,  8,  9],\n",
       "       [10, 11, 12, 13, 14],\n",
       "       [15, 16, 17, 18, 19]])"
      ]
     },
     "execution_count": 159,
     "metadata": {},
     "output_type": "execute_result"
    }
   ],
   "source": [
    "a3"
   ]
  },
  {
   "cell_type": "code",
   "execution_count": 160,
   "metadata": {},
   "outputs": [
    {
     "data": {
      "text/plain": [
       "190"
      ]
     },
     "execution_count": 160,
     "metadata": {},
     "output_type": "execute_result"
    }
   ],
   "source": [
    "(a3).sum()"
   ]
  },
  {
   "cell_type": "code",
   "execution_count": 169,
   "metadata": {},
   "outputs": [
    {
     "data": {
      "text/plain": [
       "array([  0,   1,   3,   6,  10,  15,  21, 120, 128, 206, 216, 227, 239,\n",
       "       252, 266, 281, 297, 314, 332, 351])"
      ]
     },
     "execution_count": 169,
     "metadata": {},
     "output_type": "execute_result"
    }
   ],
   "source": [
    "a3.cumsum()"
   ]
  },
  {
   "cell_type": "code",
   "execution_count": 161,
   "metadata": {},
   "outputs": [
    {
     "data": {
      "text/plain": [
       "array([[ 0,  1,  2,  3,  4],\n",
       "       [ 5,  7,  9, 11, 13],\n",
       "       [15, 18, 21, 24, 27],\n",
       "       [30, 34, 38, 42, 46]])"
      ]
     },
     "execution_count": 161,
     "metadata": {},
     "output_type": "execute_result"
    }
   ],
   "source": [
    "a3.cumsum(axis=0)"
   ]
  },
  {
   "cell_type": "code",
   "execution_count": 171,
   "metadata": {},
   "outputs": [
    {
     "data": {
      "text/plain": [
       "array([[ 0,  1,  2,  3,  4],\n",
       "       [ 5,  6, 99,  8, 78],\n",
       "       [10, 11, 12, 13, 14],\n",
       "       [15, 16, 17, 18, 19]])"
      ]
     },
     "execution_count": 171,
     "metadata": {},
     "output_type": "execute_result"
    }
   ],
   "source": [
    "a3"
   ]
  },
  {
   "cell_type": "code",
   "execution_count": 162,
   "metadata": {},
   "outputs": [
    {
     "data": {
      "text/plain": [
       "array([[   0,    1,    2,    3,    4],\n",
       "       [   0,    6,   14,   24,   36],\n",
       "       [   0,   66,  168,  312,  504],\n",
       "       [   0, 1056, 2856, 5616, 9576]])"
      ]
     },
     "execution_count": 162,
     "metadata": {},
     "output_type": "execute_result"
    }
   ],
   "source": [
    "a3.cumprod(axis=0)"
   ]
  },
  {
   "cell_type": "markdown",
   "metadata": {
    "slideshow": {
     "slide_type": "slide"
    }
   },
   "source": [
    "### `ndarray` vs matrix"
   ]
  },
  {
   "cell_type": "code",
   "execution_count": 164,
   "metadata": {},
   "outputs": [
    {
     "data": {
      "text/plain": [
       "matrix([[ 0,  1,  2,  3,  4],\n",
       "        [ 5,  6, 99,  8, 78],\n",
       "        [10, 11, 12, 13, 14],\n",
       "        [15, 16, 17, 18, 19]])"
      ]
     },
     "execution_count": 164,
     "metadata": {},
     "output_type": "execute_result"
    }
   ],
   "source": [
    "mat3 = np.mat(a3)\n",
    "\n",
    "mat3"
   ]
  },
  {
   "cell_type": "markdown",
   "metadata": {
    "slideshow": {
     "slide_type": "slide"
    }
   },
   "source": [
    "### Linear Algebra\n",
    "\n",
    "http://docs.scipy.org/doc/numpy-1.10.0/reference/routines.linalg.html"
   ]
  },
  {
   "cell_type": "code",
   "execution_count": 165,
   "metadata": {
    "slideshow": {
     "slide_type": "fragment"
    }
   },
   "outputs": [
    {
     "name": "stdout",
     "output_type": "stream",
     "text": [
      "Help on package numpy.linalg in numpy:\n",
      "\n",
      "NAME\n",
      "    numpy.linalg\n",
      "\n",
      "DESCRIPTION\n",
      "    Core Linear Algebra Tools\n",
      "    -------------------------\n",
      "    Linear algebra basics:\n",
      "    \n",
      "    - norm            Vector or matrix norm\n",
      "    - inv             Inverse of a square matrix\n",
      "    - solve           Solve a linear system of equations\n",
      "    - det             Determinant of a square matrix\n",
      "    - lstsq           Solve linear least-squares problem\n",
      "    - pinv            Pseudo-inverse (Moore-Penrose) calculated using a singular\n",
      "                      value decomposition\n",
      "    - matrix_power    Integer power of a square matrix\n",
      "    \n",
      "    Eigenvalues and decompositions:\n",
      "    \n",
      "    - eig             Eigenvalues and vectors of a square matrix\n",
      "    - eigh            Eigenvalues and eigenvectors of a Hermitian matrix\n",
      "    - eigvals         Eigenvalues of a square matrix\n",
      "    - eigvalsh        Eigenvalues of a Hermitian matrix\n",
      "    - qr              QR decomposition of a matrix\n",
      "    - svd             Singular value decomposition of a matrix\n",
      "    - cholesky        Cholesky decomposition of a matrix\n",
      "    \n",
      "    Tensor operations:\n",
      "    \n",
      "    - tensorsolve     Solve a linear tensor equation\n",
      "    - tensorinv       Calculate an inverse of a tensor\n",
      "    \n",
      "    Exceptions:\n",
      "    \n",
      "    - LinAlgError     Indicates a failed linear algebra operation\n",
      "\n",
      "PACKAGE CONTENTS\n",
      "    _umath_linalg\n",
      "    info\n",
      "    lapack_lite\n",
      "    linalg\n",
      "    setup\n",
      "    tests (package)\n",
      "\n",
      "DATA\n",
      "    absolute_import = _Feature((2, 5, 0, 'alpha', 1), (3, 0, 0, 'alpha', 0...\n",
      "    division = _Feature((2, 2, 0, 'alpha', 2), (3, 0, 0, 'alpha', 0), 8192...\n",
      "    print_function = _Feature((2, 6, 0, 'alpha', 2), (3, 0, 0, 'alpha', 0)...\n",
      "    test = <numpy.testing._private.pytesttester.PytestTester object>\n",
      "\n",
      "FILE\n",
      "    /home/dsc/anaconda3/lib/python3.7/site-packages/numpy/linalg/__init__.py\n",
      "\n",
      "\n"
     ]
    }
   ],
   "source": [
    "import numpy.linalg as la\n",
    "\n",
    "help(la)"
   ]
  },
  {
   "cell_type": "markdown",
   "metadata": {
    "slideshow": {
     "slide_type": "slide"
    }
   },
   "source": [
    "### Trace, determinant and inverse"
   ]
  },
  {
   "cell_type": "code",
   "execution_count": 173,
   "metadata": {},
   "outputs": [
    {
     "data": {
      "text/plain": [
       "array([[ 2,  3,  4,  5,  6],\n",
       "       [ 7,  8,  9, 10, 11],\n",
       "       [12, 13, 14, 15, 16],\n",
       "       [17, 18, 19, 20, 21]])"
      ]
     },
     "execution_count": 173,
     "metadata": {},
     "output_type": "execute_result"
    }
   ],
   "source": [
    "a3=a3+1\n",
    "a3"
   ]
  },
  {
   "cell_type": "code",
   "execution_count": 174,
   "metadata": {
    "slideshow": {
     "slide_type": "fragment"
    }
   },
   "outputs": [
    {
     "data": {
      "text/plain": [
       "44"
      ]
     },
     "execution_count": 174,
     "metadata": {},
     "output_type": "execute_result"
    }
   ],
   "source": [
    "np.trace(a3)"
   ]
  },
  {
   "cell_type": "code",
   "execution_count": 175,
   "metadata": {},
   "outputs": [
    {
     "data": {
      "text/plain": [
       "-2.218671295934113e-29"
      ]
     },
     "execution_count": 175,
     "metadata": {},
     "output_type": "execute_result"
    }
   ],
   "source": [
    "la.det(a3[:,:4])"
   ]
  },
  {
   "cell_type": "code",
   "execution_count": 176,
   "metadata": {},
   "outputs": [
    {
     "data": {
      "text/plain": [
       "-2.218671295934113e-29"
      ]
     },
     "execution_count": 176,
     "metadata": {},
     "output_type": "execute_result"
    }
   ],
   "source": [
    "la.det(a3[:,:4])"
   ]
  },
  {
   "cell_type": "code",
   "execution_count": 177,
   "metadata": {},
   "outputs": [
    {
     "data": {
      "text/plain": [
       "array([[ 1.00079992e+15, -1.12589991e+15, -7.50599938e+14,\n",
       "         8.75699928e+14],\n",
       "       [-1.80143985e+15,  2.25179981e+15,  9.00719925e+14,\n",
       "        -1.35107989e+15],\n",
       "       [ 6.00479950e+14, -1.12589991e+15,  4.50359963e+14,\n",
       "         7.50599938e+13],\n",
       "       [ 2.00159983e+14, -0.00000000e+00, -6.00479950e+14,\n",
       "         4.00319967e+14]])"
      ]
     },
     "execution_count": 177,
     "metadata": {},
     "output_type": "execute_result"
    }
   ],
   "source": [
    "la.inv(a3[:,:4])"
   ]
  },
  {
   "cell_type": "code",
   "execution_count": 178,
   "metadata": {},
   "outputs": [
    {
     "data": {
      "text/plain": [
       "array([[ 0.64666699, -0.59072483, -1.07786898],\n",
       "       [-0.41516563, -0.50631529,  1.08154862],\n",
       "       [ 0.21761891,  1.06249379,  0.63582281]])"
      ]
     },
     "execution_count": 178,
     "metadata": {},
     "output_type": "execute_result"
    }
   ],
   "source": [
    "square = np.random.randn(3,3)\n",
    "square"
   ]
  },
  {
   "cell_type": "code",
   "execution_count": 179,
   "metadata": {},
   "outputs": [
    {
     "data": {
      "text/plain": [
       "-0.8895643072585274"
      ]
     },
     "execution_count": 179,
     "metadata": {},
     "output_type": "execute_result"
    }
   ],
   "source": [
    "la.det(square)"
   ]
  },
  {
   "cell_type": "code",
   "execution_count": 180,
   "metadata": {},
   "outputs": [
    {
     "data": {
      "text/plain": [
       "array([[ 1.00000000e+00,  0.00000000e+00,  3.33066907e-16],\n",
       "       [-6.93889390e-17,  1.00000000e+00,  2.49800181e-16],\n",
       "       [ 0.00000000e+00, -1.11022302e-16,  1.00000000e+00]])"
      ]
     },
     "execution_count": 180,
     "metadata": {},
     "output_type": "execute_result"
    }
   ],
   "source": [
    "la.inv(square).dot(square)"
   ]
  },
  {
   "cell_type": "markdown",
   "metadata": {
    "slideshow": {
     "slide_type": "slide"
    }
   },
   "source": [
    "#### Exercise\n",
    "\n",
    "In a chicken and rabbit farm, there are 35 heads and 94 legs. How many chickens and how many rabbits do we have?\n",
    "\n"
   ]
  },
  {
   "cell_type": "markdown",
   "metadata": {
    "slideshow": {
     "slide_type": "fragment"
    }
   },
   "source": [
    "Remember:\n",
    "\n",
    "$$A \\cdot X = B$$\n",
    "\n",
    "$$A^{-1} \\cdot A \\cdot X = I \\cdot X = A^{-1} \\cdot B$$\n",
    "\n",
    "$$X = A^{-1} \\cdot B$$"
   ]
  },
  {
   "cell_type": "markdown",
   "metadata": {
    "slideshow": {
     "slide_type": "fragment"
    }
   },
   "source": [
    "Remember: for every number $n$\n",
    "\n",
    "$$A \\cdot X = B$$\n",
    "\n",
    "$$A^{-1} \\cdot A \\cdot X = I \\cdot X = A^{-1} \\cdot B$$\n",
    "\n",
    "$$X = A^{-1} \\cdot B$$\n",
    "\n",
    "\\* The language I've used to represent this formula is [$\\LaTeX$](https://www.latex-project.org/). It's used to typeset all kinds of things from cvs to scientific articles to books. You can find a quick introduction [here](https://www.cs.princeton.edu/courses/archive/spr10/cos433/Latex/latex-guide.pdf). Almost everything you need to know to write equations in the notebook is on pages 4,5 and 6 of that pdf."
   ]
  },
  {
   "cell_type": "markdown",
   "metadata": {},
   "source": [
    "Example:\n",
    "\n",
    "$A^x A_i A^-1$"
   ]
  },
  {
   "cell_type": "code",
   "execution_count": 182,
   "metadata": {},
   "outputs": [
    {
     "data": {
      "text/plain": [
       "array([1, 2])"
      ]
     },
     "execution_count": 182,
     "metadata": {},
     "output_type": "execute_result"
    }
   ],
   "source": [
    "np.array([1,2])"
   ]
  },
  {
   "cell_type": "code",
   "execution_count": 5,
   "metadata": {
    "slideshow": {
     "slide_type": "slide"
    }
   },
   "outputs": [
    {
     "data": {
      "text/plain": [
       "array([12, 23])"
      ]
     },
     "execution_count": 5,
     "metadata": {},
     "output_type": "execute_result"
    }
   ],
   "source": [
    "A = np.array([[1,1], [4,2]])\n",
    "B = np.array([35, 94])\n",
    "la.inv(A).dot(B).astype(int)"
   ]
  },
  {
   "cell_type": "markdown",
   "metadata": {
    "slideshow": {
     "slide_type": "slide"
    }
   },
   "source": [
    "## A Linear Regression example with numpy\n",
    "\n",
    "Now, we are ready to implement our own linear regression example. "
   ]
  },
  {
   "cell_type": "markdown",
   "metadata": {
    "slideshow": {
     "slide_type": "fragment"
    }
   },
   "source": [
    "In linear regression, our hypothesis function $h_\\theta$ is:\n",
    "\n",
    "$$h_\\theta(x) = \\theta_0 + \\theta_1x$$"
   ]
  },
  {
   "cell_type": "markdown",
   "metadata": {
    "slideshow": {
     "slide_type": "fragment"
    }
   },
   "source": [
    "And, as we are doing regression, our cost function is: \n",
    "\n",
    "$$J(\\theta_0,\\theta_1) = \\frac{1}{m}\\sum_{i=1}^m(\\hat{y}_i-y_i)^2 = \\frac{1}{m}\\sum_{i=1}^m(h_\\theta(x_i)-y_i)^2 $$"
   ]
  },
  {
   "cell_type": "markdown",
   "metadata": {
    "slideshow": {
     "slide_type": "slide"
    }
   },
   "source": [
    "### Generate dummy data"
   ]
  },
  {
   "cell_type": "code",
   "execution_count": null,
   "metadata": {
    "slideshow": {
     "slide_type": "fragment"
    }
   },
   "outputs": [],
   "source": []
  },
  {
   "cell_type": "markdown",
   "metadata": {
    "slideshow": {
     "slide_type": "fragment"
    }
   },
   "source": [
    "That is the spread that we will try to aproximate with our line."
   ]
  },
  {
   "cell_type": "markdown",
   "metadata": {
    "slideshow": {
     "slide_type": "slide"
    }
   },
   "source": [
    "### Write the cost function"
   ]
  },
  {
   "cell_type": "code",
   "execution_count": null,
   "metadata": {},
   "outputs": [],
   "source": []
  },
  {
   "cell_type": "markdown",
   "metadata": {
    "slideshow": {
     "slide_type": "slide"
    }
   },
   "source": [
    "### Gradient descent"
   ]
  },
  {
   "cell_type": "markdown",
   "metadata": {
    "slideshow": {
     "slide_type": "fragment"
    }
   },
   "source": [
    "Remember, we have to descend in the direction of the steepest gradient. For that, we need to now what direction the gradient points!"
   ]
  },
  {
   "cell_type": "markdown",
   "metadata": {
    "slideshow": {
     "slide_type": "fragment"
    }
   },
   "source": [
    "### Partial differentials of the cost function\n",
    "\n",
    "$$\\frac{\\partial}{\\partial\\theta_0} = \\frac{1}{m}\\sum_{i=1}^m(h_\\theta(x_i)-y_i)$$\n",
    "\n",
    "$$\\frac{\\partial}{\\partial\\theta_1} = \\frac{1}{m}\\sum_{i=1}^m(h_\\theta(x_i)-y_i) \\cdot x_i$$"
   ]
  },
  {
   "cell_type": "code",
   "execution_count": null,
   "metadata": {
    "collapsed": true,
    "slideshow": {
     "slide_type": "fragment"
    }
   },
   "outputs": [],
   "source": []
  },
  {
   "cell_type": "markdown",
   "metadata": {
    "slideshow": {
     "slide_type": "slide"
    }
   },
   "source": [
    "### Implementing gradient descent\n",
    "\n",
    "Now we are ready to implement the actual gradient descent. Remember, the algorithm is:\n",
    "\n",
    "- Initialize variables\n",
    "\n",
    "- Compute cost function\n",
    "\n",
    "- Compute gradients\n",
    "\n",
    "- Update variables: gradient times learning rate (alpha)\n",
    "\n",
    "- Repeat until convergence: cost at iteration n-1 $\\sim$ cost at iteration n"
   ]
  },
  {
   "cell_type": "code",
   "execution_count": null,
   "metadata": {
    "collapsed": true,
    "slideshow": {
     "slide_type": "slide"
    }
   },
   "outputs": [],
   "source": []
  },
  {
   "cell_type": "markdown",
   "metadata": {
    "slideshow": {
     "slide_type": "slide"
    }
   },
   "source": [
    "#### Exercise for home\n",
    "\n",
    "Fix our linear regression so that it can find $\\theta_0$ in a reasonable length of time. What can be the problem?"
   ]
  },
  {
   "cell_type": "code",
   "execution_count": null,
   "metadata": {
    "collapsed": true
   },
   "outputs": [],
   "source": []
  },
  {
   "cell_type": "markdown",
   "metadata": {
    "slideshow": {
     "slide_type": "slide"
    }
   },
   "source": [
    "  "
   ]
  },
  {
   "cell_type": "markdown",
   "metadata": {
    "slideshow": {
     "slide_type": "slide"
    }
   },
   "source": [
    "## `pandas`"
   ]
  },
  {
   "cell_type": "markdown",
   "metadata": {
    "slideshow": {
     "slide_type": "fragment"
    }
   },
   "source": [
    "### Getting started with pandas"
   ]
  },
  {
   "cell_type": "code",
   "execution_count": 7,
   "metadata": {
    "slideshow": {
     "slide_type": "fragment"
    }
   },
   "outputs": [
    {
     "data": {
      "text/plain": [
       "<module 'pandas' from '/home/dsc/anaconda3/lib/python3.7/site-packages/pandas/__init__.py'>"
      ]
     },
     "execution_count": 7,
     "metadata": {},
     "output_type": "execute_result"
    }
   ],
   "source": [
    "import pandas as pd\n",
    "\n",
    "pd"
   ]
  },
  {
   "cell_type": "markdown",
   "metadata": {
    "slideshow": {
     "slide_type": "slide"
    }
   },
   "source": [
    "### `pandas` data structures"
   ]
  },
  {
   "cell_type": "markdown",
   "metadata": {
    "slideshow": {
     "slide_type": "fragment"
    }
   },
   "source": [
    "### Series\n",
    "\n",
    "The base pandas abstraction. You can thing of it as the love child of a numpy array and a dictionary."
   ]
  },
  {
   "cell_type": "code",
   "execution_count": 203,
   "metadata": {
    "slideshow": {
     "slide_type": "fragment"
    }
   },
   "outputs": [
    {
     "data": {
      "text/plain": [
       "0    4\n",
       "1    2\n",
       "2    2\n",
       "3    3\n",
       "4    8\n",
       "5    1\n",
       "dtype: int64"
      ]
     },
     "execution_count": 203,
     "metadata": {},
     "output_type": "execute_result"
    }
   ],
   "source": [
    "series = pd.Series([4, 2, 2, 3, 8, 1])\n",
    "series"
   ]
  },
  {
   "cell_type": "markdown",
   "metadata": {},
   "source": [
    "If we provide an index, pandas will use it. If not, it will automatically create one."
   ]
  },
  {
   "cell_type": "code",
   "execution_count": 189,
   "metadata": {},
   "outputs": [
    {
     "data": {
      "text/plain": [
       "a    4\n",
       "b    2\n",
       "c    2\n",
       "d    3\n",
       "e    8\n",
       "f    1\n",
       "dtype: int64"
      ]
     },
     "execution_count": 189,
     "metadata": {},
     "output_type": "execute_result"
    }
   ],
   "source": [
    "series = pd.Series([4, 2, 2, 3, 8, 1], index = list('abcdef'))\n",
    "series"
   ]
  },
  {
   "cell_type": "code",
   "execution_count": 208,
   "metadata": {},
   "outputs": [
    {
     "data": {
      "text/plain": [
       "array([4, 2, 2, 3, 8, 1])"
      ]
     },
     "execution_count": 208,
     "metadata": {},
     "output_type": "execute_result"
    }
   ],
   "source": [
    "series.values"
   ]
  },
  {
   "cell_type": "code",
   "execution_count": 209,
   "metadata": {},
   "outputs": [
    {
     "data": {
      "text/plain": [
       "Index(['a', 'b', 'c', 'd', 'e', 'f'], dtype='object')"
      ]
     },
     "execution_count": 209,
     "metadata": {},
     "output_type": "execute_result"
    }
   ],
   "source": [
    "series.index"
   ]
  },
  {
   "cell_type": "code",
   "execution_count": 212,
   "metadata": {},
   "outputs": [
    {
     "data": {
      "text/plain": [
       "2"
      ]
     },
     "execution_count": 212,
     "metadata": {},
     "output_type": "execute_result"
    }
   ],
   "source": [
    "series['c']"
   ]
  },
  {
   "cell_type": "code",
   "execution_count": 213,
   "metadata": {},
   "outputs": [
    {
     "data": {
      "text/plain": [
       "a    16\n",
       "b     4\n",
       "c     4\n",
       "d     9\n",
       "e    64\n",
       "f     1\n",
       "dtype: int64"
      ]
     },
     "execution_count": 213,
     "metadata": {},
     "output_type": "execute_result"
    }
   ],
   "source": [
    "series ** 2"
   ]
  },
  {
   "cell_type": "code",
   "execution_count": 214,
   "metadata": {},
   "outputs": [
    {
     "data": {
      "text/plain": [
       "a    14\n",
       "b    12\n",
       "c    12\n",
       "d    13\n",
       "e    18\n",
       "f    11\n",
       "dtype: int64"
      ]
     },
     "execution_count": 214,
     "metadata": {},
     "output_type": "execute_result"
    }
   ],
   "source": [
    "series + 10"
   ]
  },
  {
   "cell_type": "code",
   "execution_count": 215,
   "metadata": {},
   "outputs": [
    {
     "data": {
      "text/plain": [
       "a     True\n",
       "b     True\n",
       "c     True\n",
       "d    False\n",
       "e     True\n",
       "f    False\n",
       "dtype: bool"
      ]
     },
     "execution_count": 215,
     "metadata": {},
     "output_type": "execute_result"
    }
   ],
   "source": [
    "series % 2 == 0"
   ]
  },
  {
   "cell_type": "code",
   "execution_count": 216,
   "metadata": {
    "scrolled": true
   },
   "outputs": [
    {
     "data": {
      "text/plain": [
       "a      54.598150\n",
       "b       7.389056\n",
       "c       7.389056\n",
       "d      20.085537\n",
       "e    2980.957987\n",
       "f       2.718282\n",
       "dtype: float64"
      ]
     },
     "execution_count": 216,
     "metadata": {},
     "output_type": "execute_result"
    }
   ],
   "source": [
    "np.exp(series)"
   ]
  },
  {
   "cell_type": "code",
   "execution_count": 194,
   "metadata": {},
   "outputs": [
    {
     "data": {
      "text/plain": [
       "3    [4, 2, 2]\n",
       "8    [4, 2, 2]\n",
       "1    [4, 2, 2]\n",
       "dtype: object"
      ]
     },
     "execution_count": 194,
     "metadata": {},
     "output_type": "execute_result"
    }
   ],
   "source": [
    "series = pd.Series([[4, 2, 2], [4, 2, 2], [4, 2, 2]], index=[3, 8, 1])\n",
    "series"
   ]
  },
  {
   "cell_type": "markdown",
   "metadata": {},
   "source": [
    "We can create Series from dictionaries:"
   ]
  },
  {
   "cell_type": "code",
   "execution_count": 195,
   "metadata": {},
   "outputs": [
    {
     "data": {
      "text/plain": [
       "Madrid       3000000.0\n",
       "Barcelona    1600000.0\n",
       "Valencia     1000000.0\n",
       "dtype: float64"
      ]
     },
     "execution_count": 195,
     "metadata": {},
     "output_type": "execute_result"
    }
   ],
   "source": [
    "data = {'Madrid' : 3e6, 'Barcelona' : 1.6e6, 'Valencia' : 1e6}\n",
    "pops = pd.Series(data)\n",
    "pops"
   ]
  },
  {
   "cell_type": "markdown",
   "metadata": {},
   "source": [
    "And here is where the magic happens: numpy arrays only identify their contents by position. In contrast, pandas knows their \"name\" and will align them based on their indexes:"
   ]
  },
  {
   "cell_type": "code",
   "execution_count": 196,
   "metadata": {},
   "outputs": [
    {
     "data": {
      "text/plain": [
       "Madrid       30000.0\n",
       "Barcelona    16000.0\n",
       "Valencia     12000.0\n",
       "Calatayud     2000.0\n",
       "dtype: float64"
      ]
     },
     "execution_count": 196,
     "metadata": {},
     "output_type": "execute_result"
    }
   ],
   "source": [
    "increases = pd.Series({'Madrid' : 3e4, \n",
    "                       'Barcelona' : 1.6e4, \n",
    "                       'Valencia' : 1.2e4, \n",
    "                       'Calatayud' : 2e3})\n",
    "increases"
   ]
  },
  {
   "cell_type": "code",
   "execution_count": 12,
   "metadata": {},
   "outputs": [
    {
     "data": {
      "text/plain": [
       "0    2\n",
       "1    3\n",
       "2    4\n",
       "3    5\n",
       "dtype: int64"
      ]
     },
     "execution_count": 12,
     "metadata": {},
     "output_type": "execute_result"
    }
   ],
   "source": [
    "chorrada=pd.Series([2,3,4,5])\n",
    "\n",
    "chorrada"
   ]
  },
  {
   "cell_type": "code",
   "execution_count": 13,
   "metadata": {},
   "outputs": [
    {
     "data": {
      "text/plain": [
       "4    2\n",
       "5    3\n",
       "6    4\n",
       "7    5\n",
       "dtype: int64"
      ]
     },
     "execution_count": 13,
     "metadata": {},
     "output_type": "execute_result"
    }
   ],
   "source": [
    "chorrada=pd.Series([2,3,4,5], index=(4,5,6,7))\n",
    "\n",
    "chorrada"
   ]
  },
  {
   "cell_type": "code",
   "execution_count": 14,
   "metadata": {
    "scrolled": true
   },
   "outputs": [
    {
     "data": {
      "text/plain": [
       "4    2\n",
       "5    3\n",
       "6    4\n",
       "7    5\n",
       "dtype: int64"
      ]
     },
     "execution_count": 14,
     "metadata": {},
     "output_type": "execute_result"
    }
   ],
   "source": [
    "chorrada=pd.Series((2,3,4,5), index=(4,5,6,7))\n",
    "\n",
    "chorrada"
   ]
  },
  {
   "cell_type": "code",
   "execution_count": 197,
   "metadata": {},
   "outputs": [
    {
     "ename": "ValueError",
     "evalue": "operands could not be broadcast together with shapes (3,) (4,) ",
     "output_type": "error",
     "traceback": [
      "\u001b[0;31m---------------------------------------------------------------------------\u001b[0m",
      "\u001b[0;31mValueError\u001b[0m                                Traceback (most recent call last)",
      "\u001b[0;32m<ipython-input-197-8160b14ab89a>\u001b[0m in \u001b[0;36m<module>\u001b[0;34m\u001b[0m\n\u001b[0;32m----> 1\u001b[0;31m \u001b[0mpops\u001b[0m\u001b[0;34m.\u001b[0m\u001b[0mvalues\u001b[0m \u001b[0;34m+\u001b[0m \u001b[0mincreases\u001b[0m\u001b[0;34m.\u001b[0m\u001b[0mvalues\u001b[0m\u001b[0;34m\u001b[0m\u001b[0;34m\u001b[0m\u001b[0m\n\u001b[0m",
      "\u001b[0;31mValueError\u001b[0m: operands could not be broadcast together with shapes (3,) (4,) "
     ]
    }
   ],
   "source": [
    "pops.values + increases.values"
   ]
  },
  {
   "cell_type": "code",
   "execution_count": 198,
   "metadata": {},
   "outputs": [
    {
     "data": {
      "text/plain": [
       "Barcelona    1616000.0\n",
       "Calatayud          NaN\n",
       "Madrid       3030000.0\n",
       "Valencia     1012000.0\n",
       "dtype: float64"
      ]
     },
     "execution_count": 198,
     "metadata": {},
     "output_type": "execute_result"
    }
   ],
   "source": [
    "pops + increases"
   ]
  },
  {
   "cell_type": "code",
   "execution_count": 199,
   "metadata": {
    "scrolled": true
   },
   "outputs": [
    {
     "data": {
      "text/plain": [
       "nan"
      ]
     },
     "execution_count": 199,
     "metadata": {},
     "output_type": "execute_result"
    }
   ],
   "source": [
    "np.nan"
   ]
  },
  {
   "cell_type": "code",
   "execution_count": 200,
   "metadata": {},
   "outputs": [
    {
     "data": {
      "text/plain": [
       "float"
      ]
     },
     "execution_count": 200,
     "metadata": {},
     "output_type": "execute_result"
    }
   ],
   "source": [
    "type(np.nan)"
   ]
  },
  {
   "cell_type": "code",
   "execution_count": 201,
   "metadata": {},
   "outputs": [
    {
     "data": {
      "text/plain": [
       "Barcelona    1584000.0\n",
       "Calatayud          NaN\n",
       "Madrid       2970000.0\n",
       "Valencia      988000.0\n",
       "dtype: float64"
      ]
     },
     "execution_count": 201,
     "metadata": {},
     "output_type": "execute_result"
    }
   ],
   "source": [
    "pops - increases"
   ]
  },
  {
   "cell_type": "code",
   "execution_count": 202,
   "metadata": {},
   "outputs": [
    {
     "data": {
      "text/plain": [
       "Madrid        True\n",
       "Barcelona     True\n",
       "Valencia     False\n",
       "dtype: bool"
      ]
     },
     "execution_count": 202,
     "metadata": {},
     "output_type": "execute_result"
    }
   ],
   "source": [
    "pops > 1e6"
   ]
  },
  {
   "cell_type": "code",
   "execution_count": 203,
   "metadata": {},
   "outputs": [
    {
     "data": {
      "text/plain": [
       "Madrid       3000000.0\n",
       "Barcelona    1600000.0\n",
       "dtype: float64"
      ]
     },
     "execution_count": 203,
     "metadata": {},
     "output_type": "execute_result"
    }
   ],
   "source": [
    "pops[pops > 1e6] "
   ]
  },
  {
   "cell_type": "code",
   "execution_count": 204,
   "metadata": {
    "scrolled": true
   },
   "outputs": [
    {
     "ename": "IndexingError",
     "evalue": "Unalignable boolean Series provided as indexer (index of the boolean Series and of the indexed object do not match",
     "output_type": "error",
     "traceback": [
      "\u001b[0;31m---------------------------------------------------------------------------\u001b[0m",
      "\u001b[0;31mIndexingError\u001b[0m                             Traceback (most recent call last)",
      "\u001b[0;32m<ipython-input-204-28feed1bfafc>\u001b[0m in \u001b[0;36m<module>\u001b[0;34m\u001b[0m\n\u001b[0;32m----> 1\u001b[0;31m \u001b[0mincreases\u001b[0m\u001b[0;34m[\u001b[0m\u001b[0mpops\u001b[0m \u001b[0;34m>\u001b[0m \u001b[0;36m1e6\u001b[0m\u001b[0;34m]\u001b[0m\u001b[0;34m\u001b[0m\u001b[0;34m\u001b[0m\u001b[0m\n\u001b[0m",
      "\u001b[0;32m~/anaconda3/lib/python3.7/site-packages/pandas/core/series.py\u001b[0m in \u001b[0;36m__getitem__\u001b[0;34m(self, key)\u001b[0m\n\u001b[1;32m    806\u001b[0m \u001b[0;34m\u001b[0m\u001b[0m\n\u001b[1;32m    807\u001b[0m         \u001b[0;32mif\u001b[0m \u001b[0mcom\u001b[0m\u001b[0;34m.\u001b[0m\u001b[0mis_bool_indexer\u001b[0m\u001b[0;34m(\u001b[0m\u001b[0mkey\u001b[0m\u001b[0;34m)\u001b[0m\u001b[0;34m:\u001b[0m\u001b[0;34m\u001b[0m\u001b[0;34m\u001b[0m\u001b[0m\n\u001b[0;32m--> 808\u001b[0;31m             \u001b[0mkey\u001b[0m \u001b[0;34m=\u001b[0m \u001b[0mcheck_bool_indexer\u001b[0m\u001b[0;34m(\u001b[0m\u001b[0mself\u001b[0m\u001b[0;34m.\u001b[0m\u001b[0mindex\u001b[0m\u001b[0;34m,\u001b[0m \u001b[0mkey\u001b[0m\u001b[0;34m)\u001b[0m\u001b[0;34m\u001b[0m\u001b[0;34m\u001b[0m\u001b[0m\n\u001b[0m\u001b[1;32m    809\u001b[0m \u001b[0;34m\u001b[0m\u001b[0m\n\u001b[1;32m    810\u001b[0m         \u001b[0;32mreturn\u001b[0m \u001b[0mself\u001b[0m\u001b[0;34m.\u001b[0m\u001b[0m_get_with\u001b[0m\u001b[0;34m(\u001b[0m\u001b[0mkey\u001b[0m\u001b[0;34m)\u001b[0m\u001b[0;34m\u001b[0m\u001b[0;34m\u001b[0m\u001b[0m\n",
      "\u001b[0;32m~/anaconda3/lib/python3.7/site-packages/pandas/core/indexing.py\u001b[0m in \u001b[0;36mcheck_bool_indexer\u001b[0;34m(ax, key)\u001b[0m\n\u001b[1;32m   2354\u001b[0m         \u001b[0mmask\u001b[0m \u001b[0;34m=\u001b[0m \u001b[0misna\u001b[0m\u001b[0;34m(\u001b[0m\u001b[0mresult\u001b[0m\u001b[0;34m.\u001b[0m\u001b[0m_values\u001b[0m\u001b[0;34m)\u001b[0m\u001b[0;34m\u001b[0m\u001b[0;34m\u001b[0m\u001b[0m\n\u001b[1;32m   2355\u001b[0m         \u001b[0;32mif\u001b[0m \u001b[0mmask\u001b[0m\u001b[0;34m.\u001b[0m\u001b[0many\u001b[0m\u001b[0;34m(\u001b[0m\u001b[0;34m)\u001b[0m\u001b[0;34m:\u001b[0m\u001b[0;34m\u001b[0m\u001b[0;34m\u001b[0m\u001b[0m\n\u001b[0;32m-> 2356\u001b[0;31m             raise IndexingError('Unalignable boolean Series provided as '\n\u001b[0m\u001b[1;32m   2357\u001b[0m                                 \u001b[0;34m'indexer (index of the boolean Series and of '\u001b[0m\u001b[0;34m\u001b[0m\u001b[0;34m\u001b[0m\u001b[0m\n\u001b[1;32m   2358\u001b[0m                                 'the indexed object do not match')\n",
      "\u001b[0;31mIndexingError\u001b[0m: Unalignable boolean Series provided as indexer (index of the boolean Series and of the indexed object do not match"
     ]
    }
   ],
   "source": [
    "increases[pops > 1e6]"
   ]
  },
  {
   "cell_type": "code",
   "execution_count": 207,
   "metadata": {},
   "outputs": [
    {
     "data": {
      "text/plain": [
       "Madrid       3000000.0\n",
       "Barcelona    1600000.0\n",
       "Valencia     1000000.0\n",
       "dtype: float64"
      ]
     },
     "execution_count": 207,
     "metadata": {},
     "output_type": "execute_result"
    }
   ],
   "source": [
    "pops[increases > 3e3]"
   ]
  },
  {
   "cell_type": "code",
   "execution_count": 233,
   "metadata": {},
   "outputs": [
    {
     "data": {
      "text/plain": [
       "Madrid       30000.0\n",
       "Barcelona    16000.0\n",
       "Valencia     12000.0\n",
       "dtype: float64"
      ]
     },
     "execution_count": 233,
     "metadata": {},
     "output_type": "execute_result"
    }
   ],
   "source": [
    "increases[:3]"
   ]
  },
  {
   "cell_type": "code",
   "execution_count": 236,
   "metadata": {},
   "outputs": [
    {
     "data": {
      "text/plain": [
       "array([ True,  True,  True, False])"
      ]
     },
     "execution_count": 236,
     "metadata": {},
     "output_type": "execute_result"
    }
   ],
   "source": [
    "increases.index != 'Calatayud'"
   ]
  },
  {
   "cell_type": "code",
   "execution_count": 237,
   "metadata": {},
   "outputs": [
    {
     "data": {
      "text/plain": [
       "Madrid       30000.0\n",
       "Barcelona    16000.0\n",
       "Valencia     12000.0\n",
       "dtype: float64"
      ]
     },
     "execution_count": 237,
     "metadata": {},
     "output_type": "execute_result"
    }
   ],
   "source": [
    "increases[increases.index != 'Calatayud'] "
   ]
  },
  {
   "cell_type": "markdown",
   "metadata": {
    "slideshow": {
     "slide_type": "slide"
    }
   },
   "source": [
    "### DataFrame\n",
    "\n",
    "This is the object you'll work most of the time with. It represents a table of _m_ observations x _n_ variables. Each variable, or column, is a Series."
   ]
  },
  {
   "cell_type": "code",
   "execution_count": 17,
   "metadata": {},
   "outputs": [
    {
     "data": {
      "text/plain": [
       "['z', 'z', 'z', 'y', 'y', 'y', 'x', 'x', 'y', 'x']"
      ]
     },
     "execution_count": 17,
     "metadata": {},
     "output_type": "execute_result"
    }
   ],
   "source": [
    "import random\n",
    "\n",
    "random.choices(['x', 'y', 'z'], k=10) "
   ]
  },
  {
   "cell_type": "code",
   "execution_count": 25,
   "metadata": {},
   "outputs": [
    {
     "data": {
      "text/html": [
       "<div>\n",
       "<style scoped>\n",
       "    .dataframe tbody tr th:only-of-type {\n",
       "        vertical-align: middle;\n",
       "    }\n",
       "\n",
       "    .dataframe tbody tr th {\n",
       "        vertical-align: top;\n",
       "    }\n",
       "\n",
       "    .dataframe thead th {\n",
       "        text-align: right;\n",
       "    }\n",
       "</style>\n",
       "<table border=\"1\" class=\"dataframe\">\n",
       "  <thead>\n",
       "    <tr style=\"text-align: right;\">\n",
       "      <th></th>\n",
       "      <th>province</th>\n",
       "      <th>year</th>\n",
       "      <th>visitors</th>\n",
       "    </tr>\n",
       "  </thead>\n",
       "  <tbody>\n",
       "    <tr>\n",
       "      <th>a</th>\n",
       "      <td>Barcelona</td>\n",
       "      <td>1900</td>\n",
       "      <td>100000.0</td>\n",
       "    </tr>\n",
       "    <tr>\n",
       "      <th>b</th>\n",
       "      <td>Madrid</td>\n",
       "      <td>1950</td>\n",
       "      <td>500000.0</td>\n",
       "    </tr>\n",
       "    <tr>\n",
       "      <th>c</th>\n",
       "      <td>Madrid</td>\n",
       "      <td>1900</td>\n",
       "      <td>30000.0</td>\n",
       "    </tr>\n",
       "    <tr>\n",
       "      <th>d</th>\n",
       "      <td>Madrid</td>\n",
       "      <td>1900</td>\n",
       "      <td>200000.0</td>\n",
       "    </tr>\n",
       "    <tr>\n",
       "      <th>e</th>\n",
       "      <td>Barcelona</td>\n",
       "      <td>1950</td>\n",
       "      <td>100000.0</td>\n",
       "    </tr>\n",
       "    <tr>\n",
       "      <th>f</th>\n",
       "      <td>Barcelona</td>\n",
       "      <td>1950</td>\n",
       "      <td>30000.0</td>\n",
       "    </tr>\n",
       "    <tr>\n",
       "      <th>g</th>\n",
       "      <td>Barcelona</td>\n",
       "      <td>1900</td>\n",
       "      <td>200000.0</td>\n",
       "    </tr>\n",
       "    <tr>\n",
       "      <th>h</th>\n",
       "      <td>Madrid</td>\n",
       "      <td>1950</td>\n",
       "      <td>200000.0</td>\n",
       "    </tr>\n",
       "    <tr>\n",
       "      <th>i</th>\n",
       "      <td>Madrid</td>\n",
       "      <td>2000</td>\n",
       "      <td>100000.0</td>\n",
       "    </tr>\n",
       "    <tr>\n",
       "      <th>j</th>\n",
       "      <td>Madrid</td>\n",
       "      <td>1900</td>\n",
       "      <td>500000.0</td>\n",
       "    </tr>\n",
       "  </tbody>\n",
       "</table>\n",
       "</div>"
      ],
      "text/plain": [
       "    province  year  visitors\n",
       "a  Barcelona  1900  100000.0\n",
       "b     Madrid  1950  500000.0\n",
       "c     Madrid  1900   30000.0\n",
       "d     Madrid  1900  200000.0\n",
       "e  Barcelona  1950  100000.0\n",
       "f  Barcelona  1950   30000.0\n",
       "g  Barcelona  1900  200000.0\n",
       "h     Madrid  1950  200000.0\n",
       "i     Madrid  2000  100000.0\n",
       "j     Madrid  1900  500000.0"
      ]
     },
     "execution_count": 25,
     "metadata": {},
     "output_type": "execute_result"
    }
   ],
   "source": [
    "random.seed(42) \n",
    "\n",
    "data = {'province' : random.choices(['Madrid', 'Barcelona'], k=10),\n",
    "        'year' : random.choices([1900, 1920, 1950, 2000], k=10),\n",
    "        'visitors' : random.choices([2e5, 3e4, 2e3, 5e5, 1e5], k=10)}\n",
    "\n",
    "df = pd.DataFrame(data)\n",
    "df.index=list('abcdefghij')\n",
    "df"
   ]
  },
  {
   "cell_type": "code",
   "execution_count": 27,
   "metadata": {},
   "outputs": [
    {
     "data": {
      "text/html": [
       "<div>\n",
       "<style scoped>\n",
       "    .dataframe tbody tr th:only-of-type {\n",
       "        vertical-align: middle;\n",
       "    }\n",
       "\n",
       "    .dataframe tbody tr th {\n",
       "        vertical-align: top;\n",
       "    }\n",
       "\n",
       "    .dataframe thead th {\n",
       "        text-align: right;\n",
       "    }\n",
       "</style>\n",
       "<table border=\"1\" class=\"dataframe\">\n",
       "  <thead>\n",
       "    <tr style=\"text-align: right;\">\n",
       "      <th></th>\n",
       "      <th>a</th>\n",
       "      <th>b</th>\n",
       "    </tr>\n",
       "  </thead>\n",
       "  <tbody>\n",
       "    <tr>\n",
       "      <th>cosa1</th>\n",
       "      <td>1</td>\n",
       "      <td>3</td>\n",
       "    </tr>\n",
       "    <tr>\n",
       "      <th>cosa2</th>\n",
       "      <td>2</td>\n",
       "      <td>4</td>\n",
       "    </tr>\n",
       "  </tbody>\n",
       "</table>\n",
       "</div>"
      ],
      "text/plain": [
       "       a  b\n",
       "cosa1  1  3\n",
       "cosa2  2  4"
      ]
     },
     "execution_count": 27,
     "metadata": {},
     "output_type": "execute_result"
    }
   ],
   "source": [
    "aaaa={ 'a': {'cosa1':1, 'cosa2':2},\n",
    "      'b': {'cosa1':3, 'cosa2':4}}\n",
    "\n",
    "aadf=pd.DataFrame(aaaa)\n",
    "\n",
    "aadf"
   ]
  },
  {
   "cell_type": "code",
   "execution_count": 58,
   "metadata": {},
   "outputs": [
    {
     "data": {
      "text/plain": [
       "[('a', 1, 5), ('b', 2, 6), ('c', 3, 7), ('d', 4, 8)]"
      ]
     },
     "execution_count": 58,
     "metadata": {},
     "output_type": "execute_result"
    }
   ],
   "source": [
    "\n",
    "aaaa=list('abcd')\n",
    "bbbb=list([1,2,3,4])\n",
    "cccc=list([5,6,7,8])\n",
    "\n",
    "cosa=list(zip(aaaa,bbbb,cccc))\n",
    "cosa"
   ]
  },
  {
   "cell_type": "code",
   "execution_count": 56,
   "metadata": {},
   "outputs": [
    {
     "data": {
      "text/plain": [
       "'a'"
      ]
     },
     "execution_count": 56,
     "metadata": {},
     "output_type": "execute_result"
    }
   ],
   "source": [
    "\n",
    "aaaa=list('abcd')\n",
    "bbbb=list([1,2,3,4])\n",
    "cccc=list([5,6,7,8])\n",
    "\n",
    "cosa=pd.DataFrame(np.array(list(zip(aaaa,bbbb,cccc))))\n",
    "cosa.loc[0,0]"
   ]
  },
  {
   "cell_type": "code",
   "execution_count": 263,
   "metadata": {},
   "outputs": [
    {
     "data": {
      "text/plain": [
       "Index(['province', 'year', 'visitors'], dtype='object')"
      ]
     },
     "execution_count": 263,
     "metadata": {},
     "output_type": "execute_result"
    }
   ],
   "source": [
    "df.columns"
   ]
  },
  {
   "cell_type": "code",
   "execution_count": 264,
   "metadata": {},
   "outputs": [
    {
     "data": {
      "text/plain": [
       "0    100000.0\n",
       "1    500000.0\n",
       "2     30000.0\n",
       "3    200000.0\n",
       "4    100000.0\n",
       "5     30000.0\n",
       "6    200000.0\n",
       "7    200000.0\n",
       "8    100000.0\n",
       "9    500000.0\n",
       "Name: visitors, dtype: float64"
      ]
     },
     "execution_count": 264,
     "metadata": {},
     "output_type": "execute_result"
    }
   ],
   "source": [
    "df['visitors']"
   ]
  },
  {
   "cell_type": "code",
   "execution_count": 265,
   "metadata": {},
   "outputs": [
    {
     "data": {
      "text/plain": [
       "0    100000.0\n",
       "1    500000.0\n",
       "2     30000.0\n",
       "3    200000.0\n",
       "4    100000.0\n",
       "5     30000.0\n",
       "6    200000.0\n",
       "7    200000.0\n",
       "8    100000.0\n",
       "9    500000.0\n",
       "Name: visitors, dtype: float64"
      ]
     },
     "execution_count": 265,
     "metadata": {},
     "output_type": "execute_result"
    }
   ],
   "source": [
    "df.visitors"
   ]
  },
  {
   "cell_type": "code",
   "execution_count": 267,
   "metadata": {},
   "outputs": [
    {
     "data": {
      "text/html": [
       "<div>\n",
       "<style scoped>\n",
       "    .dataframe tbody tr th:only-of-type {\n",
       "        vertical-align: middle;\n",
       "    }\n",
       "\n",
       "    .dataframe tbody tr th {\n",
       "        vertical-align: top;\n",
       "    }\n",
       "\n",
       "    .dataframe thead th {\n",
       "        text-align: right;\n",
       "    }\n",
       "</style>\n",
       "<table border=\"1\" class=\"dataframe\">\n",
       "  <thead>\n",
       "    <tr style=\"text-align: right;\">\n",
       "      <th></th>\n",
       "      <th>province</th>\n",
       "      <th>year</th>\n",
       "      <th>visitors</th>\n",
       "      <th>debt</th>\n",
       "    </tr>\n",
       "  </thead>\n",
       "  <tbody>\n",
       "    <tr>\n",
       "      <th>0</th>\n",
       "      <td>Barcelona</td>\n",
       "      <td>1900</td>\n",
       "      <td>100000.0</td>\n",
       "      <td>NaN</td>\n",
       "    </tr>\n",
       "    <tr>\n",
       "      <th>1</th>\n",
       "      <td>Madrid</td>\n",
       "      <td>1950</td>\n",
       "      <td>500000.0</td>\n",
       "      <td>NaN</td>\n",
       "    </tr>\n",
       "    <tr>\n",
       "      <th>2</th>\n",
       "      <td>Madrid</td>\n",
       "      <td>1900</td>\n",
       "      <td>30000.0</td>\n",
       "      <td>NaN</td>\n",
       "    </tr>\n",
       "    <tr>\n",
       "      <th>3</th>\n",
       "      <td>Madrid</td>\n",
       "      <td>1900</td>\n",
       "      <td>200000.0</td>\n",
       "      <td>NaN</td>\n",
       "    </tr>\n",
       "    <tr>\n",
       "      <th>4</th>\n",
       "      <td>Barcelona</td>\n",
       "      <td>1950</td>\n",
       "      <td>100000.0</td>\n",
       "      <td>NaN</td>\n",
       "    </tr>\n",
       "    <tr>\n",
       "      <th>5</th>\n",
       "      <td>Barcelona</td>\n",
       "      <td>1950</td>\n",
       "      <td>30000.0</td>\n",
       "      <td>NaN</td>\n",
       "    </tr>\n",
       "    <tr>\n",
       "      <th>6</th>\n",
       "      <td>Barcelona</td>\n",
       "      <td>1900</td>\n",
       "      <td>200000.0</td>\n",
       "      <td>NaN</td>\n",
       "    </tr>\n",
       "    <tr>\n",
       "      <th>7</th>\n",
       "      <td>Madrid</td>\n",
       "      <td>1950</td>\n",
       "      <td>200000.0</td>\n",
       "      <td>NaN</td>\n",
       "    </tr>\n",
       "    <tr>\n",
       "      <th>8</th>\n",
       "      <td>Madrid</td>\n",
       "      <td>2000</td>\n",
       "      <td>100000.0</td>\n",
       "      <td>NaN</td>\n",
       "    </tr>\n",
       "    <tr>\n",
       "      <th>9</th>\n",
       "      <td>Madrid</td>\n",
       "      <td>1900</td>\n",
       "      <td>500000.0</td>\n",
       "      <td>NaN</td>\n",
       "    </tr>\n",
       "  </tbody>\n",
       "</table>\n",
       "</div>"
      ],
      "text/plain": [
       "    province  year  visitors  debt\n",
       "0  Barcelona  1900  100000.0   NaN\n",
       "1     Madrid  1950  500000.0   NaN\n",
       "2     Madrid  1900   30000.0   NaN\n",
       "3     Madrid  1900  200000.0   NaN\n",
       "4  Barcelona  1950  100000.0   NaN\n",
       "5  Barcelona  1950   30000.0   NaN\n",
       "6  Barcelona  1900  200000.0   NaN\n",
       "7     Madrid  1950  200000.0   NaN\n",
       "8     Madrid  2000  100000.0   NaN\n",
       "9     Madrid  1900  500000.0   NaN"
      ]
     },
     "execution_count": 267,
     "metadata": {},
     "output_type": "execute_result"
    }
   ],
   "source": [
    "df['debt'] = np.nan\n",
    "df"
   ]
  },
  {
   "cell_type": "code",
   "execution_count": 271,
   "metadata": {},
   "outputs": [
    {
     "ename": "SyntaxError",
     "evalue": "invalid syntax (<ipython-input-271-7220b0ffeffb>, line 2)",
     "output_type": "error",
     "traceback": [
      "\u001b[0;36m  File \u001b[0;32m\"<ipython-input-271-7220b0ffeffb>\"\u001b[0;36m, line \u001b[0;32m2\u001b[0m\n\u001b[0;31m    df.2nd language\u001b[0m\n\u001b[0m       ^\u001b[0m\n\u001b[0;31mSyntaxError\u001b[0m\u001b[0;31m:\u001b[0m invalid syntax\n"
     ]
    }
   ],
   "source": [
    "df['2nd language'] = np.nan\n",
    "df.2nd language"
   ]
  },
  {
   "cell_type": "code",
   "execution_count": 272,
   "metadata": {},
   "outputs": [
    {
     "data": {
      "text/html": [
       "<div>\n",
       "<style scoped>\n",
       "    .dataframe tbody tr th:only-of-type {\n",
       "        vertical-align: middle;\n",
       "    }\n",
       "\n",
       "    .dataframe tbody tr th {\n",
       "        vertical-align: top;\n",
       "    }\n",
       "\n",
       "    .dataframe thead th {\n",
       "        text-align: right;\n",
       "    }\n",
       "</style>\n",
       "<table border=\"1\" class=\"dataframe\">\n",
       "  <thead>\n",
       "    <tr style=\"text-align: right;\">\n",
       "      <th></th>\n",
       "      <th>province</th>\n",
       "      <th>year</th>\n",
       "      <th>visitors</th>\n",
       "      <th>debt</th>\n",
       "      <th>2nd language</th>\n",
       "      <th>max</th>\n",
       "    </tr>\n",
       "  </thead>\n",
       "  <tbody>\n",
       "    <tr>\n",
       "      <th>0</th>\n",
       "      <td>Barcelona</td>\n",
       "      <td>1900</td>\n",
       "      <td>100000.0</td>\n",
       "      <td>NaN</td>\n",
       "      <td>NaN</td>\n",
       "      <td>1000000.0</td>\n",
       "    </tr>\n",
       "    <tr>\n",
       "      <th>1</th>\n",
       "      <td>Madrid</td>\n",
       "      <td>1950</td>\n",
       "      <td>500000.0</td>\n",
       "      <td>NaN</td>\n",
       "      <td>NaN</td>\n",
       "      <td>1000000.0</td>\n",
       "    </tr>\n",
       "    <tr>\n",
       "      <th>2</th>\n",
       "      <td>Madrid</td>\n",
       "      <td>1900</td>\n",
       "      <td>30000.0</td>\n",
       "      <td>NaN</td>\n",
       "      <td>NaN</td>\n",
       "      <td>1000000.0</td>\n",
       "    </tr>\n",
       "    <tr>\n",
       "      <th>3</th>\n",
       "      <td>Madrid</td>\n",
       "      <td>1900</td>\n",
       "      <td>200000.0</td>\n",
       "      <td>NaN</td>\n",
       "      <td>NaN</td>\n",
       "      <td>1000000.0</td>\n",
       "    </tr>\n",
       "    <tr>\n",
       "      <th>4</th>\n",
       "      <td>Barcelona</td>\n",
       "      <td>1950</td>\n",
       "      <td>100000.0</td>\n",
       "      <td>NaN</td>\n",
       "      <td>NaN</td>\n",
       "      <td>1000000.0</td>\n",
       "    </tr>\n",
       "    <tr>\n",
       "      <th>5</th>\n",
       "      <td>Barcelona</td>\n",
       "      <td>1950</td>\n",
       "      <td>30000.0</td>\n",
       "      <td>NaN</td>\n",
       "      <td>NaN</td>\n",
       "      <td>1000000.0</td>\n",
       "    </tr>\n",
       "    <tr>\n",
       "      <th>6</th>\n",
       "      <td>Barcelona</td>\n",
       "      <td>1900</td>\n",
       "      <td>200000.0</td>\n",
       "      <td>NaN</td>\n",
       "      <td>NaN</td>\n",
       "      <td>1000000.0</td>\n",
       "    </tr>\n",
       "    <tr>\n",
       "      <th>7</th>\n",
       "      <td>Madrid</td>\n",
       "      <td>1950</td>\n",
       "      <td>200000.0</td>\n",
       "      <td>NaN</td>\n",
       "      <td>NaN</td>\n",
       "      <td>1000000.0</td>\n",
       "    </tr>\n",
       "    <tr>\n",
       "      <th>8</th>\n",
       "      <td>Madrid</td>\n",
       "      <td>2000</td>\n",
       "      <td>100000.0</td>\n",
       "      <td>NaN</td>\n",
       "      <td>NaN</td>\n",
       "      <td>1000000.0</td>\n",
       "    </tr>\n",
       "    <tr>\n",
       "      <th>9</th>\n",
       "      <td>Madrid</td>\n",
       "      <td>1900</td>\n",
       "      <td>500000.0</td>\n",
       "      <td>NaN</td>\n",
       "      <td>NaN</td>\n",
       "      <td>1000000.0</td>\n",
       "    </tr>\n",
       "  </tbody>\n",
       "</table>\n",
       "</div>"
      ],
      "text/plain": [
       "    province  year  visitors  debt  2nd language        max\n",
       "0  Barcelona  1900  100000.0   NaN           NaN  1000000.0\n",
       "1     Madrid  1950  500000.0   NaN           NaN  1000000.0\n",
       "2     Madrid  1900   30000.0   NaN           NaN  1000000.0\n",
       "3     Madrid  1900  200000.0   NaN           NaN  1000000.0\n",
       "4  Barcelona  1950  100000.0   NaN           NaN  1000000.0\n",
       "5  Barcelona  1950   30000.0   NaN           NaN  1000000.0\n",
       "6  Barcelona  1900  200000.0   NaN           NaN  1000000.0\n",
       "7     Madrid  1950  200000.0   NaN           NaN  1000000.0\n",
       "8     Madrid  2000  100000.0   NaN           NaN  1000000.0\n",
       "9     Madrid  1900  500000.0   NaN           NaN  1000000.0"
      ]
     },
     "execution_count": 272,
     "metadata": {},
     "output_type": "execute_result"
    }
   ],
   "source": [
    "df['max'] = 1e6\n",
    "df"
   ]
  },
  {
   "cell_type": "code",
   "execution_count": 274,
   "metadata": {},
   "outputs": [
    {
     "data": {
      "text/plain": [
       "province        Madrid\n",
       "year              2000\n",
       "visitors        500000\n",
       "debt              None\n",
       "2nd language      None\n",
       "max              1e+06\n",
       "dtype: object"
      ]
     },
     "execution_count": 274,
     "metadata": {},
     "output_type": "execute_result"
    }
   ],
   "source": [
    "df.max()"
   ]
  },
  {
   "cell_type": "code",
   "execution_count": 275,
   "metadata": {},
   "outputs": [
    {
     "data": {
      "text/plain": [
       "<bound method DataFrame.max of     province  year  visitors  debt  2nd language        max\n",
       "0  Barcelona  1900  100000.0   NaN           NaN  1000000.0\n",
       "1     Madrid  1950  500000.0   NaN           NaN  1000000.0\n",
       "2     Madrid  1900   30000.0   NaN           NaN  1000000.0\n",
       "3     Madrid  1900  200000.0   NaN           NaN  1000000.0\n",
       "4  Barcelona  1950  100000.0   NaN           NaN  1000000.0\n",
       "5  Barcelona  1950   30000.0   NaN           NaN  1000000.0\n",
       "6  Barcelona  1900  200000.0   NaN           NaN  1000000.0\n",
       "7     Madrid  1950  200000.0   NaN           NaN  1000000.0\n",
       "8     Madrid  2000  100000.0   NaN           NaN  1000000.0\n",
       "9     Madrid  1900  500000.0   NaN           NaN  1000000.0>"
      ]
     },
     "execution_count": 275,
     "metadata": {},
     "output_type": "execute_result"
    }
   ],
   "source": [
    "df.max"
   ]
  },
  {
   "cell_type": "code",
   "execution_count": 210,
   "metadata": {},
   "outputs": [
    {
     "name": "stdout",
     "output_type": "stream",
     "text": [
      "I'm pretty!\n"
     ]
    }
   ],
   "source": [
    "def my_pretty_function():\n",
    "    print('I\\'m pretty!')\n",
    "    \n",
    "my_pretty_function()"
   ]
  },
  {
   "cell_type": "code",
   "execution_count": 211,
   "metadata": {
    "scrolled": true
   },
   "outputs": [
    {
     "data": {
      "text/plain": [
       "<function __main__.my_pretty_function()>"
      ]
     },
     "execution_count": 211,
     "metadata": {},
     "output_type": "execute_result"
    }
   ],
   "source": [
    "my_pretty_function"
   ]
  },
  {
   "cell_type": "code",
   "execution_count": 212,
   "metadata": {},
   "outputs": [
    {
     "name": "stdout",
     "output_type": "stream",
     "text": [
      "I'm pretty!\n"
     ]
    }
   ],
   "source": [
    "my_pretty_function()"
   ]
  },
  {
   "cell_type": "code",
   "execution_count": 283,
   "metadata": {},
   "outputs": [
    {
     "data": {
      "text/plain": [
       "3.141592653589793"
      ]
     },
     "execution_count": 283,
     "metadata": {},
     "output_type": "execute_result"
    }
   ],
   "source": [
    "np.pi"
   ]
  },
  {
   "cell_type": "code",
   "execution_count": 284,
   "metadata": {},
   "outputs": [
    {
     "data": {
      "text/html": [
       "<div>\n",
       "<style scoped>\n",
       "    .dataframe tbody tr th:only-of-type {\n",
       "        vertical-align: middle;\n",
       "    }\n",
       "\n",
       "    .dataframe tbody tr th {\n",
       "        vertical-align: top;\n",
       "    }\n",
       "\n",
       "    .dataframe thead th {\n",
       "        text-align: right;\n",
       "    }\n",
       "</style>\n",
       "<table border=\"1\" class=\"dataframe\">\n",
       "  <thead>\n",
       "    <tr style=\"text-align: right;\">\n",
       "      <th></th>\n",
       "      <th>province</th>\n",
       "      <th>year</th>\n",
       "      <th>visitors</th>\n",
       "      <th>debt</th>\n",
       "      <th>2nd language</th>\n",
       "      <th>max</th>\n",
       "    </tr>\n",
       "  </thead>\n",
       "  <tbody>\n",
       "    <tr>\n",
       "      <th>0</th>\n",
       "      <td>Barcelona</td>\n",
       "      <td>1900</td>\n",
       "      <td>100000.0</td>\n",
       "      <td>-1.738562</td>\n",
       "      <td>NaN</td>\n",
       "      <td>1000000.0</td>\n",
       "    </tr>\n",
       "    <tr>\n",
       "      <th>1</th>\n",
       "      <td>Madrid</td>\n",
       "      <td>1950</td>\n",
       "      <td>500000.0</td>\n",
       "      <td>1.447657</td>\n",
       "      <td>NaN</td>\n",
       "      <td>1000000.0</td>\n",
       "    </tr>\n",
       "    <tr>\n",
       "      <th>2</th>\n",
       "      <td>Madrid</td>\n",
       "      <td>1900</td>\n",
       "      <td>30000.0</td>\n",
       "      <td>0.284791</td>\n",
       "      <td>NaN</td>\n",
       "      <td>1000000.0</td>\n",
       "    </tr>\n",
       "    <tr>\n",
       "      <th>3</th>\n",
       "      <td>Madrid</td>\n",
       "      <td>1900</td>\n",
       "      <td>200000.0</td>\n",
       "      <td>-1.095707</td>\n",
       "      <td>NaN</td>\n",
       "      <td>1000000.0</td>\n",
       "    </tr>\n",
       "    <tr>\n",
       "      <th>4</th>\n",
       "      <td>Barcelona</td>\n",
       "      <td>1950</td>\n",
       "      <td>100000.0</td>\n",
       "      <td>-0.046081</td>\n",
       "      <td>NaN</td>\n",
       "      <td>1000000.0</td>\n",
       "    </tr>\n",
       "    <tr>\n",
       "      <th>5</th>\n",
       "      <td>Barcelona</td>\n",
       "      <td>1950</td>\n",
       "      <td>30000.0</td>\n",
       "      <td>-0.123597</td>\n",
       "      <td>NaN</td>\n",
       "      <td>1000000.0</td>\n",
       "    </tr>\n",
       "    <tr>\n",
       "      <th>6</th>\n",
       "      <td>Barcelona</td>\n",
       "      <td>1900</td>\n",
       "      <td>200000.0</td>\n",
       "      <td>-0.626574</td>\n",
       "      <td>NaN</td>\n",
       "      <td>1000000.0</td>\n",
       "    </tr>\n",
       "    <tr>\n",
       "      <th>7</th>\n",
       "      <td>Madrid</td>\n",
       "      <td>1950</td>\n",
       "      <td>200000.0</td>\n",
       "      <td>-0.910843</td>\n",
       "      <td>NaN</td>\n",
       "      <td>1000000.0</td>\n",
       "    </tr>\n",
       "    <tr>\n",
       "      <th>8</th>\n",
       "      <td>Madrid</td>\n",
       "      <td>2000</td>\n",
       "      <td>100000.0</td>\n",
       "      <td>-1.408196</td>\n",
       "      <td>NaN</td>\n",
       "      <td>1000000.0</td>\n",
       "    </tr>\n",
       "    <tr>\n",
       "      <th>9</th>\n",
       "      <td>Madrid</td>\n",
       "      <td>1900</td>\n",
       "      <td>500000.0</td>\n",
       "      <td>-0.039597</td>\n",
       "      <td>NaN</td>\n",
       "      <td>1000000.0</td>\n",
       "    </tr>\n",
       "  </tbody>\n",
       "</table>\n",
       "</div>"
      ],
      "text/plain": [
       "    province  year  visitors      debt  2nd language        max\n",
       "0  Barcelona  1900  100000.0 -1.738562           NaN  1000000.0\n",
       "1     Madrid  1950  500000.0  1.447657           NaN  1000000.0\n",
       "2     Madrid  1900   30000.0  0.284791           NaN  1000000.0\n",
       "3     Madrid  1900  200000.0 -1.095707           NaN  1000000.0\n",
       "4  Barcelona  1950  100000.0 -0.046081           NaN  1000000.0\n",
       "5  Barcelona  1950   30000.0 -0.123597           NaN  1000000.0\n",
       "6  Barcelona  1900  200000.0 -0.626574           NaN  1000000.0\n",
       "7     Madrid  1950  200000.0 -0.910843           NaN  1000000.0\n",
       "8     Madrid  2000  100000.0 -1.408196           NaN  1000000.0\n",
       "9     Madrid  1900  500000.0 -0.039597           NaN  1000000.0"
      ]
     },
     "execution_count": 284,
     "metadata": {},
     "output_type": "execute_result"
    }
   ],
   "source": [
    "df['debt'] = np.random.randn(10)\n",
    "df"
   ]
  },
  {
   "cell_type": "code",
   "execution_count": 215,
   "metadata": {
    "scrolled": true
   },
   "outputs": [
    {
     "data": {
      "text/html": [
       "<div>\n",
       "<style scoped>\n",
       "    .dataframe tbody tr th:only-of-type {\n",
       "        vertical-align: middle;\n",
       "    }\n",
       "\n",
       "    .dataframe tbody tr th {\n",
       "        vertical-align: top;\n",
       "    }\n",
       "\n",
       "    .dataframe thead th {\n",
       "        text-align: right;\n",
       "    }\n",
       "</style>\n",
       "<table border=\"1\" class=\"dataframe\">\n",
       "  <thead>\n",
       "    <tr style=\"text-align: right;\">\n",
       "      <th></th>\n",
       "      <th>province</th>\n",
       "      <th>year</th>\n",
       "      <th>visitors</th>\n",
       "      <th>capital</th>\n",
       "    </tr>\n",
       "  </thead>\n",
       "  <tbody>\n",
       "    <tr>\n",
       "      <th>0</th>\n",
       "      <td>Barcelona</td>\n",
       "      <td>1900</td>\n",
       "      <td>100000.0</td>\n",
       "      <td>False</td>\n",
       "    </tr>\n",
       "    <tr>\n",
       "      <th>1</th>\n",
       "      <td>Madrid</td>\n",
       "      <td>1950</td>\n",
       "      <td>500000.0</td>\n",
       "      <td>True</td>\n",
       "    </tr>\n",
       "    <tr>\n",
       "      <th>2</th>\n",
       "      <td>Madrid</td>\n",
       "      <td>1900</td>\n",
       "      <td>30000.0</td>\n",
       "      <td>True</td>\n",
       "    </tr>\n",
       "    <tr>\n",
       "      <th>3</th>\n",
       "      <td>Madrid</td>\n",
       "      <td>1900</td>\n",
       "      <td>200000.0</td>\n",
       "      <td>True</td>\n",
       "    </tr>\n",
       "    <tr>\n",
       "      <th>4</th>\n",
       "      <td>Barcelona</td>\n",
       "      <td>1950</td>\n",
       "      <td>100000.0</td>\n",
       "      <td>False</td>\n",
       "    </tr>\n",
       "    <tr>\n",
       "      <th>5</th>\n",
       "      <td>Barcelona</td>\n",
       "      <td>1950</td>\n",
       "      <td>30000.0</td>\n",
       "      <td>False</td>\n",
       "    </tr>\n",
       "    <tr>\n",
       "      <th>6</th>\n",
       "      <td>Barcelona</td>\n",
       "      <td>1900</td>\n",
       "      <td>200000.0</td>\n",
       "      <td>False</td>\n",
       "    </tr>\n",
       "    <tr>\n",
       "      <th>7</th>\n",
       "      <td>Madrid</td>\n",
       "      <td>1950</td>\n",
       "      <td>200000.0</td>\n",
       "      <td>True</td>\n",
       "    </tr>\n",
       "    <tr>\n",
       "      <th>8</th>\n",
       "      <td>Madrid</td>\n",
       "      <td>2000</td>\n",
       "      <td>100000.0</td>\n",
       "      <td>True</td>\n",
       "    </tr>\n",
       "    <tr>\n",
       "      <th>9</th>\n",
       "      <td>Madrid</td>\n",
       "      <td>1900</td>\n",
       "      <td>500000.0</td>\n",
       "      <td>True</td>\n",
       "    </tr>\n",
       "  </tbody>\n",
       "</table>\n",
       "</div>"
      ],
      "text/plain": [
       "    province  year  visitors  capital\n",
       "0  Barcelona  1900  100000.0    False\n",
       "1     Madrid  1950  500000.0     True\n",
       "2     Madrid  1900   30000.0     True\n",
       "3     Madrid  1900  200000.0     True\n",
       "4  Barcelona  1950  100000.0    False\n",
       "5  Barcelona  1950   30000.0    False\n",
       "6  Barcelona  1900  200000.0    False\n",
       "7     Madrid  1950  200000.0     True\n",
       "8     Madrid  2000  100000.0     True\n",
       "9     Madrid  1900  500000.0     True"
      ]
     },
     "execution_count": 215,
     "metadata": {},
     "output_type": "execute_result"
    }
   ],
   "source": [
    "df['capital'] = (df['province'] == 'Madrid')\n",
    "df"
   ]
  },
  {
   "cell_type": "code",
   "execution_count": 218,
   "metadata": {},
   "outputs": [
    {
     "data": {
      "text/html": [
       "<div>\n",
       "<style scoped>\n",
       "    .dataframe tbody tr th:only-of-type {\n",
       "        vertical-align: middle;\n",
       "    }\n",
       "\n",
       "    .dataframe tbody tr th {\n",
       "        vertical-align: top;\n",
       "    }\n",
       "\n",
       "    .dataframe thead th {\n",
       "        text-align: right;\n",
       "    }\n",
       "</style>\n",
       "<table border=\"1\" class=\"dataframe\">\n",
       "  <thead>\n",
       "    <tr style=\"text-align: right;\">\n",
       "      <th></th>\n",
       "      <th>province</th>\n",
       "      <th>year</th>\n",
       "      <th>visitors</th>\n",
       "      <th>capital</th>\n",
       "    </tr>\n",
       "  </thead>\n",
       "  <tbody>\n",
       "    <tr>\n",
       "      <th>1</th>\n",
       "      <td>Madrid</td>\n",
       "      <td>1950</td>\n",
       "      <td>500000.0</td>\n",
       "      <td>True</td>\n",
       "    </tr>\n",
       "    <tr>\n",
       "      <th>2</th>\n",
       "      <td>Madrid</td>\n",
       "      <td>1900</td>\n",
       "      <td>30000.0</td>\n",
       "      <td>True</td>\n",
       "    </tr>\n",
       "    <tr>\n",
       "      <th>3</th>\n",
       "      <td>Madrid</td>\n",
       "      <td>1900</td>\n",
       "      <td>200000.0</td>\n",
       "      <td>True</td>\n",
       "    </tr>\n",
       "    <tr>\n",
       "      <th>7</th>\n",
       "      <td>Madrid</td>\n",
       "      <td>1950</td>\n",
       "      <td>200000.0</td>\n",
       "      <td>True</td>\n",
       "    </tr>\n",
       "    <tr>\n",
       "      <th>8</th>\n",
       "      <td>Madrid</td>\n",
       "      <td>2000</td>\n",
       "      <td>100000.0</td>\n",
       "      <td>True</td>\n",
       "    </tr>\n",
       "    <tr>\n",
       "      <th>9</th>\n",
       "      <td>Madrid</td>\n",
       "      <td>1900</td>\n",
       "      <td>500000.0</td>\n",
       "      <td>True</td>\n",
       "    </tr>\n",
       "  </tbody>\n",
       "</table>\n",
       "</div>"
      ],
      "text/plain": [
       "  province  year  visitors  capital\n",
       "1   Madrid  1950  500000.0     True\n",
       "2   Madrid  1900   30000.0     True\n",
       "3   Madrid  1900  200000.0     True\n",
       "7   Madrid  1950  200000.0     True\n",
       "8   Madrid  2000  100000.0     True\n",
       "9   Madrid  1900  500000.0     True"
      ]
     },
     "execution_count": 218,
     "metadata": {},
     "output_type": "execute_result"
    }
   ],
   "source": [
    "df[df['province'] == 'Madrid']\n"
   ]
  },
  {
   "cell_type": "code",
   "execution_count": 286,
   "metadata": {},
   "outputs": [
    {
     "data": {
      "text/plain": [
       "province         object\n",
       "year              int64\n",
       "visitors        float64\n",
       "debt            float64\n",
       "2nd language    float64\n",
       "max             float64\n",
       "capital            bool\n",
       "dtype: object"
      ]
     },
     "execution_count": 286,
     "metadata": {},
     "output_type": "execute_result"
    }
   ],
   "source": [
    "df.dtypes"
   ]
  },
  {
   "cell_type": "code",
   "execution_count": 287,
   "metadata": {},
   "outputs": [
    {
     "data": {
      "text/html": [
       "<div>\n",
       "<style scoped>\n",
       "    .dataframe tbody tr th:only-of-type {\n",
       "        vertical-align: middle;\n",
       "    }\n",
       "\n",
       "    .dataframe tbody tr th {\n",
       "        vertical-align: top;\n",
       "    }\n",
       "\n",
       "    .dataframe thead th {\n",
       "        text-align: right;\n",
       "    }\n",
       "</style>\n",
       "<table border=\"1\" class=\"dataframe\">\n",
       "  <thead>\n",
       "    <tr style=\"text-align: right;\">\n",
       "      <th></th>\n",
       "      <th>0</th>\n",
       "      <th>1</th>\n",
       "      <th>2</th>\n",
       "      <th>3</th>\n",
       "      <th>4</th>\n",
       "      <th>5</th>\n",
       "      <th>6</th>\n",
       "      <th>7</th>\n",
       "      <th>8</th>\n",
       "      <th>9</th>\n",
       "    </tr>\n",
       "  </thead>\n",
       "  <tbody>\n",
       "    <tr>\n",
       "      <th>province</th>\n",
       "      <td>Barcelona</td>\n",
       "      <td>Madrid</td>\n",
       "      <td>Madrid</td>\n",
       "      <td>Madrid</td>\n",
       "      <td>Barcelona</td>\n",
       "      <td>Barcelona</td>\n",
       "      <td>Barcelona</td>\n",
       "      <td>Madrid</td>\n",
       "      <td>Madrid</td>\n",
       "      <td>Madrid</td>\n",
       "    </tr>\n",
       "    <tr>\n",
       "      <th>year</th>\n",
       "      <td>1900</td>\n",
       "      <td>1950</td>\n",
       "      <td>1900</td>\n",
       "      <td>1900</td>\n",
       "      <td>1950</td>\n",
       "      <td>1950</td>\n",
       "      <td>1900</td>\n",
       "      <td>1950</td>\n",
       "      <td>2000</td>\n",
       "      <td>1900</td>\n",
       "    </tr>\n",
       "    <tr>\n",
       "      <th>visitors</th>\n",
       "      <td>100000</td>\n",
       "      <td>500000</td>\n",
       "      <td>30000</td>\n",
       "      <td>200000</td>\n",
       "      <td>100000</td>\n",
       "      <td>30000</td>\n",
       "      <td>200000</td>\n",
       "      <td>200000</td>\n",
       "      <td>100000</td>\n",
       "      <td>500000</td>\n",
       "    </tr>\n",
       "    <tr>\n",
       "      <th>debt</th>\n",
       "      <td>-1.73856</td>\n",
       "      <td>1.44766</td>\n",
       "      <td>0.284791</td>\n",
       "      <td>-1.09571</td>\n",
       "      <td>-0.0460814</td>\n",
       "      <td>-0.123597</td>\n",
       "      <td>-0.626574</td>\n",
       "      <td>-0.910843</td>\n",
       "      <td>-1.4082</td>\n",
       "      <td>-0.0395971</td>\n",
       "    </tr>\n",
       "    <tr>\n",
       "      <th>2nd language</th>\n",
       "      <td>NaN</td>\n",
       "      <td>NaN</td>\n",
       "      <td>NaN</td>\n",
       "      <td>NaN</td>\n",
       "      <td>NaN</td>\n",
       "      <td>NaN</td>\n",
       "      <td>NaN</td>\n",
       "      <td>NaN</td>\n",
       "      <td>NaN</td>\n",
       "      <td>NaN</td>\n",
       "    </tr>\n",
       "    <tr>\n",
       "      <th>max</th>\n",
       "      <td>1e+06</td>\n",
       "      <td>1e+06</td>\n",
       "      <td>1e+06</td>\n",
       "      <td>1e+06</td>\n",
       "      <td>1e+06</td>\n",
       "      <td>1e+06</td>\n",
       "      <td>1e+06</td>\n",
       "      <td>1e+06</td>\n",
       "      <td>1e+06</td>\n",
       "      <td>1e+06</td>\n",
       "    </tr>\n",
       "    <tr>\n",
       "      <th>capital</th>\n",
       "      <td>False</td>\n",
       "      <td>True</td>\n",
       "      <td>True</td>\n",
       "      <td>True</td>\n",
       "      <td>False</td>\n",
       "      <td>False</td>\n",
       "      <td>False</td>\n",
       "      <td>True</td>\n",
       "      <td>True</td>\n",
       "      <td>True</td>\n",
       "    </tr>\n",
       "  </tbody>\n",
       "</table>\n",
       "</div>"
      ],
      "text/plain": [
       "                      0        1         2        3          4          5  \\\n",
       "province      Barcelona   Madrid    Madrid   Madrid  Barcelona  Barcelona   \n",
       "year               1900     1950      1900     1900       1950       1950   \n",
       "visitors         100000   500000     30000   200000     100000      30000   \n",
       "debt           -1.73856  1.44766  0.284791 -1.09571 -0.0460814  -0.123597   \n",
       "2nd language        NaN      NaN       NaN      NaN        NaN        NaN   \n",
       "max               1e+06    1e+06     1e+06    1e+06      1e+06      1e+06   \n",
       "capital           False     True      True     True      False      False   \n",
       "\n",
       "                      6         7       8          9  \n",
       "province      Barcelona    Madrid  Madrid     Madrid  \n",
       "year               1900      1950    2000       1900  \n",
       "visitors         200000    200000  100000     500000  \n",
       "debt          -0.626574 -0.910843 -1.4082 -0.0395971  \n",
       "2nd language        NaN       NaN     NaN        NaN  \n",
       "max               1e+06     1e+06   1e+06      1e+06  \n",
       "capital           False      True    True       True  "
      ]
     },
     "execution_count": 287,
     "metadata": {},
     "output_type": "execute_result"
    }
   ],
   "source": [
    "df.T"
   ]
  },
  {
   "cell_type": "code",
   "execution_count": 290,
   "metadata": {},
   "outputs": [
    {
     "data": {
      "text/html": [
       "<div>\n",
       "<style scoped>\n",
       "    .dataframe tbody tr th:only-of-type {\n",
       "        vertical-align: middle;\n",
       "    }\n",
       "\n",
       "    .dataframe tbody tr th {\n",
       "        vertical-align: top;\n",
       "    }\n",
       "\n",
       "    .dataframe thead th {\n",
       "        text-align: right;\n",
       "    }\n",
       "</style>\n",
       "<table border=\"1\" class=\"dataframe\">\n",
       "  <thead>\n",
       "    <tr style=\"text-align: right;\">\n",
       "      <th></th>\n",
       "      <th>province</th>\n",
       "      <th>year</th>\n",
       "      <th>visitors</th>\n",
       "      <th>debt</th>\n",
       "      <th>2nd language</th>\n",
       "      <th>max</th>\n",
       "      <th>capital</th>\n",
       "    </tr>\n",
       "  </thead>\n",
       "  <tbody>\n",
       "    <tr>\n",
       "      <th>0</th>\n",
       "      <td>Barcelona</td>\n",
       "      <td>1900</td>\n",
       "      <td>100000.0</td>\n",
       "      <td>-1.738562</td>\n",
       "      <td>NaN</td>\n",
       "      <td>1000000.0</td>\n",
       "      <td>False</td>\n",
       "    </tr>\n",
       "    <tr>\n",
       "      <th>1</th>\n",
       "      <td>Madrid</td>\n",
       "      <td>1950</td>\n",
       "      <td>500000.0</td>\n",
       "      <td>1.447657</td>\n",
       "      <td>NaN</td>\n",
       "      <td>1000000.0</td>\n",
       "      <td>True</td>\n",
       "    </tr>\n",
       "    <tr>\n",
       "      <th>2</th>\n",
       "      <td>Madrid</td>\n",
       "      <td>1900</td>\n",
       "      <td>30000.0</td>\n",
       "      <td>0.284791</td>\n",
       "      <td>NaN</td>\n",
       "      <td>1000000.0</td>\n",
       "      <td>True</td>\n",
       "    </tr>\n",
       "    <tr>\n",
       "      <th>3</th>\n",
       "      <td>Madrid</td>\n",
       "      <td>1900</td>\n",
       "      <td>200000.0</td>\n",
       "      <td>-1.095707</td>\n",
       "      <td>NaN</td>\n",
       "      <td>1000000.0</td>\n",
       "      <td>True</td>\n",
       "    </tr>\n",
       "    <tr>\n",
       "      <th>4</th>\n",
       "      <td>Barcelona</td>\n",
       "      <td>1950</td>\n",
       "      <td>100000.0</td>\n",
       "      <td>-0.046081</td>\n",
       "      <td>NaN</td>\n",
       "      <td>1000000.0</td>\n",
       "      <td>False</td>\n",
       "    </tr>\n",
       "    <tr>\n",
       "      <th>5</th>\n",
       "      <td>Barcelona</td>\n",
       "      <td>1950</td>\n",
       "      <td>30000.0</td>\n",
       "      <td>-0.123597</td>\n",
       "      <td>NaN</td>\n",
       "      <td>1000000.0</td>\n",
       "      <td>False</td>\n",
       "    </tr>\n",
       "    <tr>\n",
       "      <th>6</th>\n",
       "      <td>Barcelona</td>\n",
       "      <td>1900</td>\n",
       "      <td>200000.0</td>\n",
       "      <td>-0.626574</td>\n",
       "      <td>NaN</td>\n",
       "      <td>1000000.0</td>\n",
       "      <td>False</td>\n",
       "    </tr>\n",
       "    <tr>\n",
       "      <th>7</th>\n",
       "      <td>Madrid</td>\n",
       "      <td>1950</td>\n",
       "      <td>200000.0</td>\n",
       "      <td>-0.910843</td>\n",
       "      <td>NaN</td>\n",
       "      <td>1000000.0</td>\n",
       "      <td>True</td>\n",
       "    </tr>\n",
       "    <tr>\n",
       "      <th>8</th>\n",
       "      <td>Madrid</td>\n",
       "      <td>2000</td>\n",
       "      <td>100000.0</td>\n",
       "      <td>-1.408196</td>\n",
       "      <td>NaN</td>\n",
       "      <td>1000000.0</td>\n",
       "      <td>True</td>\n",
       "    </tr>\n",
       "    <tr>\n",
       "      <th>9</th>\n",
       "      <td>Madrid</td>\n",
       "      <td>1900</td>\n",
       "      <td>500000.0</td>\n",
       "      <td>-0.039597</td>\n",
       "      <td>NaN</td>\n",
       "      <td>1000000.0</td>\n",
       "      <td>True</td>\n",
       "    </tr>\n",
       "  </tbody>\n",
       "</table>\n",
       "</div>"
      ],
      "text/plain": [
       "    province  year  visitors      debt  2nd language        max  capital\n",
       "0  Barcelona  1900  100000.0 -1.738562           NaN  1000000.0    False\n",
       "1     Madrid  1950  500000.0  1.447657           NaN  1000000.0     True\n",
       "2     Madrid  1900   30000.0  0.284791           NaN  1000000.0     True\n",
       "3     Madrid  1900  200000.0 -1.095707           NaN  1000000.0     True\n",
       "4  Barcelona  1950  100000.0 -0.046081           NaN  1000000.0    False\n",
       "5  Barcelona  1950   30000.0 -0.123597           NaN  1000000.0    False\n",
       "6  Barcelona  1900  200000.0 -0.626574           NaN  1000000.0    False\n",
       "7     Madrid  1950  200000.0 -0.910843           NaN  1000000.0     True\n",
       "8     Madrid  2000  100000.0 -1.408196           NaN  1000000.0     True\n",
       "9     Madrid  1900  500000.0 -0.039597           NaN  1000000.0     True"
      ]
     },
     "execution_count": 290,
     "metadata": {},
     "output_type": "execute_result"
    }
   ],
   "source": [
    "df"
   ]
  },
  {
   "cell_type": "code",
   "execution_count": 289,
   "metadata": {
    "scrolled": true
   },
   "outputs": [
    {
     "data": {
      "text/plain": [
       "0    1.101898e+06\n",
       "1    1.501952e+06\n",
       "2    1.031901e+06\n",
       "3    1.201900e+06\n",
       "4    1.101950e+06\n",
       "5    1.031950e+06\n",
       "6    1.201899e+06\n",
       "7    1.201950e+06\n",
       "8    1.102000e+06\n",
       "9    1.501901e+06\n",
       "dtype: float64"
      ]
     },
     "execution_count": 289,
     "metadata": {},
     "output_type": "execute_result"
    }
   ],
   "source": [
    "df.sum(axis=1) "
   ]
  },
  {
   "cell_type": "code",
   "execution_count": 222,
   "metadata": {},
   "outputs": [
    {
     "data": {
      "text/plain": [
       "province    BarcelonaMadridMadridMadridBarcelonaBarcelonaB...\n",
       "year                                                    19300\n",
       "visitors                                             1.96e+06\n",
       "capital                                                     6\n",
       "dtype: object"
      ]
     },
     "execution_count": 222,
     "metadata": {},
     "output_type": "execute_result"
    }
   ],
   "source": [
    "df.sum(axis=0)"
   ]
  },
  {
   "cell_type": "code",
   "execution_count": 223,
   "metadata": {},
   "outputs": [
    {
     "data": {
      "text/plain": [
       "19300"
      ]
     },
     "execution_count": 223,
     "metadata": {},
     "output_type": "execute_result"
    }
   ],
   "source": [
    "df.sum(axis=0)['year']"
   ]
  },
  {
   "cell_type": "code",
   "execution_count": 291,
   "metadata": {},
   "outputs": [
    {
     "data": {
      "text/html": [
       "<div>\n",
       "<style scoped>\n",
       "    .dataframe tbody tr th:only-of-type {\n",
       "        vertical-align: middle;\n",
       "    }\n",
       "\n",
       "    .dataframe tbody tr th {\n",
       "        vertical-align: top;\n",
       "    }\n",
       "\n",
       "    .dataframe thead th {\n",
       "        text-align: right;\n",
       "    }\n",
       "</style>\n",
       "<table border=\"1\" class=\"dataframe\">\n",
       "  <thead>\n",
       "    <tr style=\"text-align: right;\">\n",
       "      <th></th>\n",
       "      <th>year</th>\n",
       "      <th>visitors</th>\n",
       "      <th>debt</th>\n",
       "      <th>2nd language</th>\n",
       "      <th>max</th>\n",
       "    </tr>\n",
       "  </thead>\n",
       "  <tbody>\n",
       "    <tr>\n",
       "      <th>count</th>\n",
       "      <td>10.000000</td>\n",
       "      <td>10.000000</td>\n",
       "      <td>10.000000</td>\n",
       "      <td>0.0</td>\n",
       "      <td>10.0</td>\n",
       "    </tr>\n",
       "    <tr>\n",
       "      <th>mean</th>\n",
       "      <td>1930.000000</td>\n",
       "      <td>196000.000000</td>\n",
       "      <td>-0.425671</td>\n",
       "      <td>NaN</td>\n",
       "      <td>1000000.0</td>\n",
       "    </tr>\n",
       "    <tr>\n",
       "      <th>std</th>\n",
       "      <td>34.960295</td>\n",
       "      <td>172446.449015</td>\n",
       "      <td>0.931680</td>\n",
       "      <td>NaN</td>\n",
       "      <td>0.0</td>\n",
       "    </tr>\n",
       "    <tr>\n",
       "      <th>min</th>\n",
       "      <td>1900.000000</td>\n",
       "      <td>30000.000000</td>\n",
       "      <td>-1.738562</td>\n",
       "      <td>NaN</td>\n",
       "      <td>1000000.0</td>\n",
       "    </tr>\n",
       "    <tr>\n",
       "      <th>25%</th>\n",
       "      <td>1900.000000</td>\n",
       "      <td>100000.000000</td>\n",
       "      <td>-1.049491</td>\n",
       "      <td>NaN</td>\n",
       "      <td>1000000.0</td>\n",
       "    </tr>\n",
       "    <tr>\n",
       "      <th>50%</th>\n",
       "      <td>1925.000000</td>\n",
       "      <td>150000.000000</td>\n",
       "      <td>-0.375086</td>\n",
       "      <td>NaN</td>\n",
       "      <td>1000000.0</td>\n",
       "    </tr>\n",
       "    <tr>\n",
       "      <th>75%</th>\n",
       "      <td>1950.000000</td>\n",
       "      <td>200000.000000</td>\n",
       "      <td>-0.041218</td>\n",
       "      <td>NaN</td>\n",
       "      <td>1000000.0</td>\n",
       "    </tr>\n",
       "    <tr>\n",
       "      <th>max</th>\n",
       "      <td>2000.000000</td>\n",
       "      <td>500000.000000</td>\n",
       "      <td>1.447657</td>\n",
       "      <td>NaN</td>\n",
       "      <td>1000000.0</td>\n",
       "    </tr>\n",
       "  </tbody>\n",
       "</table>\n",
       "</div>"
      ],
      "text/plain": [
       "              year       visitors       debt  2nd language        max\n",
       "count    10.000000      10.000000  10.000000           0.0       10.0\n",
       "mean   1930.000000  196000.000000  -0.425671           NaN  1000000.0\n",
       "std      34.960295  172446.449015   0.931680           NaN        0.0\n",
       "min    1900.000000   30000.000000  -1.738562           NaN  1000000.0\n",
       "25%    1900.000000  100000.000000  -1.049491           NaN  1000000.0\n",
       "50%    1925.000000  150000.000000  -0.375086           NaN  1000000.0\n",
       "75%    1950.000000  200000.000000  -0.041218           NaN  1000000.0\n",
       "max    2000.000000  500000.000000   1.447657           NaN  1000000.0"
      ]
     },
     "execution_count": 291,
     "metadata": {},
     "output_type": "execute_result"
    }
   ],
   "source": [
    "df.describe()"
   ]
  },
  {
   "cell_type": "markdown",
   "metadata": {
    "slideshow": {
     "slide_type": "slide"
    }
   },
   "source": [
    "### Index objects\n",
    "\n",
    "Indexes are immutable."
   ]
  },
  {
   "cell_type": "code",
   "execution_count": 224,
   "metadata": {},
   "outputs": [
    {
     "ename": "TypeError",
     "evalue": "Index does not support mutable operations",
     "output_type": "error",
     "traceback": [
      "\u001b[0;31m---------------------------------------------------------------------------\u001b[0m",
      "\u001b[0;31mTypeError\u001b[0m                                 Traceback (most recent call last)",
      "\u001b[0;32m<ipython-input-224-dc3b0e83166b>\u001b[0m in \u001b[0;36m<module>\u001b[0;34m\u001b[0m\n\u001b[0;32m----> 1\u001b[0;31m \u001b[0mdf\u001b[0m\u001b[0;34m.\u001b[0m\u001b[0mindex\u001b[0m\u001b[0;34m[\u001b[0m\u001b[0;36m1\u001b[0m\u001b[0;34m]\u001b[0m \u001b[0;34m=\u001b[0m \u001b[0;34m'b'\u001b[0m\u001b[0;34m\u001b[0m\u001b[0;34m\u001b[0m\u001b[0m\n\u001b[0m",
      "\u001b[0;32m~/anaconda3/lib/python3.7/site-packages/pandas/core/indexes/base.py\u001b[0m in \u001b[0;36m__setitem__\u001b[0;34m(self, key, value)\u001b[0m\n\u001b[1;32m   2063\u001b[0m \u001b[0;34m\u001b[0m\u001b[0m\n\u001b[1;32m   2064\u001b[0m     \u001b[0;32mdef\u001b[0m \u001b[0m__setitem__\u001b[0m\u001b[0;34m(\u001b[0m\u001b[0mself\u001b[0m\u001b[0;34m,\u001b[0m \u001b[0mkey\u001b[0m\u001b[0;34m,\u001b[0m \u001b[0mvalue\u001b[0m\u001b[0;34m)\u001b[0m\u001b[0;34m:\u001b[0m\u001b[0;34m\u001b[0m\u001b[0;34m\u001b[0m\u001b[0m\n\u001b[0;32m-> 2065\u001b[0;31m         \u001b[0;32mraise\u001b[0m \u001b[0mTypeError\u001b[0m\u001b[0;34m(\u001b[0m\u001b[0;34m\"Index does not support mutable operations\"\u001b[0m\u001b[0;34m)\u001b[0m\u001b[0;34m\u001b[0m\u001b[0;34m\u001b[0m\u001b[0m\n\u001b[0m\u001b[1;32m   2066\u001b[0m \u001b[0;34m\u001b[0m\u001b[0m\n\u001b[1;32m   2067\u001b[0m     \u001b[0;32mdef\u001b[0m \u001b[0m__getitem__\u001b[0m\u001b[0;34m(\u001b[0m\u001b[0mself\u001b[0m\u001b[0;34m,\u001b[0m \u001b[0mkey\u001b[0m\u001b[0;34m)\u001b[0m\u001b[0;34m:\u001b[0m\u001b[0;34m\u001b[0m\u001b[0;34m\u001b[0m\u001b[0m\n",
      "\u001b[0;31mTypeError\u001b[0m: Index does not support mutable operations"
     ]
    }
   ],
   "source": [
    "df.index[1] = 'b'"
   ]
  },
  {
   "cell_type": "code",
   "execution_count": 225,
   "metadata": {},
   "outputs": [
    {
     "data": {
      "text/html": [
       "<div>\n",
       "<style scoped>\n",
       "    .dataframe tbody tr th:only-of-type {\n",
       "        vertical-align: middle;\n",
       "    }\n",
       "\n",
       "    .dataframe tbody tr th {\n",
       "        vertical-align: top;\n",
       "    }\n",
       "\n",
       "    .dataframe thead th {\n",
       "        text-align: right;\n",
       "    }\n",
       "</style>\n",
       "<table border=\"1\" class=\"dataframe\">\n",
       "  <thead>\n",
       "    <tr style=\"text-align: right;\">\n",
       "      <th></th>\n",
       "      <th>province</th>\n",
       "      <th>year</th>\n",
       "      <th>visitors</th>\n",
       "      <th>capital</th>\n",
       "    </tr>\n",
       "  </thead>\n",
       "  <tbody>\n",
       "    <tr>\n",
       "      <th>a</th>\n",
       "      <td>Barcelona</td>\n",
       "      <td>1900</td>\n",
       "      <td>100000.0</td>\n",
       "      <td>False</td>\n",
       "    </tr>\n",
       "    <tr>\n",
       "      <th>b</th>\n",
       "      <td>Madrid</td>\n",
       "      <td>1950</td>\n",
       "      <td>500000.0</td>\n",
       "      <td>True</td>\n",
       "    </tr>\n",
       "    <tr>\n",
       "      <th>c</th>\n",
       "      <td>Madrid</td>\n",
       "      <td>1900</td>\n",
       "      <td>30000.0</td>\n",
       "      <td>True</td>\n",
       "    </tr>\n",
       "    <tr>\n",
       "      <th>d</th>\n",
       "      <td>Madrid</td>\n",
       "      <td>1900</td>\n",
       "      <td>200000.0</td>\n",
       "      <td>True</td>\n",
       "    </tr>\n",
       "    <tr>\n",
       "      <th>e</th>\n",
       "      <td>Barcelona</td>\n",
       "      <td>1950</td>\n",
       "      <td>100000.0</td>\n",
       "      <td>False</td>\n",
       "    </tr>\n",
       "    <tr>\n",
       "      <th>f</th>\n",
       "      <td>Barcelona</td>\n",
       "      <td>1950</td>\n",
       "      <td>30000.0</td>\n",
       "      <td>False</td>\n",
       "    </tr>\n",
       "    <tr>\n",
       "      <th>g</th>\n",
       "      <td>Barcelona</td>\n",
       "      <td>1900</td>\n",
       "      <td>200000.0</td>\n",
       "      <td>False</td>\n",
       "    </tr>\n",
       "    <tr>\n",
       "      <th>h</th>\n",
       "      <td>Madrid</td>\n",
       "      <td>1950</td>\n",
       "      <td>200000.0</td>\n",
       "      <td>True</td>\n",
       "    </tr>\n",
       "    <tr>\n",
       "      <th>i</th>\n",
       "      <td>Madrid</td>\n",
       "      <td>2000</td>\n",
       "      <td>100000.0</td>\n",
       "      <td>True</td>\n",
       "    </tr>\n",
       "    <tr>\n",
       "      <th>j</th>\n",
       "      <td>Madrid</td>\n",
       "      <td>1900</td>\n",
       "      <td>500000.0</td>\n",
       "      <td>True</td>\n",
       "    </tr>\n",
       "  </tbody>\n",
       "</table>\n",
       "</div>"
      ],
      "text/plain": [
       "    province  year  visitors  capital\n",
       "a  Barcelona  1900  100000.0    False\n",
       "b     Madrid  1950  500000.0     True\n",
       "c     Madrid  1900   30000.0     True\n",
       "d     Madrid  1900  200000.0     True\n",
       "e  Barcelona  1950  100000.0    False\n",
       "f  Barcelona  1950   30000.0    False\n",
       "g  Barcelona  1900  200000.0    False\n",
       "h     Madrid  1950  200000.0     True\n",
       "i     Madrid  2000  100000.0     True\n",
       "j     Madrid  1900  500000.0     True"
      ]
     },
     "execution_count": 225,
     "metadata": {},
     "output_type": "execute_result"
    }
   ],
   "source": [
    "df.index = list('abcdefghij')\n",
    "df"
   ]
  },
  {
   "cell_type": "code",
   "execution_count": 227,
   "metadata": {},
   "outputs": [
    {
     "data": {
      "text/html": [
       "<div>\n",
       "<style scoped>\n",
       "    .dataframe tbody tr th:only-of-type {\n",
       "        vertical-align: middle;\n",
       "    }\n",
       "\n",
       "    .dataframe tbody tr th {\n",
       "        vertical-align: top;\n",
       "    }\n",
       "\n",
       "    .dataframe thead th {\n",
       "        text-align: right;\n",
       "    }\n",
       "</style>\n",
       "<table border=\"1\" class=\"dataframe\">\n",
       "  <thead>\n",
       "    <tr style=\"text-align: right;\">\n",
       "      <th></th>\n",
       "      <th>province</th>\n",
       "      <th>year</th>\n",
       "      <th>visitors</th>\n",
       "      <th>capital</th>\n",
       "    </tr>\n",
       "  </thead>\n",
       "  <tbody>\n",
       "    <tr>\n",
       "      <th>row_a</th>\n",
       "      <td>Barcelona</td>\n",
       "      <td>1900</td>\n",
       "      <td>100000.0</td>\n",
       "      <td>False</td>\n",
       "    </tr>\n",
       "    <tr>\n",
       "      <th>row_b</th>\n",
       "      <td>Madrid</td>\n",
       "      <td>1950</td>\n",
       "      <td>500000.0</td>\n",
       "      <td>True</td>\n",
       "    </tr>\n",
       "    <tr>\n",
       "      <th>row_c</th>\n",
       "      <td>Madrid</td>\n",
       "      <td>1900</td>\n",
       "      <td>30000.0</td>\n",
       "      <td>True</td>\n",
       "    </tr>\n",
       "    <tr>\n",
       "      <th>row_d</th>\n",
       "      <td>Madrid</td>\n",
       "      <td>1900</td>\n",
       "      <td>200000.0</td>\n",
       "      <td>True</td>\n",
       "    </tr>\n",
       "    <tr>\n",
       "      <th>row_e</th>\n",
       "      <td>Barcelona</td>\n",
       "      <td>1950</td>\n",
       "      <td>100000.0</td>\n",
       "      <td>False</td>\n",
       "    </tr>\n",
       "    <tr>\n",
       "      <th>row_f</th>\n",
       "      <td>Barcelona</td>\n",
       "      <td>1950</td>\n",
       "      <td>30000.0</td>\n",
       "      <td>False</td>\n",
       "    </tr>\n",
       "    <tr>\n",
       "      <th>row_g</th>\n",
       "      <td>Barcelona</td>\n",
       "      <td>1900</td>\n",
       "      <td>200000.0</td>\n",
       "      <td>False</td>\n",
       "    </tr>\n",
       "    <tr>\n",
       "      <th>row_h</th>\n",
       "      <td>Madrid</td>\n",
       "      <td>1950</td>\n",
       "      <td>200000.0</td>\n",
       "      <td>True</td>\n",
       "    </tr>\n",
       "    <tr>\n",
       "      <th>row_i</th>\n",
       "      <td>Madrid</td>\n",
       "      <td>2000</td>\n",
       "      <td>100000.0</td>\n",
       "      <td>True</td>\n",
       "    </tr>\n",
       "    <tr>\n",
       "      <th>row_j</th>\n",
       "      <td>Madrid</td>\n",
       "      <td>1900</td>\n",
       "      <td>500000.0</td>\n",
       "      <td>True</td>\n",
       "    </tr>\n",
       "  </tbody>\n",
       "</table>\n",
       "</div>"
      ],
      "text/plain": [
       "        province  year  visitors  capital\n",
       "row_a  Barcelona  1900  100000.0    False\n",
       "row_b     Madrid  1950  500000.0     True\n",
       "row_c     Madrid  1900   30000.0     True\n",
       "row_d     Madrid  1900  200000.0     True\n",
       "row_e  Barcelona  1950  100000.0    False\n",
       "row_f  Barcelona  1950   30000.0    False\n",
       "row_g  Barcelona  1900  200000.0    False\n",
       "row_h     Madrid  1950  200000.0     True\n",
       "row_i     Madrid  2000  100000.0     True\n",
       "row_j     Madrid  1900  500000.0     True"
      ]
     },
     "execution_count": 227,
     "metadata": {},
     "output_type": "execute_result"
    }
   ],
   "source": [
    "df.rename(lambda cosa: 'row_' + cosa )"
   ]
  },
  {
   "cell_type": "code",
   "execution_count": 228,
   "metadata": {},
   "outputs": [
    {
     "data": {
      "text/plain": [
       "province    Barcelona\n",
       "year             1900\n",
       "visitors       100000\n",
       "capital         False\n",
       "Name: a, dtype: object"
      ]
     },
     "execution_count": 228,
     "metadata": {},
     "output_type": "execute_result"
    }
   ],
   "source": [
    "df.loc['a']"
   ]
  },
  {
   "cell_type": "code",
   "execution_count": 229,
   "metadata": {},
   "outputs": [
    {
     "data": {
      "text/html": [
       "<div>\n",
       "<style scoped>\n",
       "    .dataframe tbody tr th:only-of-type {\n",
       "        vertical-align: middle;\n",
       "    }\n",
       "\n",
       "    .dataframe tbody tr th {\n",
       "        vertical-align: top;\n",
       "    }\n",
       "\n",
       "    .dataframe thead th {\n",
       "        text-align: right;\n",
       "    }\n",
       "</style>\n",
       "<table border=\"1\" class=\"dataframe\">\n",
       "  <thead>\n",
       "    <tr style=\"text-align: right;\">\n",
       "      <th></th>\n",
       "      <th>province</th>\n",
       "      <th>year</th>\n",
       "      <th>visitors</th>\n",
       "      <th>capital</th>\n",
       "    </tr>\n",
       "  </thead>\n",
       "  <tbody>\n",
       "    <tr>\n",
       "      <th>h</th>\n",
       "      <td>Madrid</td>\n",
       "      <td>1950</td>\n",
       "      <td>200000.0</td>\n",
       "      <td>True</td>\n",
       "    </tr>\n",
       "    <tr>\n",
       "      <th>i</th>\n",
       "      <td>Madrid</td>\n",
       "      <td>2000</td>\n",
       "      <td>100000.0</td>\n",
       "      <td>True</td>\n",
       "    </tr>\n",
       "    <tr>\n",
       "      <th>j</th>\n",
       "      <td>Madrid</td>\n",
       "      <td>1900</td>\n",
       "      <td>500000.0</td>\n",
       "      <td>True</td>\n",
       "    </tr>\n",
       "  </tbody>\n",
       "</table>\n",
       "</div>"
      ],
      "text/plain": [
       "  province  year  visitors  capital\n",
       "h   Madrid  1950  200000.0     True\n",
       "i   Madrid  2000  100000.0     True\n",
       "j   Madrid  1900  500000.0     True"
      ]
     },
     "execution_count": 229,
     "metadata": {},
     "output_type": "execute_result"
    }
   ],
   "source": [
    "df.loc['h':]"
   ]
  },
  {
   "cell_type": "code",
   "execution_count": 230,
   "metadata": {},
   "outputs": [
    {
     "data": {
      "text/html": [
       "<div>\n",
       "<style scoped>\n",
       "    .dataframe tbody tr th:only-of-type {\n",
       "        vertical-align: middle;\n",
       "    }\n",
       "\n",
       "    .dataframe tbody tr th {\n",
       "        vertical-align: top;\n",
       "    }\n",
       "\n",
       "    .dataframe thead th {\n",
       "        text-align: right;\n",
       "    }\n",
       "</style>\n",
       "<table border=\"1\" class=\"dataframe\">\n",
       "  <thead>\n",
       "    <tr style=\"text-align: right;\">\n",
       "      <th></th>\n",
       "      <th>province</th>\n",
       "      <th>year</th>\n",
       "      <th>visitors</th>\n",
       "      <th>capital</th>\n",
       "    </tr>\n",
       "  </thead>\n",
       "  <tbody>\n",
       "    <tr>\n",
       "      <th>a</th>\n",
       "      <td>Barcelona</td>\n",
       "      <td>1900</td>\n",
       "      <td>100000.0</td>\n",
       "      <td>False</td>\n",
       "    </tr>\n",
       "    <tr>\n",
       "      <th>b</th>\n",
       "      <td>Madrid</td>\n",
       "      <td>1950</td>\n",
       "      <td>500000.0</td>\n",
       "      <td>True</td>\n",
       "    </tr>\n",
       "    <tr>\n",
       "      <th>c</th>\n",
       "      <td>Madrid</td>\n",
       "      <td>1900</td>\n",
       "      <td>30000.0</td>\n",
       "      <td>True</td>\n",
       "    </tr>\n",
       "  </tbody>\n",
       "</table>\n",
       "</div>"
      ],
      "text/plain": [
       "    province  year  visitors  capital\n",
       "a  Barcelona  1900  100000.0    False\n",
       "b     Madrid  1950  500000.0     True\n",
       "c     Madrid  1900   30000.0     True"
      ]
     },
     "execution_count": 230,
     "metadata": {},
     "output_type": "execute_result"
    }
   ],
   "source": [
    "df.iloc[:3]"
   ]
  },
  {
   "cell_type": "markdown",
   "metadata": {
    "slideshow": {
     "slide_type": "slide"
    }
   },
   "source": [
    "### Dropping entries from an axis"
   ]
  },
  {
   "cell_type": "code",
   "execution_count": 308,
   "metadata": {},
   "outputs": [
    {
     "data": {
      "text/html": [
       "<div>\n",
       "<style scoped>\n",
       "    .dataframe tbody tr th:only-of-type {\n",
       "        vertical-align: middle;\n",
       "    }\n",
       "\n",
       "    .dataframe tbody tr th {\n",
       "        vertical-align: top;\n",
       "    }\n",
       "\n",
       "    .dataframe thead th {\n",
       "        text-align: right;\n",
       "    }\n",
       "</style>\n",
       "<table border=\"1\" class=\"dataframe\">\n",
       "  <thead>\n",
       "    <tr style=\"text-align: right;\">\n",
       "      <th></th>\n",
       "      <th>province</th>\n",
       "      <th>year</th>\n",
       "      <th>visitors</th>\n",
       "      <th>debt</th>\n",
       "      <th>2nd language</th>\n",
       "      <th>max</th>\n",
       "      <th>capital</th>\n",
       "    </tr>\n",
       "  </thead>\n",
       "  <tbody>\n",
       "    <tr>\n",
       "      <th>a</th>\n",
       "      <td>Barcelona</td>\n",
       "      <td>1900</td>\n",
       "      <td>100000.0</td>\n",
       "      <td>-1.738562</td>\n",
       "      <td>NaN</td>\n",
       "      <td>1000000.0</td>\n",
       "      <td>False</td>\n",
       "    </tr>\n",
       "    <tr>\n",
       "      <th>c</th>\n",
       "      <td>Madrid</td>\n",
       "      <td>1900</td>\n",
       "      <td>30000.0</td>\n",
       "      <td>0.284791</td>\n",
       "      <td>NaN</td>\n",
       "      <td>1000000.0</td>\n",
       "      <td>True</td>\n",
       "    </tr>\n",
       "    <tr>\n",
       "      <th>d</th>\n",
       "      <td>Madrid</td>\n",
       "      <td>1900</td>\n",
       "      <td>200000.0</td>\n",
       "      <td>-1.095707</td>\n",
       "      <td>NaN</td>\n",
       "      <td>1000000.0</td>\n",
       "      <td>True</td>\n",
       "    </tr>\n",
       "    <tr>\n",
       "      <th>e</th>\n",
       "      <td>Barcelona</td>\n",
       "      <td>1950</td>\n",
       "      <td>100000.0</td>\n",
       "      <td>-0.046081</td>\n",
       "      <td>NaN</td>\n",
       "      <td>1000000.0</td>\n",
       "      <td>False</td>\n",
       "    </tr>\n",
       "    <tr>\n",
       "      <th>f</th>\n",
       "      <td>Barcelona</td>\n",
       "      <td>1950</td>\n",
       "      <td>30000.0</td>\n",
       "      <td>-0.123597</td>\n",
       "      <td>NaN</td>\n",
       "      <td>1000000.0</td>\n",
       "      <td>False</td>\n",
       "    </tr>\n",
       "    <tr>\n",
       "      <th>g</th>\n",
       "      <td>Barcelona</td>\n",
       "      <td>1900</td>\n",
       "      <td>200000.0</td>\n",
       "      <td>-0.626574</td>\n",
       "      <td>NaN</td>\n",
       "      <td>1000000.0</td>\n",
       "      <td>False</td>\n",
       "    </tr>\n",
       "    <tr>\n",
       "      <th>h</th>\n",
       "      <td>Madrid</td>\n",
       "      <td>1950</td>\n",
       "      <td>200000.0</td>\n",
       "      <td>-0.910843</td>\n",
       "      <td>NaN</td>\n",
       "      <td>1000000.0</td>\n",
       "      <td>True</td>\n",
       "    </tr>\n",
       "    <tr>\n",
       "      <th>i</th>\n",
       "      <td>Madrid</td>\n",
       "      <td>2000</td>\n",
       "      <td>100000.0</td>\n",
       "      <td>-1.408196</td>\n",
       "      <td>NaN</td>\n",
       "      <td>1000000.0</td>\n",
       "      <td>True</td>\n",
       "    </tr>\n",
       "    <tr>\n",
       "      <th>j</th>\n",
       "      <td>Madrid</td>\n",
       "      <td>1900</td>\n",
       "      <td>500000.0</td>\n",
       "      <td>-0.039597</td>\n",
       "      <td>NaN</td>\n",
       "      <td>1000000.0</td>\n",
       "      <td>True</td>\n",
       "    </tr>\n",
       "  </tbody>\n",
       "</table>\n",
       "</div>"
      ],
      "text/plain": [
       "    province  year  visitors      debt  2nd language        max  capital\n",
       "a  Barcelona  1900  100000.0 -1.738562           NaN  1000000.0    False\n",
       "c     Madrid  1900   30000.0  0.284791           NaN  1000000.0     True\n",
       "d     Madrid  1900  200000.0 -1.095707           NaN  1000000.0     True\n",
       "e  Barcelona  1950  100000.0 -0.046081           NaN  1000000.0    False\n",
       "f  Barcelona  1950   30000.0 -0.123597           NaN  1000000.0    False\n",
       "g  Barcelona  1900  200000.0 -0.626574           NaN  1000000.0    False\n",
       "h     Madrid  1950  200000.0 -0.910843           NaN  1000000.0     True\n",
       "i     Madrid  2000  100000.0 -1.408196           NaN  1000000.0     True\n",
       "j     Madrid  1900  500000.0 -0.039597           NaN  1000000.0     True"
      ]
     },
     "execution_count": 308,
     "metadata": {},
     "output_type": "execute_result"
    }
   ],
   "source": [
    "df.drop('b')"
   ]
  },
  {
   "cell_type": "code",
   "execution_count": 309,
   "metadata": {},
   "outputs": [
    {
     "data": {
      "text/html": [
       "<div>\n",
       "<style scoped>\n",
       "    .dataframe tbody tr th:only-of-type {\n",
       "        vertical-align: middle;\n",
       "    }\n",
       "\n",
       "    .dataframe tbody tr th {\n",
       "        vertical-align: top;\n",
       "    }\n",
       "\n",
       "    .dataframe thead th {\n",
       "        text-align: right;\n",
       "    }\n",
       "</style>\n",
       "<table border=\"1\" class=\"dataframe\">\n",
       "  <thead>\n",
       "    <tr style=\"text-align: right;\">\n",
       "      <th></th>\n",
       "      <th>province</th>\n",
       "      <th>year</th>\n",
       "      <th>visitors</th>\n",
       "      <th>debt</th>\n",
       "      <th>2nd language</th>\n",
       "      <th>max</th>\n",
       "      <th>capital</th>\n",
       "    </tr>\n",
       "  </thead>\n",
       "  <tbody>\n",
       "    <tr>\n",
       "      <th>b</th>\n",
       "      <td>Madrid</td>\n",
       "      <td>1950</td>\n",
       "      <td>500000.0</td>\n",
       "      <td>1.447657</td>\n",
       "      <td>NaN</td>\n",
       "      <td>1000000.0</td>\n",
       "      <td>True</td>\n",
       "    </tr>\n",
       "    <tr>\n",
       "      <th>d</th>\n",
       "      <td>Madrid</td>\n",
       "      <td>1900</td>\n",
       "      <td>200000.0</td>\n",
       "      <td>-1.095707</td>\n",
       "      <td>NaN</td>\n",
       "      <td>1000000.0</td>\n",
       "      <td>True</td>\n",
       "    </tr>\n",
       "    <tr>\n",
       "      <th>e</th>\n",
       "      <td>Barcelona</td>\n",
       "      <td>1950</td>\n",
       "      <td>100000.0</td>\n",
       "      <td>-0.046081</td>\n",
       "      <td>NaN</td>\n",
       "      <td>1000000.0</td>\n",
       "      <td>False</td>\n",
       "    </tr>\n",
       "    <tr>\n",
       "      <th>g</th>\n",
       "      <td>Barcelona</td>\n",
       "      <td>1900</td>\n",
       "      <td>200000.0</td>\n",
       "      <td>-0.626574</td>\n",
       "      <td>NaN</td>\n",
       "      <td>1000000.0</td>\n",
       "      <td>False</td>\n",
       "    </tr>\n",
       "    <tr>\n",
       "      <th>i</th>\n",
       "      <td>Madrid</td>\n",
       "      <td>2000</td>\n",
       "      <td>100000.0</td>\n",
       "      <td>-1.408196</td>\n",
       "      <td>NaN</td>\n",
       "      <td>1000000.0</td>\n",
       "      <td>True</td>\n",
       "    </tr>\n",
       "  </tbody>\n",
       "</table>\n",
       "</div>"
      ],
      "text/plain": [
       "    province  year  visitors      debt  2nd language        max  capital\n",
       "b     Madrid  1950  500000.0  1.447657           NaN  1000000.0     True\n",
       "d     Madrid  1900  200000.0 -1.095707           NaN  1000000.0     True\n",
       "e  Barcelona  1950  100000.0 -0.046081           NaN  1000000.0    False\n",
       "g  Barcelona  1900  200000.0 -0.626574           NaN  1000000.0    False\n",
       "i     Madrid  2000  100000.0 -1.408196           NaN  1000000.0     True"
      ]
     },
     "execution_count": 309,
     "metadata": {},
     "output_type": "execute_result"
    }
   ],
   "source": [
    "df.drop(list('acjhf'))"
   ]
  },
  {
   "cell_type": "code",
   "execution_count": 310,
   "metadata": {
    "collapsed": true
   },
   "outputs": [
    {
     "data": {
      "text/html": [
       "<div>\n",
       "<style scoped>\n",
       "    .dataframe tbody tr th:only-of-type {\n",
       "        vertical-align: middle;\n",
       "    }\n",
       "\n",
       "    .dataframe tbody tr th {\n",
       "        vertical-align: top;\n",
       "    }\n",
       "\n",
       "    .dataframe thead th {\n",
       "        text-align: right;\n",
       "    }\n",
       "</style>\n",
       "<table border=\"1\" class=\"dataframe\">\n",
       "  <thead>\n",
       "    <tr style=\"text-align: right;\">\n",
       "      <th></th>\n",
       "      <th>province</th>\n",
       "      <th>year</th>\n",
       "      <th>visitors</th>\n",
       "      <th>debt</th>\n",
       "      <th>max</th>\n",
       "      <th>capital</th>\n",
       "    </tr>\n",
       "  </thead>\n",
       "  <tbody>\n",
       "    <tr>\n",
       "      <th>a</th>\n",
       "      <td>Barcelona</td>\n",
       "      <td>1900</td>\n",
       "      <td>100000.0</td>\n",
       "      <td>-1.738562</td>\n",
       "      <td>1000000.0</td>\n",
       "      <td>False</td>\n",
       "    </tr>\n",
       "    <tr>\n",
       "      <th>b</th>\n",
       "      <td>Madrid</td>\n",
       "      <td>1950</td>\n",
       "      <td>500000.0</td>\n",
       "      <td>1.447657</td>\n",
       "      <td>1000000.0</td>\n",
       "      <td>True</td>\n",
       "    </tr>\n",
       "    <tr>\n",
       "      <th>c</th>\n",
       "      <td>Madrid</td>\n",
       "      <td>1900</td>\n",
       "      <td>30000.0</td>\n",
       "      <td>0.284791</td>\n",
       "      <td>1000000.0</td>\n",
       "      <td>True</td>\n",
       "    </tr>\n",
       "    <tr>\n",
       "      <th>d</th>\n",
       "      <td>Madrid</td>\n",
       "      <td>1900</td>\n",
       "      <td>200000.0</td>\n",
       "      <td>-1.095707</td>\n",
       "      <td>1000000.0</td>\n",
       "      <td>True</td>\n",
       "    </tr>\n",
       "    <tr>\n",
       "      <th>e</th>\n",
       "      <td>Barcelona</td>\n",
       "      <td>1950</td>\n",
       "      <td>100000.0</td>\n",
       "      <td>-0.046081</td>\n",
       "      <td>1000000.0</td>\n",
       "      <td>False</td>\n",
       "    </tr>\n",
       "    <tr>\n",
       "      <th>f</th>\n",
       "      <td>Barcelona</td>\n",
       "      <td>1950</td>\n",
       "      <td>30000.0</td>\n",
       "      <td>-0.123597</td>\n",
       "      <td>1000000.0</td>\n",
       "      <td>False</td>\n",
       "    </tr>\n",
       "    <tr>\n",
       "      <th>g</th>\n",
       "      <td>Barcelona</td>\n",
       "      <td>1900</td>\n",
       "      <td>200000.0</td>\n",
       "      <td>-0.626574</td>\n",
       "      <td>1000000.0</td>\n",
       "      <td>False</td>\n",
       "    </tr>\n",
       "    <tr>\n",
       "      <th>h</th>\n",
       "      <td>Madrid</td>\n",
       "      <td>1950</td>\n",
       "      <td>200000.0</td>\n",
       "      <td>-0.910843</td>\n",
       "      <td>1000000.0</td>\n",
       "      <td>True</td>\n",
       "    </tr>\n",
       "    <tr>\n",
       "      <th>i</th>\n",
       "      <td>Madrid</td>\n",
       "      <td>2000</td>\n",
       "      <td>100000.0</td>\n",
       "      <td>-1.408196</td>\n",
       "      <td>1000000.0</td>\n",
       "      <td>True</td>\n",
       "    </tr>\n",
       "    <tr>\n",
       "      <th>j</th>\n",
       "      <td>Madrid</td>\n",
       "      <td>1900</td>\n",
       "      <td>500000.0</td>\n",
       "      <td>-0.039597</td>\n",
       "      <td>1000000.0</td>\n",
       "      <td>True</td>\n",
       "    </tr>\n",
       "  </tbody>\n",
       "</table>\n",
       "</div>"
      ],
      "text/plain": [
       "    province  year  visitors      debt        max  capital\n",
       "a  Barcelona  1900  100000.0 -1.738562  1000000.0    False\n",
       "b     Madrid  1950  500000.0  1.447657  1000000.0     True\n",
       "c     Madrid  1900   30000.0  0.284791  1000000.0     True\n",
       "d     Madrid  1900  200000.0 -1.095707  1000000.0     True\n",
       "e  Barcelona  1950  100000.0 -0.046081  1000000.0    False\n",
       "f  Barcelona  1950   30000.0 -0.123597  1000000.0    False\n",
       "g  Barcelona  1900  200000.0 -0.626574  1000000.0    False\n",
       "h     Madrid  1950  200000.0 -0.910843  1000000.0     True\n",
       "i     Madrid  2000  100000.0 -1.408196  1000000.0     True\n",
       "j     Madrid  1900  500000.0 -0.039597  1000000.0     True"
      ]
     },
     "execution_count": 310,
     "metadata": {},
     "output_type": "execute_result"
    }
   ],
   "source": [
    "df.drop('2nd language', axis=1)"
   ]
  },
  {
   "cell_type": "markdown",
   "metadata": {},
   "source": [
    "By default, `drop()` doesn't modify the original Series- it creates a copy. We can change that with the argument `inplace`."
   ]
  },
  {
   "cell_type": "code",
   "execution_count": 315,
   "metadata": {},
   "outputs": [
    {
     "data": {
      "text/plain": [
       "a    4\n",
       "c    2\n",
       "e    8\n",
       "f    1\n",
       "dtype: int64"
      ]
     },
     "execution_count": 315,
     "metadata": {},
     "output_type": "execute_result"
    }
   ],
   "source": [
    "series2 = series.drop(['b', 'd'])\n",
    "series2"
   ]
  },
  {
   "cell_type": "code",
   "execution_count": 316,
   "metadata": {},
   "outputs": [
    {
     "data": {
      "text/plain": [
       "a    4\n",
       "b    2\n",
       "c    2\n",
       "d    3\n",
       "e    8\n",
       "f    1\n",
       "dtype: int64"
      ]
     },
     "execution_count": 316,
     "metadata": {},
     "output_type": "execute_result"
    }
   ],
   "source": [
    "series"
   ]
  },
  {
   "cell_type": "code",
   "execution_count": 317,
   "metadata": {},
   "outputs": [],
   "source": [
    "series.drop(['b', 'd'], inplace=True)"
   ]
  },
  {
   "cell_type": "code",
   "execution_count": 318,
   "metadata": {},
   "outputs": [
    {
     "data": {
      "text/plain": [
       "a    4\n",
       "c    2\n",
       "e    8\n",
       "f    1\n",
       "dtype: int64"
      ]
     },
     "execution_count": 318,
     "metadata": {},
     "output_type": "execute_result"
    }
   ],
   "source": [
    "series"
   ]
  },
  {
   "cell_type": "markdown",
   "metadata": {
    "slideshow": {
     "slide_type": "slide"
    }
   },
   "source": [
    "### Indexing, selection, and filtering\n",
    "\n",
    "The key here is that we can build boolean Series that we can use to index the original Series or DataFrame. Those booleans can be combined with bitwise boolean operators (&, |, ~) to get filters that are as complex as we need. "
   ]
  },
  {
   "cell_type": "code",
   "execution_count": 321,
   "metadata": {},
   "outputs": [
    {
     "data": {
      "text/html": [
       "<div>\n",
       "<style scoped>\n",
       "    .dataframe tbody tr th:only-of-type {\n",
       "        vertical-align: middle;\n",
       "    }\n",
       "\n",
       "    .dataframe tbody tr th {\n",
       "        vertical-align: top;\n",
       "    }\n",
       "\n",
       "    .dataframe thead th {\n",
       "        text-align: right;\n",
       "    }\n",
       "</style>\n",
       "<table border=\"1\" class=\"dataframe\">\n",
       "  <thead>\n",
       "    <tr style=\"text-align: right;\">\n",
       "      <th></th>\n",
       "      <th>province</th>\n",
       "      <th>year</th>\n",
       "      <th>visitors</th>\n",
       "      <th>debt</th>\n",
       "      <th>2nd language</th>\n",
       "      <th>max</th>\n",
       "      <th>capital</th>\n",
       "    </tr>\n",
       "  </thead>\n",
       "  <tbody>\n",
       "    <tr>\n",
       "      <th>g</th>\n",
       "      <td>Barcelona</td>\n",
       "      <td>1900</td>\n",
       "      <td>200000.0</td>\n",
       "      <td>-0.626574</td>\n",
       "      <td>NaN</td>\n",
       "      <td>1000000.0</td>\n",
       "      <td>False</td>\n",
       "    </tr>\n",
       "    <tr>\n",
       "      <th>h</th>\n",
       "      <td>Madrid</td>\n",
       "      <td>1950</td>\n",
       "      <td>200000.0</td>\n",
       "      <td>-0.910843</td>\n",
       "      <td>NaN</td>\n",
       "      <td>1000000.0</td>\n",
       "      <td>True</td>\n",
       "    </tr>\n",
       "  </tbody>\n",
       "</table>\n",
       "</div>"
      ],
      "text/plain": [
       "    province  year  visitors      debt  2nd language        max  capital\n",
       "g  Barcelona  1900  200000.0 -0.626574           NaN  1000000.0    False\n",
       "h     Madrid  1950  200000.0 -0.910843           NaN  1000000.0     True"
      ]
     },
     "execution_count": 321,
     "metadata": {},
     "output_type": "execute_result"
    }
   ],
   "source": [
    "df.loc['g':'h']"
   ]
  },
  {
   "cell_type": "code",
   "execution_count": 325,
   "metadata": {},
   "outputs": [
    {
     "data": {
      "text/html": [
       "<div>\n",
       "<style scoped>\n",
       "    .dataframe tbody tr th:only-of-type {\n",
       "        vertical-align: middle;\n",
       "    }\n",
       "\n",
       "    .dataframe tbody tr th {\n",
       "        vertical-align: top;\n",
       "    }\n",
       "\n",
       "    .dataframe thead th {\n",
       "        text-align: right;\n",
       "    }\n",
       "</style>\n",
       "<table border=\"1\" class=\"dataframe\">\n",
       "  <thead>\n",
       "    <tr style=\"text-align: right;\">\n",
       "      <th></th>\n",
       "      <th>province</th>\n",
       "      <th>year</th>\n",
       "      <th>visitors</th>\n",
       "      <th>debt</th>\n",
       "      <th>2nd language</th>\n",
       "      <th>max</th>\n",
       "      <th>capital</th>\n",
       "    </tr>\n",
       "  </thead>\n",
       "  <tbody>\n",
       "    <tr>\n",
       "      <th>h</th>\n",
       "      <td>Madrid</td>\n",
       "      <td>1950</td>\n",
       "      <td>200000.0</td>\n",
       "      <td>-0.910843</td>\n",
       "      <td>NaN</td>\n",
       "      <td>1000000.0</td>\n",
       "      <td>True</td>\n",
       "    </tr>\n",
       "    <tr>\n",
       "      <th>i</th>\n",
       "      <td>Madrid</td>\n",
       "      <td>2000</td>\n",
       "      <td>100000.0</td>\n",
       "      <td>-1.408196</td>\n",
       "      <td>NaN</td>\n",
       "      <td>1000000.0</td>\n",
       "      <td>True</td>\n",
       "    </tr>\n",
       "    <tr>\n",
       "      <th>j</th>\n",
       "      <td>Madrid</td>\n",
       "      <td>1900</td>\n",
       "      <td>500000.0</td>\n",
       "      <td>-0.039597</td>\n",
       "      <td>NaN</td>\n",
       "      <td>1000000.0</td>\n",
       "      <td>True</td>\n",
       "    </tr>\n",
       "  </tbody>\n",
       "</table>\n",
       "</div>"
      ],
      "text/plain": [
       "  province  year  visitors      debt  2nd language        max  capital\n",
       "h   Madrid  1950  200000.0 -0.910843           NaN  1000000.0     True\n",
       "i   Madrid  2000  100000.0 -1.408196           NaN  1000000.0     True\n",
       "j   Madrid  1900  500000.0 -0.039597           NaN  1000000.0     True"
      ]
     },
     "execution_count": 325,
     "metadata": {},
     "output_type": "execute_result"
    }
   ],
   "source": [
    "df.iloc[7:]"
   ]
  },
  {
   "cell_type": "code",
   "execution_count": 234,
   "metadata": {
    "scrolled": true
   },
   "outputs": [
    {
     "data": {
      "text/html": [
       "<div>\n",
       "<style scoped>\n",
       "    .dataframe tbody tr th:only-of-type {\n",
       "        vertical-align: middle;\n",
       "    }\n",
       "\n",
       "    .dataframe tbody tr th {\n",
       "        vertical-align: top;\n",
       "    }\n",
       "\n",
       "    .dataframe thead th {\n",
       "        text-align: right;\n",
       "    }\n",
       "</style>\n",
       "<table border=\"1\" class=\"dataframe\">\n",
       "  <thead>\n",
       "    <tr style=\"text-align: right;\">\n",
       "      <th></th>\n",
       "      <th>year</th>\n",
       "      <th>visitors</th>\n",
       "    </tr>\n",
       "  </thead>\n",
       "  <tbody>\n",
       "    <tr>\n",
       "      <th>h</th>\n",
       "      <td>1950</td>\n",
       "      <td>200000.0</td>\n",
       "    </tr>\n",
       "    <tr>\n",
       "      <th>i</th>\n",
       "      <td>2000</td>\n",
       "      <td>100000.0</td>\n",
       "    </tr>\n",
       "    <tr>\n",
       "      <th>j</th>\n",
       "      <td>1900</td>\n",
       "      <td>500000.0</td>\n",
       "    </tr>\n",
       "  </tbody>\n",
       "</table>\n",
       "</div>"
      ],
      "text/plain": [
       "   year  visitors\n",
       "h  1950  200000.0\n",
       "i  2000  100000.0\n",
       "j  1900  500000.0"
      ]
     },
     "execution_count": 234,
     "metadata": {},
     "output_type": "execute_result"
    }
   ],
   "source": [
    "df.iloc[7:][['year','visitors']] "
   ]
  },
  {
   "cell_type": "code",
   "execution_count": 327,
   "metadata": {},
   "outputs": [
    {
     "data": {
      "text/plain": [
       "a    100000.0\n",
       "b    500000.0\n",
       "c     30000.0\n",
       "d    200000.0\n",
       "e    100000.0\n",
       "f     30000.0\n",
       "g    200000.0\n",
       "h    200000.0\n",
       "i    100000.0\n",
       "j    500000.0\n",
       "Name: visitors, dtype: float64"
      ]
     },
     "execution_count": 327,
     "metadata": {},
     "output_type": "execute_result"
    }
   ],
   "source": [
    "df['visitors'] "
   ]
  },
  {
   "cell_type": "code",
   "execution_count": 235,
   "metadata": {},
   "outputs": [
    {
     "data": {
      "text/plain": [
       "a    False\n",
       "b     True\n",
       "c    False\n",
       "d     True\n",
       "e    False\n",
       "f    False\n",
       "g     True\n",
       "h     True\n",
       "i    False\n",
       "j     True\n",
       "Name: visitors, dtype: bool"
      ]
     },
     "execution_count": 235,
     "metadata": {},
     "output_type": "execute_result"
    }
   ],
   "source": [
    "df['visitors'] > 1e5"
   ]
  },
  {
   "cell_type": "code",
   "execution_count": 236,
   "metadata": {},
   "outputs": [
    {
     "data": {
      "text/html": [
       "<div>\n",
       "<style scoped>\n",
       "    .dataframe tbody tr th:only-of-type {\n",
       "        vertical-align: middle;\n",
       "    }\n",
       "\n",
       "    .dataframe tbody tr th {\n",
       "        vertical-align: top;\n",
       "    }\n",
       "\n",
       "    .dataframe thead th {\n",
       "        text-align: right;\n",
       "    }\n",
       "</style>\n",
       "<table border=\"1\" class=\"dataframe\">\n",
       "  <thead>\n",
       "    <tr style=\"text-align: right;\">\n",
       "      <th></th>\n",
       "      <th>province</th>\n",
       "      <th>year</th>\n",
       "      <th>visitors</th>\n",
       "      <th>capital</th>\n",
       "    </tr>\n",
       "  </thead>\n",
       "  <tbody>\n",
       "    <tr>\n",
       "      <th>b</th>\n",
       "      <td>Madrid</td>\n",
       "      <td>1950</td>\n",
       "      <td>500000.0</td>\n",
       "      <td>True</td>\n",
       "    </tr>\n",
       "    <tr>\n",
       "      <th>d</th>\n",
       "      <td>Madrid</td>\n",
       "      <td>1900</td>\n",
       "      <td>200000.0</td>\n",
       "      <td>True</td>\n",
       "    </tr>\n",
       "    <tr>\n",
       "      <th>g</th>\n",
       "      <td>Barcelona</td>\n",
       "      <td>1900</td>\n",
       "      <td>200000.0</td>\n",
       "      <td>False</td>\n",
       "    </tr>\n",
       "    <tr>\n",
       "      <th>h</th>\n",
       "      <td>Madrid</td>\n",
       "      <td>1950</td>\n",
       "      <td>200000.0</td>\n",
       "      <td>True</td>\n",
       "    </tr>\n",
       "    <tr>\n",
       "      <th>j</th>\n",
       "      <td>Madrid</td>\n",
       "      <td>1900</td>\n",
       "      <td>500000.0</td>\n",
       "      <td>True</td>\n",
       "    </tr>\n",
       "  </tbody>\n",
       "</table>\n",
       "</div>"
      ],
      "text/plain": [
       "    province  year  visitors  capital\n",
       "b     Madrid  1950  500000.0     True\n",
       "d     Madrid  1900  200000.0     True\n",
       "g  Barcelona  1900  200000.0    False\n",
       "h     Madrid  1950  200000.0     True\n",
       "j     Madrid  1900  500000.0     True"
      ]
     },
     "execution_count": 236,
     "metadata": {},
     "output_type": "execute_result"
    }
   ],
   "source": [
    "df[df['visitors'] > 1e5] "
   ]
  },
  {
   "cell_type": "code",
   "execution_count": 237,
   "metadata": {},
   "outputs": [
    {
     "ename": "ValueError",
     "evalue": "The truth value of a Series is ambiguous. Use a.empty, a.bool(), a.item(), a.any() or a.all().",
     "output_type": "error",
     "traceback": [
      "\u001b[0;31m---------------------------------------------------------------------------\u001b[0m",
      "\u001b[0;31mValueError\u001b[0m                                Traceback (most recent call last)",
      "\u001b[0;32m<ipython-input-237-bb76d4356c10>\u001b[0m in \u001b[0;36m<module>\u001b[0;34m\u001b[0m\n\u001b[0;32m----> 1\u001b[0;31m \u001b[0mdf\u001b[0m\u001b[0;34m[\u001b[0m\u001b[0mdf\u001b[0m\u001b[0;34m[\u001b[0m\u001b[0;34m'visitors'\u001b[0m\u001b[0;34m]\u001b[0m \u001b[0;34m>\u001b[0m \u001b[0;36m1e5\u001b[0m \u001b[0;32mand\u001b[0m \u001b[0mdf\u001b[0m\u001b[0;34m[\u001b[0m\u001b[0;34m'debt'\u001b[0m\u001b[0;34m]\u001b[0m \u001b[0;34m<\u001b[0m \u001b[0;36m0\u001b[0m\u001b[0;34m]\u001b[0m\u001b[0;34m\u001b[0m\u001b[0;34m\u001b[0m\u001b[0m\n\u001b[0m",
      "\u001b[0;32m~/anaconda3/lib/python3.7/site-packages/pandas/core/generic.py\u001b[0m in \u001b[0;36m__nonzero__\u001b[0;34m(self)\u001b[0m\n\u001b[1;32m   1574\u001b[0m         raise ValueError(\"The truth value of a {0} is ambiguous. \"\n\u001b[1;32m   1575\u001b[0m                          \u001b[0;34m\"Use a.empty, a.bool(), a.item(), a.any() or a.all().\"\u001b[0m\u001b[0;34m\u001b[0m\u001b[0;34m\u001b[0m\u001b[0m\n\u001b[0;32m-> 1576\u001b[0;31m                          .format(self.__class__.__name__))\n\u001b[0m\u001b[1;32m   1577\u001b[0m \u001b[0;34m\u001b[0m\u001b[0m\n\u001b[1;32m   1578\u001b[0m     \u001b[0m__bool__\u001b[0m \u001b[0;34m=\u001b[0m \u001b[0m__nonzero__\u001b[0m\u001b[0;34m\u001b[0m\u001b[0;34m\u001b[0m\u001b[0m\n",
      "\u001b[0;31mValueError\u001b[0m: The truth value of a Series is ambiguous. Use a.empty, a.bool(), a.item(), a.any() or a.all()."
     ]
    }
   ],
   "source": [
    "df[df['visitors'] > 1e5 and df['debt'] < 0]"
   ]
  },
  {
   "cell_type": "code",
   "execution_count": 335,
   "metadata": {},
   "outputs": [
    {
     "data": {
      "text/plain": [
       "8"
      ]
     },
     "execution_count": 335,
     "metadata": {},
     "output_type": "execute_result"
    }
   ],
   "source": [
    "9 & 8"
   ]
  },
  {
   "cell_type": "code",
   "execution_count": 336,
   "metadata": {},
   "outputs": [
    {
     "data": {
      "text/plain": [
       "9"
      ]
     },
     "execution_count": 336,
     "metadata": {},
     "output_type": "execute_result"
    }
   ],
   "source": [
    "9 | 8"
   ]
  },
  {
   "cell_type": "code",
   "execution_count": 337,
   "metadata": {},
   "outputs": [
    {
     "data": {
      "text/plain": [
       "-9"
      ]
     },
     "execution_count": 337,
     "metadata": {},
     "output_type": "execute_result"
    }
   ],
   "source": [
    "~8"
   ]
  },
  {
   "cell_type": "code",
   "execution_count": 239,
   "metadata": {},
   "outputs": [
    {
     "data": {
      "text/plain": [
       "a    False\n",
       "b    False\n",
       "c    False\n",
       "d     True\n",
       "e    False\n",
       "f    False\n",
       "g     True\n",
       "h    False\n",
       "i    False\n",
       "j     True\n",
       "dtype: bool"
      ]
     },
     "execution_count": 239,
     "metadata": {},
     "output_type": "execute_result"
    }
   ],
   "source": [
    "(df['visitors'] > 1e5) & (df['year'] < 1950)"
   ]
  },
  {
   "cell_type": "code",
   "execution_count": 241,
   "metadata": {
    "scrolled": true
   },
   "outputs": [
    {
     "data": {
      "text/html": [
       "<div>\n",
       "<style scoped>\n",
       "    .dataframe tbody tr th:only-of-type {\n",
       "        vertical-align: middle;\n",
       "    }\n",
       "\n",
       "    .dataframe tbody tr th {\n",
       "        vertical-align: top;\n",
       "    }\n",
       "\n",
       "    .dataframe thead th {\n",
       "        text-align: right;\n",
       "    }\n",
       "</style>\n",
       "<table border=\"1\" class=\"dataframe\">\n",
       "  <thead>\n",
       "    <tr style=\"text-align: right;\">\n",
       "      <th></th>\n",
       "      <th>province</th>\n",
       "      <th>year</th>\n",
       "      <th>visitors</th>\n",
       "      <th>capital</th>\n",
       "    </tr>\n",
       "  </thead>\n",
       "  <tbody>\n",
       "    <tr>\n",
       "      <th>d</th>\n",
       "      <td>Madrid</td>\n",
       "      <td>1900</td>\n",
       "      <td>200000.0</td>\n",
       "      <td>True</td>\n",
       "    </tr>\n",
       "    <tr>\n",
       "      <th>g</th>\n",
       "      <td>Barcelona</td>\n",
       "      <td>1900</td>\n",
       "      <td>200000.0</td>\n",
       "      <td>False</td>\n",
       "    </tr>\n",
       "    <tr>\n",
       "      <th>j</th>\n",
       "      <td>Madrid</td>\n",
       "      <td>1900</td>\n",
       "      <td>500000.0</td>\n",
       "      <td>True</td>\n",
       "    </tr>\n",
       "  </tbody>\n",
       "</table>\n",
       "</div>"
      ],
      "text/plain": [
       "    province  year  visitors  capital\n",
       "d     Madrid  1900  200000.0     True\n",
       "g  Barcelona  1900  200000.0    False\n",
       "j     Madrid  1900  500000.0     True"
      ]
     },
     "execution_count": 241,
     "metadata": {},
     "output_type": "execute_result"
    }
   ],
   "source": [
    "df[(df['visitors'] > 1e5) & (df['year'] < 1950)] "
   ]
  },
  {
   "cell_type": "code",
   "execution_count": 243,
   "metadata": {},
   "outputs": [
    {
     "data": {
      "text/plain": [
       "a     True\n",
       "b     True\n",
       "c     True\n",
       "d     True\n",
       "e    False\n",
       "f    False\n",
       "g     True\n",
       "h     True\n",
       "i    False\n",
       "j     True\n",
       "dtype: bool"
      ]
     },
     "execution_count": 243,
     "metadata": {},
     "output_type": "execute_result"
    }
   ],
   "source": [
    "(df['visitors'] > 1e5) | (df['year'] < 1950)"
   ]
  },
  {
   "cell_type": "code",
   "execution_count": 242,
   "metadata": {},
   "outputs": [
    {
     "data": {
      "text/html": [
       "<div>\n",
       "<style scoped>\n",
       "    .dataframe tbody tr th:only-of-type {\n",
       "        vertical-align: middle;\n",
       "    }\n",
       "\n",
       "    .dataframe tbody tr th {\n",
       "        vertical-align: top;\n",
       "    }\n",
       "\n",
       "    .dataframe thead th {\n",
       "        text-align: right;\n",
       "    }\n",
       "</style>\n",
       "<table border=\"1\" class=\"dataframe\">\n",
       "  <thead>\n",
       "    <tr style=\"text-align: right;\">\n",
       "      <th></th>\n",
       "      <th>province</th>\n",
       "      <th>year</th>\n",
       "      <th>visitors</th>\n",
       "      <th>capital</th>\n",
       "    </tr>\n",
       "  </thead>\n",
       "  <tbody>\n",
       "    <tr>\n",
       "      <th>a</th>\n",
       "      <td>Barcelona</td>\n",
       "      <td>1900</td>\n",
       "      <td>100000.0</td>\n",
       "      <td>False</td>\n",
       "    </tr>\n",
       "    <tr>\n",
       "      <th>b</th>\n",
       "      <td>Madrid</td>\n",
       "      <td>1950</td>\n",
       "      <td>500000.0</td>\n",
       "      <td>True</td>\n",
       "    </tr>\n",
       "    <tr>\n",
       "      <th>c</th>\n",
       "      <td>Madrid</td>\n",
       "      <td>1900</td>\n",
       "      <td>30000.0</td>\n",
       "      <td>True</td>\n",
       "    </tr>\n",
       "    <tr>\n",
       "      <th>d</th>\n",
       "      <td>Madrid</td>\n",
       "      <td>1900</td>\n",
       "      <td>200000.0</td>\n",
       "      <td>True</td>\n",
       "    </tr>\n",
       "    <tr>\n",
       "      <th>g</th>\n",
       "      <td>Barcelona</td>\n",
       "      <td>1900</td>\n",
       "      <td>200000.0</td>\n",
       "      <td>False</td>\n",
       "    </tr>\n",
       "    <tr>\n",
       "      <th>h</th>\n",
       "      <td>Madrid</td>\n",
       "      <td>1950</td>\n",
       "      <td>200000.0</td>\n",
       "      <td>True</td>\n",
       "    </tr>\n",
       "    <tr>\n",
       "      <th>j</th>\n",
       "      <td>Madrid</td>\n",
       "      <td>1900</td>\n",
       "      <td>500000.0</td>\n",
       "      <td>True</td>\n",
       "    </tr>\n",
       "  </tbody>\n",
       "</table>\n",
       "</div>"
      ],
      "text/plain": [
       "    province  year  visitors  capital\n",
       "a  Barcelona  1900  100000.0    False\n",
       "b     Madrid  1950  500000.0     True\n",
       "c     Madrid  1900   30000.0     True\n",
       "d     Madrid  1900  200000.0     True\n",
       "g  Barcelona  1900  200000.0    False\n",
       "h     Madrid  1950  200000.0     True\n",
       "j     Madrid  1900  500000.0     True"
      ]
     },
     "execution_count": 242,
     "metadata": {},
     "output_type": "execute_result"
    }
   ],
   "source": [
    "df[(df['visitors'] > 1e5) | (df['year'] < 1950)] "
   ]
  },
  {
   "cell_type": "markdown",
   "metadata": {
    "slideshow": {
     "slide_type": "slide"
    }
   },
   "source": [
    "### Function application and mapping\n",
    "\n",
    "Function application and mapping allows us to modify the elements of a DataFrame (columns with apply or elements with applymap) without for loops. This way we are not constrained to the functions already implemented by pandas or numpy."
   ]
  },
  {
   "cell_type": "code",
   "execution_count": 244,
   "metadata": {},
   "outputs": [
    {
     "data": {
      "text/plain": [
       "province    BarcelonaMadridMadridMadridBarcelonaBarcelonaB...\n",
       "year                                                    19300\n",
       "visitors                                             1.96e+06\n",
       "capital                                                     6\n",
       "dtype: object"
      ]
     },
     "execution_count": 244,
     "metadata": {},
     "output_type": "execute_result"
    }
   ],
   "source": [
    "np.sum(df)"
   ]
  },
  {
   "cell_type": "code",
   "execution_count": 245,
   "metadata": {},
   "outputs": [
    {
     "data": {
      "text/html": [
       "<div>\n",
       "<style scoped>\n",
       "    .dataframe tbody tr th:only-of-type {\n",
       "        vertical-align: middle;\n",
       "    }\n",
       "\n",
       "    .dataframe tbody tr th {\n",
       "        vertical-align: top;\n",
       "    }\n",
       "\n",
       "    .dataframe thead th {\n",
       "        text-align: right;\n",
       "    }\n",
       "</style>\n",
       "<table border=\"1\" class=\"dataframe\">\n",
       "  <thead>\n",
       "    <tr style=\"text-align: right;\">\n",
       "      <th></th>\n",
       "      <th>year</th>\n",
       "      <th>visitors</th>\n",
       "    </tr>\n",
       "  </thead>\n",
       "  <tbody>\n",
       "    <tr>\n",
       "      <th>a</th>\n",
       "      <td>3.278754</td>\n",
       "      <td>5.000000</td>\n",
       "    </tr>\n",
       "    <tr>\n",
       "      <th>b</th>\n",
       "      <td>3.290035</td>\n",
       "      <td>5.698970</td>\n",
       "    </tr>\n",
       "    <tr>\n",
       "      <th>c</th>\n",
       "      <td>3.278754</td>\n",
       "      <td>4.477121</td>\n",
       "    </tr>\n",
       "    <tr>\n",
       "      <th>d</th>\n",
       "      <td>3.278754</td>\n",
       "      <td>5.301030</td>\n",
       "    </tr>\n",
       "    <tr>\n",
       "      <th>e</th>\n",
       "      <td>3.290035</td>\n",
       "      <td>5.000000</td>\n",
       "    </tr>\n",
       "    <tr>\n",
       "      <th>f</th>\n",
       "      <td>3.290035</td>\n",
       "      <td>4.477121</td>\n",
       "    </tr>\n",
       "    <tr>\n",
       "      <th>g</th>\n",
       "      <td>3.278754</td>\n",
       "      <td>5.301030</td>\n",
       "    </tr>\n",
       "    <tr>\n",
       "      <th>h</th>\n",
       "      <td>3.290035</td>\n",
       "      <td>5.301030</td>\n",
       "    </tr>\n",
       "    <tr>\n",
       "      <th>i</th>\n",
       "      <td>3.301030</td>\n",
       "      <td>5.000000</td>\n",
       "    </tr>\n",
       "    <tr>\n",
       "      <th>j</th>\n",
       "      <td>3.278754</td>\n",
       "      <td>5.698970</td>\n",
       "    </tr>\n",
       "  </tbody>\n",
       "</table>\n",
       "</div>"
      ],
      "text/plain": [
       "       year  visitors\n",
       "a  3.278754  5.000000\n",
       "b  3.290035  5.698970\n",
       "c  3.278754  4.477121\n",
       "d  3.278754  5.301030\n",
       "e  3.290035  5.000000\n",
       "f  3.290035  4.477121\n",
       "g  3.278754  5.301030\n",
       "h  3.290035  5.301030\n",
       "i  3.301030  5.000000\n",
       "j  3.278754  5.698970"
      ]
     },
     "execution_count": 245,
     "metadata": {},
     "output_type": "execute_result"
    }
   ],
   "source": [
    "np.log10(df[['year', 'visitors']])"
   ]
  },
  {
   "cell_type": "code",
   "execution_count": 246,
   "metadata": {},
   "outputs": [
    {
     "data": {
      "text/plain": [
       "'This 5 is pretty!'"
      ]
     },
     "execution_count": 246,
     "metadata": {},
     "output_type": "execute_result"
    }
   ],
   "source": [
    "def prettyfier(element):\n",
    "    return 'This %s is pretty!' % element\n",
    "\n",
    "prettyfier(5)"
   ]
  },
  {
   "cell_type": "code",
   "execution_count": 247,
   "metadata": {},
   "outputs": [
    {
     "data": {
      "text/plain": [
       "'This     province  year  visitors  capital\\na  Barcelona  1900  100000.0    False\\nb     Madrid  1950  500000.0     True\\nc     Madrid  1900   30000.0     True\\nd     Madrid  1900  200000.0     True\\ne  Barcelona  1950  100000.0    False\\nf  Barcelona  1950   30000.0    False\\ng  Barcelona  1900  200000.0    False\\nh     Madrid  1950  200000.0     True\\ni     Madrid  2000  100000.0     True\\nj     Madrid  1900  500000.0     True is pretty!'"
      ]
     },
     "execution_count": 247,
     "metadata": {},
     "output_type": "execute_result"
    }
   ],
   "source": [
    "prettyfier(df)"
   ]
  },
  {
   "cell_type": "code",
   "execution_count": 248,
   "metadata": {},
   "outputs": [
    {
     "data": {
      "text/html": [
       "<div>\n",
       "<style scoped>\n",
       "    .dataframe tbody tr th:only-of-type {\n",
       "        vertical-align: middle;\n",
       "    }\n",
       "\n",
       "    .dataframe tbody tr th {\n",
       "        vertical-align: top;\n",
       "    }\n",
       "\n",
       "    .dataframe thead th {\n",
       "        text-align: right;\n",
       "    }\n",
       "</style>\n",
       "<table border=\"1\" class=\"dataframe\">\n",
       "  <thead>\n",
       "    <tr style=\"text-align: right;\">\n",
       "      <th></th>\n",
       "      <th>province</th>\n",
       "      <th>year</th>\n",
       "      <th>visitors</th>\n",
       "      <th>capital</th>\n",
       "    </tr>\n",
       "  </thead>\n",
       "  <tbody>\n",
       "    <tr>\n",
       "      <th>a</th>\n",
       "      <td>This Barcelona is pretty!</td>\n",
       "      <td>This 1900 is pretty!</td>\n",
       "      <td>This 100000.0 is pretty!</td>\n",
       "      <td>This False is pretty!</td>\n",
       "    </tr>\n",
       "    <tr>\n",
       "      <th>b</th>\n",
       "      <td>This Madrid is pretty!</td>\n",
       "      <td>This 1950 is pretty!</td>\n",
       "      <td>This 500000.0 is pretty!</td>\n",
       "      <td>This True is pretty!</td>\n",
       "    </tr>\n",
       "    <tr>\n",
       "      <th>c</th>\n",
       "      <td>This Madrid is pretty!</td>\n",
       "      <td>This 1900 is pretty!</td>\n",
       "      <td>This 30000.0 is pretty!</td>\n",
       "      <td>This True is pretty!</td>\n",
       "    </tr>\n",
       "    <tr>\n",
       "      <th>d</th>\n",
       "      <td>This Madrid is pretty!</td>\n",
       "      <td>This 1900 is pretty!</td>\n",
       "      <td>This 200000.0 is pretty!</td>\n",
       "      <td>This True is pretty!</td>\n",
       "    </tr>\n",
       "    <tr>\n",
       "      <th>e</th>\n",
       "      <td>This Barcelona is pretty!</td>\n",
       "      <td>This 1950 is pretty!</td>\n",
       "      <td>This 100000.0 is pretty!</td>\n",
       "      <td>This False is pretty!</td>\n",
       "    </tr>\n",
       "    <tr>\n",
       "      <th>f</th>\n",
       "      <td>This Barcelona is pretty!</td>\n",
       "      <td>This 1950 is pretty!</td>\n",
       "      <td>This 30000.0 is pretty!</td>\n",
       "      <td>This False is pretty!</td>\n",
       "    </tr>\n",
       "    <tr>\n",
       "      <th>g</th>\n",
       "      <td>This Barcelona is pretty!</td>\n",
       "      <td>This 1900 is pretty!</td>\n",
       "      <td>This 200000.0 is pretty!</td>\n",
       "      <td>This False is pretty!</td>\n",
       "    </tr>\n",
       "    <tr>\n",
       "      <th>h</th>\n",
       "      <td>This Madrid is pretty!</td>\n",
       "      <td>This 1950 is pretty!</td>\n",
       "      <td>This 200000.0 is pretty!</td>\n",
       "      <td>This True is pretty!</td>\n",
       "    </tr>\n",
       "    <tr>\n",
       "      <th>i</th>\n",
       "      <td>This Madrid is pretty!</td>\n",
       "      <td>This 2000 is pretty!</td>\n",
       "      <td>This 100000.0 is pretty!</td>\n",
       "      <td>This True is pretty!</td>\n",
       "    </tr>\n",
       "    <tr>\n",
       "      <th>j</th>\n",
       "      <td>This Madrid is pretty!</td>\n",
       "      <td>This 1900 is pretty!</td>\n",
       "      <td>This 500000.0 is pretty!</td>\n",
       "      <td>This True is pretty!</td>\n",
       "    </tr>\n",
       "  </tbody>\n",
       "</table>\n",
       "</div>"
      ],
      "text/plain": [
       "                    province                  year                  visitors  \\\n",
       "a  This Barcelona is pretty!  This 1900 is pretty!  This 100000.0 is pretty!   \n",
       "b     This Madrid is pretty!  This 1950 is pretty!  This 500000.0 is pretty!   \n",
       "c     This Madrid is pretty!  This 1900 is pretty!   This 30000.0 is pretty!   \n",
       "d     This Madrid is pretty!  This 1900 is pretty!  This 200000.0 is pretty!   \n",
       "e  This Barcelona is pretty!  This 1950 is pretty!  This 100000.0 is pretty!   \n",
       "f  This Barcelona is pretty!  This 1950 is pretty!   This 30000.0 is pretty!   \n",
       "g  This Barcelona is pretty!  This 1900 is pretty!  This 200000.0 is pretty!   \n",
       "h     This Madrid is pretty!  This 1950 is pretty!  This 200000.0 is pretty!   \n",
       "i     This Madrid is pretty!  This 2000 is pretty!  This 100000.0 is pretty!   \n",
       "j     This Madrid is pretty!  This 1900 is pretty!  This 500000.0 is pretty!   \n",
       "\n",
       "                 capital  \n",
       "a  This False is pretty!  \n",
       "b   This True is pretty!  \n",
       "c   This True is pretty!  \n",
       "d   This True is pretty!  \n",
       "e  This False is pretty!  \n",
       "f  This False is pretty!  \n",
       "g  This False is pretty!  \n",
       "h   This True is pretty!  \n",
       "i   This True is pretty!  \n",
       "j   This True is pretty!  "
      ]
     },
     "execution_count": 248,
     "metadata": {},
     "output_type": "execute_result"
    }
   ],
   "source": [
    "df.applymap(prettyfier)"
   ]
  },
  {
   "cell_type": "markdown",
   "metadata": {},
   "source": [
    "This is a typical use case for lambdas (anonymous functions)"
   ]
  },
  {
   "cell_type": "code",
   "execution_count": 249,
   "metadata": {},
   "outputs": [
    {
     "data": {
      "text/plain": [
       "year           100.0\n",
       "visitors    470000.0\n",
       "dtype: float64"
      ]
     },
     "execution_count": 249,
     "metadata": {},
     "output_type": "execute_result"
    }
   ],
   "source": [
    "df[['year', 'visitors']].apply(lambda column: column.max()-column.min())"
   ]
  },
  {
   "cell_type": "markdown",
   "metadata": {
    "slideshow": {
     "slide_type": "slide"
    }
   },
   "source": [
    "### Sorting and ranking"
   ]
  },
  {
   "cell_type": "code",
   "execution_count": 351,
   "metadata": {},
   "outputs": [
    {
     "data": {
      "text/plain": [
       "a    4\n",
       "c    2\n",
       "e    8\n",
       "f    1\n",
       "dtype: int64"
      ]
     },
     "execution_count": 351,
     "metadata": {},
     "output_type": "execute_result"
    }
   ],
   "source": [
    "series.sort_index()"
   ]
  },
  {
   "cell_type": "code",
   "execution_count": 352,
   "metadata": {},
   "outputs": [
    {
     "data": {
      "text/plain": [
       "f    1\n",
       "c    2\n",
       "a    4\n",
       "e    8\n",
       "dtype: int64"
      ]
     },
     "execution_count": 352,
     "metadata": {},
     "output_type": "execute_result"
    }
   ],
   "source": [
    "series.sort_values()"
   ]
  },
  {
   "cell_type": "code",
   "execution_count": 355,
   "metadata": {},
   "outputs": [
    {
     "data": {
      "text/html": [
       "<div>\n",
       "<style scoped>\n",
       "    .dataframe tbody tr th:only-of-type {\n",
       "        vertical-align: middle;\n",
       "    }\n",
       "\n",
       "    .dataframe tbody tr th {\n",
       "        vertical-align: top;\n",
       "    }\n",
       "\n",
       "    .dataframe thead th {\n",
       "        text-align: right;\n",
       "    }\n",
       "</style>\n",
       "<table border=\"1\" class=\"dataframe\">\n",
       "  <thead>\n",
       "    <tr style=\"text-align: right;\">\n",
       "      <th></th>\n",
       "      <th>province</th>\n",
       "      <th>year</th>\n",
       "      <th>visitors</th>\n",
       "      <th>debt</th>\n",
       "      <th>2nd language</th>\n",
       "      <th>max</th>\n",
       "      <th>capital</th>\n",
       "    </tr>\n",
       "  </thead>\n",
       "  <tbody>\n",
       "    <tr>\n",
       "      <th>a</th>\n",
       "      <td>Barcelona</td>\n",
       "      <td>1900</td>\n",
       "      <td>100000.0</td>\n",
       "      <td>-1.738562</td>\n",
       "      <td>NaN</td>\n",
       "      <td>1000000.0</td>\n",
       "      <td>False</td>\n",
       "    </tr>\n",
       "    <tr>\n",
       "      <th>c</th>\n",
       "      <td>Madrid</td>\n",
       "      <td>1900</td>\n",
       "      <td>30000.0</td>\n",
       "      <td>0.284791</td>\n",
       "      <td>NaN</td>\n",
       "      <td>1000000.0</td>\n",
       "      <td>True</td>\n",
       "    </tr>\n",
       "    <tr>\n",
       "      <th>d</th>\n",
       "      <td>Madrid</td>\n",
       "      <td>1900</td>\n",
       "      <td>200000.0</td>\n",
       "      <td>-1.095707</td>\n",
       "      <td>NaN</td>\n",
       "      <td>1000000.0</td>\n",
       "      <td>True</td>\n",
       "    </tr>\n",
       "    <tr>\n",
       "      <th>g</th>\n",
       "      <td>Barcelona</td>\n",
       "      <td>1900</td>\n",
       "      <td>200000.0</td>\n",
       "      <td>-0.626574</td>\n",
       "      <td>NaN</td>\n",
       "      <td>1000000.0</td>\n",
       "      <td>False</td>\n",
       "    </tr>\n",
       "    <tr>\n",
       "      <th>j</th>\n",
       "      <td>Madrid</td>\n",
       "      <td>1900</td>\n",
       "      <td>500000.0</td>\n",
       "      <td>-0.039597</td>\n",
       "      <td>NaN</td>\n",
       "      <td>1000000.0</td>\n",
       "      <td>True</td>\n",
       "    </tr>\n",
       "    <tr>\n",
       "      <th>b</th>\n",
       "      <td>Madrid</td>\n",
       "      <td>1950</td>\n",
       "      <td>500000.0</td>\n",
       "      <td>1.447657</td>\n",
       "      <td>NaN</td>\n",
       "      <td>1000000.0</td>\n",
       "      <td>True</td>\n",
       "    </tr>\n",
       "    <tr>\n",
       "      <th>e</th>\n",
       "      <td>Barcelona</td>\n",
       "      <td>1950</td>\n",
       "      <td>100000.0</td>\n",
       "      <td>-0.046081</td>\n",
       "      <td>NaN</td>\n",
       "      <td>1000000.0</td>\n",
       "      <td>False</td>\n",
       "    </tr>\n",
       "    <tr>\n",
       "      <th>f</th>\n",
       "      <td>Barcelona</td>\n",
       "      <td>1950</td>\n",
       "      <td>30000.0</td>\n",
       "      <td>-0.123597</td>\n",
       "      <td>NaN</td>\n",
       "      <td>1000000.0</td>\n",
       "      <td>False</td>\n",
       "    </tr>\n",
       "    <tr>\n",
       "      <th>h</th>\n",
       "      <td>Madrid</td>\n",
       "      <td>1950</td>\n",
       "      <td>200000.0</td>\n",
       "      <td>-0.910843</td>\n",
       "      <td>NaN</td>\n",
       "      <td>1000000.0</td>\n",
       "      <td>True</td>\n",
       "    </tr>\n",
       "    <tr>\n",
       "      <th>i</th>\n",
       "      <td>Madrid</td>\n",
       "      <td>2000</td>\n",
       "      <td>100000.0</td>\n",
       "      <td>-1.408196</td>\n",
       "      <td>NaN</td>\n",
       "      <td>1000000.0</td>\n",
       "      <td>True</td>\n",
       "    </tr>\n",
       "  </tbody>\n",
       "</table>\n",
       "</div>"
      ],
      "text/plain": [
       "    province  year  visitors      debt  2nd language        max  capital\n",
       "a  Barcelona  1900  100000.0 -1.738562           NaN  1000000.0    False\n",
       "c     Madrid  1900   30000.0  0.284791           NaN  1000000.0     True\n",
       "d     Madrid  1900  200000.0 -1.095707           NaN  1000000.0     True\n",
       "g  Barcelona  1900  200000.0 -0.626574           NaN  1000000.0    False\n",
       "j     Madrid  1900  500000.0 -0.039597           NaN  1000000.0     True\n",
       "b     Madrid  1950  500000.0  1.447657           NaN  1000000.0     True\n",
       "e  Barcelona  1950  100000.0 -0.046081           NaN  1000000.0    False\n",
       "f  Barcelona  1950   30000.0 -0.123597           NaN  1000000.0    False\n",
       "h     Madrid  1950  200000.0 -0.910843           NaN  1000000.0     True\n",
       "i     Madrid  2000  100000.0 -1.408196           NaN  1000000.0     True"
      ]
     },
     "execution_count": 355,
     "metadata": {},
     "output_type": "execute_result"
    }
   ],
   "source": [
    "df.sort_values(by='year')"
   ]
  },
  {
   "cell_type": "code",
   "execution_count": 356,
   "metadata": {},
   "outputs": [
    {
     "data": {
      "text/html": [
       "<div>\n",
       "<style scoped>\n",
       "    .dataframe tbody tr th:only-of-type {\n",
       "        vertical-align: middle;\n",
       "    }\n",
       "\n",
       "    .dataframe tbody tr th {\n",
       "        vertical-align: top;\n",
       "    }\n",
       "\n",
       "    .dataframe thead th {\n",
       "        text-align: right;\n",
       "    }\n",
       "</style>\n",
       "<table border=\"1\" class=\"dataframe\">\n",
       "  <thead>\n",
       "    <tr style=\"text-align: right;\">\n",
       "      <th></th>\n",
       "      <th>province</th>\n",
       "      <th>year</th>\n",
       "      <th>visitors</th>\n",
       "      <th>debt</th>\n",
       "      <th>2nd language</th>\n",
       "      <th>max</th>\n",
       "      <th>capital</th>\n",
       "    </tr>\n",
       "  </thead>\n",
       "  <tbody>\n",
       "    <tr>\n",
       "      <th>c</th>\n",
       "      <td>Madrid</td>\n",
       "      <td>1900</td>\n",
       "      <td>30000.0</td>\n",
       "      <td>0.284791</td>\n",
       "      <td>NaN</td>\n",
       "      <td>1000000.0</td>\n",
       "      <td>True</td>\n",
       "    </tr>\n",
       "    <tr>\n",
       "      <th>a</th>\n",
       "      <td>Barcelona</td>\n",
       "      <td>1900</td>\n",
       "      <td>100000.0</td>\n",
       "      <td>-1.738562</td>\n",
       "      <td>NaN</td>\n",
       "      <td>1000000.0</td>\n",
       "      <td>False</td>\n",
       "    </tr>\n",
       "    <tr>\n",
       "      <th>d</th>\n",
       "      <td>Madrid</td>\n",
       "      <td>1900</td>\n",
       "      <td>200000.0</td>\n",
       "      <td>-1.095707</td>\n",
       "      <td>NaN</td>\n",
       "      <td>1000000.0</td>\n",
       "      <td>True</td>\n",
       "    </tr>\n",
       "    <tr>\n",
       "      <th>g</th>\n",
       "      <td>Barcelona</td>\n",
       "      <td>1900</td>\n",
       "      <td>200000.0</td>\n",
       "      <td>-0.626574</td>\n",
       "      <td>NaN</td>\n",
       "      <td>1000000.0</td>\n",
       "      <td>False</td>\n",
       "    </tr>\n",
       "    <tr>\n",
       "      <th>j</th>\n",
       "      <td>Madrid</td>\n",
       "      <td>1900</td>\n",
       "      <td>500000.0</td>\n",
       "      <td>-0.039597</td>\n",
       "      <td>NaN</td>\n",
       "      <td>1000000.0</td>\n",
       "      <td>True</td>\n",
       "    </tr>\n",
       "    <tr>\n",
       "      <th>f</th>\n",
       "      <td>Barcelona</td>\n",
       "      <td>1950</td>\n",
       "      <td>30000.0</td>\n",
       "      <td>-0.123597</td>\n",
       "      <td>NaN</td>\n",
       "      <td>1000000.0</td>\n",
       "      <td>False</td>\n",
       "    </tr>\n",
       "    <tr>\n",
       "      <th>e</th>\n",
       "      <td>Barcelona</td>\n",
       "      <td>1950</td>\n",
       "      <td>100000.0</td>\n",
       "      <td>-0.046081</td>\n",
       "      <td>NaN</td>\n",
       "      <td>1000000.0</td>\n",
       "      <td>False</td>\n",
       "    </tr>\n",
       "    <tr>\n",
       "      <th>h</th>\n",
       "      <td>Madrid</td>\n",
       "      <td>1950</td>\n",
       "      <td>200000.0</td>\n",
       "      <td>-0.910843</td>\n",
       "      <td>NaN</td>\n",
       "      <td>1000000.0</td>\n",
       "      <td>True</td>\n",
       "    </tr>\n",
       "    <tr>\n",
       "      <th>b</th>\n",
       "      <td>Madrid</td>\n",
       "      <td>1950</td>\n",
       "      <td>500000.0</td>\n",
       "      <td>1.447657</td>\n",
       "      <td>NaN</td>\n",
       "      <td>1000000.0</td>\n",
       "      <td>True</td>\n",
       "    </tr>\n",
       "    <tr>\n",
       "      <th>i</th>\n",
       "      <td>Madrid</td>\n",
       "      <td>2000</td>\n",
       "      <td>100000.0</td>\n",
       "      <td>-1.408196</td>\n",
       "      <td>NaN</td>\n",
       "      <td>1000000.0</td>\n",
       "      <td>True</td>\n",
       "    </tr>\n",
       "  </tbody>\n",
       "</table>\n",
       "</div>"
      ],
      "text/plain": [
       "    province  year  visitors      debt  2nd language        max  capital\n",
       "c     Madrid  1900   30000.0  0.284791           NaN  1000000.0     True\n",
       "a  Barcelona  1900  100000.0 -1.738562           NaN  1000000.0    False\n",
       "d     Madrid  1900  200000.0 -1.095707           NaN  1000000.0     True\n",
       "g  Barcelona  1900  200000.0 -0.626574           NaN  1000000.0    False\n",
       "j     Madrid  1900  500000.0 -0.039597           NaN  1000000.0     True\n",
       "f  Barcelona  1950   30000.0 -0.123597           NaN  1000000.0    False\n",
       "e  Barcelona  1950  100000.0 -0.046081           NaN  1000000.0    False\n",
       "h     Madrid  1950  200000.0 -0.910843           NaN  1000000.0     True\n",
       "b     Madrid  1950  500000.0  1.447657           NaN  1000000.0     True\n",
       "i     Madrid  2000  100000.0 -1.408196           NaN  1000000.0     True"
      ]
     },
     "execution_count": 356,
     "metadata": {},
     "output_type": "execute_result"
    }
   ],
   "source": [
    "df.sort_values(by=['year', 'visitors'])"
   ]
  },
  {
   "cell_type": "code",
   "execution_count": 358,
   "metadata": {},
   "outputs": [
    {
     "data": {
      "text/html": [
       "<div>\n",
       "<style scoped>\n",
       "    .dataframe tbody tr th:only-of-type {\n",
       "        vertical-align: middle;\n",
       "    }\n",
       "\n",
       "    .dataframe tbody tr th {\n",
       "        vertical-align: top;\n",
       "    }\n",
       "\n",
       "    .dataframe thead th {\n",
       "        text-align: right;\n",
       "    }\n",
       "</style>\n",
       "<table border=\"1\" class=\"dataframe\">\n",
       "  <thead>\n",
       "    <tr style=\"text-align: right;\">\n",
       "      <th></th>\n",
       "      <th>province</th>\n",
       "      <th>year</th>\n",
       "      <th>visitors</th>\n",
       "      <th>debt</th>\n",
       "      <th>2nd language</th>\n",
       "      <th>max</th>\n",
       "      <th>capital</th>\n",
       "    </tr>\n",
       "  </thead>\n",
       "  <tbody>\n",
       "    <tr>\n",
       "      <th>b</th>\n",
       "      <td>Madrid</td>\n",
       "      <td>1950</td>\n",
       "      <td>500000.0</td>\n",
       "      <td>1.447657</td>\n",
       "      <td>NaN</td>\n",
       "      <td>1000000.0</td>\n",
       "      <td>True</td>\n",
       "    </tr>\n",
       "    <tr>\n",
       "      <th>j</th>\n",
       "      <td>Madrid</td>\n",
       "      <td>1900</td>\n",
       "      <td>500000.0</td>\n",
       "      <td>-0.039597</td>\n",
       "      <td>NaN</td>\n",
       "      <td>1000000.0</td>\n",
       "      <td>True</td>\n",
       "    </tr>\n",
       "    <tr>\n",
       "      <th>d</th>\n",
       "      <td>Madrid</td>\n",
       "      <td>1900</td>\n",
       "      <td>200000.0</td>\n",
       "      <td>-1.095707</td>\n",
       "      <td>NaN</td>\n",
       "      <td>1000000.0</td>\n",
       "      <td>True</td>\n",
       "    </tr>\n",
       "    <tr>\n",
       "      <th>g</th>\n",
       "      <td>Barcelona</td>\n",
       "      <td>1900</td>\n",
       "      <td>200000.0</td>\n",
       "      <td>-0.626574</td>\n",
       "      <td>NaN</td>\n",
       "      <td>1000000.0</td>\n",
       "      <td>False</td>\n",
       "    </tr>\n",
       "    <tr>\n",
       "      <th>h</th>\n",
       "      <td>Madrid</td>\n",
       "      <td>1950</td>\n",
       "      <td>200000.0</td>\n",
       "      <td>-0.910843</td>\n",
       "      <td>NaN</td>\n",
       "      <td>1000000.0</td>\n",
       "      <td>True</td>\n",
       "    </tr>\n",
       "    <tr>\n",
       "      <th>a</th>\n",
       "      <td>Barcelona</td>\n",
       "      <td>1900</td>\n",
       "      <td>100000.0</td>\n",
       "      <td>-1.738562</td>\n",
       "      <td>NaN</td>\n",
       "      <td>1000000.0</td>\n",
       "      <td>False</td>\n",
       "    </tr>\n",
       "    <tr>\n",
       "      <th>e</th>\n",
       "      <td>Barcelona</td>\n",
       "      <td>1950</td>\n",
       "      <td>100000.0</td>\n",
       "      <td>-0.046081</td>\n",
       "      <td>NaN</td>\n",
       "      <td>1000000.0</td>\n",
       "      <td>False</td>\n",
       "    </tr>\n",
       "    <tr>\n",
       "      <th>i</th>\n",
       "      <td>Madrid</td>\n",
       "      <td>2000</td>\n",
       "      <td>100000.0</td>\n",
       "      <td>-1.408196</td>\n",
       "      <td>NaN</td>\n",
       "      <td>1000000.0</td>\n",
       "      <td>True</td>\n",
       "    </tr>\n",
       "    <tr>\n",
       "      <th>c</th>\n",
       "      <td>Madrid</td>\n",
       "      <td>1900</td>\n",
       "      <td>30000.0</td>\n",
       "      <td>0.284791</td>\n",
       "      <td>NaN</td>\n",
       "      <td>1000000.0</td>\n",
       "      <td>True</td>\n",
       "    </tr>\n",
       "    <tr>\n",
       "      <th>f</th>\n",
       "      <td>Barcelona</td>\n",
       "      <td>1950</td>\n",
       "      <td>30000.0</td>\n",
       "      <td>-0.123597</td>\n",
       "      <td>NaN</td>\n",
       "      <td>1000000.0</td>\n",
       "      <td>False</td>\n",
       "    </tr>\n",
       "  </tbody>\n",
       "</table>\n",
       "</div>"
      ],
      "text/plain": [
       "    province  year  visitors      debt  2nd language        max  capital\n",
       "b     Madrid  1950  500000.0  1.447657           NaN  1000000.0     True\n",
       "j     Madrid  1900  500000.0 -0.039597           NaN  1000000.0     True\n",
       "d     Madrid  1900  200000.0 -1.095707           NaN  1000000.0     True\n",
       "g  Barcelona  1900  200000.0 -0.626574           NaN  1000000.0    False\n",
       "h     Madrid  1950  200000.0 -0.910843           NaN  1000000.0     True\n",
       "a  Barcelona  1900  100000.0 -1.738562           NaN  1000000.0    False\n",
       "e  Barcelona  1950  100000.0 -0.046081           NaN  1000000.0    False\n",
       "i     Madrid  2000  100000.0 -1.408196           NaN  1000000.0     True\n",
       "c     Madrid  1900   30000.0  0.284791           NaN  1000000.0     True\n",
       "f  Barcelona  1950   30000.0 -0.123597           NaN  1000000.0    False"
      ]
     },
     "execution_count": 358,
     "metadata": {},
     "output_type": "execute_result"
    }
   ],
   "source": [
    "df.sort_values(by='visitors', ascending=False)"
   ]
  },
  {
   "cell_type": "code",
   "execution_count": 359,
   "metadata": {},
   "outputs": [
    {
     "data": {
      "text/html": [
       "<div>\n",
       "<style scoped>\n",
       "    .dataframe tbody tr th:only-of-type {\n",
       "        vertical-align: middle;\n",
       "    }\n",
       "\n",
       "    .dataframe tbody tr th {\n",
       "        vertical-align: top;\n",
       "    }\n",
       "\n",
       "    .dataframe thead th {\n",
       "        text-align: right;\n",
       "    }\n",
       "</style>\n",
       "<table border=\"1\" class=\"dataframe\">\n",
       "  <thead>\n",
       "    <tr style=\"text-align: right;\">\n",
       "      <th></th>\n",
       "      <th>province</th>\n",
       "      <th>year</th>\n",
       "      <th>visitors</th>\n",
       "      <th>debt</th>\n",
       "      <th>2nd language</th>\n",
       "      <th>max</th>\n",
       "      <th>capital</th>\n",
       "    </tr>\n",
       "  </thead>\n",
       "  <tbody>\n",
       "    <tr>\n",
       "      <th>j</th>\n",
       "      <td>Madrid</td>\n",
       "      <td>1900</td>\n",
       "      <td>500000.0</td>\n",
       "      <td>-0.039597</td>\n",
       "      <td>NaN</td>\n",
       "      <td>1000000.0</td>\n",
       "      <td>True</td>\n",
       "    </tr>\n",
       "    <tr>\n",
       "      <th>b</th>\n",
       "      <td>Madrid</td>\n",
       "      <td>1950</td>\n",
       "      <td>500000.0</td>\n",
       "      <td>1.447657</td>\n",
       "      <td>NaN</td>\n",
       "      <td>1000000.0</td>\n",
       "      <td>True</td>\n",
       "    </tr>\n",
       "    <tr>\n",
       "      <th>d</th>\n",
       "      <td>Madrid</td>\n",
       "      <td>1900</td>\n",
       "      <td>200000.0</td>\n",
       "      <td>-1.095707</td>\n",
       "      <td>NaN</td>\n",
       "      <td>1000000.0</td>\n",
       "      <td>True</td>\n",
       "    </tr>\n",
       "    <tr>\n",
       "      <th>g</th>\n",
       "      <td>Barcelona</td>\n",
       "      <td>1900</td>\n",
       "      <td>200000.0</td>\n",
       "      <td>-0.626574</td>\n",
       "      <td>NaN</td>\n",
       "      <td>1000000.0</td>\n",
       "      <td>False</td>\n",
       "    </tr>\n",
       "    <tr>\n",
       "      <th>h</th>\n",
       "      <td>Madrid</td>\n",
       "      <td>1950</td>\n",
       "      <td>200000.0</td>\n",
       "      <td>-0.910843</td>\n",
       "      <td>NaN</td>\n",
       "      <td>1000000.0</td>\n",
       "      <td>True</td>\n",
       "    </tr>\n",
       "    <tr>\n",
       "      <th>a</th>\n",
       "      <td>Barcelona</td>\n",
       "      <td>1900</td>\n",
       "      <td>100000.0</td>\n",
       "      <td>-1.738562</td>\n",
       "      <td>NaN</td>\n",
       "      <td>1000000.0</td>\n",
       "      <td>False</td>\n",
       "    </tr>\n",
       "    <tr>\n",
       "      <th>e</th>\n",
       "      <td>Barcelona</td>\n",
       "      <td>1950</td>\n",
       "      <td>100000.0</td>\n",
       "      <td>-0.046081</td>\n",
       "      <td>NaN</td>\n",
       "      <td>1000000.0</td>\n",
       "      <td>False</td>\n",
       "    </tr>\n",
       "    <tr>\n",
       "      <th>i</th>\n",
       "      <td>Madrid</td>\n",
       "      <td>2000</td>\n",
       "      <td>100000.0</td>\n",
       "      <td>-1.408196</td>\n",
       "      <td>NaN</td>\n",
       "      <td>1000000.0</td>\n",
       "      <td>True</td>\n",
       "    </tr>\n",
       "    <tr>\n",
       "      <th>c</th>\n",
       "      <td>Madrid</td>\n",
       "      <td>1900</td>\n",
       "      <td>30000.0</td>\n",
       "      <td>0.284791</td>\n",
       "      <td>NaN</td>\n",
       "      <td>1000000.0</td>\n",
       "      <td>True</td>\n",
       "    </tr>\n",
       "    <tr>\n",
       "      <th>f</th>\n",
       "      <td>Barcelona</td>\n",
       "      <td>1950</td>\n",
       "      <td>30000.0</td>\n",
       "      <td>-0.123597</td>\n",
       "      <td>NaN</td>\n",
       "      <td>1000000.0</td>\n",
       "      <td>False</td>\n",
       "    </tr>\n",
       "  </tbody>\n",
       "</table>\n",
       "</div>"
      ],
      "text/plain": [
       "    province  year  visitors      debt  2nd language        max  capital\n",
       "j     Madrid  1900  500000.0 -0.039597           NaN  1000000.0     True\n",
       "b     Madrid  1950  500000.0  1.447657           NaN  1000000.0     True\n",
       "d     Madrid  1900  200000.0 -1.095707           NaN  1000000.0     True\n",
       "g  Barcelona  1900  200000.0 -0.626574           NaN  1000000.0    False\n",
       "h     Madrid  1950  200000.0 -0.910843           NaN  1000000.0     True\n",
       "a  Barcelona  1900  100000.0 -1.738562           NaN  1000000.0    False\n",
       "e  Barcelona  1950  100000.0 -0.046081           NaN  1000000.0    False\n",
       "i     Madrid  2000  100000.0 -1.408196           NaN  1000000.0     True\n",
       "c     Madrid  1900   30000.0  0.284791           NaN  1000000.0     True\n",
       "f  Barcelona  1950   30000.0 -0.123597           NaN  1000000.0    False"
      ]
     },
     "execution_count": 359,
     "metadata": {},
     "output_type": "execute_result"
    }
   ],
   "source": [
    "df.sort_values(by=['visitors', 'year'], ascending=[False, True])"
   ]
  },
  {
   "cell_type": "markdown",
   "metadata": {},
   "source": [
    "rank() returns the positions of the elements of the Series in its sorted version. If there are ties, it will take averages."
   ]
  },
  {
   "cell_type": "code",
   "execution_count": 251,
   "metadata": {},
   "outputs": [
    {
     "data": {
      "text/plain": [
       "g     100.0\n",
       "h    1000.0\n",
       "j    2000.0\n",
       "k    5000.0\n",
       "l    2000.0\n",
       "dtype: float64"
      ]
     },
     "execution_count": 251,
     "metadata": {},
     "output_type": "execute_result"
    }
   ],
   "source": [
    "scores = pd.Series([1e2, 1e3, 2e3, 5e3, 2e3], index=list('ghjkl'))\n",
    "scores"
   ]
  },
  {
   "cell_type": "code",
   "execution_count": 252,
   "metadata": {},
   "outputs": [
    {
     "data": {
      "text/plain": [
       "g    5.0\n",
       "h    4.0\n",
       "j    2.5\n",
       "k    1.0\n",
       "l    2.5\n",
       "dtype: float64"
      ]
     },
     "execution_count": 252,
     "metadata": {},
     "output_type": "execute_result"
    }
   ],
   "source": [
    "scores.rank(ascending=False)"
   ]
  },
  {
   "cell_type": "code",
   "execution_count": 258,
   "metadata": {},
   "outputs": [
    {
     "data": {
      "text/plain": [
       "g    5.0\n",
       "h    4.0\n",
       "j    2.0\n",
       "k    1.0\n",
       "l    2.0\n",
       "dtype: float64"
      ]
     },
     "execution_count": 258,
     "metadata": {},
     "output_type": "execute_result"
    }
   ],
   "source": [
    "scores.rank(ascending=False, method='min')"
   ]
  },
  {
   "cell_type": "markdown",
   "metadata": {},
   "source": [
    "#### Exercise\n",
    "\n",
    "Write a function that takes a Series and returns the top 10% registers. In this case, earners. Test it with this Series:\n",
    "\n",
    "```python\n",
    "salaries = pd.Series([90000, 120000,30000,10000, 150000, 5000,40000, 50000, 80000, 35000, 27000,14000, 28000, 22000,25000])\n",
    "```"
   ]
  },
  {
   "cell_type": "code",
   "execution_count": 386,
   "metadata": {},
   "outputs": [
    {
     "data": {
      "text/plain": [
       "4    150000\n",
       "dtype: int64"
      ]
     },
     "execution_count": 386,
     "metadata": {},
     "output_type": "execute_result"
    }
   ],
   "source": [
    "salaries = pd.Series([90000, 120000,30000,10000, 150000, 5000,40000, 50000, 80000, 35000, 27000,14000, 28000, 22000,25000])\n",
    "\n",
    "\n",
    "def top_10(series, percentage=.1):\n",
    "    which = series.rank(ascending=False, pct=True) <= percentage\n",
    "    result = series[which]\n",
    "    return result\n",
    "\n",
    "top_10(salaries)\n"
   ]
  },
  {
   "cell_type": "code",
   "execution_count": 387,
   "metadata": {},
   "outputs": [
    {
     "data": {
      "text/plain": [
       "0     90000\n",
       "1    120000\n",
       "4    150000\n",
       "dtype: int64"
      ]
     },
     "execution_count": 387,
     "metadata": {},
     "output_type": "execute_result"
    }
   ],
   "source": [
    "top_10(salaries, .2)"
   ]
  },
  {
   "cell_type": "code",
   "execution_count": 384,
   "metadata": {},
   "outputs": [
    {
     "data": {
      "text/plain": [
       "0     0.200000\n",
       "1     0.133333\n",
       "2     0.533333\n",
       "3     0.933333\n",
       "4     0.066667\n",
       "5     1.000000\n",
       "6     0.400000\n",
       "7     0.333333\n",
       "8     0.266667\n",
       "9     0.466667\n",
       "10    0.666667\n",
       "11    0.866667\n",
       "12    0.600000\n",
       "13    0.800000\n",
       "14    0.733333\n",
       "dtype: float64"
      ]
     },
     "execution_count": 384,
     "metadata": {},
     "output_type": "execute_result"
    }
   ],
   "source": [
    "salaries.rank(ascending=False, pct=True)"
   ]
  },
  {
   "cell_type": "markdown",
   "metadata": {
    "slideshow": {
     "slide_type": "slide"
    }
   },
   "source": [
    "## Summarizing and computing descriptive statistics"
   ]
  },
  {
   "cell_type": "code",
   "execution_count": 388,
   "metadata": {},
   "outputs": [
    {
     "data": {
      "text/html": [
       "<div>\n",
       "<style scoped>\n",
       "    .dataframe tbody tr th:only-of-type {\n",
       "        vertical-align: middle;\n",
       "    }\n",
       "\n",
       "    .dataframe tbody tr th {\n",
       "        vertical-align: top;\n",
       "    }\n",
       "\n",
       "    .dataframe thead th {\n",
       "        text-align: right;\n",
       "    }\n",
       "</style>\n",
       "<table border=\"1\" class=\"dataframe\">\n",
       "  <thead>\n",
       "    <tr style=\"text-align: right;\">\n",
       "      <th></th>\n",
       "      <th>year</th>\n",
       "      <th>visitors</th>\n",
       "      <th>debt</th>\n",
       "      <th>2nd language</th>\n",
       "      <th>max</th>\n",
       "    </tr>\n",
       "  </thead>\n",
       "  <tbody>\n",
       "    <tr>\n",
       "      <th>count</th>\n",
       "      <td>10.000000</td>\n",
       "      <td>10.000000</td>\n",
       "      <td>10.000000</td>\n",
       "      <td>0.0</td>\n",
       "      <td>10.0</td>\n",
       "    </tr>\n",
       "    <tr>\n",
       "      <th>mean</th>\n",
       "      <td>1930.000000</td>\n",
       "      <td>196000.000000</td>\n",
       "      <td>-0.425671</td>\n",
       "      <td>NaN</td>\n",
       "      <td>1000000.0</td>\n",
       "    </tr>\n",
       "    <tr>\n",
       "      <th>std</th>\n",
       "      <td>34.960295</td>\n",
       "      <td>172446.449015</td>\n",
       "      <td>0.931680</td>\n",
       "      <td>NaN</td>\n",
       "      <td>0.0</td>\n",
       "    </tr>\n",
       "    <tr>\n",
       "      <th>min</th>\n",
       "      <td>1900.000000</td>\n",
       "      <td>30000.000000</td>\n",
       "      <td>-1.738562</td>\n",
       "      <td>NaN</td>\n",
       "      <td>1000000.0</td>\n",
       "    </tr>\n",
       "    <tr>\n",
       "      <th>25%</th>\n",
       "      <td>1900.000000</td>\n",
       "      <td>100000.000000</td>\n",
       "      <td>-1.049491</td>\n",
       "      <td>NaN</td>\n",
       "      <td>1000000.0</td>\n",
       "    </tr>\n",
       "    <tr>\n",
       "      <th>50%</th>\n",
       "      <td>1925.000000</td>\n",
       "      <td>150000.000000</td>\n",
       "      <td>-0.375086</td>\n",
       "      <td>NaN</td>\n",
       "      <td>1000000.0</td>\n",
       "    </tr>\n",
       "    <tr>\n",
       "      <th>75%</th>\n",
       "      <td>1950.000000</td>\n",
       "      <td>200000.000000</td>\n",
       "      <td>-0.041218</td>\n",
       "      <td>NaN</td>\n",
       "      <td>1000000.0</td>\n",
       "    </tr>\n",
       "    <tr>\n",
       "      <th>max</th>\n",
       "      <td>2000.000000</td>\n",
       "      <td>500000.000000</td>\n",
       "      <td>1.447657</td>\n",
       "      <td>NaN</td>\n",
       "      <td>1000000.0</td>\n",
       "    </tr>\n",
       "  </tbody>\n",
       "</table>\n",
       "</div>"
      ],
      "text/plain": [
       "              year       visitors       debt  2nd language        max\n",
       "count    10.000000      10.000000  10.000000           0.0       10.0\n",
       "mean   1930.000000  196000.000000  -0.425671           NaN  1000000.0\n",
       "std      34.960295  172446.449015   0.931680           NaN        0.0\n",
       "min    1900.000000   30000.000000  -1.738562           NaN  1000000.0\n",
       "25%    1900.000000  100000.000000  -1.049491           NaN  1000000.0\n",
       "50%    1925.000000  150000.000000  -0.375086           NaN  1000000.0\n",
       "75%    1950.000000  200000.000000  -0.041218           NaN  1000000.0\n",
       "max    2000.000000  500000.000000   1.447657           NaN  1000000.0"
      ]
     },
     "execution_count": 388,
     "metadata": {},
     "output_type": "execute_result"
    }
   ],
   "source": [
    "df.describe()"
   ]
  },
  {
   "cell_type": "code",
   "execution_count": 389,
   "metadata": {},
   "outputs": [
    {
     "data": {
      "text/plain": [
       "year               1930.000000\n",
       "visitors         196000.000000\n",
       "debt                 -0.425671\n",
       "2nd language               NaN\n",
       "max             1000000.000000\n",
       "capital               0.600000\n",
       "dtype: float64"
      ]
     },
     "execution_count": 389,
     "metadata": {},
     "output_type": "execute_result"
    }
   ],
   "source": [
    "df.mean()"
   ]
  },
  {
   "cell_type": "code",
   "execution_count": 390,
   "metadata": {},
   "outputs": [
    {
     "data": {
      "text/plain": [
       "year                34.960295\n",
       "visitors        172446.449015\n",
       "debt                 0.931680\n",
       "2nd language              NaN\n",
       "max                  0.000000\n",
       "capital              0.516398\n",
       "dtype: float64"
      ]
     },
     "execution_count": 390,
     "metadata": {},
     "output_type": "execute_result"
    }
   ],
   "source": [
    "df.std()"
   ]
  },
  {
   "cell_type": "code",
   "execution_count": 391,
   "metadata": {},
   "outputs": [
    {
     "name": "stderr",
     "output_type": "stream",
     "text": [
      "/home/dani/anaconda3/envs/master2019/lib/python3.6/site-packages/numpy/lib/nanfunctions.py:1076: RuntimeWarning: Mean of empty slice\n",
      "  return np.nanmean(a, axis, out=out, keepdims=keepdims)\n",
      "/home/dani/anaconda3/envs/master2019/lib/python3.6/site-packages/numpy/lib/function_base.py:3405: RuntimeWarning: All-NaN slice encountered\n",
      "  r = func(a, **kwargs)\n"
     ]
    },
    {
     "data": {
      "text/plain": [
       "year               1925.000000\n",
       "visitors         150000.000000\n",
       "debt                 -0.375086\n",
       "2nd language               NaN\n",
       "max             1000000.000000\n",
       "capital               1.000000\n",
       "dtype: float64"
      ]
     },
     "execution_count": 391,
     "metadata": {},
     "output_type": "execute_result"
    }
   ],
   "source": [
    "df.median()"
   ]
  },
  {
   "cell_type": "markdown",
   "metadata": {},
   "source": [
    "As with many methods, we can use them in the direction perpendicular to their default."
   ]
  },
  {
   "cell_type": "code",
   "execution_count": 392,
   "metadata": {},
   "outputs": [
    {
     "data": {
      "text/plain": [
       "a    220379.652288\n",
       "b    300390.489531\n",
       "c    206380.256958\n",
       "d    240379.980859\n",
       "e    220389.990784\n",
       "f    206389.975281\n",
       "g    240379.874685\n",
       "h    240390.017831\n",
       "i    220399.918361\n",
       "j    300380.192081\n",
       "dtype: float64"
      ]
     },
     "execution_count": 392,
     "metadata": {},
     "output_type": "execute_result"
    }
   ],
   "source": [
    "df.mean(axis=1)"
   ]
  },
  {
   "cell_type": "code",
   "execution_count": 393,
   "metadata": {},
   "outputs": [
    {
     "data": {
      "text/html": [
       "<div>\n",
       "<style scoped>\n",
       "    .dataframe tbody tr th:only-of-type {\n",
       "        vertical-align: middle;\n",
       "    }\n",
       "\n",
       "    .dataframe tbody tr th {\n",
       "        vertical-align: top;\n",
       "    }\n",
       "\n",
       "    .dataframe thead th {\n",
       "        text-align: right;\n",
       "    }\n",
       "</style>\n",
       "<table border=\"1\" class=\"dataframe\">\n",
       "  <thead>\n",
       "    <tr style=\"text-align: right;\">\n",
       "      <th></th>\n",
       "      <th>province</th>\n",
       "      <th>year</th>\n",
       "      <th>visitors</th>\n",
       "      <th>debt</th>\n",
       "      <th>2nd language</th>\n",
       "      <th>max</th>\n",
       "      <th>capital</th>\n",
       "    </tr>\n",
       "  </thead>\n",
       "  <tbody>\n",
       "    <tr>\n",
       "      <th>a</th>\n",
       "      <td>Barcelona</td>\n",
       "      <td>1900</td>\n",
       "      <td>100000.0</td>\n",
       "      <td>-1.738562</td>\n",
       "      <td>NaN</td>\n",
       "      <td>1000000.0</td>\n",
       "      <td>False</td>\n",
       "    </tr>\n",
       "    <tr>\n",
       "      <th>b</th>\n",
       "      <td>Madrid</td>\n",
       "      <td>1950</td>\n",
       "      <td>500000.0</td>\n",
       "      <td>1.447657</td>\n",
       "      <td>NaN</td>\n",
       "      <td>1000000.0</td>\n",
       "      <td>True</td>\n",
       "    </tr>\n",
       "    <tr>\n",
       "      <th>c</th>\n",
       "      <td>Madrid</td>\n",
       "      <td>1900</td>\n",
       "      <td>30000.0</td>\n",
       "      <td>0.284791</td>\n",
       "      <td>NaN</td>\n",
       "      <td>1000000.0</td>\n",
       "      <td>True</td>\n",
       "    </tr>\n",
       "    <tr>\n",
       "      <th>d</th>\n",
       "      <td>Madrid</td>\n",
       "      <td>1900</td>\n",
       "      <td>200000.0</td>\n",
       "      <td>-1.095707</td>\n",
       "      <td>NaN</td>\n",
       "      <td>1000000.0</td>\n",
       "      <td>True</td>\n",
       "    </tr>\n",
       "    <tr>\n",
       "      <th>e</th>\n",
       "      <td>Barcelona</td>\n",
       "      <td>1950</td>\n",
       "      <td>100000.0</td>\n",
       "      <td>-0.046081</td>\n",
       "      <td>NaN</td>\n",
       "      <td>1000000.0</td>\n",
       "      <td>False</td>\n",
       "    </tr>\n",
       "    <tr>\n",
       "      <th>f</th>\n",
       "      <td>Barcelona</td>\n",
       "      <td>1950</td>\n",
       "      <td>30000.0</td>\n",
       "      <td>-0.123597</td>\n",
       "      <td>NaN</td>\n",
       "      <td>1000000.0</td>\n",
       "      <td>False</td>\n",
       "    </tr>\n",
       "    <tr>\n",
       "      <th>g</th>\n",
       "      <td>Barcelona</td>\n",
       "      <td>1900</td>\n",
       "      <td>200000.0</td>\n",
       "      <td>-0.626574</td>\n",
       "      <td>NaN</td>\n",
       "      <td>1000000.0</td>\n",
       "      <td>False</td>\n",
       "    </tr>\n",
       "    <tr>\n",
       "      <th>h</th>\n",
       "      <td>Madrid</td>\n",
       "      <td>1950</td>\n",
       "      <td>200000.0</td>\n",
       "      <td>-0.910843</td>\n",
       "      <td>NaN</td>\n",
       "      <td>1000000.0</td>\n",
       "      <td>True</td>\n",
       "    </tr>\n",
       "    <tr>\n",
       "      <th>i</th>\n",
       "      <td>Madrid</td>\n",
       "      <td>2000</td>\n",
       "      <td>100000.0</td>\n",
       "      <td>-1.408196</td>\n",
       "      <td>NaN</td>\n",
       "      <td>1000000.0</td>\n",
       "      <td>True</td>\n",
       "    </tr>\n",
       "    <tr>\n",
       "      <th>j</th>\n",
       "      <td>Madrid</td>\n",
       "      <td>1900</td>\n",
       "      <td>500000.0</td>\n",
       "      <td>-0.039597</td>\n",
       "      <td>NaN</td>\n",
       "      <td>1000000.0</td>\n",
       "      <td>True</td>\n",
       "    </tr>\n",
       "  </tbody>\n",
       "</table>\n",
       "</div>"
      ],
      "text/plain": [
       "    province  year  visitors      debt  2nd language        max  capital\n",
       "a  Barcelona  1900  100000.0 -1.738562           NaN  1000000.0    False\n",
       "b     Madrid  1950  500000.0  1.447657           NaN  1000000.0     True\n",
       "c     Madrid  1900   30000.0  0.284791           NaN  1000000.0     True\n",
       "d     Madrid  1900  200000.0 -1.095707           NaN  1000000.0     True\n",
       "e  Barcelona  1950  100000.0 -0.046081           NaN  1000000.0    False\n",
       "f  Barcelona  1950   30000.0 -0.123597           NaN  1000000.0    False\n",
       "g  Barcelona  1900  200000.0 -0.626574           NaN  1000000.0    False\n",
       "h     Madrid  1950  200000.0 -0.910843           NaN  1000000.0     True\n",
       "i     Madrid  2000  100000.0 -1.408196           NaN  1000000.0     True\n",
       "j     Madrid  1900  500000.0 -0.039597           NaN  1000000.0     True"
      ]
     },
     "execution_count": 393,
     "metadata": {},
     "output_type": "execute_result"
    }
   ],
   "source": [
    "df"
   ]
  },
  {
   "cell_type": "code",
   "execution_count": 395,
   "metadata": {},
   "outputs": [
    {
     "data": {
      "text/html": [
       "<div>\n",
       "<style scoped>\n",
       "    .dataframe tbody tr th:only-of-type {\n",
       "        vertical-align: middle;\n",
       "    }\n",
       "\n",
       "    .dataframe tbody tr th {\n",
       "        vertical-align: top;\n",
       "    }\n",
       "\n",
       "    .dataframe thead th {\n",
       "        text-align: right;\n",
       "    }\n",
       "</style>\n",
       "<table border=\"1\" class=\"dataframe\">\n",
       "  <thead>\n",
       "    <tr style=\"text-align: right;\">\n",
       "      <th></th>\n",
       "      <th>province</th>\n",
       "      <th>year</th>\n",
       "      <th>visitors</th>\n",
       "      <th>debt</th>\n",
       "      <th>2nd language</th>\n",
       "      <th>max</th>\n",
       "      <th>capital</th>\n",
       "      <th>cars</th>\n",
       "      <th>diswashers</th>\n",
       "    </tr>\n",
       "  </thead>\n",
       "  <tbody>\n",
       "    <tr>\n",
       "      <th>a</th>\n",
       "      <td>Barcelona</td>\n",
       "      <td>1900</td>\n",
       "      <td>100000.0</td>\n",
       "      <td>-1.738562</td>\n",
       "      <td>NaN</td>\n",
       "      <td>1000000.0</td>\n",
       "      <td>False</td>\n",
       "      <td>100000.0</td>\n",
       "      <td>NaN</td>\n",
       "    </tr>\n",
       "    <tr>\n",
       "      <th>b</th>\n",
       "      <td>Madrid</td>\n",
       "      <td>1950</td>\n",
       "      <td>500000.0</td>\n",
       "      <td>1.447657</td>\n",
       "      <td>NaN</td>\n",
       "      <td>1000000.0</td>\n",
       "      <td>True</td>\n",
       "      <td>30000.0</td>\n",
       "      <td>50000.0</td>\n",
       "    </tr>\n",
       "    <tr>\n",
       "      <th>c</th>\n",
       "      <td>Madrid</td>\n",
       "      <td>1900</td>\n",
       "      <td>30000.0</td>\n",
       "      <td>0.284791</td>\n",
       "      <td>NaN</td>\n",
       "      <td>1000000.0</td>\n",
       "      <td>True</td>\n",
       "      <td>30000.0</td>\n",
       "      <td>50000.0</td>\n",
       "    </tr>\n",
       "    <tr>\n",
       "      <th>d</th>\n",
       "      <td>Madrid</td>\n",
       "      <td>1900</td>\n",
       "      <td>200000.0</td>\n",
       "      <td>-1.095707</td>\n",
       "      <td>NaN</td>\n",
       "      <td>1000000.0</td>\n",
       "      <td>True</td>\n",
       "      <td>30000.0</td>\n",
       "      <td>230000.0</td>\n",
       "    </tr>\n",
       "    <tr>\n",
       "      <th>e</th>\n",
       "      <td>Barcelona</td>\n",
       "      <td>1950</td>\n",
       "      <td>100000.0</td>\n",
       "      <td>-0.046081</td>\n",
       "      <td>NaN</td>\n",
       "      <td>1000000.0</td>\n",
       "      <td>False</td>\n",
       "      <td>30000.0</td>\n",
       "      <td>NaN</td>\n",
       "    </tr>\n",
       "    <tr>\n",
       "      <th>f</th>\n",
       "      <td>Barcelona</td>\n",
       "      <td>1950</td>\n",
       "      <td>30000.0</td>\n",
       "      <td>-0.123597</td>\n",
       "      <td>NaN</td>\n",
       "      <td>1000000.0</td>\n",
       "      <td>False</td>\n",
       "      <td>30000.0</td>\n",
       "      <td>NaN</td>\n",
       "    </tr>\n",
       "    <tr>\n",
       "      <th>g</th>\n",
       "      <td>Barcelona</td>\n",
       "      <td>1900</td>\n",
       "      <td>200000.0</td>\n",
       "      <td>-0.626574</td>\n",
       "      <td>NaN</td>\n",
       "      <td>1000000.0</td>\n",
       "      <td>False</td>\n",
       "      <td>30000.0</td>\n",
       "      <td>50000.0</td>\n",
       "    </tr>\n",
       "    <tr>\n",
       "      <th>h</th>\n",
       "      <td>Madrid</td>\n",
       "      <td>1950</td>\n",
       "      <td>200000.0</td>\n",
       "      <td>-0.910843</td>\n",
       "      <td>NaN</td>\n",
       "      <td>1000000.0</td>\n",
       "      <td>True</td>\n",
       "      <td>30000.0</td>\n",
       "      <td>230000.0</td>\n",
       "    </tr>\n",
       "    <tr>\n",
       "      <th>i</th>\n",
       "      <td>Madrid</td>\n",
       "      <td>2000</td>\n",
       "      <td>100000.0</td>\n",
       "      <td>-1.408196</td>\n",
       "      <td>NaN</td>\n",
       "      <td>1000000.0</td>\n",
       "      <td>True</td>\n",
       "      <td>NaN</td>\n",
       "      <td>50000.0</td>\n",
       "    </tr>\n",
       "    <tr>\n",
       "      <th>j</th>\n",
       "      <td>Madrid</td>\n",
       "      <td>1900</td>\n",
       "      <td>500000.0</td>\n",
       "      <td>-0.039597</td>\n",
       "      <td>NaN</td>\n",
       "      <td>1000000.0</td>\n",
       "      <td>True</td>\n",
       "      <td>NaN</td>\n",
       "      <td>NaN</td>\n",
       "    </tr>\n",
       "  </tbody>\n",
       "</table>\n",
       "</div>"
      ],
      "text/plain": [
       "    province  year  visitors      debt  2nd language        max  capital  \\\n",
       "a  Barcelona  1900  100000.0 -1.738562           NaN  1000000.0    False   \n",
       "b     Madrid  1950  500000.0  1.447657           NaN  1000000.0     True   \n",
       "c     Madrid  1900   30000.0  0.284791           NaN  1000000.0     True   \n",
       "d     Madrid  1900  200000.0 -1.095707           NaN  1000000.0     True   \n",
       "e  Barcelona  1950  100000.0 -0.046081           NaN  1000000.0    False   \n",
       "f  Barcelona  1950   30000.0 -0.123597           NaN  1000000.0    False   \n",
       "g  Barcelona  1900  200000.0 -0.626574           NaN  1000000.0    False   \n",
       "h     Madrid  1950  200000.0 -0.910843           NaN  1000000.0     True   \n",
       "i     Madrid  2000  100000.0 -1.408196           NaN  1000000.0     True   \n",
       "j     Madrid  1900  500000.0 -0.039597           NaN  1000000.0     True   \n",
       "\n",
       "       cars  diswashers  \n",
       "a  100000.0         NaN  \n",
       "b   30000.0     50000.0  \n",
       "c   30000.0     50000.0  \n",
       "d   30000.0    230000.0  \n",
       "e   30000.0         NaN  \n",
       "f   30000.0         NaN  \n",
       "g   30000.0     50000.0  \n",
       "h   30000.0    230000.0  \n",
       "i       NaN     50000.0  \n",
       "j       NaN         NaN  "
      ]
     },
     "execution_count": 395,
     "metadata": {},
     "output_type": "execute_result"
    }
   ],
   "source": [
    "df['cars'] = random.choices([30000, np.nan, 1e5], k=10)\n",
    "df['diswashers'] = random.choices([5e4, np.nan, 2.3e5], k=10)\n",
    "df"
   ]
  },
  {
   "cell_type": "code",
   "execution_count": 396,
   "metadata": {
    "scrolled": true
   },
   "outputs": [
    {
     "data": {
      "text/html": [
       "<div>\n",
       "<style scoped>\n",
       "    .dataframe tbody tr th:only-of-type {\n",
       "        vertical-align: middle;\n",
       "    }\n",
       "\n",
       "    .dataframe tbody tr th {\n",
       "        vertical-align: top;\n",
       "    }\n",
       "\n",
       "    .dataframe thead th {\n",
       "        text-align: right;\n",
       "    }\n",
       "</style>\n",
       "<table border=\"1\" class=\"dataframe\">\n",
       "  <thead>\n",
       "    <tr style=\"text-align: right;\">\n",
       "      <th></th>\n",
       "      <th>province</th>\n",
       "      <th>year</th>\n",
       "      <th>visitors</th>\n",
       "      <th>debt</th>\n",
       "      <th>2nd language</th>\n",
       "      <th>max</th>\n",
       "      <th>capital</th>\n",
       "      <th>cars</th>\n",
       "      <th>diswashers</th>\n",
       "    </tr>\n",
       "  </thead>\n",
       "  <tbody>\n",
       "    <tr>\n",
       "      <th>a</th>\n",
       "      <td>Barcelona</td>\n",
       "      <td>1900</td>\n",
       "      <td>100000</td>\n",
       "      <td>-1.73856</td>\n",
       "      <td>NaN</td>\n",
       "      <td>1e+06</td>\n",
       "      <td>False</td>\n",
       "      <td>100000</td>\n",
       "      <td>NaN</td>\n",
       "    </tr>\n",
       "    <tr>\n",
       "      <th>b</th>\n",
       "      <td>BarcelonaMadrid</td>\n",
       "      <td>3850</td>\n",
       "      <td>600000</td>\n",
       "      <td>-0.290905</td>\n",
       "      <td>NaN</td>\n",
       "      <td>2e+06</td>\n",
       "      <td>1</td>\n",
       "      <td>130000</td>\n",
       "      <td>50000</td>\n",
       "    </tr>\n",
       "    <tr>\n",
       "      <th>c</th>\n",
       "      <td>BarcelonaMadridMadrid</td>\n",
       "      <td>5750</td>\n",
       "      <td>630000</td>\n",
       "      <td>-0.0061142</td>\n",
       "      <td>NaN</td>\n",
       "      <td>3e+06</td>\n",
       "      <td>2</td>\n",
       "      <td>160000</td>\n",
       "      <td>100000</td>\n",
       "    </tr>\n",
       "    <tr>\n",
       "      <th>d</th>\n",
       "      <td>BarcelonaMadridMadridMadrid</td>\n",
       "      <td>7650</td>\n",
       "      <td>830000</td>\n",
       "      <td>-1.10182</td>\n",
       "      <td>NaN</td>\n",
       "      <td>4e+06</td>\n",
       "      <td>3</td>\n",
       "      <td>190000</td>\n",
       "      <td>330000</td>\n",
       "    </tr>\n",
       "    <tr>\n",
       "      <th>e</th>\n",
       "      <td>BarcelonaMadridMadridMadridBarcelona</td>\n",
       "      <td>9600</td>\n",
       "      <td>930000</td>\n",
       "      <td>-1.1479</td>\n",
       "      <td>NaN</td>\n",
       "      <td>5e+06</td>\n",
       "      <td>3</td>\n",
       "      <td>220000</td>\n",
       "      <td>NaN</td>\n",
       "    </tr>\n",
       "    <tr>\n",
       "      <th>f</th>\n",
       "      <td>BarcelonaMadridMadridMadridBarcelonaBarcelona</td>\n",
       "      <td>11550</td>\n",
       "      <td>960000</td>\n",
       "      <td>-1.2715</td>\n",
       "      <td>NaN</td>\n",
       "      <td>6e+06</td>\n",
       "      <td>3</td>\n",
       "      <td>250000</td>\n",
       "      <td>NaN</td>\n",
       "    </tr>\n",
       "    <tr>\n",
       "      <th>g</th>\n",
       "      <td>BarcelonaMadridMadridMadridBarcelonaBarcelonaB...</td>\n",
       "      <td>13450</td>\n",
       "      <td>1.16e+06</td>\n",
       "      <td>-1.89807</td>\n",
       "      <td>NaN</td>\n",
       "      <td>7e+06</td>\n",
       "      <td>3</td>\n",
       "      <td>280000</td>\n",
       "      <td>380000</td>\n",
       "    </tr>\n",
       "    <tr>\n",
       "      <th>h</th>\n",
       "      <td>BarcelonaMadridMadridMadridBarcelonaBarcelonaB...</td>\n",
       "      <td>15400</td>\n",
       "      <td>1.36e+06</td>\n",
       "      <td>-2.80892</td>\n",
       "      <td>NaN</td>\n",
       "      <td>8e+06</td>\n",
       "      <td>4</td>\n",
       "      <td>310000</td>\n",
       "      <td>610000</td>\n",
       "    </tr>\n",
       "    <tr>\n",
       "      <th>i</th>\n",
       "      <td>BarcelonaMadridMadridMadridBarcelonaBarcelonaB...</td>\n",
       "      <td>17400</td>\n",
       "      <td>1.46e+06</td>\n",
       "      <td>-4.21711</td>\n",
       "      <td>NaN</td>\n",
       "      <td>9e+06</td>\n",
       "      <td>5</td>\n",
       "      <td>NaN</td>\n",
       "      <td>660000</td>\n",
       "    </tr>\n",
       "    <tr>\n",
       "      <th>j</th>\n",
       "      <td>BarcelonaMadridMadridMadridBarcelonaBarcelonaB...</td>\n",
       "      <td>19300</td>\n",
       "      <td>1.96e+06</td>\n",
       "      <td>-4.25671</td>\n",
       "      <td>NaN</td>\n",
       "      <td>1e+07</td>\n",
       "      <td>6</td>\n",
       "      <td>NaN</td>\n",
       "      <td>NaN</td>\n",
       "    </tr>\n",
       "  </tbody>\n",
       "</table>\n",
       "</div>"
      ],
      "text/plain": [
       "                                            province   year  visitors  \\\n",
       "a                                          Barcelona   1900    100000   \n",
       "b                                    BarcelonaMadrid   3850    600000   \n",
       "c                              BarcelonaMadridMadrid   5750    630000   \n",
       "d                        BarcelonaMadridMadridMadrid   7650    830000   \n",
       "e               BarcelonaMadridMadridMadridBarcelona   9600    930000   \n",
       "f      BarcelonaMadridMadridMadridBarcelonaBarcelona  11550    960000   \n",
       "g  BarcelonaMadridMadridMadridBarcelonaBarcelonaB...  13450  1.16e+06   \n",
       "h  BarcelonaMadridMadridMadridBarcelonaBarcelonaB...  15400  1.36e+06   \n",
       "i  BarcelonaMadridMadridMadridBarcelonaBarcelonaB...  17400  1.46e+06   \n",
       "j  BarcelonaMadridMadridMadridBarcelonaBarcelonaB...  19300  1.96e+06   \n",
       "\n",
       "        debt 2nd language    max capital    cars diswashers  \n",
       "a   -1.73856          NaN  1e+06   False  100000        NaN  \n",
       "b  -0.290905          NaN  2e+06       1  130000      50000  \n",
       "c -0.0061142          NaN  3e+06       2  160000     100000  \n",
       "d   -1.10182          NaN  4e+06       3  190000     330000  \n",
       "e    -1.1479          NaN  5e+06       3  220000        NaN  \n",
       "f    -1.2715          NaN  6e+06       3  250000        NaN  \n",
       "g   -1.89807          NaN  7e+06       3  280000     380000  \n",
       "h   -2.80892          NaN  8e+06       4  310000     610000  \n",
       "i   -4.21711          NaN  9e+06       5     NaN     660000  \n",
       "j   -4.25671          NaN  1e+07       6     NaN        NaN  "
      ]
     },
     "execution_count": 396,
     "metadata": {},
     "output_type": "execute_result"
    }
   ],
   "source": [
    "df.cumsum()"
   ]
  },
  {
   "cell_type": "markdown",
   "metadata": {
    "slideshow": {
     "slide_type": "slide"
    }
   },
   "source": [
    "### Unique values, value counts, and membership"
   ]
  },
  {
   "cell_type": "code",
   "execution_count": 398,
   "metadata": {},
   "outputs": [
    {
     "data": {
      "text/plain": [
       "array(['Barcelona', 'Madrid'], dtype=object)"
      ]
     },
     "execution_count": 398,
     "metadata": {},
     "output_type": "execute_result"
    }
   ],
   "source": [
    "df['province'].unique()"
   ]
  },
  {
   "cell_type": "code",
   "execution_count": 399,
   "metadata": {},
   "outputs": [
    {
     "data": {
      "text/plain": [
       "Madrid       6\n",
       "Barcelona    4\n",
       "Name: province, dtype: int64"
      ]
     },
     "execution_count": 399,
     "metadata": {},
     "output_type": "execute_result"
    }
   ],
   "source": [
    "df['province'].value_counts()"
   ]
  },
  {
   "cell_type": "code",
   "execution_count": 405,
   "metadata": {},
   "outputs": [
    {
     "data": {
      "text/plain": [
       " 30000.0     7\n",
       "NaN          2\n",
       " 100000.0    1\n",
       "Name: cars, dtype: int64"
      ]
     },
     "execution_count": 405,
     "metadata": {},
     "output_type": "execute_result"
    }
   ],
   "source": [
    "df['cars'].value_counts(dropna=False)"
   ]
  },
  {
   "cell_type": "code",
   "execution_count": 407,
   "metadata": {},
   "outputs": [
    {
     "data": {
      "text/html": [
       "<div>\n",
       "<style scoped>\n",
       "    .dataframe tbody tr th:only-of-type {\n",
       "        vertical-align: middle;\n",
       "    }\n",
       "\n",
       "    .dataframe tbody tr th {\n",
       "        vertical-align: top;\n",
       "    }\n",
       "\n",
       "    .dataframe thead th {\n",
       "        text-align: right;\n",
       "    }\n",
       "</style>\n",
       "<table border=\"1\" class=\"dataframe\">\n",
       "  <thead>\n",
       "    <tr style=\"text-align: right;\">\n",
       "      <th></th>\n",
       "      <th>province</th>\n",
       "      <th>year</th>\n",
       "      <th>visitors</th>\n",
       "      <th>debt</th>\n",
       "      <th>2nd language</th>\n",
       "      <th>max</th>\n",
       "      <th>capital</th>\n",
       "      <th>cars</th>\n",
       "      <th>diswashers</th>\n",
       "    </tr>\n",
       "  </thead>\n",
       "  <tbody>\n",
       "    <tr>\n",
       "      <th>a</th>\n",
       "      <td>Barcelona</td>\n",
       "      <td>1900</td>\n",
       "      <td>100000.0</td>\n",
       "      <td>-1.738562</td>\n",
       "      <td>NaN</td>\n",
       "      <td>1000000.0</td>\n",
       "      <td>False</td>\n",
       "      <td>100000.0</td>\n",
       "      <td>NaN</td>\n",
       "    </tr>\n",
       "    <tr>\n",
       "      <th>b</th>\n",
       "      <td>Madrid</td>\n",
       "      <td>1950</td>\n",
       "      <td>500000.0</td>\n",
       "      <td>1.447657</td>\n",
       "      <td>NaN</td>\n",
       "      <td>1000000.0</td>\n",
       "      <td>True</td>\n",
       "      <td>30000.0</td>\n",
       "      <td>50000.0</td>\n",
       "    </tr>\n",
       "    <tr>\n",
       "      <th>c</th>\n",
       "      <td>Madrid</td>\n",
       "      <td>1900</td>\n",
       "      <td>30000.0</td>\n",
       "      <td>0.284791</td>\n",
       "      <td>NaN</td>\n",
       "      <td>1000000.0</td>\n",
       "      <td>True</td>\n",
       "      <td>30000.0</td>\n",
       "      <td>50000.0</td>\n",
       "    </tr>\n",
       "    <tr>\n",
       "      <th>d</th>\n",
       "      <td>Madrid</td>\n",
       "      <td>1900</td>\n",
       "      <td>200000.0</td>\n",
       "      <td>-1.095707</td>\n",
       "      <td>NaN</td>\n",
       "      <td>1000000.0</td>\n",
       "      <td>True</td>\n",
       "      <td>30000.0</td>\n",
       "      <td>230000.0</td>\n",
       "    </tr>\n",
       "    <tr>\n",
       "      <th>e</th>\n",
       "      <td>Barcelona</td>\n",
       "      <td>1950</td>\n",
       "      <td>100000.0</td>\n",
       "      <td>-0.046081</td>\n",
       "      <td>NaN</td>\n",
       "      <td>1000000.0</td>\n",
       "      <td>False</td>\n",
       "      <td>30000.0</td>\n",
       "      <td>NaN</td>\n",
       "    </tr>\n",
       "    <tr>\n",
       "      <th>f</th>\n",
       "      <td>Barcelona</td>\n",
       "      <td>1950</td>\n",
       "      <td>30000.0</td>\n",
       "      <td>-0.123597</td>\n",
       "      <td>NaN</td>\n",
       "      <td>1000000.0</td>\n",
       "      <td>False</td>\n",
       "      <td>30000.0</td>\n",
       "      <td>NaN</td>\n",
       "    </tr>\n",
       "    <tr>\n",
       "      <th>g</th>\n",
       "      <td>Barcelona</td>\n",
       "      <td>1900</td>\n",
       "      <td>200000.0</td>\n",
       "      <td>-0.626574</td>\n",
       "      <td>NaN</td>\n",
       "      <td>1000000.0</td>\n",
       "      <td>False</td>\n",
       "      <td>30000.0</td>\n",
       "      <td>50000.0</td>\n",
       "    </tr>\n",
       "    <tr>\n",
       "      <th>h</th>\n",
       "      <td>Madrid</td>\n",
       "      <td>1950</td>\n",
       "      <td>200000.0</td>\n",
       "      <td>-0.910843</td>\n",
       "      <td>NaN</td>\n",
       "      <td>1000000.0</td>\n",
       "      <td>True</td>\n",
       "      <td>30000.0</td>\n",
       "      <td>230000.0</td>\n",
       "    </tr>\n",
       "    <tr>\n",
       "      <th>i</th>\n",
       "      <td>Madrid</td>\n",
       "      <td>2000</td>\n",
       "      <td>100000.0</td>\n",
       "      <td>-1.408196</td>\n",
       "      <td>NaN</td>\n",
       "      <td>1000000.0</td>\n",
       "      <td>True</td>\n",
       "      <td>NaN</td>\n",
       "      <td>50000.0</td>\n",
       "    </tr>\n",
       "    <tr>\n",
       "      <th>j</th>\n",
       "      <td>Madrid</td>\n",
       "      <td>1900</td>\n",
       "      <td>500000.0</td>\n",
       "      <td>-0.039597</td>\n",
       "      <td>NaN</td>\n",
       "      <td>1000000.0</td>\n",
       "      <td>True</td>\n",
       "      <td>NaN</td>\n",
       "      <td>NaN</td>\n",
       "    </tr>\n",
       "  </tbody>\n",
       "</table>\n",
       "</div>"
      ],
      "text/plain": [
       "    province  year  visitors      debt  2nd language        max  capital  \\\n",
       "a  Barcelona  1900  100000.0 -1.738562           NaN  1000000.0    False   \n",
       "b     Madrid  1950  500000.0  1.447657           NaN  1000000.0     True   \n",
       "c     Madrid  1900   30000.0  0.284791           NaN  1000000.0     True   \n",
       "d     Madrid  1900  200000.0 -1.095707           NaN  1000000.0     True   \n",
       "e  Barcelona  1950  100000.0 -0.046081           NaN  1000000.0    False   \n",
       "f  Barcelona  1950   30000.0 -0.123597           NaN  1000000.0    False   \n",
       "g  Barcelona  1900  200000.0 -0.626574           NaN  1000000.0    False   \n",
       "h     Madrid  1950  200000.0 -0.910843           NaN  1000000.0     True   \n",
       "i     Madrid  2000  100000.0 -1.408196           NaN  1000000.0     True   \n",
       "j     Madrid  1900  500000.0 -0.039597           NaN  1000000.0     True   \n",
       "\n",
       "       cars  diswashers  \n",
       "a  100000.0         NaN  \n",
       "b   30000.0     50000.0  \n",
       "c   30000.0     50000.0  \n",
       "d   30000.0    230000.0  \n",
       "e   30000.0         NaN  \n",
       "f   30000.0         NaN  \n",
       "g   30000.0     50000.0  \n",
       "h   30000.0    230000.0  \n",
       "i       NaN     50000.0  \n",
       "j       NaN         NaN  "
      ]
     },
     "execution_count": 407,
     "metadata": {},
     "output_type": "execute_result"
    }
   ],
   "source": [
    "df"
   ]
  },
  {
   "cell_type": "code",
   "execution_count": 406,
   "metadata": {},
   "outputs": [
    {
     "data": {
      "text/plain": [
       "a    False\n",
       "b     True\n",
       "c     True\n",
       "d     True\n",
       "e    False\n",
       "f    False\n",
       "g    False\n",
       "h     True\n",
       "i     True\n",
       "j     True\n",
       "Name: province, dtype: bool"
      ]
     },
     "execution_count": 406,
     "metadata": {},
     "output_type": "execute_result"
    }
   ],
   "source": [
    "df['province'].isin(['Madrid', 'Palencia'])"
   ]
  },
  {
   "cell_type": "code",
   "execution_count": 408,
   "metadata": {},
   "outputs": [
    {
     "data": {
      "text/plain": [
       "b    30000.0\n",
       "c    30000.0\n",
       "d    30000.0\n",
       "h    30000.0\n",
       "i        NaN\n",
       "j        NaN\n",
       "Name: cars, dtype: float64"
      ]
     },
     "execution_count": 408,
     "metadata": {},
     "output_type": "execute_result"
    }
   ],
   "source": [
    "df[df['province'].isin(['Madrid', 'Palencia'])]['cars']"
   ]
  },
  {
   "cell_type": "markdown",
   "metadata": {
    "slideshow": {
     "slide_type": "slide"
    }
   },
   "source": [
    "## Handling missing data"
   ]
  },
  {
   "cell_type": "code",
   "execution_count": 409,
   "metadata": {},
   "outputs": [
    {
     "data": {
      "text/html": [
       "<div>\n",
       "<style scoped>\n",
       "    .dataframe tbody tr th:only-of-type {\n",
       "        vertical-align: middle;\n",
       "    }\n",
       "\n",
       "    .dataframe tbody tr th {\n",
       "        vertical-align: top;\n",
       "    }\n",
       "\n",
       "    .dataframe thead th {\n",
       "        text-align: right;\n",
       "    }\n",
       "</style>\n",
       "<table border=\"1\" class=\"dataframe\">\n",
       "  <thead>\n",
       "    <tr style=\"text-align: right;\">\n",
       "      <th></th>\n",
       "      <th>province</th>\n",
       "      <th>year</th>\n",
       "      <th>visitors</th>\n",
       "      <th>debt</th>\n",
       "      <th>2nd language</th>\n",
       "      <th>max</th>\n",
       "      <th>capital</th>\n",
       "      <th>cars</th>\n",
       "      <th>diswashers</th>\n",
       "    </tr>\n",
       "  </thead>\n",
       "  <tbody>\n",
       "  </tbody>\n",
       "</table>\n",
       "</div>"
      ],
      "text/plain": [
       "Empty DataFrame\n",
       "Columns: [province, year, visitors, debt, 2nd language, max, capital, cars, diswashers]\n",
       "Index: []"
      ]
     },
     "execution_count": 409,
     "metadata": {},
     "output_type": "execute_result"
    }
   ],
   "source": [
    "df.dropna()"
   ]
  },
  {
   "cell_type": "code",
   "execution_count": 410,
   "metadata": {},
   "outputs": [
    {
     "data": {
      "text/html": [
       "<div>\n",
       "<style scoped>\n",
       "    .dataframe tbody tr th:only-of-type {\n",
       "        vertical-align: middle;\n",
       "    }\n",
       "\n",
       "    .dataframe tbody tr th {\n",
       "        vertical-align: top;\n",
       "    }\n",
       "\n",
       "    .dataframe thead th {\n",
       "        text-align: right;\n",
       "    }\n",
       "</style>\n",
       "<table border=\"1\" class=\"dataframe\">\n",
       "  <thead>\n",
       "    <tr style=\"text-align: right;\">\n",
       "      <th></th>\n",
       "      <th>province</th>\n",
       "      <th>year</th>\n",
       "      <th>visitors</th>\n",
       "      <th>debt</th>\n",
       "      <th>2nd language</th>\n",
       "      <th>max</th>\n",
       "      <th>capital</th>\n",
       "      <th>cars</th>\n",
       "      <th>diswashers</th>\n",
       "    </tr>\n",
       "  </thead>\n",
       "  <tbody>\n",
       "    <tr>\n",
       "      <th>a</th>\n",
       "      <td>Barcelona</td>\n",
       "      <td>1900</td>\n",
       "      <td>100000.0</td>\n",
       "      <td>-1.738562</td>\n",
       "      <td>tocoto</td>\n",
       "      <td>1000000.0</td>\n",
       "      <td>False</td>\n",
       "      <td>100000</td>\n",
       "      <td>tocoto</td>\n",
       "    </tr>\n",
       "    <tr>\n",
       "      <th>b</th>\n",
       "      <td>Madrid</td>\n",
       "      <td>1950</td>\n",
       "      <td>500000.0</td>\n",
       "      <td>1.447657</td>\n",
       "      <td>tocoto</td>\n",
       "      <td>1000000.0</td>\n",
       "      <td>True</td>\n",
       "      <td>30000</td>\n",
       "      <td>50000</td>\n",
       "    </tr>\n",
       "    <tr>\n",
       "      <th>c</th>\n",
       "      <td>Madrid</td>\n",
       "      <td>1900</td>\n",
       "      <td>30000.0</td>\n",
       "      <td>0.284791</td>\n",
       "      <td>tocoto</td>\n",
       "      <td>1000000.0</td>\n",
       "      <td>True</td>\n",
       "      <td>30000</td>\n",
       "      <td>50000</td>\n",
       "    </tr>\n",
       "    <tr>\n",
       "      <th>d</th>\n",
       "      <td>Madrid</td>\n",
       "      <td>1900</td>\n",
       "      <td>200000.0</td>\n",
       "      <td>-1.095707</td>\n",
       "      <td>tocoto</td>\n",
       "      <td>1000000.0</td>\n",
       "      <td>True</td>\n",
       "      <td>30000</td>\n",
       "      <td>230000</td>\n",
       "    </tr>\n",
       "    <tr>\n",
       "      <th>e</th>\n",
       "      <td>Barcelona</td>\n",
       "      <td>1950</td>\n",
       "      <td>100000.0</td>\n",
       "      <td>-0.046081</td>\n",
       "      <td>tocoto</td>\n",
       "      <td>1000000.0</td>\n",
       "      <td>False</td>\n",
       "      <td>30000</td>\n",
       "      <td>tocoto</td>\n",
       "    </tr>\n",
       "    <tr>\n",
       "      <th>f</th>\n",
       "      <td>Barcelona</td>\n",
       "      <td>1950</td>\n",
       "      <td>30000.0</td>\n",
       "      <td>-0.123597</td>\n",
       "      <td>tocoto</td>\n",
       "      <td>1000000.0</td>\n",
       "      <td>False</td>\n",
       "      <td>30000</td>\n",
       "      <td>tocoto</td>\n",
       "    </tr>\n",
       "    <tr>\n",
       "      <th>g</th>\n",
       "      <td>Barcelona</td>\n",
       "      <td>1900</td>\n",
       "      <td>200000.0</td>\n",
       "      <td>-0.626574</td>\n",
       "      <td>tocoto</td>\n",
       "      <td>1000000.0</td>\n",
       "      <td>False</td>\n",
       "      <td>30000</td>\n",
       "      <td>50000</td>\n",
       "    </tr>\n",
       "    <tr>\n",
       "      <th>h</th>\n",
       "      <td>Madrid</td>\n",
       "      <td>1950</td>\n",
       "      <td>200000.0</td>\n",
       "      <td>-0.910843</td>\n",
       "      <td>tocoto</td>\n",
       "      <td>1000000.0</td>\n",
       "      <td>True</td>\n",
       "      <td>30000</td>\n",
       "      <td>230000</td>\n",
       "    </tr>\n",
       "    <tr>\n",
       "      <th>i</th>\n",
       "      <td>Madrid</td>\n",
       "      <td>2000</td>\n",
       "      <td>100000.0</td>\n",
       "      <td>-1.408196</td>\n",
       "      <td>tocoto</td>\n",
       "      <td>1000000.0</td>\n",
       "      <td>True</td>\n",
       "      <td>tocoto</td>\n",
       "      <td>50000</td>\n",
       "    </tr>\n",
       "    <tr>\n",
       "      <th>j</th>\n",
       "      <td>Madrid</td>\n",
       "      <td>1900</td>\n",
       "      <td>500000.0</td>\n",
       "      <td>-0.039597</td>\n",
       "      <td>tocoto</td>\n",
       "      <td>1000000.0</td>\n",
       "      <td>True</td>\n",
       "      <td>tocoto</td>\n",
       "      <td>tocoto</td>\n",
       "    </tr>\n",
       "  </tbody>\n",
       "</table>\n",
       "</div>"
      ],
      "text/plain": [
       "    province  year  visitors      debt 2nd language        max  capital  \\\n",
       "a  Barcelona  1900  100000.0 -1.738562       tocoto  1000000.0    False   \n",
       "b     Madrid  1950  500000.0  1.447657       tocoto  1000000.0     True   \n",
       "c     Madrid  1900   30000.0  0.284791       tocoto  1000000.0     True   \n",
       "d     Madrid  1900  200000.0 -1.095707       tocoto  1000000.0     True   \n",
       "e  Barcelona  1950  100000.0 -0.046081       tocoto  1000000.0    False   \n",
       "f  Barcelona  1950   30000.0 -0.123597       tocoto  1000000.0    False   \n",
       "g  Barcelona  1900  200000.0 -0.626574       tocoto  1000000.0    False   \n",
       "h     Madrid  1950  200000.0 -0.910843       tocoto  1000000.0     True   \n",
       "i     Madrid  2000  100000.0 -1.408196       tocoto  1000000.0     True   \n",
       "j     Madrid  1900  500000.0 -0.039597       tocoto  1000000.0     True   \n",
       "\n",
       "     cars diswashers  \n",
       "a  100000     tocoto  \n",
       "b   30000      50000  \n",
       "c   30000      50000  \n",
       "d   30000     230000  \n",
       "e   30000     tocoto  \n",
       "f   30000     tocoto  \n",
       "g   30000      50000  \n",
       "h   30000     230000  \n",
       "i  tocoto      50000  \n",
       "j  tocoto     tocoto  "
      ]
     },
     "execution_count": 410,
     "metadata": {},
     "output_type": "execute_result"
    }
   ],
   "source": [
    "df.fillna('tocoto')"
   ]
  },
  {
   "cell_type": "code",
   "execution_count": 411,
   "metadata": {},
   "outputs": [
    {
     "data": {
      "text/html": [
       "<div>\n",
       "<style scoped>\n",
       "    .dataframe tbody tr th:only-of-type {\n",
       "        vertical-align: middle;\n",
       "    }\n",
       "\n",
       "    .dataframe tbody tr th {\n",
       "        vertical-align: top;\n",
       "    }\n",
       "\n",
       "    .dataframe thead th {\n",
       "        text-align: right;\n",
       "    }\n",
       "</style>\n",
       "<table border=\"1\" class=\"dataframe\">\n",
       "  <thead>\n",
       "    <tr style=\"text-align: right;\">\n",
       "      <th></th>\n",
       "      <th>province</th>\n",
       "      <th>year</th>\n",
       "      <th>visitors</th>\n",
       "      <th>debt</th>\n",
       "      <th>max</th>\n",
       "      <th>capital</th>\n",
       "    </tr>\n",
       "  </thead>\n",
       "  <tbody>\n",
       "    <tr>\n",
       "      <th>a</th>\n",
       "      <td>Barcelona</td>\n",
       "      <td>1900</td>\n",
       "      <td>100000.0</td>\n",
       "      <td>-1.738562</td>\n",
       "      <td>1000000.0</td>\n",
       "      <td>False</td>\n",
       "    </tr>\n",
       "    <tr>\n",
       "      <th>b</th>\n",
       "      <td>Madrid</td>\n",
       "      <td>1950</td>\n",
       "      <td>500000.0</td>\n",
       "      <td>1.447657</td>\n",
       "      <td>1000000.0</td>\n",
       "      <td>True</td>\n",
       "    </tr>\n",
       "    <tr>\n",
       "      <th>c</th>\n",
       "      <td>Madrid</td>\n",
       "      <td>1900</td>\n",
       "      <td>30000.0</td>\n",
       "      <td>0.284791</td>\n",
       "      <td>1000000.0</td>\n",
       "      <td>True</td>\n",
       "    </tr>\n",
       "    <tr>\n",
       "      <th>d</th>\n",
       "      <td>Madrid</td>\n",
       "      <td>1900</td>\n",
       "      <td>200000.0</td>\n",
       "      <td>-1.095707</td>\n",
       "      <td>1000000.0</td>\n",
       "      <td>True</td>\n",
       "    </tr>\n",
       "    <tr>\n",
       "      <th>e</th>\n",
       "      <td>Barcelona</td>\n",
       "      <td>1950</td>\n",
       "      <td>100000.0</td>\n",
       "      <td>-0.046081</td>\n",
       "      <td>1000000.0</td>\n",
       "      <td>False</td>\n",
       "    </tr>\n",
       "    <tr>\n",
       "      <th>f</th>\n",
       "      <td>Barcelona</td>\n",
       "      <td>1950</td>\n",
       "      <td>30000.0</td>\n",
       "      <td>-0.123597</td>\n",
       "      <td>1000000.0</td>\n",
       "      <td>False</td>\n",
       "    </tr>\n",
       "    <tr>\n",
       "      <th>g</th>\n",
       "      <td>Barcelona</td>\n",
       "      <td>1900</td>\n",
       "      <td>200000.0</td>\n",
       "      <td>-0.626574</td>\n",
       "      <td>1000000.0</td>\n",
       "      <td>False</td>\n",
       "    </tr>\n",
       "    <tr>\n",
       "      <th>h</th>\n",
       "      <td>Madrid</td>\n",
       "      <td>1950</td>\n",
       "      <td>200000.0</td>\n",
       "      <td>-0.910843</td>\n",
       "      <td>1000000.0</td>\n",
       "      <td>True</td>\n",
       "    </tr>\n",
       "    <tr>\n",
       "      <th>i</th>\n",
       "      <td>Madrid</td>\n",
       "      <td>2000</td>\n",
       "      <td>100000.0</td>\n",
       "      <td>-1.408196</td>\n",
       "      <td>1000000.0</td>\n",
       "      <td>True</td>\n",
       "    </tr>\n",
       "    <tr>\n",
       "      <th>j</th>\n",
       "      <td>Madrid</td>\n",
       "      <td>1900</td>\n",
       "      <td>500000.0</td>\n",
       "      <td>-0.039597</td>\n",
       "      <td>1000000.0</td>\n",
       "      <td>True</td>\n",
       "    </tr>\n",
       "  </tbody>\n",
       "</table>\n",
       "</div>"
      ],
      "text/plain": [
       "    province  year  visitors      debt        max  capital\n",
       "a  Barcelona  1900  100000.0 -1.738562  1000000.0    False\n",
       "b     Madrid  1950  500000.0  1.447657  1000000.0     True\n",
       "c     Madrid  1900   30000.0  0.284791  1000000.0     True\n",
       "d     Madrid  1900  200000.0 -1.095707  1000000.0     True\n",
       "e  Barcelona  1950  100000.0 -0.046081  1000000.0    False\n",
       "f  Barcelona  1950   30000.0 -0.123597  1000000.0    False\n",
       "g  Barcelona  1900  200000.0 -0.626574  1000000.0    False\n",
       "h     Madrid  1950  200000.0 -0.910843  1000000.0     True\n",
       "i     Madrid  2000  100000.0 -1.408196  1000000.0     True\n",
       "j     Madrid  1900  500000.0 -0.039597  1000000.0     True"
      ]
     },
     "execution_count": 411,
     "metadata": {},
     "output_type": "execute_result"
    }
   ],
   "source": [
    "df.dropna(axis=1)"
   ]
  },
  {
   "cell_type": "code",
   "execution_count": 412,
   "metadata": {},
   "outputs": [
    {
     "data": {
      "text/html": [
       "<div>\n",
       "<style scoped>\n",
       "    .dataframe tbody tr th:only-of-type {\n",
       "        vertical-align: middle;\n",
       "    }\n",
       "\n",
       "    .dataframe tbody tr th {\n",
       "        vertical-align: top;\n",
       "    }\n",
       "\n",
       "    .dataframe thead th {\n",
       "        text-align: right;\n",
       "    }\n",
       "</style>\n",
       "<table border=\"1\" class=\"dataframe\">\n",
       "  <thead>\n",
       "    <tr style=\"text-align: right;\">\n",
       "      <th></th>\n",
       "      <th>province</th>\n",
       "      <th>year</th>\n",
       "      <th>visitors</th>\n",
       "      <th>debt</th>\n",
       "      <th>max</th>\n",
       "      <th>capital</th>\n",
       "      <th>cars</th>\n",
       "      <th>diswashers</th>\n",
       "    </tr>\n",
       "  </thead>\n",
       "  <tbody>\n",
       "    <tr>\n",
       "      <th>a</th>\n",
       "      <td>Barcelona</td>\n",
       "      <td>1900</td>\n",
       "      <td>100000.0</td>\n",
       "      <td>-1.738562</td>\n",
       "      <td>1000000.0</td>\n",
       "      <td>False</td>\n",
       "      <td>100000.0</td>\n",
       "      <td>NaN</td>\n",
       "    </tr>\n",
       "    <tr>\n",
       "      <th>b</th>\n",
       "      <td>Madrid</td>\n",
       "      <td>1950</td>\n",
       "      <td>500000.0</td>\n",
       "      <td>1.447657</td>\n",
       "      <td>1000000.0</td>\n",
       "      <td>True</td>\n",
       "      <td>30000.0</td>\n",
       "      <td>50000.0</td>\n",
       "    </tr>\n",
       "    <tr>\n",
       "      <th>c</th>\n",
       "      <td>Madrid</td>\n",
       "      <td>1900</td>\n",
       "      <td>30000.0</td>\n",
       "      <td>0.284791</td>\n",
       "      <td>1000000.0</td>\n",
       "      <td>True</td>\n",
       "      <td>30000.0</td>\n",
       "      <td>50000.0</td>\n",
       "    </tr>\n",
       "    <tr>\n",
       "      <th>d</th>\n",
       "      <td>Madrid</td>\n",
       "      <td>1900</td>\n",
       "      <td>200000.0</td>\n",
       "      <td>-1.095707</td>\n",
       "      <td>1000000.0</td>\n",
       "      <td>True</td>\n",
       "      <td>30000.0</td>\n",
       "      <td>230000.0</td>\n",
       "    </tr>\n",
       "    <tr>\n",
       "      <th>e</th>\n",
       "      <td>Barcelona</td>\n",
       "      <td>1950</td>\n",
       "      <td>100000.0</td>\n",
       "      <td>-0.046081</td>\n",
       "      <td>1000000.0</td>\n",
       "      <td>False</td>\n",
       "      <td>30000.0</td>\n",
       "      <td>NaN</td>\n",
       "    </tr>\n",
       "    <tr>\n",
       "      <th>f</th>\n",
       "      <td>Barcelona</td>\n",
       "      <td>1950</td>\n",
       "      <td>30000.0</td>\n",
       "      <td>-0.123597</td>\n",
       "      <td>1000000.0</td>\n",
       "      <td>False</td>\n",
       "      <td>30000.0</td>\n",
       "      <td>NaN</td>\n",
       "    </tr>\n",
       "    <tr>\n",
       "      <th>g</th>\n",
       "      <td>Barcelona</td>\n",
       "      <td>1900</td>\n",
       "      <td>200000.0</td>\n",
       "      <td>-0.626574</td>\n",
       "      <td>1000000.0</td>\n",
       "      <td>False</td>\n",
       "      <td>30000.0</td>\n",
       "      <td>50000.0</td>\n",
       "    </tr>\n",
       "    <tr>\n",
       "      <th>h</th>\n",
       "      <td>Madrid</td>\n",
       "      <td>1950</td>\n",
       "      <td>200000.0</td>\n",
       "      <td>-0.910843</td>\n",
       "      <td>1000000.0</td>\n",
       "      <td>True</td>\n",
       "      <td>30000.0</td>\n",
       "      <td>230000.0</td>\n",
       "    </tr>\n",
       "    <tr>\n",
       "      <th>i</th>\n",
       "      <td>Madrid</td>\n",
       "      <td>2000</td>\n",
       "      <td>100000.0</td>\n",
       "      <td>-1.408196</td>\n",
       "      <td>1000000.0</td>\n",
       "      <td>True</td>\n",
       "      <td>NaN</td>\n",
       "      <td>50000.0</td>\n",
       "    </tr>\n",
       "    <tr>\n",
       "      <th>j</th>\n",
       "      <td>Madrid</td>\n",
       "      <td>1900</td>\n",
       "      <td>500000.0</td>\n",
       "      <td>-0.039597</td>\n",
       "      <td>1000000.0</td>\n",
       "      <td>True</td>\n",
       "      <td>NaN</td>\n",
       "      <td>NaN</td>\n",
       "    </tr>\n",
       "  </tbody>\n",
       "</table>\n",
       "</div>"
      ],
      "text/plain": [
       "    province  year  visitors      debt        max  capital      cars  \\\n",
       "a  Barcelona  1900  100000.0 -1.738562  1000000.0    False  100000.0   \n",
       "b     Madrid  1950  500000.0  1.447657  1000000.0     True   30000.0   \n",
       "c     Madrid  1900   30000.0  0.284791  1000000.0     True   30000.0   \n",
       "d     Madrid  1900  200000.0 -1.095707  1000000.0     True   30000.0   \n",
       "e  Barcelona  1950  100000.0 -0.046081  1000000.0    False   30000.0   \n",
       "f  Barcelona  1950   30000.0 -0.123597  1000000.0    False   30000.0   \n",
       "g  Barcelona  1900  200000.0 -0.626574  1000000.0    False   30000.0   \n",
       "h     Madrid  1950  200000.0 -0.910843  1000000.0     True   30000.0   \n",
       "i     Madrid  2000  100000.0 -1.408196  1000000.0     True       NaN   \n",
       "j     Madrid  1900  500000.0 -0.039597  1000000.0     True       NaN   \n",
       "\n",
       "   diswashers  \n",
       "a         NaN  \n",
       "b     50000.0  \n",
       "c     50000.0  \n",
       "d    230000.0  \n",
       "e         NaN  \n",
       "f         NaN  \n",
       "g     50000.0  \n",
       "h    230000.0  \n",
       "i     50000.0  \n",
       "j         NaN  "
      ]
     },
     "execution_count": 412,
     "metadata": {},
     "output_type": "execute_result"
    }
   ],
   "source": [
    "df.dropna(axis=1, how='all')"
   ]
  },
  {
   "cell_type": "code",
   "execution_count": 413,
   "metadata": {},
   "outputs": [
    {
     "data": {
      "text/html": [
       "<div>\n",
       "<style scoped>\n",
       "    .dataframe tbody tr th:only-of-type {\n",
       "        vertical-align: middle;\n",
       "    }\n",
       "\n",
       "    .dataframe tbody tr th {\n",
       "        vertical-align: top;\n",
       "    }\n",
       "\n",
       "    .dataframe thead th {\n",
       "        text-align: right;\n",
       "    }\n",
       "</style>\n",
       "<table border=\"1\" class=\"dataframe\">\n",
       "  <thead>\n",
       "    <tr style=\"text-align: right;\">\n",
       "      <th></th>\n",
       "      <th>province</th>\n",
       "      <th>year</th>\n",
       "      <th>visitors</th>\n",
       "      <th>debt</th>\n",
       "      <th>2nd language</th>\n",
       "      <th>max</th>\n",
       "      <th>capital</th>\n",
       "      <th>cars</th>\n",
       "      <th>diswashers</th>\n",
       "    </tr>\n",
       "  </thead>\n",
       "  <tbody>\n",
       "    <tr>\n",
       "      <th>b</th>\n",
       "      <td>Madrid</td>\n",
       "      <td>1950</td>\n",
       "      <td>500000.0</td>\n",
       "      <td>1.447657</td>\n",
       "      <td>NaN</td>\n",
       "      <td>1000000.0</td>\n",
       "      <td>True</td>\n",
       "      <td>30000.0</td>\n",
       "      <td>50000.0</td>\n",
       "    </tr>\n",
       "    <tr>\n",
       "      <th>c</th>\n",
       "      <td>Madrid</td>\n",
       "      <td>1900</td>\n",
       "      <td>30000.0</td>\n",
       "      <td>0.284791</td>\n",
       "      <td>NaN</td>\n",
       "      <td>1000000.0</td>\n",
       "      <td>True</td>\n",
       "      <td>30000.0</td>\n",
       "      <td>50000.0</td>\n",
       "    </tr>\n",
       "    <tr>\n",
       "      <th>d</th>\n",
       "      <td>Madrid</td>\n",
       "      <td>1900</td>\n",
       "      <td>200000.0</td>\n",
       "      <td>-1.095707</td>\n",
       "      <td>NaN</td>\n",
       "      <td>1000000.0</td>\n",
       "      <td>True</td>\n",
       "      <td>30000.0</td>\n",
       "      <td>230000.0</td>\n",
       "    </tr>\n",
       "    <tr>\n",
       "      <th>g</th>\n",
       "      <td>Barcelona</td>\n",
       "      <td>1900</td>\n",
       "      <td>200000.0</td>\n",
       "      <td>-0.626574</td>\n",
       "      <td>NaN</td>\n",
       "      <td>1000000.0</td>\n",
       "      <td>False</td>\n",
       "      <td>30000.0</td>\n",
       "      <td>50000.0</td>\n",
       "    </tr>\n",
       "    <tr>\n",
       "      <th>h</th>\n",
       "      <td>Madrid</td>\n",
       "      <td>1950</td>\n",
       "      <td>200000.0</td>\n",
       "      <td>-0.910843</td>\n",
       "      <td>NaN</td>\n",
       "      <td>1000000.0</td>\n",
       "      <td>True</td>\n",
       "      <td>30000.0</td>\n",
       "      <td>230000.0</td>\n",
       "    </tr>\n",
       "  </tbody>\n",
       "</table>\n",
       "</div>"
      ],
      "text/plain": [
       "    province  year  visitors      debt  2nd language        max  capital  \\\n",
       "b     Madrid  1950  500000.0  1.447657           NaN  1000000.0     True   \n",
       "c     Madrid  1900   30000.0  0.284791           NaN  1000000.0     True   \n",
       "d     Madrid  1900  200000.0 -1.095707           NaN  1000000.0     True   \n",
       "g  Barcelona  1900  200000.0 -0.626574           NaN  1000000.0    False   \n",
       "h     Madrid  1950  200000.0 -0.910843           NaN  1000000.0     True   \n",
       "\n",
       "      cars  diswashers  \n",
       "b  30000.0     50000.0  \n",
       "c  30000.0     50000.0  \n",
       "d  30000.0    230000.0  \n",
       "g  30000.0     50000.0  \n",
       "h  30000.0    230000.0  "
      ]
     },
     "execution_count": 413,
     "metadata": {},
     "output_type": "execute_result"
    }
   ],
   "source": [
    "df.dropna(subset=['diswashers', 'cars'])"
   ]
  },
  {
   "cell_type": "code",
   "execution_count": 414,
   "metadata": {},
   "outputs": [
    {
     "data": {
      "text/html": [
       "<div>\n",
       "<style scoped>\n",
       "    .dataframe tbody tr th:only-of-type {\n",
       "        vertical-align: middle;\n",
       "    }\n",
       "\n",
       "    .dataframe tbody tr th {\n",
       "        vertical-align: top;\n",
       "    }\n",
       "\n",
       "    .dataframe thead th {\n",
       "        text-align: right;\n",
       "    }\n",
       "</style>\n",
       "<table border=\"1\" class=\"dataframe\">\n",
       "  <thead>\n",
       "    <tr style=\"text-align: right;\">\n",
       "      <th></th>\n",
       "      <th>province</th>\n",
       "      <th>year</th>\n",
       "      <th>visitors</th>\n",
       "      <th>debt</th>\n",
       "      <th>2nd language</th>\n",
       "      <th>max</th>\n",
       "      <th>capital</th>\n",
       "      <th>cars</th>\n",
       "      <th>diswashers</th>\n",
       "    </tr>\n",
       "  </thead>\n",
       "  <tbody>\n",
       "    <tr>\n",
       "      <th>a</th>\n",
       "      <td>Barcelona</td>\n",
       "      <td>1900</td>\n",
       "      <td>100000.0</td>\n",
       "      <td>-1.738562</td>\n",
       "      <td>NaN</td>\n",
       "      <td>1000000.0</td>\n",
       "      <td>False</td>\n",
       "      <td>100000.0</td>\n",
       "      <td>NaN</td>\n",
       "    </tr>\n",
       "    <tr>\n",
       "      <th>b</th>\n",
       "      <td>Madrid</td>\n",
       "      <td>1950</td>\n",
       "      <td>500000.0</td>\n",
       "      <td>1.447657</td>\n",
       "      <td>NaN</td>\n",
       "      <td>1000000.0</td>\n",
       "      <td>True</td>\n",
       "      <td>30000.0</td>\n",
       "      <td>50000.0</td>\n",
       "    </tr>\n",
       "    <tr>\n",
       "      <th>c</th>\n",
       "      <td>Madrid</td>\n",
       "      <td>1900</td>\n",
       "      <td>30000.0</td>\n",
       "      <td>0.284791</td>\n",
       "      <td>NaN</td>\n",
       "      <td>1000000.0</td>\n",
       "      <td>True</td>\n",
       "      <td>30000.0</td>\n",
       "      <td>50000.0</td>\n",
       "    </tr>\n",
       "    <tr>\n",
       "      <th>d</th>\n",
       "      <td>Madrid</td>\n",
       "      <td>1900</td>\n",
       "      <td>200000.0</td>\n",
       "      <td>-1.095707</td>\n",
       "      <td>NaN</td>\n",
       "      <td>1000000.0</td>\n",
       "      <td>True</td>\n",
       "      <td>30000.0</td>\n",
       "      <td>230000.0</td>\n",
       "    </tr>\n",
       "    <tr>\n",
       "      <th>e</th>\n",
       "      <td>Barcelona</td>\n",
       "      <td>1950</td>\n",
       "      <td>100000.0</td>\n",
       "      <td>-0.046081</td>\n",
       "      <td>NaN</td>\n",
       "      <td>1000000.0</td>\n",
       "      <td>False</td>\n",
       "      <td>30000.0</td>\n",
       "      <td>NaN</td>\n",
       "    </tr>\n",
       "    <tr>\n",
       "      <th>f</th>\n",
       "      <td>Barcelona</td>\n",
       "      <td>1950</td>\n",
       "      <td>30000.0</td>\n",
       "      <td>-0.123597</td>\n",
       "      <td>NaN</td>\n",
       "      <td>1000000.0</td>\n",
       "      <td>False</td>\n",
       "      <td>30000.0</td>\n",
       "      <td>NaN</td>\n",
       "    </tr>\n",
       "    <tr>\n",
       "      <th>g</th>\n",
       "      <td>Barcelona</td>\n",
       "      <td>1900</td>\n",
       "      <td>200000.0</td>\n",
       "      <td>-0.626574</td>\n",
       "      <td>NaN</td>\n",
       "      <td>1000000.0</td>\n",
       "      <td>False</td>\n",
       "      <td>30000.0</td>\n",
       "      <td>50000.0</td>\n",
       "    </tr>\n",
       "    <tr>\n",
       "      <th>h</th>\n",
       "      <td>Madrid</td>\n",
       "      <td>1950</td>\n",
       "      <td>200000.0</td>\n",
       "      <td>-0.910843</td>\n",
       "      <td>NaN</td>\n",
       "      <td>1000000.0</td>\n",
       "      <td>True</td>\n",
       "      <td>30000.0</td>\n",
       "      <td>230000.0</td>\n",
       "    </tr>\n",
       "    <tr>\n",
       "      <th>i</th>\n",
       "      <td>Madrid</td>\n",
       "      <td>2000</td>\n",
       "      <td>100000.0</td>\n",
       "      <td>-1.408196</td>\n",
       "      <td>NaN</td>\n",
       "      <td>1000000.0</td>\n",
       "      <td>True</td>\n",
       "      <td>NaN</td>\n",
       "      <td>50000.0</td>\n",
       "    </tr>\n",
       "  </tbody>\n",
       "</table>\n",
       "</div>"
      ],
      "text/plain": [
       "    province  year  visitors      debt  2nd language        max  capital  \\\n",
       "a  Barcelona  1900  100000.0 -1.738562           NaN  1000000.0    False   \n",
       "b     Madrid  1950  500000.0  1.447657           NaN  1000000.0     True   \n",
       "c     Madrid  1900   30000.0  0.284791           NaN  1000000.0     True   \n",
       "d     Madrid  1900  200000.0 -1.095707           NaN  1000000.0     True   \n",
       "e  Barcelona  1950  100000.0 -0.046081           NaN  1000000.0    False   \n",
       "f  Barcelona  1950   30000.0 -0.123597           NaN  1000000.0    False   \n",
       "g  Barcelona  1900  200000.0 -0.626574           NaN  1000000.0    False   \n",
       "h     Madrid  1950  200000.0 -0.910843           NaN  1000000.0     True   \n",
       "i     Madrid  2000  100000.0 -1.408196           NaN  1000000.0     True   \n",
       "\n",
       "       cars  diswashers  \n",
       "a  100000.0         NaN  \n",
       "b   30000.0     50000.0  \n",
       "c   30000.0     50000.0  \n",
       "d   30000.0    230000.0  \n",
       "e   30000.0         NaN  \n",
       "f   30000.0         NaN  \n",
       "g   30000.0     50000.0  \n",
       "h   30000.0    230000.0  \n",
       "i       NaN     50000.0  "
      ]
     },
     "execution_count": 414,
     "metadata": {},
     "output_type": "execute_result"
    }
   ],
   "source": [
    "df.dropna(subset=['diswashers', 'cars'], how='all')"
   ]
  },
  {
   "cell_type": "code",
   "execution_count": 415,
   "metadata": {},
   "outputs": [
    {
     "data": {
      "text/html": [
       "<div>\n",
       "<style scoped>\n",
       "    .dataframe tbody tr th:only-of-type {\n",
       "        vertical-align: middle;\n",
       "    }\n",
       "\n",
       "    .dataframe tbody tr th {\n",
       "        vertical-align: top;\n",
       "    }\n",
       "\n",
       "    .dataframe thead th {\n",
       "        text-align: right;\n",
       "    }\n",
       "</style>\n",
       "<table border=\"1\" class=\"dataframe\">\n",
       "  <thead>\n",
       "    <tr style=\"text-align: right;\">\n",
       "      <th></th>\n",
       "      <th>province</th>\n",
       "      <th>year</th>\n",
       "      <th>visitors</th>\n",
       "      <th>debt</th>\n",
       "      <th>max</th>\n",
       "      <th>capital</th>\n",
       "      <th>cars</th>\n",
       "      <th>diswashers</th>\n",
       "    </tr>\n",
       "  </thead>\n",
       "  <tbody>\n",
       "    <tr>\n",
       "      <th>a</th>\n",
       "      <td>Barcelona</td>\n",
       "      <td>1900</td>\n",
       "      <td>100000.0</td>\n",
       "      <td>-1.738562</td>\n",
       "      <td>1000000.0</td>\n",
       "      <td>False</td>\n",
       "      <td>100000.0</td>\n",
       "      <td>NaN</td>\n",
       "    </tr>\n",
       "    <tr>\n",
       "      <th>b</th>\n",
       "      <td>Madrid</td>\n",
       "      <td>1950</td>\n",
       "      <td>500000.0</td>\n",
       "      <td>1.447657</td>\n",
       "      <td>1000000.0</td>\n",
       "      <td>True</td>\n",
       "      <td>30000.0</td>\n",
       "      <td>50000.0</td>\n",
       "    </tr>\n",
       "    <tr>\n",
       "      <th>c</th>\n",
       "      <td>Madrid</td>\n",
       "      <td>1900</td>\n",
       "      <td>30000.0</td>\n",
       "      <td>0.284791</td>\n",
       "      <td>1000000.0</td>\n",
       "      <td>True</td>\n",
       "      <td>30000.0</td>\n",
       "      <td>50000.0</td>\n",
       "    </tr>\n",
       "    <tr>\n",
       "      <th>d</th>\n",
       "      <td>Madrid</td>\n",
       "      <td>1900</td>\n",
       "      <td>200000.0</td>\n",
       "      <td>-1.095707</td>\n",
       "      <td>1000000.0</td>\n",
       "      <td>True</td>\n",
       "      <td>30000.0</td>\n",
       "      <td>230000.0</td>\n",
       "    </tr>\n",
       "    <tr>\n",
       "      <th>e</th>\n",
       "      <td>Barcelona</td>\n",
       "      <td>1950</td>\n",
       "      <td>100000.0</td>\n",
       "      <td>-0.046081</td>\n",
       "      <td>1000000.0</td>\n",
       "      <td>False</td>\n",
       "      <td>30000.0</td>\n",
       "      <td>NaN</td>\n",
       "    </tr>\n",
       "    <tr>\n",
       "      <th>f</th>\n",
       "      <td>Barcelona</td>\n",
       "      <td>1950</td>\n",
       "      <td>30000.0</td>\n",
       "      <td>-0.123597</td>\n",
       "      <td>1000000.0</td>\n",
       "      <td>False</td>\n",
       "      <td>30000.0</td>\n",
       "      <td>NaN</td>\n",
       "    </tr>\n",
       "    <tr>\n",
       "      <th>g</th>\n",
       "      <td>Barcelona</td>\n",
       "      <td>1900</td>\n",
       "      <td>200000.0</td>\n",
       "      <td>-0.626574</td>\n",
       "      <td>1000000.0</td>\n",
       "      <td>False</td>\n",
       "      <td>30000.0</td>\n",
       "      <td>50000.0</td>\n",
       "    </tr>\n",
       "    <tr>\n",
       "      <th>h</th>\n",
       "      <td>Madrid</td>\n",
       "      <td>1950</td>\n",
       "      <td>200000.0</td>\n",
       "      <td>-0.910843</td>\n",
       "      <td>1000000.0</td>\n",
       "      <td>True</td>\n",
       "      <td>30000.0</td>\n",
       "      <td>230000.0</td>\n",
       "    </tr>\n",
       "    <tr>\n",
       "      <th>i</th>\n",
       "      <td>Madrid</td>\n",
       "      <td>2000</td>\n",
       "      <td>100000.0</td>\n",
       "      <td>-1.408196</td>\n",
       "      <td>1000000.0</td>\n",
       "      <td>True</td>\n",
       "      <td>NaN</td>\n",
       "      <td>50000.0</td>\n",
       "    </tr>\n",
       "    <tr>\n",
       "      <th>j</th>\n",
       "      <td>Madrid</td>\n",
       "      <td>1900</td>\n",
       "      <td>500000.0</td>\n",
       "      <td>-0.039597</td>\n",
       "      <td>1000000.0</td>\n",
       "      <td>True</td>\n",
       "      <td>NaN</td>\n",
       "      <td>NaN</td>\n",
       "    </tr>\n",
       "  </tbody>\n",
       "</table>\n",
       "</div>"
      ],
      "text/plain": [
       "    province  year  visitors      debt        max  capital      cars  \\\n",
       "a  Barcelona  1900  100000.0 -1.738562  1000000.0    False  100000.0   \n",
       "b     Madrid  1950  500000.0  1.447657  1000000.0     True   30000.0   \n",
       "c     Madrid  1900   30000.0  0.284791  1000000.0     True   30000.0   \n",
       "d     Madrid  1900  200000.0 -1.095707  1000000.0     True   30000.0   \n",
       "e  Barcelona  1950  100000.0 -0.046081  1000000.0    False   30000.0   \n",
       "f  Barcelona  1950   30000.0 -0.123597  1000000.0    False   30000.0   \n",
       "g  Barcelona  1900  200000.0 -0.626574  1000000.0    False   30000.0   \n",
       "h     Madrid  1950  200000.0 -0.910843  1000000.0     True   30000.0   \n",
       "i     Madrid  2000  100000.0 -1.408196  1000000.0     True       NaN   \n",
       "j     Madrid  1900  500000.0 -0.039597  1000000.0     True       NaN   \n",
       "\n",
       "   diswashers  \n",
       "a         NaN  \n",
       "b     50000.0  \n",
       "c     50000.0  \n",
       "d    230000.0  \n",
       "e         NaN  \n",
       "f         NaN  \n",
       "g     50000.0  \n",
       "h    230000.0  \n",
       "i     50000.0  \n",
       "j         NaN  "
      ]
     },
     "execution_count": 415,
     "metadata": {},
     "output_type": "execute_result"
    }
   ],
   "source": [
    "df.dropna(axis=1, thresh=5)"
   ]
  },
  {
   "cell_type": "markdown",
   "metadata": {
    "slideshow": {
     "slide_type": "slide"
    }
   },
   "source": [
    "### Filtering out missing data"
   ]
  },
  {
   "cell_type": "code",
   "execution_count": 416,
   "metadata": {},
   "outputs": [
    {
     "data": {
      "text/html": [
       "<div>\n",
       "<style scoped>\n",
       "    .dataframe tbody tr th:only-of-type {\n",
       "        vertical-align: middle;\n",
       "    }\n",
       "\n",
       "    .dataframe tbody tr th {\n",
       "        vertical-align: top;\n",
       "    }\n",
       "\n",
       "    .dataframe thead th {\n",
       "        text-align: right;\n",
       "    }\n",
       "</style>\n",
       "<table border=\"1\" class=\"dataframe\">\n",
       "  <thead>\n",
       "    <tr style=\"text-align: right;\">\n",
       "      <th></th>\n",
       "      <th>province</th>\n",
       "      <th>year</th>\n",
       "      <th>visitors</th>\n",
       "      <th>debt</th>\n",
       "      <th>2nd language</th>\n",
       "      <th>max</th>\n",
       "      <th>capital</th>\n",
       "      <th>cars</th>\n",
       "      <th>diswashers</th>\n",
       "    </tr>\n",
       "  </thead>\n",
       "  <tbody>\n",
       "  </tbody>\n",
       "</table>\n",
       "</div>"
      ],
      "text/plain": [
       "Empty DataFrame\n",
       "Columns: [province, year, visitors, debt, 2nd language, max, capital, cars, diswashers]\n",
       "Index: []"
      ]
     },
     "execution_count": 416,
     "metadata": {},
     "output_type": "execute_result"
    }
   ],
   "source": [
    "df[df['cars']==np.nan]"
   ]
  },
  {
   "cell_type": "code",
   "execution_count": 417,
   "metadata": {},
   "outputs": [
    {
     "data": {
      "text/plain": [
       "False"
      ]
     },
     "execution_count": 417,
     "metadata": {},
     "output_type": "execute_result"
    }
   ],
   "source": [
    "np.nan == np.nan"
   ]
  },
  {
   "cell_type": "code",
   "execution_count": 418,
   "metadata": {},
   "outputs": [
    {
     "data": {
      "text/html": [
       "<div>\n",
       "<style scoped>\n",
       "    .dataframe tbody tr th:only-of-type {\n",
       "        vertical-align: middle;\n",
       "    }\n",
       "\n",
       "    .dataframe tbody tr th {\n",
       "        vertical-align: top;\n",
       "    }\n",
       "\n",
       "    .dataframe thead th {\n",
       "        text-align: right;\n",
       "    }\n",
       "</style>\n",
       "<table border=\"1\" class=\"dataframe\">\n",
       "  <thead>\n",
       "    <tr style=\"text-align: right;\">\n",
       "      <th></th>\n",
       "      <th>province</th>\n",
       "      <th>year</th>\n",
       "      <th>visitors</th>\n",
       "      <th>debt</th>\n",
       "      <th>2nd language</th>\n",
       "      <th>max</th>\n",
       "      <th>capital</th>\n",
       "      <th>cars</th>\n",
       "      <th>diswashers</th>\n",
       "    </tr>\n",
       "  </thead>\n",
       "  <tbody>\n",
       "    <tr>\n",
       "      <th>i</th>\n",
       "      <td>Madrid</td>\n",
       "      <td>2000</td>\n",
       "      <td>100000.0</td>\n",
       "      <td>-1.408196</td>\n",
       "      <td>NaN</td>\n",
       "      <td>1000000.0</td>\n",
       "      <td>True</td>\n",
       "      <td>NaN</td>\n",
       "      <td>50000.0</td>\n",
       "    </tr>\n",
       "    <tr>\n",
       "      <th>j</th>\n",
       "      <td>Madrid</td>\n",
       "      <td>1900</td>\n",
       "      <td>500000.0</td>\n",
       "      <td>-0.039597</td>\n",
       "      <td>NaN</td>\n",
       "      <td>1000000.0</td>\n",
       "      <td>True</td>\n",
       "      <td>NaN</td>\n",
       "      <td>NaN</td>\n",
       "    </tr>\n",
       "  </tbody>\n",
       "</table>\n",
       "</div>"
      ],
      "text/plain": [
       "  province  year  visitors      debt  2nd language        max  capital  cars  \\\n",
       "i   Madrid  2000  100000.0 -1.408196           NaN  1000000.0     True   NaN   \n",
       "j   Madrid  1900  500000.0 -0.039597           NaN  1000000.0     True   NaN   \n",
       "\n",
       "   diswashers  \n",
       "i     50000.0  \n",
       "j         NaN  "
      ]
     },
     "execution_count": 418,
     "metadata": {},
     "output_type": "execute_result"
    }
   ],
   "source": [
    "df[df['cars'].isnull()]"
   ]
  },
  {
   "cell_type": "markdown",
   "metadata": {},
   "source": [
    "This is weird... but it has some really good reasons. You can find explanations [here](https://stackoverflow.com/questions/10034149/why-is-nan-not-equal-to-nan) and [here](https://stackoverflow.com/questions/1565164/what-is-the-rationale-for-all-comparisons-returning-false-for-ieee754-nan-values)"
   ]
  },
  {
   "cell_type": "markdown",
   "metadata": {},
   "source": [
    "any() and all() are functions of boolean Series. They reduce the Series to a single boolean value by applying repeatedly the operators \"or\" and \"and\", respectively."
   ]
  },
  {
   "cell_type": "code",
   "execution_count": 420,
   "metadata": {},
   "outputs": [
    {
     "data": {
      "text/plain": [
       "True"
      ]
     },
     "execution_count": 420,
     "metadata": {},
     "output_type": "execute_result"
    }
   ],
   "source": [
    "df['cars'].isnull().any()"
   ]
  },
  {
   "cell_type": "code",
   "execution_count": 421,
   "metadata": {},
   "outputs": [
    {
     "data": {
      "text/plain": [
       "False"
      ]
     },
     "execution_count": 421,
     "metadata": {},
     "output_type": "execute_result"
    }
   ],
   "source": [
    "df['cars'].isnull().all()"
   ]
  },
  {
   "cell_type": "markdown",
   "metadata": {},
   "source": [
    "The thresh argument specifies the minimum number of non-null values required to keep a row (or column, with axis=1)"
   ]
  },
  {
   "cell_type": "markdown",
   "metadata": {
    "slideshow": {
     "slide_type": "slide"
    }
   },
   "source": [
    "### Filling in missing data"
   ]
  },
  {
   "cell_type": "code",
   "execution_count": 422,
   "metadata": {},
   "outputs": [
    {
     "data": {
      "text/html": [
       "<div>\n",
       "<style scoped>\n",
       "    .dataframe tbody tr th:only-of-type {\n",
       "        vertical-align: middle;\n",
       "    }\n",
       "\n",
       "    .dataframe tbody tr th {\n",
       "        vertical-align: top;\n",
       "    }\n",
       "\n",
       "    .dataframe thead th {\n",
       "        text-align: right;\n",
       "    }\n",
       "</style>\n",
       "<table border=\"1\" class=\"dataframe\">\n",
       "  <thead>\n",
       "    <tr style=\"text-align: right;\">\n",
       "      <th></th>\n",
       "      <th>province</th>\n",
       "      <th>year</th>\n",
       "      <th>visitors</th>\n",
       "      <th>debt</th>\n",
       "      <th>2nd language</th>\n",
       "      <th>max</th>\n",
       "      <th>capital</th>\n",
       "      <th>cars</th>\n",
       "      <th>diswashers</th>\n",
       "    </tr>\n",
       "  </thead>\n",
       "  <tbody>\n",
       "    <tr>\n",
       "      <th>a</th>\n",
       "      <td>Barcelona</td>\n",
       "      <td>1900</td>\n",
       "      <td>100000.0</td>\n",
       "      <td>-1.738562</td>\n",
       "      <td>ISRA!</td>\n",
       "      <td>1000000.0</td>\n",
       "      <td>False</td>\n",
       "      <td>100000</td>\n",
       "      <td>ISRA!</td>\n",
       "    </tr>\n",
       "    <tr>\n",
       "      <th>b</th>\n",
       "      <td>Madrid</td>\n",
       "      <td>1950</td>\n",
       "      <td>500000.0</td>\n",
       "      <td>1.447657</td>\n",
       "      <td>ISRA!</td>\n",
       "      <td>1000000.0</td>\n",
       "      <td>True</td>\n",
       "      <td>30000</td>\n",
       "      <td>50000</td>\n",
       "    </tr>\n",
       "    <tr>\n",
       "      <th>c</th>\n",
       "      <td>Madrid</td>\n",
       "      <td>1900</td>\n",
       "      <td>30000.0</td>\n",
       "      <td>0.284791</td>\n",
       "      <td>ISRA!</td>\n",
       "      <td>1000000.0</td>\n",
       "      <td>True</td>\n",
       "      <td>30000</td>\n",
       "      <td>50000</td>\n",
       "    </tr>\n",
       "    <tr>\n",
       "      <th>d</th>\n",
       "      <td>Madrid</td>\n",
       "      <td>1900</td>\n",
       "      <td>200000.0</td>\n",
       "      <td>-1.095707</td>\n",
       "      <td>ISRA!</td>\n",
       "      <td>1000000.0</td>\n",
       "      <td>True</td>\n",
       "      <td>30000</td>\n",
       "      <td>230000</td>\n",
       "    </tr>\n",
       "    <tr>\n",
       "      <th>e</th>\n",
       "      <td>Barcelona</td>\n",
       "      <td>1950</td>\n",
       "      <td>100000.0</td>\n",
       "      <td>-0.046081</td>\n",
       "      <td>ISRA!</td>\n",
       "      <td>1000000.0</td>\n",
       "      <td>False</td>\n",
       "      <td>30000</td>\n",
       "      <td>ISRA!</td>\n",
       "    </tr>\n",
       "    <tr>\n",
       "      <th>f</th>\n",
       "      <td>Barcelona</td>\n",
       "      <td>1950</td>\n",
       "      <td>30000.0</td>\n",
       "      <td>-0.123597</td>\n",
       "      <td>ISRA!</td>\n",
       "      <td>1000000.0</td>\n",
       "      <td>False</td>\n",
       "      <td>30000</td>\n",
       "      <td>ISRA!</td>\n",
       "    </tr>\n",
       "    <tr>\n",
       "      <th>g</th>\n",
       "      <td>Barcelona</td>\n",
       "      <td>1900</td>\n",
       "      <td>200000.0</td>\n",
       "      <td>-0.626574</td>\n",
       "      <td>ISRA!</td>\n",
       "      <td>1000000.0</td>\n",
       "      <td>False</td>\n",
       "      <td>30000</td>\n",
       "      <td>50000</td>\n",
       "    </tr>\n",
       "    <tr>\n",
       "      <th>h</th>\n",
       "      <td>Madrid</td>\n",
       "      <td>1950</td>\n",
       "      <td>200000.0</td>\n",
       "      <td>-0.910843</td>\n",
       "      <td>ISRA!</td>\n",
       "      <td>1000000.0</td>\n",
       "      <td>True</td>\n",
       "      <td>30000</td>\n",
       "      <td>230000</td>\n",
       "    </tr>\n",
       "    <tr>\n",
       "      <th>i</th>\n",
       "      <td>Madrid</td>\n",
       "      <td>2000</td>\n",
       "      <td>100000.0</td>\n",
       "      <td>-1.408196</td>\n",
       "      <td>ISRA!</td>\n",
       "      <td>1000000.0</td>\n",
       "      <td>True</td>\n",
       "      <td>ISRA!</td>\n",
       "      <td>50000</td>\n",
       "    </tr>\n",
       "    <tr>\n",
       "      <th>j</th>\n",
       "      <td>Madrid</td>\n",
       "      <td>1900</td>\n",
       "      <td>500000.0</td>\n",
       "      <td>-0.039597</td>\n",
       "      <td>ISRA!</td>\n",
       "      <td>1000000.0</td>\n",
       "      <td>True</td>\n",
       "      <td>ISRA!</td>\n",
       "      <td>ISRA!</td>\n",
       "    </tr>\n",
       "  </tbody>\n",
       "</table>\n",
       "</div>"
      ],
      "text/plain": [
       "    province  year  visitors      debt 2nd language        max  capital  \\\n",
       "a  Barcelona  1900  100000.0 -1.738562        ISRA!  1000000.0    False   \n",
       "b     Madrid  1950  500000.0  1.447657        ISRA!  1000000.0     True   \n",
       "c     Madrid  1900   30000.0  0.284791        ISRA!  1000000.0     True   \n",
       "d     Madrid  1900  200000.0 -1.095707        ISRA!  1000000.0     True   \n",
       "e  Barcelona  1950  100000.0 -0.046081        ISRA!  1000000.0    False   \n",
       "f  Barcelona  1950   30000.0 -0.123597        ISRA!  1000000.0    False   \n",
       "g  Barcelona  1900  200000.0 -0.626574        ISRA!  1000000.0    False   \n",
       "h     Madrid  1950  200000.0 -0.910843        ISRA!  1000000.0     True   \n",
       "i     Madrid  2000  100000.0 -1.408196        ISRA!  1000000.0     True   \n",
       "j     Madrid  1900  500000.0 -0.039597        ISRA!  1000000.0     True   \n",
       "\n",
       "     cars diswashers  \n",
       "a  100000      ISRA!  \n",
       "b   30000      50000  \n",
       "c   30000      50000  \n",
       "d   30000     230000  \n",
       "e   30000      ISRA!  \n",
       "f   30000      ISRA!  \n",
       "g   30000      50000  \n",
       "h   30000     230000  \n",
       "i   ISRA!      50000  \n",
       "j   ISRA!      ISRA!  "
      ]
     },
     "execution_count": 422,
     "metadata": {},
     "output_type": "execute_result"
    }
   ],
   "source": [
    "df.fillna('ISRA!')"
   ]
  },
  {
   "cell_type": "code",
   "execution_count": 423,
   "metadata": {},
   "outputs": [
    {
     "data": {
      "text/html": [
       "<div>\n",
       "<style scoped>\n",
       "    .dataframe tbody tr th:only-of-type {\n",
       "        vertical-align: middle;\n",
       "    }\n",
       "\n",
       "    .dataframe tbody tr th {\n",
       "        vertical-align: top;\n",
       "    }\n",
       "\n",
       "    .dataframe thead th {\n",
       "        text-align: right;\n",
       "    }\n",
       "</style>\n",
       "<table border=\"1\" class=\"dataframe\">\n",
       "  <thead>\n",
       "    <tr style=\"text-align: right;\">\n",
       "      <th></th>\n",
       "      <th>province</th>\n",
       "      <th>year</th>\n",
       "      <th>visitors</th>\n",
       "      <th>debt</th>\n",
       "      <th>2nd language</th>\n",
       "      <th>max</th>\n",
       "      <th>capital</th>\n",
       "      <th>cars</th>\n",
       "      <th>diswashers</th>\n",
       "    </tr>\n",
       "  </thead>\n",
       "  <tbody>\n",
       "    <tr>\n",
       "      <th>a</th>\n",
       "      <td>Barcelona</td>\n",
       "      <td>1900</td>\n",
       "      <td>100000.0</td>\n",
       "      <td>-1.738562</td>\n",
       "      <td>NaN</td>\n",
       "      <td>1000000.0</td>\n",
       "      <td>False</td>\n",
       "      <td>100000.0</td>\n",
       "      <td>ninguno</td>\n",
       "    </tr>\n",
       "    <tr>\n",
       "      <th>b</th>\n",
       "      <td>Madrid</td>\n",
       "      <td>1950</td>\n",
       "      <td>500000.0</td>\n",
       "      <td>1.447657</td>\n",
       "      <td>NaN</td>\n",
       "      <td>1000000.0</td>\n",
       "      <td>True</td>\n",
       "      <td>30000.0</td>\n",
       "      <td>50000</td>\n",
       "    </tr>\n",
       "    <tr>\n",
       "      <th>c</th>\n",
       "      <td>Madrid</td>\n",
       "      <td>1900</td>\n",
       "      <td>30000.0</td>\n",
       "      <td>0.284791</td>\n",
       "      <td>NaN</td>\n",
       "      <td>1000000.0</td>\n",
       "      <td>True</td>\n",
       "      <td>30000.0</td>\n",
       "      <td>50000</td>\n",
       "    </tr>\n",
       "    <tr>\n",
       "      <th>d</th>\n",
       "      <td>Madrid</td>\n",
       "      <td>1900</td>\n",
       "      <td>200000.0</td>\n",
       "      <td>-1.095707</td>\n",
       "      <td>NaN</td>\n",
       "      <td>1000000.0</td>\n",
       "      <td>True</td>\n",
       "      <td>30000.0</td>\n",
       "      <td>230000</td>\n",
       "    </tr>\n",
       "    <tr>\n",
       "      <th>e</th>\n",
       "      <td>Barcelona</td>\n",
       "      <td>1950</td>\n",
       "      <td>100000.0</td>\n",
       "      <td>-0.046081</td>\n",
       "      <td>NaN</td>\n",
       "      <td>1000000.0</td>\n",
       "      <td>False</td>\n",
       "      <td>30000.0</td>\n",
       "      <td>ninguno</td>\n",
       "    </tr>\n",
       "    <tr>\n",
       "      <th>f</th>\n",
       "      <td>Barcelona</td>\n",
       "      <td>1950</td>\n",
       "      <td>30000.0</td>\n",
       "      <td>-0.123597</td>\n",
       "      <td>NaN</td>\n",
       "      <td>1000000.0</td>\n",
       "      <td>False</td>\n",
       "      <td>30000.0</td>\n",
       "      <td>ninguno</td>\n",
       "    </tr>\n",
       "    <tr>\n",
       "      <th>g</th>\n",
       "      <td>Barcelona</td>\n",
       "      <td>1900</td>\n",
       "      <td>200000.0</td>\n",
       "      <td>-0.626574</td>\n",
       "      <td>NaN</td>\n",
       "      <td>1000000.0</td>\n",
       "      <td>False</td>\n",
       "      <td>30000.0</td>\n",
       "      <td>50000</td>\n",
       "    </tr>\n",
       "    <tr>\n",
       "      <th>h</th>\n",
       "      <td>Madrid</td>\n",
       "      <td>1950</td>\n",
       "      <td>200000.0</td>\n",
       "      <td>-0.910843</td>\n",
       "      <td>NaN</td>\n",
       "      <td>1000000.0</td>\n",
       "      <td>True</td>\n",
       "      <td>30000.0</td>\n",
       "      <td>230000</td>\n",
       "    </tr>\n",
       "    <tr>\n",
       "      <th>i</th>\n",
       "      <td>Madrid</td>\n",
       "      <td>2000</td>\n",
       "      <td>100000.0</td>\n",
       "      <td>-1.408196</td>\n",
       "      <td>NaN</td>\n",
       "      <td>1000000.0</td>\n",
       "      <td>True</td>\n",
       "      <td>10.0</td>\n",
       "      <td>50000</td>\n",
       "    </tr>\n",
       "    <tr>\n",
       "      <th>j</th>\n",
       "      <td>Madrid</td>\n",
       "      <td>1900</td>\n",
       "      <td>500000.0</td>\n",
       "      <td>-0.039597</td>\n",
       "      <td>NaN</td>\n",
       "      <td>1000000.0</td>\n",
       "      <td>True</td>\n",
       "      <td>10.0</td>\n",
       "      <td>ninguno</td>\n",
       "    </tr>\n",
       "  </tbody>\n",
       "</table>\n",
       "</div>"
      ],
      "text/plain": [
       "    province  year  visitors      debt  2nd language        max  capital  \\\n",
       "a  Barcelona  1900  100000.0 -1.738562           NaN  1000000.0    False   \n",
       "b     Madrid  1950  500000.0  1.447657           NaN  1000000.0     True   \n",
       "c     Madrid  1900   30000.0  0.284791           NaN  1000000.0     True   \n",
       "d     Madrid  1900  200000.0 -1.095707           NaN  1000000.0     True   \n",
       "e  Barcelona  1950  100000.0 -0.046081           NaN  1000000.0    False   \n",
       "f  Barcelona  1950   30000.0 -0.123597           NaN  1000000.0    False   \n",
       "g  Barcelona  1900  200000.0 -0.626574           NaN  1000000.0    False   \n",
       "h     Madrid  1950  200000.0 -0.910843           NaN  1000000.0     True   \n",
       "i     Madrid  2000  100000.0 -1.408196           NaN  1000000.0     True   \n",
       "j     Madrid  1900  500000.0 -0.039597           NaN  1000000.0     True   \n",
       "\n",
       "       cars diswashers  \n",
       "a  100000.0    ninguno  \n",
       "b   30000.0      50000  \n",
       "c   30000.0      50000  \n",
       "d   30000.0     230000  \n",
       "e   30000.0    ninguno  \n",
       "f   30000.0    ninguno  \n",
       "g   30000.0      50000  \n",
       "h   30000.0     230000  \n",
       "i      10.0      50000  \n",
       "j      10.0    ninguno  "
      ]
     },
     "execution_count": 423,
     "metadata": {},
     "output_type": "execute_result"
    }
   ],
   "source": [
    "df.fillna({'cars': 10, 'diswashers' : 'ninguno'})"
   ]
  },
  {
   "cell_type": "code",
   "execution_count": 424,
   "metadata": {},
   "outputs": [
    {
     "name": "stderr",
     "output_type": "stream",
     "text": [
      "/home/dani/anaconda3/envs/master2019/lib/python3.6/site-packages/numpy/lib/nanfunctions.py:1076: RuntimeWarning: Mean of empty slice\n",
      "  return np.nanmean(a, axis, out=out, keepdims=keepdims)\n",
      "/home/dani/anaconda3/envs/master2019/lib/python3.6/site-packages/numpy/lib/function_base.py:3405: RuntimeWarning: All-NaN slice encountered\n",
      "  r = func(a, **kwargs)\n"
     ]
    },
    {
     "data": {
      "text/plain": [
       "year               1925.000000\n",
       "visitors         150000.000000\n",
       "debt                 -0.375086\n",
       "2nd language               NaN\n",
       "max             1000000.000000\n",
       "capital               1.000000\n",
       "cars              30000.000000\n",
       "diswashers        50000.000000\n",
       "dtype: float64"
      ]
     },
     "execution_count": 424,
     "metadata": {},
     "output_type": "execute_result"
    }
   ],
   "source": [
    "df.median()"
   ]
  },
  {
   "cell_type": "code",
   "execution_count": 425,
   "metadata": {},
   "outputs": [
    {
     "data": {
      "text/html": [
       "<div>\n",
       "<style scoped>\n",
       "    .dataframe tbody tr th:only-of-type {\n",
       "        vertical-align: middle;\n",
       "    }\n",
       "\n",
       "    .dataframe tbody tr th {\n",
       "        vertical-align: top;\n",
       "    }\n",
       "\n",
       "    .dataframe thead th {\n",
       "        text-align: right;\n",
       "    }\n",
       "</style>\n",
       "<table border=\"1\" class=\"dataframe\">\n",
       "  <thead>\n",
       "    <tr style=\"text-align: right;\">\n",
       "      <th></th>\n",
       "      <th>province</th>\n",
       "      <th>year</th>\n",
       "      <th>visitors</th>\n",
       "      <th>debt</th>\n",
       "      <th>2nd language</th>\n",
       "      <th>max</th>\n",
       "      <th>capital</th>\n",
       "      <th>cars</th>\n",
       "      <th>diswashers</th>\n",
       "    </tr>\n",
       "  </thead>\n",
       "  <tbody>\n",
       "    <tr>\n",
       "      <th>a</th>\n",
       "      <td>Barcelona</td>\n",
       "      <td>1900</td>\n",
       "      <td>100000.0</td>\n",
       "      <td>-1.738562</td>\n",
       "      <td>NaN</td>\n",
       "      <td>1000000.0</td>\n",
       "      <td>False</td>\n",
       "      <td>100000.0</td>\n",
       "      <td>50000.0</td>\n",
       "    </tr>\n",
       "    <tr>\n",
       "      <th>b</th>\n",
       "      <td>Madrid</td>\n",
       "      <td>1950</td>\n",
       "      <td>500000.0</td>\n",
       "      <td>1.447657</td>\n",
       "      <td>NaN</td>\n",
       "      <td>1000000.0</td>\n",
       "      <td>True</td>\n",
       "      <td>30000.0</td>\n",
       "      <td>50000.0</td>\n",
       "    </tr>\n",
       "    <tr>\n",
       "      <th>c</th>\n",
       "      <td>Madrid</td>\n",
       "      <td>1900</td>\n",
       "      <td>30000.0</td>\n",
       "      <td>0.284791</td>\n",
       "      <td>NaN</td>\n",
       "      <td>1000000.0</td>\n",
       "      <td>True</td>\n",
       "      <td>30000.0</td>\n",
       "      <td>50000.0</td>\n",
       "    </tr>\n",
       "    <tr>\n",
       "      <th>d</th>\n",
       "      <td>Madrid</td>\n",
       "      <td>1900</td>\n",
       "      <td>200000.0</td>\n",
       "      <td>-1.095707</td>\n",
       "      <td>NaN</td>\n",
       "      <td>1000000.0</td>\n",
       "      <td>True</td>\n",
       "      <td>30000.0</td>\n",
       "      <td>230000.0</td>\n",
       "    </tr>\n",
       "    <tr>\n",
       "      <th>e</th>\n",
       "      <td>Barcelona</td>\n",
       "      <td>1950</td>\n",
       "      <td>100000.0</td>\n",
       "      <td>-0.046081</td>\n",
       "      <td>NaN</td>\n",
       "      <td>1000000.0</td>\n",
       "      <td>False</td>\n",
       "      <td>30000.0</td>\n",
       "      <td>50000.0</td>\n",
       "    </tr>\n",
       "    <tr>\n",
       "      <th>f</th>\n",
       "      <td>Barcelona</td>\n",
       "      <td>1950</td>\n",
       "      <td>30000.0</td>\n",
       "      <td>-0.123597</td>\n",
       "      <td>NaN</td>\n",
       "      <td>1000000.0</td>\n",
       "      <td>False</td>\n",
       "      <td>30000.0</td>\n",
       "      <td>50000.0</td>\n",
       "    </tr>\n",
       "    <tr>\n",
       "      <th>g</th>\n",
       "      <td>Barcelona</td>\n",
       "      <td>1900</td>\n",
       "      <td>200000.0</td>\n",
       "      <td>-0.626574</td>\n",
       "      <td>NaN</td>\n",
       "      <td>1000000.0</td>\n",
       "      <td>False</td>\n",
       "      <td>30000.0</td>\n",
       "      <td>50000.0</td>\n",
       "    </tr>\n",
       "    <tr>\n",
       "      <th>h</th>\n",
       "      <td>Madrid</td>\n",
       "      <td>1950</td>\n",
       "      <td>200000.0</td>\n",
       "      <td>-0.910843</td>\n",
       "      <td>NaN</td>\n",
       "      <td>1000000.0</td>\n",
       "      <td>True</td>\n",
       "      <td>30000.0</td>\n",
       "      <td>230000.0</td>\n",
       "    </tr>\n",
       "    <tr>\n",
       "      <th>i</th>\n",
       "      <td>Madrid</td>\n",
       "      <td>2000</td>\n",
       "      <td>100000.0</td>\n",
       "      <td>-1.408196</td>\n",
       "      <td>NaN</td>\n",
       "      <td>1000000.0</td>\n",
       "      <td>True</td>\n",
       "      <td>30000.0</td>\n",
       "      <td>50000.0</td>\n",
       "    </tr>\n",
       "    <tr>\n",
       "      <th>j</th>\n",
       "      <td>Madrid</td>\n",
       "      <td>1900</td>\n",
       "      <td>500000.0</td>\n",
       "      <td>-0.039597</td>\n",
       "      <td>NaN</td>\n",
       "      <td>1000000.0</td>\n",
       "      <td>True</td>\n",
       "      <td>30000.0</td>\n",
       "      <td>50000.0</td>\n",
       "    </tr>\n",
       "  </tbody>\n",
       "</table>\n",
       "</div>"
      ],
      "text/plain": [
       "    province  year  visitors      debt  2nd language        max  capital  \\\n",
       "a  Barcelona  1900  100000.0 -1.738562           NaN  1000000.0    False   \n",
       "b     Madrid  1950  500000.0  1.447657           NaN  1000000.0     True   \n",
       "c     Madrid  1900   30000.0  0.284791           NaN  1000000.0     True   \n",
       "d     Madrid  1900  200000.0 -1.095707           NaN  1000000.0     True   \n",
       "e  Barcelona  1950  100000.0 -0.046081           NaN  1000000.0    False   \n",
       "f  Barcelona  1950   30000.0 -0.123597           NaN  1000000.0    False   \n",
       "g  Barcelona  1900  200000.0 -0.626574           NaN  1000000.0    False   \n",
       "h     Madrid  1950  200000.0 -0.910843           NaN  1000000.0     True   \n",
       "i     Madrid  2000  100000.0 -1.408196           NaN  1000000.0     True   \n",
       "j     Madrid  1900  500000.0 -0.039597           NaN  1000000.0     True   \n",
       "\n",
       "       cars  diswashers  \n",
       "a  100000.0     50000.0  \n",
       "b   30000.0     50000.0  \n",
       "c   30000.0     50000.0  \n",
       "d   30000.0    230000.0  \n",
       "e   30000.0     50000.0  \n",
       "f   30000.0     50000.0  \n",
       "g   30000.0     50000.0  \n",
       "h   30000.0    230000.0  \n",
       "i   30000.0     50000.0  \n",
       "j   30000.0     50000.0  "
      ]
     },
     "execution_count": 425,
     "metadata": {},
     "output_type": "execute_result"
    }
   ],
   "source": [
    "df.fillna(df.median())"
   ]
  },
  {
   "cell_type": "code",
   "execution_count": 427,
   "metadata": {},
   "outputs": [
    {
     "data": {
      "text/html": [
       "<div>\n",
       "<style scoped>\n",
       "    .dataframe tbody tr th:only-of-type {\n",
       "        vertical-align: middle;\n",
       "    }\n",
       "\n",
       "    .dataframe tbody tr th {\n",
       "        vertical-align: top;\n",
       "    }\n",
       "\n",
       "    .dataframe thead th {\n",
       "        text-align: right;\n",
       "    }\n",
       "</style>\n",
       "<table border=\"1\" class=\"dataframe\">\n",
       "  <thead>\n",
       "    <tr style=\"text-align: right;\">\n",
       "      <th></th>\n",
       "      <th>province</th>\n",
       "      <th>year</th>\n",
       "      <th>visitors</th>\n",
       "      <th>debt</th>\n",
       "      <th>2nd language</th>\n",
       "      <th>max</th>\n",
       "      <th>capital</th>\n",
       "      <th>cars</th>\n",
       "      <th>diswashers</th>\n",
       "    </tr>\n",
       "  </thead>\n",
       "  <tbody>\n",
       "    <tr>\n",
       "      <th>a</th>\n",
       "      <td>Barcelona</td>\n",
       "      <td>1900</td>\n",
       "      <td>100000.0</td>\n",
       "      <td>-1.738562</td>\n",
       "      <td>NaN</td>\n",
       "      <td>1000000.0</td>\n",
       "      <td>False</td>\n",
       "      <td>100000.0</td>\n",
       "      <td>NaN</td>\n",
       "    </tr>\n",
       "    <tr>\n",
       "      <th>b</th>\n",
       "      <td>Madrid</td>\n",
       "      <td>1950</td>\n",
       "      <td>500000.0</td>\n",
       "      <td>1.447657</td>\n",
       "      <td>NaN</td>\n",
       "      <td>1000000.0</td>\n",
       "      <td>True</td>\n",
       "      <td>30000.0</td>\n",
       "      <td>50000.0</td>\n",
       "    </tr>\n",
       "    <tr>\n",
       "      <th>c</th>\n",
       "      <td>Madrid</td>\n",
       "      <td>1900</td>\n",
       "      <td>30000.0</td>\n",
       "      <td>0.284791</td>\n",
       "      <td>NaN</td>\n",
       "      <td>1000000.0</td>\n",
       "      <td>True</td>\n",
       "      <td>30000.0</td>\n",
       "      <td>50000.0</td>\n",
       "    </tr>\n",
       "    <tr>\n",
       "      <th>d</th>\n",
       "      <td>Madrid</td>\n",
       "      <td>1900</td>\n",
       "      <td>200000.0</td>\n",
       "      <td>-1.095707</td>\n",
       "      <td>NaN</td>\n",
       "      <td>1000000.0</td>\n",
       "      <td>True</td>\n",
       "      <td>30000.0</td>\n",
       "      <td>230000.0</td>\n",
       "    </tr>\n",
       "    <tr>\n",
       "      <th>e</th>\n",
       "      <td>Barcelona</td>\n",
       "      <td>1950</td>\n",
       "      <td>100000.0</td>\n",
       "      <td>-0.046081</td>\n",
       "      <td>NaN</td>\n",
       "      <td>1000000.0</td>\n",
       "      <td>False</td>\n",
       "      <td>30000.0</td>\n",
       "      <td>NaN</td>\n",
       "    </tr>\n",
       "    <tr>\n",
       "      <th>f</th>\n",
       "      <td>Barcelona</td>\n",
       "      <td>1950</td>\n",
       "      <td>30000.0</td>\n",
       "      <td>-0.123597</td>\n",
       "      <td>NaN</td>\n",
       "      <td>1000000.0</td>\n",
       "      <td>False</td>\n",
       "      <td>30000.0</td>\n",
       "      <td>NaN</td>\n",
       "    </tr>\n",
       "    <tr>\n",
       "      <th>g</th>\n",
       "      <td>Barcelona</td>\n",
       "      <td>1900</td>\n",
       "      <td>200000.0</td>\n",
       "      <td>-0.626574</td>\n",
       "      <td>NaN</td>\n",
       "      <td>1000000.0</td>\n",
       "      <td>False</td>\n",
       "      <td>30000.0</td>\n",
       "      <td>50000.0</td>\n",
       "    </tr>\n",
       "    <tr>\n",
       "      <th>h</th>\n",
       "      <td>Madrid</td>\n",
       "      <td>1950</td>\n",
       "      <td>200000.0</td>\n",
       "      <td>-0.910843</td>\n",
       "      <td>NaN</td>\n",
       "      <td>1000000.0</td>\n",
       "      <td>True</td>\n",
       "      <td>30000.0</td>\n",
       "      <td>230000.0</td>\n",
       "    </tr>\n",
       "    <tr>\n",
       "      <th>i</th>\n",
       "      <td>Madrid</td>\n",
       "      <td>2000</td>\n",
       "      <td>100000.0</td>\n",
       "      <td>-1.408196</td>\n",
       "      <td>NaN</td>\n",
       "      <td>1000000.0</td>\n",
       "      <td>True</td>\n",
       "      <td>NaN</td>\n",
       "      <td>50000.0</td>\n",
       "    </tr>\n",
       "    <tr>\n",
       "      <th>j</th>\n",
       "      <td>Madrid</td>\n",
       "      <td>1900</td>\n",
       "      <td>500000.0</td>\n",
       "      <td>-0.039597</td>\n",
       "      <td>NaN</td>\n",
       "      <td>1000000.0</td>\n",
       "      <td>True</td>\n",
       "      <td>NaN</td>\n",
       "      <td>NaN</td>\n",
       "    </tr>\n",
       "  </tbody>\n",
       "</table>\n",
       "</div>"
      ],
      "text/plain": [
       "    province  year  visitors      debt  2nd language        max  capital  \\\n",
       "a  Barcelona  1900  100000.0 -1.738562           NaN  1000000.0    False   \n",
       "b     Madrid  1950  500000.0  1.447657           NaN  1000000.0     True   \n",
       "c     Madrid  1900   30000.0  0.284791           NaN  1000000.0     True   \n",
       "d     Madrid  1900  200000.0 -1.095707           NaN  1000000.0     True   \n",
       "e  Barcelona  1950  100000.0 -0.046081           NaN  1000000.0    False   \n",
       "f  Barcelona  1950   30000.0 -0.123597           NaN  1000000.0    False   \n",
       "g  Barcelona  1900  200000.0 -0.626574           NaN  1000000.0    False   \n",
       "h     Madrid  1950  200000.0 -0.910843           NaN  1000000.0     True   \n",
       "i     Madrid  2000  100000.0 -1.408196           NaN  1000000.0     True   \n",
       "j     Madrid  1900  500000.0 -0.039597           NaN  1000000.0     True   \n",
       "\n",
       "       cars  diswashers  \n",
       "a  100000.0         NaN  \n",
       "b   30000.0     50000.0  \n",
       "c   30000.0     50000.0  \n",
       "d   30000.0    230000.0  \n",
       "e   30000.0         NaN  \n",
       "f   30000.0         NaN  \n",
       "g   30000.0     50000.0  \n",
       "h   30000.0    230000.0  \n",
       "i       NaN     50000.0  \n",
       "j       NaN         NaN  "
      ]
     },
     "execution_count": 427,
     "metadata": {},
     "output_type": "execute_result"
    }
   ],
   "source": [
    "df"
   ]
  },
  {
   "cell_type": "code",
   "execution_count": 426,
   "metadata": {},
   "outputs": [
    {
     "data": {
      "text/html": [
       "<div>\n",
       "<style scoped>\n",
       "    .dataframe tbody tr th:only-of-type {\n",
       "        vertical-align: middle;\n",
       "    }\n",
       "\n",
       "    .dataframe tbody tr th {\n",
       "        vertical-align: top;\n",
       "    }\n",
       "\n",
       "    .dataframe thead th {\n",
       "        text-align: right;\n",
       "    }\n",
       "</style>\n",
       "<table border=\"1\" class=\"dataframe\">\n",
       "  <thead>\n",
       "    <tr style=\"text-align: right;\">\n",
       "      <th></th>\n",
       "      <th>province</th>\n",
       "      <th>year</th>\n",
       "      <th>visitors</th>\n",
       "      <th>debt</th>\n",
       "      <th>2nd language</th>\n",
       "      <th>max</th>\n",
       "      <th>capital</th>\n",
       "      <th>cars</th>\n",
       "      <th>diswashers</th>\n",
       "    </tr>\n",
       "  </thead>\n",
       "  <tbody>\n",
       "    <tr>\n",
       "      <th>a</th>\n",
       "      <td>Barcelona</td>\n",
       "      <td>1900</td>\n",
       "      <td>100000.0</td>\n",
       "      <td>-1.738562</td>\n",
       "      <td>NaN</td>\n",
       "      <td>1000000.0</td>\n",
       "      <td>False</td>\n",
       "      <td>100000.0</td>\n",
       "      <td>NaN</td>\n",
       "    </tr>\n",
       "    <tr>\n",
       "      <th>b</th>\n",
       "      <td>Madrid</td>\n",
       "      <td>1950</td>\n",
       "      <td>500000.0</td>\n",
       "      <td>1.447657</td>\n",
       "      <td>NaN</td>\n",
       "      <td>1000000.0</td>\n",
       "      <td>True</td>\n",
       "      <td>30000.0</td>\n",
       "      <td>50000.0</td>\n",
       "    </tr>\n",
       "    <tr>\n",
       "      <th>c</th>\n",
       "      <td>Madrid</td>\n",
       "      <td>1900</td>\n",
       "      <td>30000.0</td>\n",
       "      <td>0.284791</td>\n",
       "      <td>NaN</td>\n",
       "      <td>1000000.0</td>\n",
       "      <td>True</td>\n",
       "      <td>30000.0</td>\n",
       "      <td>50000.0</td>\n",
       "    </tr>\n",
       "    <tr>\n",
       "      <th>d</th>\n",
       "      <td>Madrid</td>\n",
       "      <td>1900</td>\n",
       "      <td>200000.0</td>\n",
       "      <td>-1.095707</td>\n",
       "      <td>NaN</td>\n",
       "      <td>1000000.0</td>\n",
       "      <td>True</td>\n",
       "      <td>30000.0</td>\n",
       "      <td>230000.0</td>\n",
       "    </tr>\n",
       "    <tr>\n",
       "      <th>e</th>\n",
       "      <td>Barcelona</td>\n",
       "      <td>1950</td>\n",
       "      <td>100000.0</td>\n",
       "      <td>-0.046081</td>\n",
       "      <td>NaN</td>\n",
       "      <td>1000000.0</td>\n",
       "      <td>False</td>\n",
       "      <td>30000.0</td>\n",
       "      <td>230000.0</td>\n",
       "    </tr>\n",
       "    <tr>\n",
       "      <th>f</th>\n",
       "      <td>Barcelona</td>\n",
       "      <td>1950</td>\n",
       "      <td>30000.0</td>\n",
       "      <td>-0.123597</td>\n",
       "      <td>NaN</td>\n",
       "      <td>1000000.0</td>\n",
       "      <td>False</td>\n",
       "      <td>30000.0</td>\n",
       "      <td>230000.0</td>\n",
       "    </tr>\n",
       "    <tr>\n",
       "      <th>g</th>\n",
       "      <td>Barcelona</td>\n",
       "      <td>1900</td>\n",
       "      <td>200000.0</td>\n",
       "      <td>-0.626574</td>\n",
       "      <td>NaN</td>\n",
       "      <td>1000000.0</td>\n",
       "      <td>False</td>\n",
       "      <td>30000.0</td>\n",
       "      <td>50000.0</td>\n",
       "    </tr>\n",
       "    <tr>\n",
       "      <th>h</th>\n",
       "      <td>Madrid</td>\n",
       "      <td>1950</td>\n",
       "      <td>200000.0</td>\n",
       "      <td>-0.910843</td>\n",
       "      <td>NaN</td>\n",
       "      <td>1000000.0</td>\n",
       "      <td>True</td>\n",
       "      <td>30000.0</td>\n",
       "      <td>230000.0</td>\n",
       "    </tr>\n",
       "    <tr>\n",
       "      <th>i</th>\n",
       "      <td>Madrid</td>\n",
       "      <td>2000</td>\n",
       "      <td>100000.0</td>\n",
       "      <td>-1.408196</td>\n",
       "      <td>NaN</td>\n",
       "      <td>1000000.0</td>\n",
       "      <td>True</td>\n",
       "      <td>30000.0</td>\n",
       "      <td>50000.0</td>\n",
       "    </tr>\n",
       "    <tr>\n",
       "      <th>j</th>\n",
       "      <td>Madrid</td>\n",
       "      <td>1900</td>\n",
       "      <td>500000.0</td>\n",
       "      <td>-0.039597</td>\n",
       "      <td>NaN</td>\n",
       "      <td>1000000.0</td>\n",
       "      <td>True</td>\n",
       "      <td>30000.0</td>\n",
       "      <td>50000.0</td>\n",
       "    </tr>\n",
       "  </tbody>\n",
       "</table>\n",
       "</div>"
      ],
      "text/plain": [
       "    province  year  visitors      debt  2nd language        max  capital  \\\n",
       "a  Barcelona  1900  100000.0 -1.738562           NaN  1000000.0    False   \n",
       "b     Madrid  1950  500000.0  1.447657           NaN  1000000.0     True   \n",
       "c     Madrid  1900   30000.0  0.284791           NaN  1000000.0     True   \n",
       "d     Madrid  1900  200000.0 -1.095707           NaN  1000000.0     True   \n",
       "e  Barcelona  1950  100000.0 -0.046081           NaN  1000000.0    False   \n",
       "f  Barcelona  1950   30000.0 -0.123597           NaN  1000000.0    False   \n",
       "g  Barcelona  1900  200000.0 -0.626574           NaN  1000000.0    False   \n",
       "h     Madrid  1950  200000.0 -0.910843           NaN  1000000.0     True   \n",
       "i     Madrid  2000  100000.0 -1.408196           NaN  1000000.0     True   \n",
       "j     Madrid  1900  500000.0 -0.039597           NaN  1000000.0     True   \n",
       "\n",
       "       cars  diswashers  \n",
       "a  100000.0         NaN  \n",
       "b   30000.0     50000.0  \n",
       "c   30000.0     50000.0  \n",
       "d   30000.0    230000.0  \n",
       "e   30000.0    230000.0  \n",
       "f   30000.0    230000.0  \n",
       "g   30000.0     50000.0  \n",
       "h   30000.0    230000.0  \n",
       "i   30000.0     50000.0  \n",
       "j   30000.0     50000.0  "
      ]
     },
     "execution_count": 426,
     "metadata": {},
     "output_type": "execute_result"
    }
   ],
   "source": [
    "df.ffill()"
   ]
  },
  {
   "cell_type": "code",
   "execution_count": 428,
   "metadata": {},
   "outputs": [
    {
     "data": {
      "text/html": [
       "<div>\n",
       "<style scoped>\n",
       "    .dataframe tbody tr th:only-of-type {\n",
       "        vertical-align: middle;\n",
       "    }\n",
       "\n",
       "    .dataframe tbody tr th {\n",
       "        vertical-align: top;\n",
       "    }\n",
       "\n",
       "    .dataframe thead th {\n",
       "        text-align: right;\n",
       "    }\n",
       "</style>\n",
       "<table border=\"1\" class=\"dataframe\">\n",
       "  <thead>\n",
       "    <tr style=\"text-align: right;\">\n",
       "      <th></th>\n",
       "      <th>province</th>\n",
       "      <th>year</th>\n",
       "      <th>visitors</th>\n",
       "      <th>debt</th>\n",
       "      <th>2nd language</th>\n",
       "      <th>max</th>\n",
       "      <th>capital</th>\n",
       "      <th>cars</th>\n",
       "      <th>diswashers</th>\n",
       "    </tr>\n",
       "  </thead>\n",
       "  <tbody>\n",
       "    <tr>\n",
       "      <th>a</th>\n",
       "      <td>Barcelona</td>\n",
       "      <td>1900</td>\n",
       "      <td>100000.0</td>\n",
       "      <td>-1.738562</td>\n",
       "      <td>NaN</td>\n",
       "      <td>1000000.0</td>\n",
       "      <td>False</td>\n",
       "      <td>100000.0</td>\n",
       "      <td>50000.0</td>\n",
       "    </tr>\n",
       "    <tr>\n",
       "      <th>b</th>\n",
       "      <td>Madrid</td>\n",
       "      <td>1950</td>\n",
       "      <td>500000.0</td>\n",
       "      <td>1.447657</td>\n",
       "      <td>NaN</td>\n",
       "      <td>1000000.0</td>\n",
       "      <td>True</td>\n",
       "      <td>30000.0</td>\n",
       "      <td>50000.0</td>\n",
       "    </tr>\n",
       "    <tr>\n",
       "      <th>c</th>\n",
       "      <td>Madrid</td>\n",
       "      <td>1900</td>\n",
       "      <td>30000.0</td>\n",
       "      <td>0.284791</td>\n",
       "      <td>NaN</td>\n",
       "      <td>1000000.0</td>\n",
       "      <td>True</td>\n",
       "      <td>30000.0</td>\n",
       "      <td>50000.0</td>\n",
       "    </tr>\n",
       "    <tr>\n",
       "      <th>d</th>\n",
       "      <td>Madrid</td>\n",
       "      <td>1900</td>\n",
       "      <td>200000.0</td>\n",
       "      <td>-1.095707</td>\n",
       "      <td>NaN</td>\n",
       "      <td>1000000.0</td>\n",
       "      <td>True</td>\n",
       "      <td>30000.0</td>\n",
       "      <td>230000.0</td>\n",
       "    </tr>\n",
       "    <tr>\n",
       "      <th>e</th>\n",
       "      <td>Barcelona</td>\n",
       "      <td>1950</td>\n",
       "      <td>100000.0</td>\n",
       "      <td>-0.046081</td>\n",
       "      <td>NaN</td>\n",
       "      <td>1000000.0</td>\n",
       "      <td>False</td>\n",
       "      <td>30000.0</td>\n",
       "      <td>50000.0</td>\n",
       "    </tr>\n",
       "    <tr>\n",
       "      <th>f</th>\n",
       "      <td>Barcelona</td>\n",
       "      <td>1950</td>\n",
       "      <td>30000.0</td>\n",
       "      <td>-0.123597</td>\n",
       "      <td>NaN</td>\n",
       "      <td>1000000.0</td>\n",
       "      <td>False</td>\n",
       "      <td>30000.0</td>\n",
       "      <td>50000.0</td>\n",
       "    </tr>\n",
       "    <tr>\n",
       "      <th>g</th>\n",
       "      <td>Barcelona</td>\n",
       "      <td>1900</td>\n",
       "      <td>200000.0</td>\n",
       "      <td>-0.626574</td>\n",
       "      <td>NaN</td>\n",
       "      <td>1000000.0</td>\n",
       "      <td>False</td>\n",
       "      <td>30000.0</td>\n",
       "      <td>50000.0</td>\n",
       "    </tr>\n",
       "    <tr>\n",
       "      <th>h</th>\n",
       "      <td>Madrid</td>\n",
       "      <td>1950</td>\n",
       "      <td>200000.0</td>\n",
       "      <td>-0.910843</td>\n",
       "      <td>NaN</td>\n",
       "      <td>1000000.0</td>\n",
       "      <td>True</td>\n",
       "      <td>30000.0</td>\n",
       "      <td>230000.0</td>\n",
       "    </tr>\n",
       "    <tr>\n",
       "      <th>i</th>\n",
       "      <td>Madrid</td>\n",
       "      <td>2000</td>\n",
       "      <td>100000.0</td>\n",
       "      <td>-1.408196</td>\n",
       "      <td>NaN</td>\n",
       "      <td>1000000.0</td>\n",
       "      <td>True</td>\n",
       "      <td>NaN</td>\n",
       "      <td>50000.0</td>\n",
       "    </tr>\n",
       "    <tr>\n",
       "      <th>j</th>\n",
       "      <td>Madrid</td>\n",
       "      <td>1900</td>\n",
       "      <td>500000.0</td>\n",
       "      <td>-0.039597</td>\n",
       "      <td>NaN</td>\n",
       "      <td>1000000.0</td>\n",
       "      <td>True</td>\n",
       "      <td>NaN</td>\n",
       "      <td>NaN</td>\n",
       "    </tr>\n",
       "  </tbody>\n",
       "</table>\n",
       "</div>"
      ],
      "text/plain": [
       "    province  year  visitors      debt  2nd language        max  capital  \\\n",
       "a  Barcelona  1900  100000.0 -1.738562           NaN  1000000.0    False   \n",
       "b     Madrid  1950  500000.0  1.447657           NaN  1000000.0     True   \n",
       "c     Madrid  1900   30000.0  0.284791           NaN  1000000.0     True   \n",
       "d     Madrid  1900  200000.0 -1.095707           NaN  1000000.0     True   \n",
       "e  Barcelona  1950  100000.0 -0.046081           NaN  1000000.0    False   \n",
       "f  Barcelona  1950   30000.0 -0.123597           NaN  1000000.0    False   \n",
       "g  Barcelona  1900  200000.0 -0.626574           NaN  1000000.0    False   \n",
       "h     Madrid  1950  200000.0 -0.910843           NaN  1000000.0     True   \n",
       "i     Madrid  2000  100000.0 -1.408196           NaN  1000000.0     True   \n",
       "j     Madrid  1900  500000.0 -0.039597           NaN  1000000.0     True   \n",
       "\n",
       "       cars  diswashers  \n",
       "a  100000.0     50000.0  \n",
       "b   30000.0     50000.0  \n",
       "c   30000.0     50000.0  \n",
       "d   30000.0    230000.0  \n",
       "e   30000.0     50000.0  \n",
       "f   30000.0     50000.0  \n",
       "g   30000.0     50000.0  \n",
       "h   30000.0    230000.0  \n",
       "i       NaN     50000.0  \n",
       "j       NaN         NaN  "
      ]
     },
     "execution_count": 428,
     "metadata": {},
     "output_type": "execute_result"
    }
   ],
   "source": [
    "df.bfill()"
   ]
  },
  {
   "cell_type": "markdown",
   "metadata": {
    "slideshow": {
     "slide_type": "slide"
    }
   },
   "source": [
    "   "
   ]
  },
  {
   "cell_type": "markdown",
   "metadata": {
    "slideshow": {
     "slide_type": "slide"
    }
   },
   "source": [
    "# Additional References\n",
    "\n",
    "[Python for Data Analysis](http://shop.oreilly.com/product/0636920023784.do)\n",
    "\n",
    "[What is SciPy?](https://www.scipy.org/)\n",
    "\n",
    "[How can SciPy be fast if it is written in an interpreted language like Python?](https://www.scipy.org/scipylib/faq.html#how-can-scipy-be-fast-if-it-is-written-in-an-interpreted-language-like-python)\n",
    "\n",
    "[What is the difference between NumPy and SciPy?](https://www.scipy.org/scipylib/faq.html#what-is-the-difference-between-numpy-and-scipy)\n",
    "\n",
    "[Linear Algebra for AI](https://github.com/fastai/fastai/blob/master/tutorials/linalg_pytorch.ipynb)"
   ]
  }
 ],
 "metadata": {
  "kernelspec": {
   "display_name": "Python 3",
   "language": "python",
   "name": "python3"
  },
  "language_info": {
   "codemirror_mode": {
    "name": "ipython",
    "version": 3
   },
   "file_extension": ".py",
   "mimetype": "text/x-python",
   "name": "python",
   "nbconvert_exporter": "python",
   "pygments_lexer": "ipython3",
   "version": "3.7.1"
  },
  "livereveal": {
   "scroll": true,
   "start_slideshow_at": "selected"
  }
 },
 "nbformat": 4,
 "nbformat_minor": 2
}
